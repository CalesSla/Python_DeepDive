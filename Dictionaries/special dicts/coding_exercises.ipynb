{
 "cells": [
  {
   "cell_type": "code",
   "execution_count": 2,
   "metadata": {},
   "outputs": [],
   "source": [
    "d1 = {\"python\": 10, \"java\": 3, \"c#\": 8, \"javascript\": 15}\n",
    "d2 = {\"java\": 10, \"c++\": 10, \"c#\": 4, \"go\": 9, \"python\": 6}\n",
    "d3 = {\"erlang\": 5, \"haskell\": 2, \"python\": 1, \"pascal\": 1}"
   ]
  },
  {
   "cell_type": "code",
   "execution_count": 5,
   "metadata": {},
   "outputs": [
    {
     "data": {
      "text/plain": [
       "defaultdict(int,\n",
       "            {'python': 17,\n",
       "             'java': 13,\n",
       "             'c#': 12,\n",
       "             'javascript': 15,\n",
       "             'c++': 10,\n",
       "             'go': 9,\n",
       "             'erlang': 5,\n",
       "             'haskell': 2,\n",
       "             'pascal': 1})"
      ]
     },
     "execution_count": 5,
     "metadata": {},
     "output_type": "execute_result"
    }
   ],
   "source": [
    "from collections import defaultdict\n",
    "\n",
    "def dict_builder(*args):\n",
    "    d = defaultdict(int)\n",
    "    for arg in args:\n",
    "        if isinstance(arg, dict):\n",
    "            for k, v in arg.items():\n",
    "                d[k] += v\n",
    "        else:\n",
    "            raise TypeError(\"Wrong type\")\n",
    "        \n",
    "    return d\n",
    "        \n",
    "dict_builder(d1, d2, d3)\n"
   ]
  },
  {
   "cell_type": "code",
   "execution_count": 17,
   "metadata": {},
   "outputs": [
    {
     "data": {
      "text/plain": [
       "Counter({'python': 17,\n",
       "         'javascript': 15,\n",
       "         'java': 13,\n",
       "         'c#': 12,\n",
       "         'c++': 10,\n",
       "         'go': 9,\n",
       "         'erlang': 5,\n",
       "         'haskell': 2,\n",
       "         'pascal': 1})"
      ]
     },
     "execution_count": 17,
     "metadata": {},
     "output_type": "execute_result"
    }
   ],
   "source": [
    "from collections import Counter\n",
    "\n",
    "def count_dict(*args):\n",
    "    c = Counter()\n",
    "    for arg in args:\n",
    "        c.update(arg)\n",
    "    return c\n",
    "\n",
    "count_dict(d1, d2, d3)"
   ]
  },
  {
   "cell_type": "code",
   "execution_count": null,
   "metadata": {},
   "outputs": [],
   "source": []
  },
  {
   "cell_type": "code",
   "execution_count": 20,
   "metadata": {},
   "outputs": [],
   "source": [
    "eye_colors = (\"amber\", \"blue\", \"brown\", \"gray\", \"green\", \"hazel\", \"red\", \"violet\")\n",
    "\n",
    "class Person:\n",
    "    def __init__(self, eye_color):\n",
    "        self.eye_color = eye_color\n",
    "\n",
    "from random import seed, choices\n",
    "seed(0)\n",
    "persons = [Person(color) for color in choices(eye_colors[2:], k=50)]"
   ]
  },
  {
   "cell_type": "code",
   "execution_count": 53,
   "metadata": {},
   "outputs": [
    {
     "data": {
      "text/plain": [
       "defaultdict(int,\n",
       "            {'violet': 12,\n",
       "             'red': 10,\n",
       "             'green': 8,\n",
       "             'gray': 10,\n",
       "             'hazel': 7,\n",
       "             'brown': 3})"
      ]
     },
     "execution_count": 53,
     "metadata": {},
     "output_type": "execute_result"
    }
   ],
   "source": [
    "d = defaultdict(int)\n",
    "for person in persons:\n",
    "    d[person.eye_color] += 1\n",
    "\n",
    "d"
   ]
  },
  {
   "cell_type": "code",
   "execution_count": 72,
   "metadata": {},
   "outputs": [
    {
     "data": {
      "text/plain": [
       "Counter({'violet': 12,\n",
       "         'red': 10,\n",
       "         'gray': 10,\n",
       "         'green': 8,\n",
       "         'hazel': 7,\n",
       "         'brown': 3,\n",
       "         'amber': 0,\n",
       "         'blue': 0})"
      ]
     },
     "execution_count": 72,
     "metadata": {},
     "output_type": "execute_result"
    }
   ],
   "source": [
    "c = Counter((person.eye_color for person in persons))\n",
    "c.update(eye_colors)\n",
    "c.subtract(eye_colors)\n",
    "c"
   ]
  },
  {
   "cell_type": "code",
   "execution_count": 66,
   "metadata": {},
   "outputs": [
    {
     "data": {
      "text/plain": [
       "Counter({'amber': 1,\n",
       "         'blue': 1,\n",
       "         'brown': 1,\n",
       "         'gray': 1,\n",
       "         'green': 1,\n",
       "         'hazel': 1,\n",
       "         'red': 1,\n",
       "         'violet': 1})"
      ]
     },
     "execution_count": 66,
     "metadata": {},
     "output_type": "execute_result"
    }
   ],
   "source": [
    "base = Counter((\"amber\", \"blue\", \"brown\", \"gray\", \"green\", \"hazel\", \"red\", \"violet\"))\n",
    "base"
   ]
  },
  {
   "cell_type": "code",
   "execution_count": 67,
   "metadata": {},
   "outputs": [],
   "source": [
    "c.subtract(base)"
   ]
  },
  {
   "cell_type": "code",
   "execution_count": 69,
   "metadata": {},
   "outputs": [
    {
     "data": {
      "text/plain": [
       "Counter({'violet': 11,\n",
       "         'red': 9,\n",
       "         'gray': 9,\n",
       "         'green': 7,\n",
       "         'hazel': 6,\n",
       "         'brown': 2,\n",
       "         'amber': -1,\n",
       "         'blue': -1})"
      ]
     },
     "execution_count": 69,
     "metadata": {},
     "output_type": "execute_result"
    }
   ],
   "source": [
    "c"
   ]
  },
  {
   "cell_type": "code",
   "execution_count": 70,
   "metadata": {},
   "outputs": [
    {
     "data": {
      "text/plain": [
       "Counter({'violet': 11,\n",
       "         'red': 9,\n",
       "         'gray': 9,\n",
       "         'green': 7,\n",
       "         'hazel': 6,\n",
       "         'brown': 2,\n",
       "         'amber': -1,\n",
       "         'blue': -1})"
      ]
     },
     "execution_count": 70,
     "metadata": {},
     "output_type": "execute_result"
    }
   ],
   "source": [
    "c"
   ]
  },
  {
   "cell_type": "code",
   "execution_count": null,
   "metadata": {},
   "outputs": [],
   "source": []
  },
  {
   "cell_type": "code",
   "execution_count": 23,
   "metadata": {},
   "outputs": [
    {
     "data": {
      "text/plain": [
       "{'data': {'input_root': '/dev/path/inputs',\n",
       "  'output_root': '/dev/path/outputs',\n",
       "  'numerics': {'type': 'float'},\n",
       "  'operators': {'add': '__add__'}},\n",
       " 'database': {'user': 'test', 'pwd': 'test'},\n",
       " 'logs': {'level': 'trace',\n",
       "  'format': '%(asctime)s: %(levelname)s: %(clientip)s %(user)s %(filename)s %(funcName)s %(message)s'}}"
      ]
     },
     "execution_count": 23,
     "metadata": {},
     "output_type": "execute_result"
    }
   ],
   "source": [
    "import json\n",
    "from collections import ChainMap\n",
    "\n",
    "with open(\"common.json\") as f:\n",
    "    common = json.load(f)\n",
    "\n",
    "with open(\"dev.json\") as f:\n",
    "    dev = json.load(f)\n",
    "\n",
    "with open(\"prod.json\") as f:\n",
    "    prod = json.load(f)\n",
    "\n",
    "dev"
   ]
  },
  {
   "cell_type": "code",
   "execution_count": 21,
   "metadata": {},
   "outputs": [
    {
     "data": {
      "text/plain": [
       "{'data': ChainMap({'input_root': '/dev/path/inputs', 'output_root': '/dev/path/outputs', 'numerics': ChainMap({'type': 'float'}), 'operators': ChainMap({'add': '__add__'})}),\n",
       " 'database': ChainMap({'user': 'test', 'pwd': 'test'}),\n",
       " 'logs': ChainMap({'level': 'trace', 'format': '%(asctime)s: %(levelname)s: %(clientip)s %(user)s %(filename)s %(funcName)s %(message)s'})}"
      ]
     },
     "execution_count": 21,
     "metadata": {},
     "output_type": "execute_result"
    }
   ],
   "source": [
    "def apply_chainmap(common=common, dev=dev):\n",
    "    for k in dev:\n",
    "        if isinstance(dev[k], dict):\n",
    "            dev[k] = apply_chainmap(dev=dev[k])\n",
    "            dev[k] = ChainMap(dev[k])\n",
    "    \n",
    "    # for k in common:\n",
    "    #     if isinstance(common[k], dict):\n",
    "    #         common[k] = apply_chainmap(common=common[k])\n",
    "    #         common[k] = ChainMap(common[k])\n",
    "\n",
    "\n",
    "\n",
    "    # for k in common:\n",
    "    #     if isinstance(common[k], dict):\n",
    "\n",
    "    return dev\n",
    "\n",
    "apply_chainmap()"
   ]
  },
  {
   "cell_type": "code",
   "execution_count": null,
   "metadata": {},
   "outputs": [],
   "source": []
  },
  {
   "cell_type": "code",
   "execution_count": null,
   "metadata": {},
   "outputs": [],
   "source": []
  },
  {
   "cell_type": "code",
   "execution_count": null,
   "metadata": {},
   "outputs": [],
   "source": []
  },
  {
   "cell_type": "code",
   "execution_count": null,
   "metadata": {},
   "outputs": [],
   "source": []
  },
  {
   "cell_type": "code",
   "execution_count": null,
   "metadata": {},
   "outputs": [],
   "source": []
  },
  {
   "cell_type": "code",
   "execution_count": null,
   "metadata": {},
   "outputs": [],
   "source": []
  },
  {
   "cell_type": "code",
   "execution_count": null,
   "metadata": {},
   "outputs": [],
   "source": []
  },
  {
   "cell_type": "code",
   "execution_count": 48,
   "metadata": {},
   "outputs": [
    {
     "data": {
      "text/plain": [
       "{'data': {'input_root': '/dev/path/inputs',\n",
       "  'output_root': '/dev/path/outputs',\n",
       "  'numerics': {'type': 'float'},\n",
       "  'operators': {'add': '__add__'}},\n",
       " 'database': {'user': 'test', 'pwd': 'test'},\n",
       " 'logs': {'level': 'trace',\n",
       "  'format': '%(asctime)s: %(levelname)s: %(clientip)s %(user)s %(filename)s %(funcName)s %(message)s'}}"
      ]
     },
     "execution_count": 48,
     "metadata": {},
     "output_type": "execute_result"
    }
   ],
   "source": []
  },
  {
   "cell_type": "code",
   "execution_count": 352,
   "metadata": {},
   "outputs": [],
   "source": [
    "import json\n",
    "from collections import ChainMap\n",
    "\n",
    "with open(\"common.json\") as f:\n",
    "    common = json.load(f)\n",
    "\n",
    "with open(\"dev.json\") as f:\n",
    "    dev = json.load(f)\n",
    "\n",
    "with open(\"prod.json\") as f:\n",
    "    prod = json.load(f)\n",
    "\n",
    "\n",
    "# d1 = {\"a\": 1, \"b\": 2, \"c\": {\"hello\": \"world\", \"mulen\": \"rouge\"}}\n",
    "# d2 = {\"b\": 3, \"d\": 5, \"c\": {\"hello\": \"jason\", \"big\": \"tree\"}}\n",
    "\n",
    "def update_dict(dev, common, isRecursive=False):\n",
    "    for k in dev:\n",
    "        if isinstance(dev[k], dict) and common.get(k) is not None:\n",
    "            dev[k] = update_dict(dev[k], common[k])\n",
    "            dev[k] = ChainMap(dev[k], common[k])\n",
    "            dev[k].update({key: value for key, value in common[k].items() if key not in dev[k]})\n",
    "    if not isRecursive:\n",
    "        dev = ChainMap(dev, common)\n",
    "    return dev\n",
    "\n",
    "dev = update_dict(dev, common)\n",
    "dev.update((k, v) for k, v in common.items() if k not in dev)\n"
   ]
  },
  {
   "cell_type": "code",
   "execution_count": 354,
   "metadata": {},
   "outputs": [
    {
     "name": "stdout",
     "output_type": "stream",
     "text": [
      "ChainMap({'data': ChainMap({'input_root': '/dev/path/inputs',\n",
      "                            'numerics': ChainMap({'type': 'float'},\n",
      "                                                 {'precision': 6,\n",
      "                                                  'type': 'Decimal'}),\n",
      "                            'operators': {'add': '__add__'},\n",
      "                            'output_root': '/dev/path/outputs'},\n",
      "                           {'input_root': '/default/path/inputs',\n",
      "                            'numerics': {'precision': 6, 'type': 'Decimal'},\n",
      "                            'output_root': '/default/path/outputs'}),\n",
      "          'database': ChainMap({'pwd': 'test', 'user': 'test'},\n",
      "                               {'db_name': 'deepdive',\n",
      "                                'port': 5432,\n",
      "                                'schema': 'public'}),\n",
      "          'logs': ChainMap({'format': '%(asctime)s: %(levelname)s: '\n",
      "                                      '%(clientip)s %(user)s %(filename)s '\n",
      "                                      '%(funcName)s %(message)s',\n",
      "                            'level': 'trace'},\n",
      "                           {'format': '%(asctime)s: %(levelname)s: '\n",
      "                                      '%(clientip)s %(user)s %(message)s',\n",
      "                            'level': 'info'})},\n",
      "         {'data': {'input_root': '/default/path/inputs',\n",
      "                   'numerics': {'precision': 6, 'type': 'Decimal'},\n",
      "                   'output_root': '/default/path/outputs'},\n",
      "          'database': {'db_name': 'deepdive', 'port': 5432, 'schema': 'public'},\n",
      "          'extra': {'first': 1},\n",
      "          'logs': {'format': '%(asctime)s: %(levelname)s: %(clientip)s '\n",
      "                             '%(user)s %(message)s',\n",
      "                   'level': 'info'}})\n"
     ]
    }
   ],
   "source": [
    "pprint(dev)"
   ]
  },
  {
   "cell_type": "code",
   "execution_count": null,
   "metadata": {},
   "outputs": [],
   "source": []
  },
  {
   "cell_type": "code",
   "execution_count": 344,
   "metadata": {},
   "outputs": [
    {
     "name": "stdout",
     "output_type": "stream",
     "text": [
      "ChainMap({'data': ChainMap({'input_root': '/dev/path/inputs',\n",
      "                            'numerics': ChainMap({'type': 'float'},\n",
      "                                                 {'precision': 6,\n",
      "                                                  'type': 'Decimal'}),\n",
      "                            'operators': {'add': '__add__'},\n",
      "                            'output_root': '/dev/path/outputs'},\n",
      "                           {'input_root': '/default/path/inputs',\n",
      "                            'numerics': {'precision': 6, 'type': 'Decimal'},\n",
      "                            'output_root': '/default/path/outputs'}),\n",
      "          'database': ChainMap({'pwd': 'test', 'user': 'test'},\n",
      "                               {'db_name': 'deepdive',\n",
      "                                'port': 5432,\n",
      "                                'schema': 'public'}),\n",
      "          'logs': ChainMap({'format': '%(asctime)s: %(levelname)s: '\n",
      "                                      '%(clientip)s %(user)s %(filename)s '\n",
      "                                      '%(funcName)s %(message)s',\n",
      "                            'level': 'trace'},\n",
      "                           {'format': '%(asctime)s: %(levelname)s: '\n",
      "                                      '%(clientip)s %(user)s %(message)s',\n",
      "                            'level': 'info'})},\n",
      "         {'data': {'input_root': '/default/path/inputs',\n",
      "                   'numerics': {'precision': 6, 'type': 'Decimal'},\n",
      "                   'output_root': '/default/path/outputs'},\n",
      "          'database': {'db_name': 'deepdive', 'port': 5432, 'schema': 'public'},\n",
      "          'extra': {'first': 1},\n",
      "          'logs': {'format': '%(asctime)s: %(levelname)s: %(clientip)s '\n",
      "                             '%(user)s %(message)s',\n",
      "                   'level': 'info'}})\n"
     ]
    }
   ],
   "source": [
    "import json\n",
    "from collections import ChainMap\n",
    "\n",
    "with open(\"common.json\") as f:\n",
    "    common = json.load(f)\n",
    "\n",
    "with open(\"dev.json\") as f:\n",
    "    dev = json.load(f)\n",
    "\n",
    "with open(\"prod.json\") as f:\n",
    "    prod = json.load(f)\n",
    "\n",
    "def chain_recursive(d1, d2):\n",
    "    chain = ChainMap(d1, d2)\n",
    "    for k, v in d1.items():\n",
    "        if isinstance(v, dict) and k in d2:\n",
    "            chain[k] = chain_recursive(d1[k], d2[k])\n",
    "\n",
    "    return chain\n",
    "\n",
    "dev = chain_recursive(dev, common)\n",
    "pprint(dev)"
   ]
  },
  {
   "cell_type": "code",
   "execution_count": 339,
   "metadata": {},
   "outputs": [],
   "source": [
    "from copy import deepcopy"
   ]
  },
  {
   "cell_type": "code",
   "execution_count": 340,
   "metadata": {},
   "outputs": [],
   "source": [
    "a = deepcopy(dev)"
   ]
  },
  {
   "cell_type": "code",
   "execution_count": 345,
   "metadata": {},
   "outputs": [],
   "source": [
    "b = deepcopy(dev)"
   ]
  },
  {
   "cell_type": "code",
   "execution_count": 349,
   "metadata": {},
   "outputs": [],
   "source": [
    "b = 1"
   ]
  },
  {
   "cell_type": "code",
   "execution_count": null,
   "metadata": {},
   "outputs": [],
   "source": []
  },
  {
   "cell_type": "code",
   "execution_count": null,
   "metadata": {},
   "outputs": [],
   "source": []
  }
 ],
 "metadata": {
  "kernelspec": {
   "display_name": "Python 3",
   "language": "python",
   "name": "python3"
  },
  "language_info": {
   "codemirror_mode": {
    "name": "ipython",
    "version": 3
   },
   "file_extension": ".py",
   "mimetype": "text/x-python",
   "name": "python",
   "nbconvert_exporter": "python",
   "pygments_lexer": "ipython3",
   "version": "3.11.6"
  }
 },
 "nbformat": 4,
 "nbformat_minor": 2
}
