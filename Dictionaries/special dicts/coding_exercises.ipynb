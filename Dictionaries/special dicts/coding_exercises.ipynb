{
 "cells": [
  {
   "cell_type": "code",
   "execution_count": 2,
   "metadata": {},
   "outputs": [],
   "source": [
    "d1 = {\"python\": 10, \"java\": 3, \"c#\": 8, \"javascript\": 15}\n",
    "d2 = {\"java\": 10, \"c++\": 10, \"c#\": 4, \"go\": 9, \"python\": 6}\n",
    "d3 = {\"erlang\": 5, \"haskell\": 2, \"python\": 1, \"pascal\": 1}"
   ]
  },
  {
   "cell_type": "code",
   "execution_count": 5,
   "metadata": {},
   "outputs": [
    {
     "data": {
      "text/plain": [
       "defaultdict(int,\n",
       "            {'python': 17,\n",
       "             'java': 13,\n",
       "             'c#': 12,\n",
       "             'javascript': 15,\n",
       "             'c++': 10,\n",
       "             'go': 9,\n",
       "             'erlang': 5,\n",
       "             'haskell': 2,\n",
       "             'pascal': 1})"
      ]
     },
     "execution_count": 5,
     "metadata": {},
     "output_type": "execute_result"
    }
   ],
   "source": [
    "from collections import defaultdict\n",
    "\n",
    "def dict_builder(*args):\n",
    "    d = defaultdict(int)\n",
    "    for arg in args:\n",
    "        if isinstance(arg, dict):\n",
    "            for k, v in arg.items():\n",
    "                d[k] += v\n",
    "        else:\n",
    "            raise TypeError(\"Wrong type\")\n",
    "        \n",
    "    return d\n",
    "        \n",
    "dict_builder(d1, d2, d3)\n"
   ]
  },
  {
   "cell_type": "code",
   "execution_count": 17,
   "metadata": {},
   "outputs": [
    {
     "data": {
      "text/plain": [
       "Counter({'python': 17,\n",
       "         'javascript': 15,\n",
       "         'java': 13,\n",
       "         'c#': 12,\n",
       "         'c++': 10,\n",
       "         'go': 9,\n",
       "         'erlang': 5,\n",
       "         'haskell': 2,\n",
       "         'pascal': 1})"
      ]
     },
     "execution_count": 17,
     "metadata": {},
     "output_type": "execute_result"
    }
   ],
   "source": [
    "from collections import Counter\n",
    "\n",
    "def count_dict(*args):\n",
    "    c = Counter()\n",
    "    for arg in args:\n",
    "        c.update(arg)\n",
    "    return c\n",
    "\n",
    "count_dict(d1, d2, d3)"
   ]
  },
  {
   "cell_type": "code",
   "execution_count": null,
   "metadata": {},
   "outputs": [],
   "source": []
  },
  {
   "cell_type": "code",
   "execution_count": 20,
   "metadata": {},
   "outputs": [],
   "source": [
    "eye_colors = (\"amber\", \"blue\", \"brown\", \"gray\", \"green\", \"hazel\", \"red\", \"violet\")\n",
    "\n",
    "class Person:\n",
    "    def __init__(self, eye_color):\n",
    "        self.eye_color = eye_color\n",
    "\n",
    "from random import seed, choices\n",
    "seed(0)\n",
    "persons = [Person(color) for color in choices(eye_colors[2:], k=50)]"
   ]
  },
  {
   "cell_type": "code",
   "execution_count": 53,
   "metadata": {},
   "outputs": [
    {
     "data": {
      "text/plain": [
       "defaultdict(int,\n",
       "            {'violet': 12,\n",
       "             'red': 10,\n",
       "             'green': 8,\n",
       "             'gray': 10,\n",
       "             'hazel': 7,\n",
       "             'brown': 3})"
      ]
     },
     "execution_count": 53,
     "metadata": {},
     "output_type": "execute_result"
    }
   ],
   "source": [
    "d = defaultdict(int)\n",
    "for person in persons:\n",
    "    d[person.eye_color] += 1\n",
    "\n",
    "d"
   ]
  },
  {
   "cell_type": "code",
   "execution_count": 72,
   "metadata": {},
   "outputs": [
    {
     "data": {
      "text/plain": [
       "Counter({'violet': 12,\n",
       "         'red': 10,\n",
       "         'gray': 10,\n",
       "         'green': 8,\n",
       "         'hazel': 7,\n",
       "         'brown': 3,\n",
       "         'amber': 0,\n",
       "         'blue': 0})"
      ]
     },
     "execution_count": 72,
     "metadata": {},
     "output_type": "execute_result"
    }
   ],
   "source": [
    "c = Counter((person.eye_color for person in persons))\n",
    "c.update(eye_colors)\n",
    "c.subtract(eye_colors)\n",
    "c"
   ]
  },
  {
   "cell_type": "code",
   "execution_count": 66,
   "metadata": {},
   "outputs": [
    {
     "data": {
      "text/plain": [
       "Counter({'amber': 1,\n",
       "         'blue': 1,\n",
       "         'brown': 1,\n",
       "         'gray': 1,\n",
       "         'green': 1,\n",
       "         'hazel': 1,\n",
       "         'red': 1,\n",
       "         'violet': 1})"
      ]
     },
     "execution_count": 66,
     "metadata": {},
     "output_type": "execute_result"
    }
   ],
   "source": [
    "base = Counter((\"amber\", \"blue\", \"brown\", \"gray\", \"green\", \"hazel\", \"red\", \"violet\"))\n",
    "base"
   ]
  },
  {
   "cell_type": "code",
   "execution_count": 67,
   "metadata": {},
   "outputs": [],
   "source": [
    "c.subtract(base)"
   ]
  },
  {
   "cell_type": "code",
   "execution_count": 69,
   "metadata": {},
   "outputs": [
    {
     "data": {
      "text/plain": [
       "Counter({'violet': 11,\n",
       "         'red': 9,\n",
       "         'gray': 9,\n",
       "         'green': 7,\n",
       "         'hazel': 6,\n",
       "         'brown': 2,\n",
       "         'amber': -1,\n",
       "         'blue': -1})"
      ]
     },
     "execution_count": 69,
     "metadata": {},
     "output_type": "execute_result"
    }
   ],
   "source": [
    "c"
   ]
  },
  {
   "cell_type": "code",
   "execution_count": 70,
   "metadata": {},
   "outputs": [
    {
     "data": {
      "text/plain": [
       "Counter({'violet': 11,\n",
       "         'red': 9,\n",
       "         'gray': 9,\n",
       "         'green': 7,\n",
       "         'hazel': 6,\n",
       "         'brown': 2,\n",
       "         'amber': -1,\n",
       "         'blue': -1})"
      ]
     },
     "execution_count": 70,
     "metadata": {},
     "output_type": "execute_result"
    }
   ],
   "source": [
    "c"
   ]
  },
  {
   "cell_type": "code",
   "execution_count": null,
   "metadata": {},
   "outputs": [],
   "source": []
  },
  {
   "cell_type": "code",
   "execution_count": 77,
   "metadata": {},
   "outputs": [],
   "source": [
    "import json\n",
    "with open(\"common.json\") as f:\n",
    "    common = json.load(f)"
   ]
  },
  {
   "cell_type": "code",
   "execution_count": 79,
   "metadata": {},
   "outputs": [
    {
     "name": "stdout",
     "output_type": "stream",
     "text": [
      "{'data': {'input_root': '/default/path/inputs', 'output_root': '/default/path/outputs', 'numerics': {'type': 'Decimal', 'precision': 6}}, 'database': {'db_name': 'deepdive', 'schema': 'public', 'port': 5432}, 'logs': {'level': 'info', 'format': '%(asctime)s: %(levelname)s: %(clientip)s %(user)s %(message)s'}}\n"
     ]
    }
   ],
   "source": []
  },
  {
   "cell_type": "code",
   "execution_count": null,
   "metadata": {},
   "outputs": [],
   "source": []
  }
 ],
 "metadata": {
  "kernelspec": {
   "display_name": "Python 3",
   "language": "python",
   "name": "python3"
  },
  "language_info": {
   "codemirror_mode": {
    "name": "ipython",
    "version": 3
   },
   "file_extension": ".py",
   "mimetype": "text/x-python",
   "name": "python",
   "nbconvert_exporter": "python",
   "pygments_lexer": "ipython3",
   "version": "3.11.6"
  }
 },
 "nbformat": 4,
 "nbformat_minor": 2
}
