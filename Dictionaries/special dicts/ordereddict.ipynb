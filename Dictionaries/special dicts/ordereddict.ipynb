{
 "cells": [
  {
   "cell_type": "code",
   "execution_count": 4,
   "metadata": {},
   "outputs": [
    {
     "data": {
      "text/plain": [
       "OrderedDict([('a', 10),\n",
       "             ('b', 20),\n",
       "             ('c', 30),\n",
       "             ('d', 40),\n",
       "             ('e', 50),\n",
       "             ('f', 60),\n",
       "             ('g', 70),\n",
       "             ('h', 80),\n",
       "             ('i', 90),\n",
       "             ('j', 100)])"
      ]
     },
     "execution_count": 4,
     "metadata": {},
     "output_type": "execute_result"
    }
   ],
   "source": [
    "from collections import OrderedDict\n",
    "\n",
    "d = OrderedDict(a=10, b=20, c=30, d=40, e=50, f=60, g=70, h=80, i=90, j=100)\n",
    "d"
   ]
  },
  {
   "cell_type": "code",
   "execution_count": 5,
   "metadata": {},
   "outputs": [
    {
     "data": {
      "text/plain": [
       "OrderedDict([('z', 'hello'), ('y', 'world'), ('a', 'python')])"
      ]
     },
     "execution_count": 5,
     "metadata": {},
     "output_type": "execute_result"
    }
   ],
   "source": [
    "d = OrderedDict()\n",
    "d['z'] = 'hello'\n",
    "d['y'] = 'world'\n",
    "d['a'] = 'python'\n",
    "\n",
    "d"
   ]
  },
  {
   "cell_type": "code",
   "execution_count": 7,
   "metadata": {},
   "outputs": [
    {
     "name": "stdout",
     "output_type": "stream",
     "text": [
      "z\n",
      "y\n",
      "a\n"
     ]
    }
   ],
   "source": [
    "for k in d:\n",
    "    print(k)"
   ]
  },
  {
   "cell_type": "code",
   "execution_count": 8,
   "metadata": {},
   "outputs": [
    {
     "name": "stdout",
     "output_type": "stream",
     "text": [
      "a\n",
      "y\n",
      "z\n"
     ]
    }
   ],
   "source": [
    "for k in reversed(d):\n",
    "    print(k)"
   ]
  },
  {
   "cell_type": "code",
   "execution_count": 9,
   "metadata": {},
   "outputs": [
    {
     "name": "stdout",
     "output_type": "stream",
     "text": [
      "c\n",
      "b\n",
      "a\n"
     ]
    }
   ],
   "source": [
    "d = {\"a\": \"python\", \"b\": \"hello\", \"c\": \"world\"}\n",
    "\n",
    "for k in reversed(d):\n",
    "    print(k)"
   ]
  },
  {
   "cell_type": "code",
   "execution_count": 10,
   "metadata": {},
   "outputs": [
    {
     "data": {
      "text/plain": [
       "{'a': 'python', 'b': 'hello', 'c': 'world'}"
      ]
     },
     "execution_count": 10,
     "metadata": {},
     "output_type": "execute_result"
    }
   ],
   "source": [
    "d"
   ]
  },
  {
   "cell_type": "code",
   "execution_count": 11,
   "metadata": {},
   "outputs": [
    {
     "data": {
      "text/plain": [
       "<dict_reversekeyiterator at 0x2a49ec424d0>"
      ]
     },
     "execution_count": 11,
     "metadata": {},
     "output_type": "execute_result"
    }
   ],
   "source": [
    "reversed(d)"
   ]
  },
  {
   "cell_type": "code",
   "execution_count": 12,
   "metadata": {},
   "outputs": [
    {
     "data": {
      "text/plain": [
       "True"
      ]
     },
     "execution_count": 12,
     "metadata": {},
     "output_type": "execute_result"
    }
   ],
   "source": [
    "d = OrderedDict()\n",
    "isinstance(d, dict)"
   ]
  },
  {
   "cell_type": "code",
   "execution_count": 20,
   "metadata": {},
   "outputs": [
    {
     "data": {
      "text/plain": [
       "OrderedDict([('first', 10), ('second', 20), ('third', 30), ('fourth', 40)])"
      ]
     },
     "execution_count": 20,
     "metadata": {},
     "output_type": "execute_result"
    }
   ],
   "source": [
    "d = OrderedDict()\n",
    "d['first'] = 10\n",
    "d['second'] = 20\n",
    "d['third'] = 30\n",
    "d['fourth'] = 40\n",
    "\n",
    "d"
   ]
  },
  {
   "cell_type": "code",
   "execution_count": 21,
   "metadata": {},
   "outputs": [
    {
     "data": {
      "text/plain": [
       "('fourth', 40)"
      ]
     },
     "execution_count": 21,
     "metadata": {},
     "output_type": "execute_result"
    }
   ],
   "source": [
    "d.popitem()"
   ]
  },
  {
   "cell_type": "code",
   "execution_count": 22,
   "metadata": {},
   "outputs": [
    {
     "data": {
      "text/plain": [
       "OrderedDict([('first', 10), ('second', 20), ('third', 30)])"
      ]
     },
     "execution_count": 22,
     "metadata": {},
     "output_type": "execute_result"
    }
   ],
   "source": [
    "d"
   ]
  },
  {
   "cell_type": "code",
   "execution_count": 23,
   "metadata": {},
   "outputs": [
    {
     "data": {
      "text/plain": [
       "OrderedDict([('first', 10), ('third', 30), ('second', 20)])"
      ]
     },
     "execution_count": 23,
     "metadata": {},
     "output_type": "execute_result"
    }
   ],
   "source": [
    "d.move_to_end('second')\n",
    "d"
   ]
  },
  {
   "cell_type": "code",
   "execution_count": 24,
   "metadata": {},
   "outputs": [],
   "source": [
    "d.move_to_end('third', last=False)"
   ]
  },
  {
   "cell_type": "code",
   "execution_count": 25,
   "metadata": {},
   "outputs": [
    {
     "data": {
      "text/plain": [
       "OrderedDict([('third', 30), ('first', 10), ('second', 20)])"
      ]
     },
     "execution_count": 25,
     "metadata": {},
     "output_type": "execute_result"
    }
   ],
   "source": [
    "d"
   ]
  },
  {
   "cell_type": "code",
   "execution_count": 26,
   "metadata": {},
   "outputs": [
    {
     "ename": "KeyError",
     "evalue": "'x'",
     "output_type": "error",
     "traceback": [
      "\u001b[1;31m---------------------------------------------------------------------------\u001b[0m",
      "\u001b[1;31mKeyError\u001b[0m                                  Traceback (most recent call last)",
      "\u001b[1;32mc:\\Users\\veace\\Desktop\\Python_DeepDive\\Dictionaries\\special dicts\\ordereddict.ipynb Cell 15\u001b[0m line \u001b[0;36m1\n\u001b[1;32m----> <a href='vscode-notebook-cell:/c%3A/Users/veace/Desktop/Python_DeepDive/Dictionaries/special%20dicts/ordereddict.ipynb#X20sZmlsZQ%3D%3D?line=0'>1</a>\u001b[0m d\u001b[39m.\u001b[39;49mmove_to_end(\u001b[39m'\u001b[39;49m\u001b[39mx\u001b[39;49m\u001b[39m'\u001b[39;49m)\n",
      "\u001b[1;31mKeyError\u001b[0m: 'x'"
     ]
    }
   ],
   "source": [
    "d.move_to_end('x')"
   ]
  },
  {
   "cell_type": "code",
   "execution_count": 27,
   "metadata": {},
   "outputs": [
    {
     "data": {
      "text/plain": [
       "True"
      ]
     },
     "execution_count": 27,
     "metadata": {},
     "output_type": "execute_result"
    }
   ],
   "source": [
    "d1 = {\"a\": 1, \"b\": 2}\n",
    "d2 = {\"b\": 2, \"a\": 1}\n",
    "\n",
    "d1 == d2"
   ]
  },
  {
   "cell_type": "code",
   "execution_count": 28,
   "metadata": {},
   "outputs": [
    {
     "data": {
      "text/plain": [
       "False"
      ]
     },
     "execution_count": 28,
     "metadata": {},
     "output_type": "execute_result"
    }
   ],
   "source": [
    "d1 = OrderedDict()\n",
    "d2 = OrderedDict()\n",
    "\n",
    "d1['a'] = 1\n",
    "d1['b'] = 2\n",
    "\n",
    "d2['b'] = 2\n",
    "d2['a'] = 1\n",
    "\n",
    "d1 == d2"
   ]
  },
  {
   "cell_type": "code",
   "execution_count": 29,
   "metadata": {},
   "outputs": [
    {
     "data": {
      "text/plain": [
       "True"
      ]
     },
     "execution_count": 29,
     "metadata": {},
     "output_type": "execute_result"
    }
   ],
   "source": [
    "d3 = {\"a\": 1, \"b\": 2}\n",
    "\n",
    "d1 == d3"
   ]
  },
  {
   "cell_type": "code",
   "execution_count": 30,
   "metadata": {},
   "outputs": [
    {
     "data": {
      "text/plain": [
       "True"
      ]
     },
     "execution_count": 30,
     "metadata": {},
     "output_type": "execute_result"
    }
   ],
   "source": [
    "d2 == d3"
   ]
  },
  {
   "cell_type": "code",
   "execution_count": 31,
   "metadata": {},
   "outputs": [],
   "source": [
    "from timeit import timeit\n",
    "from collections import deque\n",
    "\n",
    "def create_ordered_dict(n):\n",
    "    d = OrderedDict()\n",
    "    for i in range(n):\n",
    "        d[str(i)] = i\n",
    "    return d\n",
    "\n",
    "def create_deque(n):\n",
    "    return deque(range(n))\n",
    "\n",
    "def pop_all_ordered_dict(n=1000, last=True):\n",
    "        d = create_ordered_dict(n)\n",
    "        while True:\n",
    "            try:\n",
    "                d.popitem(last=last)\n",
    "            except KeyError:\n",
    "                 break\n",
    "            \n",
    "\n",
    "def pop_all_deque(n=1000, last=True):\n",
    "        d = create_deque(n)\n",
    "        while True:\n",
    "            try:\n",
    "                if last:\n",
    "                    d.pop()\n",
    "                else:\n",
    "                    d.popleft()\n",
    "            except IndexError:\n",
    "                 break\n",
    "            \n",
    "def pop_all_deque(n=1000, last=True):\n",
    "    dq = create_deque(n)\n",
    "    if last:\n",
    "        pop = dq.pop\n",
    "    else:\n",
    "        pop = dq.popleft\n",
    "\n",
    "    while True:\n",
    "        try:\n",
    "            pop()\n",
    "        except IndexError:\n",
    "            break"
   ]
  },
  {
   "cell_type": "code",
   "execution_count": 33,
   "metadata": {},
   "outputs": [
    {
     "data": {
      "text/plain": [
       "1.9030072000000473"
      ]
     },
     "execution_count": 33,
     "metadata": {},
     "output_type": "execute_result"
    }
   ],
   "source": [
    "timeit(\"create_ordered_dict(10_000)\", globals=globals(), number=1000)"
   ]
  },
  {
   "cell_type": "code",
   "execution_count": 34,
   "metadata": {},
   "outputs": [
    {
     "data": {
      "text/plain": [
       "0.13740839999991294"
      ]
     },
     "execution_count": 34,
     "metadata": {},
     "output_type": "execute_result"
    }
   ],
   "source": [
    "timeit(\"create_deque(10_000)\", globals=globals(), number=1000)"
   ]
  },
  {
   "cell_type": "code",
   "execution_count": 36,
   "metadata": {},
   "outputs": [
    {
     "data": {
      "text/plain": [
       "{'dict_create': 2.259402300000147,\n",
       " 'deque_create': 0.14562660000001415,\n",
       " 'dict_pop_last': 3.1587955999998485,\n",
       " 'deque_pop_last': 0.4309840000000804}"
      ]
     },
     "execution_count": 36,
     "metadata": {},
     "output_type": "execute_result"
    }
   ],
   "source": [
    "n = 10000\n",
    "number = 1000\n",
    "\n",
    "results = dict()\n",
    "results['dict_create'] = timeit(\"create_ordered_dict(n)\", globals=globals(), number=number)\n",
    "results['deque_create'] = timeit(\"create_deque(n)\", globals=globals(), number=number)\n",
    "\n",
    "results['dict_pop_last'] = timeit(\"pop_all_ordered_dict(n, last=False)\", globals=globals(), number=number)\n",
    "results['deque_pop_last'] = timeit(\"pop_all_deque(n)\", globals=globals(), number=number)\n",
    "\n",
    "results"
   ]
  },
  {
   "cell_type": "code",
   "execution_count": null,
   "metadata": {},
   "outputs": [],
   "source": []
  },
  {
   "cell_type": "code",
   "execution_count": null,
   "metadata": {},
   "outputs": [],
   "source": []
  },
  {
   "cell_type": "code",
   "execution_count": 37,
   "metadata": {},
   "outputs": [
    {
     "name": "stdout",
     "output_type": "stream",
     "text": [
      "OrderedDict([('a', 1), ('b', 2), ('c', 3), ('d', 4)])\n",
      "{'a': 1, 'b': 2, 'c': 3, 'd': 4}\n"
     ]
    }
   ],
   "source": [
    "from collections import OrderedDict\n",
    "\n",
    "d1 = OrderedDict(a=1, b=2, c=3, d=4)\n",
    "d2 = dict(a=1, b=2, c=3, d=4)\n",
    "\n",
    "print(d1)\n",
    "print(d2)"
   ]
  },
  {
   "cell_type": "code",
   "execution_count": 38,
   "metadata": {},
   "outputs": [
    {
     "name": "stdout",
     "output_type": "stream",
     "text": [
      "d\n",
      "c\n",
      "b\n",
      "a\n"
     ]
    }
   ],
   "source": [
    "for k in reversed(d1):\n",
    "    print(k)"
   ]
  },
  {
   "cell_type": "code",
   "execution_count": 39,
   "metadata": {},
   "outputs": [
    {
     "name": "stdout",
     "output_type": "stream",
     "text": [
      "d\n",
      "c\n",
      "b\n",
      "a\n"
     ]
    }
   ],
   "source": [
    "for k in reversed(d2):\n",
    "    print(k)"
   ]
  },
  {
   "cell_type": "code",
   "execution_count": 42,
   "metadata": {},
   "outputs": [
    {
     "name": "stdout",
     "output_type": "stream",
     "text": [
      "dict_keys(['a', 'b', 'c', 'd', 'e', 'f'])\n",
      "dict_keys(['a', 'b', 'd', 'e', 'f', 'c'])\n",
      "dict_keys(['b', 'd', 'e', 'f', 'c', 'a'])\n",
      "dict_keys(['d', 'e', 'f', 'c', 'a', 'b'])\n",
      "dict_keys(['e', 'f', 'c', 'a', 'b', 'd'])\n",
      "dict_keys(['f', 'c', 'a', 'b', 'd', 'e'])\n",
      "dict_keys(['c', 'a', 'b', 'd', 'e', 'f'])\n",
      "{'c': 3, 'a': 1, 'b': 2, 'd': 4, 'e': 5, 'f': 6}\n"
     ]
    }
   ],
   "source": [
    "d = dict(a=1, b=2, c=3, d=4, e=5, f=6)\n",
    "key = \"c\"\n",
    "print(d.keys())\n",
    "d[key] = d.pop(key)\n",
    "print(d.keys())\n",
    "\n",
    "keys = list(d.keys())[:-1]\n",
    "for key in keys:\n",
    "    d[key] = d.pop(key)\n",
    "    print(d.keys())\n",
    "\n",
    "print(d)"
   ]
  },
  {
   "cell_type": "code",
   "execution_count": 43,
   "metadata": {},
   "outputs": [
    {
     "data": {
      "text/plain": [
       "{'a': 1, 'b': 2, 'd': 4, 'e': 5, 'f': 6, 'c': 3}"
      ]
     },
     "execution_count": 43,
     "metadata": {},
     "output_type": "execute_result"
    }
   ],
   "source": [
    "def move_to_end(d, key, *, last=True):\n",
    "    d[key] = d.pop(key)\n",
    "\n",
    "    if not last:\n",
    "        for key in list(d.keys())[:-1]:\n",
    "            d[key] = d.pop(key)\n",
    "\n",
    "d = dict(a=1, b=2, c=3, d=4, e=5, f=6)\n",
    "move_to_end(d, 'c')\n",
    "d"
   ]
  },
  {
   "cell_type": "code",
   "execution_count": 44,
   "metadata": {},
   "outputs": [],
   "source": [
    "move_to_end(d, 'e', last=False)"
   ]
  },
  {
   "cell_type": "code",
   "execution_count": 45,
   "metadata": {},
   "outputs": [
    {
     "data": {
      "text/plain": [
       "{'e': 5, 'a': 1, 'b': 2, 'd': 4, 'f': 6, 'c': 3}"
      ]
     },
     "execution_count": 45,
     "metadata": {},
     "output_type": "execute_result"
    }
   ],
   "source": [
    "d"
   ]
  },
  {
   "cell_type": "code",
   "execution_count": 46,
   "metadata": {},
   "outputs": [
    {
     "data": {
      "text/plain": [
       "True"
      ]
     },
     "execution_count": 46,
     "metadata": {},
     "output_type": "execute_result"
    }
   ],
   "source": [
    "d1 = {\"a\": 1, \"b\": 2, \"c\": 3}\n",
    "d2 = {\"b\": 2, \"c\": 3, \"a\": 1}\n",
    "\n",
    "d1 == d2"
   ]
  },
  {
   "cell_type": "code",
   "execution_count": 47,
   "metadata": {},
   "outputs": [
    {
     "data": {
      "text/plain": [
       "True"
      ]
     },
     "execution_count": 47,
     "metadata": {},
     "output_type": "execute_result"
    }
   ],
   "source": [
    "d1.keys() == d2.keys()"
   ]
  },
  {
   "cell_type": "code",
   "execution_count": 48,
   "metadata": {},
   "outputs": [
    {
     "data": {
      "text/plain": [
       "False"
      ]
     },
     "execution_count": 48,
     "metadata": {},
     "output_type": "execute_result"
    }
   ],
   "source": [
    "list(d1.keys()) == list(d2.keys())"
   ]
  },
  {
   "cell_type": "code",
   "execution_count": 49,
   "metadata": {},
   "outputs": [
    {
     "data": {
      "text/plain": [
       "False"
      ]
     },
     "execution_count": 49,
     "metadata": {},
     "output_type": "execute_result"
    }
   ],
   "source": [
    "def dict_equal_sensitive(d1, d2):\n",
    "    if d1 == d2:\n",
    "        for k1, k2 in zip(d1.keys(), d2.keys()):\n",
    "            if k1 != k2:\n",
    "                return False\n",
    "        return True\n",
    "    else:\n",
    "        return False\n",
    "    \n",
    "dict_equal_sensitive(d1, d2)"
   ]
  },
  {
   "cell_type": "code",
   "execution_count": 50,
   "metadata": {},
   "outputs": [
    {
     "data": {
      "text/plain": [
       "True"
      ]
     },
     "execution_count": 50,
     "metadata": {},
     "output_type": "execute_result"
    }
   ],
   "source": [
    "dict_equal_sensitive(d1, d1)"
   ]
  },
  {
   "cell_type": "code",
   "execution_count": 51,
   "metadata": {},
   "outputs": [
    {
     "data": {
      "text/plain": [
       "False"
      ]
     },
     "execution_count": 51,
     "metadata": {},
     "output_type": "execute_result"
    }
   ],
   "source": [
    "def dict_equal_sensitive(d1, d2):\n",
    "    if d1 == d2:\n",
    "        return all(k1 == k2 for k1, k2 in zip(d1, d2))\n",
    "    else:\n",
    "        return False\n",
    "    \n",
    "dict_equal_sensitive(d1, d2)"
   ]
  },
  {
   "cell_type": "code",
   "execution_count": 52,
   "metadata": {},
   "outputs": [
    {
     "data": {
      "text/plain": [
       "True"
      ]
     },
     "execution_count": 52,
     "metadata": {},
     "output_type": "execute_result"
    }
   ],
   "source": [
    "dict_equal_sensitive(d1, d1)"
   ]
  },
  {
   "cell_type": "code",
   "execution_count": 53,
   "metadata": {},
   "outputs": [
    {
     "data": {
      "text/plain": [
       "False"
      ]
     },
     "execution_count": 53,
     "metadata": {},
     "output_type": "execute_result"
    }
   ],
   "source": [
    "def dict_equal_sensitive(d1, d2):\n",
    "    if d1 == d2:\n",
    "        return all(map(lambda el: el[0] == el[1], zip(d1, d2)))\n",
    "    else:\n",
    "        return False\n",
    "    \n",
    "dict_equal_sensitive(d1, d2)"
   ]
  },
  {
   "cell_type": "code",
   "execution_count": 54,
   "metadata": {},
   "outputs": [
    {
     "data": {
      "text/plain": [
       "True"
      ]
     },
     "execution_count": 54,
     "metadata": {},
     "output_type": "execute_result"
    }
   ],
   "source": [
    "dict_equal_sensitive(d1, d1)"
   ]
  },
  {
   "cell_type": "code",
   "execution_count": null,
   "metadata": {},
   "outputs": [],
   "source": []
  }
 ],
 "metadata": {
  "kernelspec": {
   "display_name": "Python 3",
   "language": "python",
   "name": "python3"
  },
  "language_info": {
   "codemirror_mode": {
    "name": "ipython",
    "version": 3
   },
   "file_extension": ".py",
   "mimetype": "text/x-python",
   "name": "python",
   "nbconvert_exporter": "python",
   "pygments_lexer": "ipython3",
   "version": "3.11.6"
  }
 },
 "nbformat": 4,
 "nbformat_minor": 2
}
