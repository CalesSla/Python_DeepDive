{
 "cells": [
  {
   "cell_type": "code",
   "execution_count": 4,
   "metadata": {},
   "outputs": [
    {
     "name": "stdout",
     "output_type": "stream",
     "text": [
      "defaultdict(<class 'int'>, {'t': 2, 'h': 2, 'e': 3, ' ': 8, 'q': 1, 'u': 2, 'i': 1, 'c': 1, 'k': 1, 'b': 1, 'r': 2, 'o': 4, 'w': 1, 'n': 1, 'f': 1, 'x': 1, 'j': 1, 'm': 1, 'p': 1, 's': 1, 'v': 1, 'l': 1, 'a': 1, 'z': 1, 'y': 1, 'd': 1, 'g': 1})\n"
     ]
    }
   ],
   "source": [
    "from collections import defaultdict, Counter\n",
    "\n",
    "sentence = \"the quick brown fox jumps over the lazy dog\"\n",
    "\n",
    "counter = defaultdict(int)\n",
    "\n",
    "for c in sentence:\n",
    "    counter[c] += 1\n",
    "\n",
    "print(counter)"
   ]
  },
  {
   "cell_type": "code",
   "execution_count": 3,
   "metadata": {},
   "outputs": [
    {
     "name": "stdout",
     "output_type": "stream",
     "text": [
      "Counter({' ': 8, 'o': 4, 'e': 3, 't': 2, 'h': 2, 'u': 2, 'r': 2, 'q': 1, 'i': 1, 'c': 1, 'k': 1, 'b': 1, 'w': 1, 'n': 1, 'f': 1, 'x': 1, 'j': 1, 'm': 1, 'p': 1, 's': 1, 'v': 1, 'l': 1, 'a': 1, 'z': 1, 'y': 1, 'd': 1, 'g': 1})\n"
     ]
    }
   ],
   "source": [
    "counter = Counter()\n",
    "for c in sentence:\n",
    "    counter[c] += 1\n",
    "\n",
    "print(counter)"
   ]
  },
  {
   "cell_type": "code",
   "execution_count": 5,
   "metadata": {},
   "outputs": [
    {
     "name": "stdout",
     "output_type": "stream",
     "text": [
      "Counter({' ': 6, 'a': 4, 'e': 4, 'b': 2, 'l': 2, 'w': 2, 's': 2, 'I': 2, 'r': 1})\n"
     ]
    }
   ],
   "source": [
    "c1 = Counter(\"able was I ere I saw elba\")\n",
    "print(c1)"
   ]
  },
  {
   "cell_type": "code",
   "execution_count": 6,
   "metadata": {},
   "outputs": [
    {
     "data": {
      "text/plain": [
       "Counter({5: 3, 2: 2, 1: 1, 3: 1, 4: 1, 6: 1})"
      ]
     },
     "execution_count": 6,
     "metadata": {},
     "output_type": "execute_result"
    }
   ],
   "source": [
    "c1 = Counter([1, 2, 2, 3, 4, 5, 5, 5, 6])\n",
    "c1"
   ]
  },
  {
   "cell_type": "code",
   "execution_count": 9,
   "metadata": {},
   "outputs": [
    {
     "data": {
      "text/plain": [
       "Counter({1: 107,\n",
       "         10: 98,\n",
       "         0: 97,\n",
       "         6: 95,\n",
       "         7: 94,\n",
       "         4: 91,\n",
       "         5: 89,\n",
       "         2: 88,\n",
       "         9: 85,\n",
       "         3: 80,\n",
       "         8: 76})"
      ]
     },
     "execution_count": 9,
     "metadata": {},
     "output_type": "execute_result"
    }
   ],
   "source": [
    "import random\n",
    "\n",
    "random.seed(0)\n",
    "\n",
    "my_list = [random.randint(0, 10) for _ in range(1000)]\n",
    "\n",
    "Counter(my_list)"
   ]
  },
  {
   "cell_type": "code",
   "execution_count": 10,
   "metadata": {},
   "outputs": [
    {
     "data": {
      "text/plain": [
       "Counter({'b': 10, 'a': 1})"
      ]
     },
     "execution_count": 10,
     "metadata": {},
     "output_type": "execute_result"
    }
   ],
   "source": [
    "c2 = Counter(a=1, b=10)\n",
    "c2"
   ]
  },
  {
   "cell_type": "code",
   "execution_count": 13,
   "metadata": {},
   "outputs": [
    {
     "name": "stdout",
     "output_type": "stream",
     "text": [
      "['', 'his', 'module', 'implements', 'pseudo', 'random', 'number', 'generators', 'for', 'various', 'distributions', '', '', 'For', 'integers', '', 'there', 'is', 'uniform', 'selection', 'from', 'a', 'range', '', 'For', 'sequences', '', 'there', 'is', 'uniform', 'selection', 'of', 'a', 'random', 'element', '', 'a', 'function', 'to', 'generate', 'a', 'random', 'permutation', 'of', 'a', 'list', 'in', 'place', '', 'and', 'a', 'function', 'for', 'random', 'sampling', 'without', 'replacement', '', '', 'On', 'the', 'real', 'line', '', 'there', 'are', 'functions', 'to', 'compute', 'uniform', '', 'normal', '', 'Gaussian', '', '', 'lognormal', '', 'negative', 'exponential', '', 'gamma', '', 'and', 'beta', 'distributions', '', 'For', 'generating', 'distributions', 'of', 'angles', '', 'the', 'von', 'Mises', 'distribution', 'is', 'available', '', '', 'Almost', 'all', 'module', 'functions', 'depend', 'on', 'the', 'basic', 'function', 'random', '', '', '', 'which', 'generates', 'a', 'random', 'float', 'uniformly', 'in', 'the', 'semi', 'open', 'range', '', '0', '0', '', '1', '0', '', '', 'Python', 'uses', 'the', 'Mersenne', 'Twister', 'as', 'the', 'core', 'generator', '', 'It', 'produces', '53', 'bit', 'precision', 'floats', 'and', 'has', 'a', 'period', 'of', '2', '', '19937', '1', '', 'The', 'underlying', 'implementation', 'in', 'C', 'is', 'both', 'fast', 'and', 'threadsafe', '', 'The', 'Mersenne', 'Twister', 'is', 'one', 'of', 'the', 'most', 'extensively', 'tested', 'random', 'number', 'generators', 'in', 'existence', '', 'However', '', 'being', 'completely', 'deterministic', '', 'it', 'is', 'not', 'suitable', 'for', 'all', 'purposes', '', 'and', 'is', 'completely', 'unsuitable', 'for', 'cryptographic', 'purposes', '', '']\n"
     ]
    }
   ],
   "source": [
    "import re\n",
    "\n",
    "sentence = '''\n",
    "his module implements pseudo-random number generators for various distributions.\n",
    "\n",
    "For integers, there is uniform selection from a range. For sequences, there is uniform selection of a random element, a function to generate a random permutation of a list in-place, and a function for random sampling without replacement.\n",
    "\n",
    "On the real line, there are functions to compute uniform, normal (Gaussian), lognormal, negative exponential, gamma, and beta distributions. For generating distributions of angles, the von Mises distribution is available.\n",
    "\n",
    "Almost all module functions depend on the basic function random(), which generates a random float uniformly in the semi-open range [0.0, 1.0). Python uses the Mersenne Twister as the core generator. It produces 53-bit precision floats and has a period of 2**19937-1. The underlying implementation in C is both fast and threadsafe. The Mersenne Twister is one of the most extensively tested random number generators in existence. However, being completely deterministic, it is not suitable for all purposes, and is completely unsuitable for cryptographic purposes.\n",
    "'''\n",
    "\n",
    "words = re.split(\"\\W\", sentence)\n",
    "\n",
    "print(words)"
   ]
  },
  {
   "cell_type": "code",
   "execution_count": 15,
   "metadata": {},
   "outputs": [
    {
     "name": "stdout",
     "output_type": "stream",
     "text": [
      "Counter({'': 39, 'a': 8, 'random': 7, 'is': 7, 'the': 7, 'of': 5, 'and': 5, 'for': 4, 'in': 4, 'distributions': 3, 'For': 3, 'there': 3, 'uniform': 3, 'function': 3, '0': 3, 'module': 2, 'number': 2, 'generators': 2, 'selection': 2, 'range': 2, 'to': 2, 'functions': 2, 'all': 2, '1': 2, 'Mersenne': 2, 'Twister': 2, 'The': 2, 'completely': 2, 'purposes': 2, 'his': 1, 'implements': 1, 'pseudo': 1, 'various': 1, 'integers': 1, 'from': 1, 'sequences': 1, 'element': 1, 'generate': 1, 'permutation': 1, 'list': 1, 'place': 1, 'sampling': 1, 'without': 1, 'replacement': 1, 'On': 1, 'real': 1, 'line': 1, 'are': 1, 'compute': 1, 'normal': 1, 'Gaussian': 1, 'lognormal': 1, 'negative': 1, 'exponential': 1, 'gamma': 1, 'beta': 1, 'generating': 1, 'angles': 1, 'von': 1, 'Mises': 1, 'distribution': 1, 'available': 1, 'Almost': 1, 'depend': 1, 'on': 1, 'basic': 1, 'which': 1, 'generates': 1, 'float': 1, 'uniformly': 1, 'semi': 1, 'open': 1, 'Python': 1, 'uses': 1, 'as': 1, 'core': 1, 'generator': 1, 'It': 1, 'produces': 1, '53': 1, 'bit': 1, 'precision': 1, 'floats': 1, 'has': 1, 'period': 1, '2': 1, '19937': 1, 'underlying': 1, 'implementation': 1, 'C': 1, 'both': 1, 'fast': 1, 'threadsafe': 1, 'one': 1, 'most': 1, 'extensively': 1, 'tested': 1, 'existence': 1, 'However': 1, 'being': 1, 'deterministic': 1, 'it': 1, 'not': 1, 'suitable': 1, 'unsuitable': 1, 'cryptographic': 1})\n"
     ]
    }
   ],
   "source": [
    "word_count = Counter(words)\n",
    "print(word_count)"
   ]
  },
  {
   "cell_type": "code",
   "execution_count": 16,
   "metadata": {},
   "outputs": [
    {
     "data": {
      "text/plain": [
       "[('', 39), ('a', 8), ('random', 7), ('is', 7), ('the', 7)]"
      ]
     },
     "execution_count": 16,
     "metadata": {},
     "output_type": "execute_result"
    }
   ],
   "source": [
    "word_count.most_common(5)"
   ]
  },
  {
   "cell_type": "code",
   "execution_count": 18,
   "metadata": {},
   "outputs": [
    {
     "data": {
      "text/plain": [
       "Counter({'a': 2, 'b': 2})"
      ]
     },
     "execution_count": 18,
     "metadata": {},
     "output_type": "execute_result"
    }
   ],
   "source": [
    "c1 = Counter(\"abba\")\n",
    "c1"
   ]
  },
  {
   "cell_type": "code",
   "execution_count": 19,
   "metadata": {},
   "outputs": [
    {
     "name": "stdout",
     "output_type": "stream",
     "text": [
      "a\n",
      "b\n"
     ]
    }
   ],
   "source": [
    "for c in c1:\n",
    "    print(c)"
   ]
  },
  {
   "cell_type": "code",
   "execution_count": 20,
   "metadata": {},
   "outputs": [
    {
     "name": "stdout",
     "output_type": "stream",
     "text": [
      "a\n",
      "a\n",
      "b\n",
      "b\n"
     ]
    }
   ],
   "source": [
    "for c in c1.elements():\n",
    "    print(c)"
   ]
  },
  {
   "cell_type": "code",
   "execution_count": 21,
   "metadata": {},
   "outputs": [
    {
     "name": "stdout",
     "output_type": "stream",
     "text": [
      "[1, 2, 2, 3, 3, 3, 4, 4, 4, 4, 5, 5, 5, 5, 5, 6, 6, 6, 6, 6, 6, 7, 7, 7, 7, 7, 7, 7, 8, 8, 8, 8, 8, 8, 8, 8, 9, 9, 9, 9, 9, 9, 9, 9, 9, 10, 10, 10, 10, 10, 10, 10, 10, 10, 10]\n"
     ]
    }
   ],
   "source": [
    "l = []\n",
    "\n",
    "for i in range(1, 11):\n",
    "    for _ in range(i):\n",
    "        l.append(i)\n",
    "\n",
    "print(l)"
   ]
  },
  {
   "cell_type": "code",
   "execution_count": 22,
   "metadata": {},
   "outputs": [
    {
     "data": {
      "text/plain": [
       "Counter({10: 10, 9: 9, 8: 8, 7: 7, 6: 6, 5: 5, 4: 4, 3: 3, 2: 2, 1: 1})"
      ]
     },
     "execution_count": 22,
     "metadata": {},
     "output_type": "execute_result"
    }
   ],
   "source": [
    "c1 = Counter()\n",
    "for i in range(1, 11):\n",
    "    c1[i] = i\n",
    "\n",
    "c1"
   ]
  },
  {
   "cell_type": "code",
   "execution_count": 25,
   "metadata": {},
   "outputs": [
    {
     "name": "stdout",
     "output_type": "stream",
     "text": [
      "[1, 2, 2, 3, 3, 3, 4, 4, 4, 4, 5, 5, 5, 5, 5, 6, 6, 6, 6, 6, 6, 7, 7, 7, 7, 7, 7, 7, 8, 8, 8, 8, 8, 8, 8, 8, 9, 9, 9, 9, 9, 9, 9, 9, 9, 10, 10, 10, 10, 10, 10, 10, 10, 10, 10]\n"
     ]
    }
   ],
   "source": [
    "print(list(c1.elements()))"
   ]
  },
  {
   "cell_type": "code",
   "execution_count": 28,
   "metadata": {},
   "outputs": [
    {
     "data": {
      "text/plain": [
       "{'x': 10, 'y': 20}"
      ]
     },
     "execution_count": 28,
     "metadata": {},
     "output_type": "execute_result"
    }
   ],
   "source": [
    "class RepeatIterable:\n",
    "    def __init__(self, **kwargs):\n",
    "        self.d = kwargs\n",
    "\n",
    "    def __setitem__(self, key, value):\n",
    "        self.d[key] a= value\n",
    "\n",
    "    def __getitem__(self, key):\n",
    "        self.d[key] = self.d.get(key, 0)\n",
    "        return self.d[key]\n",
    "    \n",
    "\n",
    "r = RepeatIterable(x=10, y=20)\n",
    "r.d"
   ]
  },
  {
   "cell_type": "code",
   "execution_count": 29,
   "metadata": {},
   "outputs": [
    {
     "data": {
      "text/plain": [
       "0"
      ]
     },
     "execution_count": 29,
     "metadata": {},
     "output_type": "execute_result"
    }
   ],
   "source": [
    "r['a']"
   ]
  },
  {
   "cell_type": "code",
   "execution_count": 30,
   "metadata": {},
   "outputs": [
    {
     "data": {
      "text/plain": [
       "{'x': 10, 'y': 20, 'a': 0}"
      ]
     },
     "execution_count": 30,
     "metadata": {},
     "output_type": "execute_result"
    }
   ],
   "source": [
    "r.d"
   ]
  },
  {
   "cell_type": "code",
   "execution_count": 31,
   "metadata": {},
   "outputs": [
    {
     "data": {
      "text/plain": [
       "10"
      ]
     },
     "execution_count": 31,
     "metadata": {},
     "output_type": "execute_result"
    }
   ],
   "source": [
    "r['x']"
   ]
  },
  {
   "cell_type": "code",
   "execution_count": 33,
   "metadata": {},
   "outputs": [
    {
     "data": {
      "text/plain": [
       "{'x': 10, 'y': 100, 'a': 0}"
      ]
     },
     "execution_count": 33,
     "metadata": {},
     "output_type": "execute_result"
    }
   ],
   "source": [
    "r['y'] = 100\n",
    "r.d"
   ]
  },
  {
   "cell_type": "code",
   "execution_count": 37,
   "metadata": {},
   "outputs": [
    {
     "data": {
      "text/plain": [
       "{'a': 2, 'b': 3, 'c': 1}"
      ]
     },
     "execution_count": 37,
     "metadata": {},
     "output_type": "execute_result"
    }
   ],
   "source": [
    "class RepeatIterable:\n",
    "    def __init__(self, **kwargs):\n",
    "        self.d = kwargs\n",
    "\n",
    "    def __setitem__(self, key, value):\n",
    "        self.d[key] = value\n",
    "\n",
    "    def __getitem__(self, key):\n",
    "        self.d[key] = self.d.get(key, 0)\n",
    "        return self.d[key]\n",
    "    \n",
    "    def elements(self):\n",
    "        for k, frequency in self.d.items():\n",
    "            for _ in range(frequency):\n",
    "                yield k\n",
    "\n",
    "r = RepeatIterable(a=2, b=3, c=1)\n",
    "r.d"
   ]
  },
  {
   "cell_type": "code",
   "execution_count": 38,
   "metadata": {},
   "outputs": [
    {
     "data": {
      "text/plain": [
       "['a', 'a', 'b', 'b', 'b', 'c']"
      ]
     },
     "execution_count": 38,
     "metadata": {},
     "output_type": "execute_result"
    }
   ],
   "source": [
    "list(r.elements())"
   ]
  },
  {
   "cell_type": "code",
   "execution_count": 39,
   "metadata": {},
   "outputs": [
    {
     "name": "stdout",
     "output_type": "stream",
     "text": [
      "Counter({'c': 5, 'b': 3, 'd': 3, 'a': 1})\n"
     ]
    }
   ],
   "source": [
    "c1 = Counter(a=1, b=2, c=3)\n",
    "c2 = Counter(b=1, c=2, d=3)\n",
    "\n",
    "c1.update(c2)\n",
    "print(c1)"
   ]
  },
  {
   "cell_type": "code",
   "execution_count": 40,
   "metadata": {},
   "outputs": [
    {
     "data": {
      "text/plain": [
       "Counter({'a': 0, 'b': 0, 'c': 0})"
      ]
     },
     "execution_count": 40,
     "metadata": {},
     "output_type": "execute_result"
    }
   ],
   "source": [
    "c1 = Counter(a=1, b=2, c=3)\n",
    "c2 = Counter(a=1, b=2, c=3)\n",
    "\n",
    "c1.subtract(c2)\n",
    "\n",
    "c1"
   ]
  },
  {
   "cell_type": "code",
   "execution_count": 41,
   "metadata": {},
   "outputs": [
    {
     "data": {
      "text/plain": [
       "Counter({'a': -1, 'b': -2, 'c': -3})"
      ]
     },
     "execution_count": 41,
     "metadata": {},
     "output_type": "execute_result"
    }
   ],
   "source": [
    "c1.subtract(c2)\n",
    "c1"
   ]
  },
  {
   "cell_type": "code",
   "execution_count": 42,
   "metadata": {},
   "outputs": [
    {
     "data": {
      "text/plain": [
       "Counter({'a': 2, 'b': 2, 'c': 2, 'd': 2, 'e': 2})"
      ]
     },
     "execution_count": 42,
     "metadata": {},
     "output_type": "execute_result"
    }
   ],
   "source": [
    "c1 = Counter(\"aabbccddee\")\n",
    "c1"
   ]
  },
  {
   "cell_type": "code",
   "execution_count": 43,
   "metadata": {},
   "outputs": [],
   "source": [
    "c1.update(\"abcdef\")"
   ]
  },
  {
   "cell_type": "code",
   "execution_count": 44,
   "metadata": {},
   "outputs": [
    {
     "data": {
      "text/plain": [
       "Counter({'a': 3, 'b': 3, 'c': 3, 'd': 3, 'e': 3, 'f': 1})"
      ]
     },
     "execution_count": 44,
     "metadata": {},
     "output_type": "execute_result"
    }
   ],
   "source": [
    "c1"
   ]
  },
  {
   "cell_type": "code",
   "execution_count": 45,
   "metadata": {},
   "outputs": [
    {
     "data": {
      "text/plain": [
       "Counter({'a': 3, 'b': 3, 'c': 3})"
      ]
     },
     "execution_count": 45,
     "metadata": {},
     "output_type": "execute_result"
    }
   ],
   "source": [
    "c1 = Counter(\"aabbcc\")\n",
    "c2 = Counter(\"abc\")\n",
    "\n",
    "c1+c2"
   ]
  },
  {
   "cell_type": "code",
   "execution_count": 46,
   "metadata": {},
   "outputs": [
    {
     "data": {
      "text/plain": [
       "Counter({'a': 1, 'b': 1, 'c': 1})"
      ]
     },
     "execution_count": 46,
     "metadata": {},
     "output_type": "execute_result"
    }
   ],
   "source": [
    "c1-c2"
   ]
  },
  {
   "cell_type": "code",
   "execution_count": 48,
   "metadata": {},
   "outputs": [
    {
     "data": {
      "text/plain": [
       "Counter({'a': 1, 'b': 1})"
      ]
     },
     "execution_count": 48,
     "metadata": {},
     "output_type": "execute_result"
    }
   ],
   "source": [
    "c1 = Counter(a=5, b=1)\n",
    "c2 = Counter(a=1, b=10)\n",
    "\n",
    "c1 & c2"
   ]
  },
  {
   "cell_type": "code",
   "execution_count": 49,
   "metadata": {},
   "outputs": [
    {
     "data": {
      "text/plain": [
       "Counter({'b': 10, 'a': 5})"
      ]
     },
     "execution_count": 49,
     "metadata": {},
     "output_type": "execute_result"
    }
   ],
   "source": [
    "c1 | c2"
   ]
  },
  {
   "cell_type": "code",
   "execution_count": 52,
   "metadata": {},
   "outputs": [
    {
     "data": {
      "text/plain": [
       "Counter({'a': 10})"
      ]
     },
     "execution_count": 52,
     "metadata": {},
     "output_type": "execute_result"
    }
   ],
   "source": [
    "c1 = Counter(a=10, b=-10, c=0)\n",
    "\n",
    "+c1"
   ]
  },
  {
   "cell_type": "code",
   "execution_count": 53,
   "metadata": {},
   "outputs": [
    {
     "data": {
      "text/plain": [
       "Counter({'b': 10})"
      ]
     },
     "execution_count": 53,
     "metadata": {},
     "output_type": "execute_result"
    }
   ],
   "source": [
    "-c1"
   ]
  },
  {
   "cell_type": "code",
   "execution_count": 57,
   "metadata": {},
   "outputs": [
    {
     "name": "stdout",
     "output_type": "stream",
     "text": [
      "[('case', 4), ('battery', 3), ('keyboard', 4), ('case', 3), ('case', 3), ('keyboard', 2), ('keyboard', 2), ('cable', 2), ('battery', 5), ('cable', 5), ('mouse', 5), ('charger', 3), ('battery', 1), ('mouse', 3), ('case', 5), ('battery', 3), ('case', 3), ('keyboard', 2), ('keyboard', 4), ('case', 5), ('cable', 1), ('keyboard', 1), ('battery', 4), ('mouse', 1), ('keyboard', 4), ('cable', 2), ('mouse', 3), ('mouse', 1), ('charger', 5), ('charger', 2), ('charger', 5), ('case', 1), ('battery', 3), ('keyboard', 4), ('battery', 3), ('keyboard', 3), ('mouse', 1), ('keyboard', 3), ('keyboard', 2), ('keyboard', 5), ('keyboard', 3), ('case', 1), ('keyboard', 4), ('cable', 5), ('charger', 3), ('charger', 2), ('charger', 1), ('keyboard', 3), ('case', 1), ('battery', 2), ('charger', 1), ('battery', 5), ('mouse', 4), ('mouse', 5), ('cable', 5), ('charger', 2), ('mouse', 5), ('case', 5), ('cable', 4), ('case', 3), ('battery', 3), ('keyboard', 1), ('case', 5), ('mouse', 3), ('charger', 2), ('battery', 3), ('battery', 2), ('cable', 2), ('cable', 4), ('battery', 1), ('charger', 2), ('battery', 5), ('mouse', 5), ('keyboard', 1), ('battery', 1), ('mouse', 2), ('keyboard', 5), ('battery', 4), ('battery', 3), ('battery', 1), ('keyboard', 1), ('charger', 2), ('mouse', 1), ('case', 2), ('mouse', 1), ('mouse', 1), ('keyboard', 4), ('keyboard', 1), ('cable', 1), ('charger', 1), ('mouse', 3), ('cable', 4), ('charger', 1), ('keyboard', 4), ('battery', 5), ('battery', 4), ('charger', 3), ('cable', 4), ('keyboard', 2), ('mouse', 2)]\n",
      "[('battery', 2), ('charger', 3), ('keyboard', 3), ('battery', 5), ('case', 2), ('battery', 4), ('mouse', 4), ('keyboard', 5), ('cable', 3), ('case', 3), ('charger', 5), ('mouse', 1), ('case', 1), ('cable', 1), ('keyboard', 3), ('charger', 2), ('case', 3), ('keyboard', 3), ('mouse', 3), ('keyboard', 5)]\n"
     ]
    }
   ],
   "source": [
    "import random\n",
    "random.seed(0)\n",
    "\n",
    "widgets = [\"battery\", \"charger\", \"cable\", \"case\", \"keyboard\", \"mouse\"]\n",
    "\n",
    "orders = [(random.choice(widgets), random.randint(1, 5)) for _ in range(100)]\n",
    "refunds = [(random.choice(widgets), random.randint(1, 5)) for _ in range(20)]\n",
    "\n",
    "print(orders)\n",
    "print(refunds)"
   ]
  },
  {
   "cell_type": "code",
   "execution_count": 59,
   "metadata": {},
   "outputs": [
    {
     "name": "stdout",
     "output_type": "stream",
     "text": [
      "Counter({'keyboard': 65, 'battery': 61, 'mouse': 46, 'case': 41, 'cable': 39, 'charger': 35})\n",
      "Counter({'keyboard': 19, 'battery': 11, 'charger': 10, 'case': 9, 'mouse': 8, 'cable': 4})\n"
     ]
    }
   ],
   "source": [
    "sold_counter = Counter()\n",
    "refund_counter = Counter()\n",
    "\n",
    "for order in orders:\n",
    "    sold_counter[order[0]] += order[1]\n",
    "\n",
    "for refund in refunds:\n",
    "    refund_counter[refund[0]] += refund[1]\n",
    "\n",
    "print(sold_counter)\n",
    "print(refund_counter)"
   ]
  },
  {
   "cell_type": "code",
   "execution_count": 60,
   "metadata": {},
   "outputs": [
    {
     "data": {
      "text/plain": [
       "Counter({'battery': 50,\n",
       "         'keyboard': 46,\n",
       "         'mouse': 38,\n",
       "         'cable': 35,\n",
       "         'case': 32,\n",
       "         'charger': 25})"
      ]
     },
     "execution_count": 60,
     "metadata": {},
     "output_type": "execute_result"
    }
   ],
   "source": [
    "net_counter = sold_counter - refund_counter\n",
    "net_counter"
   ]
  },
  {
   "cell_type": "code",
   "execution_count": 61,
   "metadata": {},
   "outputs": [
    {
     "data": {
      "text/plain": [
       "('case', 4)"
      ]
     },
     "execution_count": 61,
     "metadata": {},
     "output_type": "execute_result"
    }
   ],
   "source": [
    "orders[0]"
   ]
  },
  {
   "cell_type": "code",
   "execution_count": 66,
   "metadata": {},
   "outputs": [
    {
     "data": {
      "text/plain": [
       "['battery', 'battery', 'battery']"
      ]
     },
     "execution_count": 66,
     "metadata": {},
     "output_type": "execute_result"
    }
   ],
   "source": [
    "from itertools import repeat, chain\n",
    "\n",
    "list(repeat(\"battery\", 3))"
   ]
  },
  {
   "cell_type": "code",
   "execution_count": 67,
   "metadata": {},
   "outputs": [
    {
     "data": {
      "text/plain": [
       "['case', 'case', 'case', 'case']"
      ]
     },
     "execution_count": 67,
     "metadata": {},
     "output_type": "execute_result"
    }
   ],
   "source": [
    "list(repeat(*orders[0]))"
   ]
  },
  {
   "cell_type": "code",
   "execution_count": 73,
   "metadata": {},
   "outputs": [
    {
     "data": {
      "text/plain": [
       "Counter({'keyboard': 65,\n",
       "         'battery': 61,\n",
       "         'mouse': 46,\n",
       "         'case': 41,\n",
       "         'cable': 39,\n",
       "         'charger': 35})"
      ]
     },
     "execution_count": 73,
     "metadata": {},
     "output_type": "execute_result"
    }
   ],
   "source": [
    "sold_counter = Counter(list(chain.from_iterable(repeat(*order) for order in orders)))\n",
    "refund_counter = Counter(list(chain.from_iterable(repeat(*refund) for refund in refunds)))\n",
    "net_counter = sold_counter - refund_counter\n",
    "\n",
    "sold_counter"
   ]
  },
  {
   "cell_type": "code",
   "execution_count": 74,
   "metadata": {},
   "outputs": [
    {
     "data": {
      "text/plain": [
       "Counter({'keyboard': 19,\n",
       "         'battery': 11,\n",
       "         'charger': 10,\n",
       "         'case': 9,\n",
       "         'mouse': 8,\n",
       "         'cable': 4})"
      ]
     },
     "execution_count": 74,
     "metadata": {},
     "output_type": "execute_result"
    }
   ],
   "source": [
    "refund_counter"
   ]
  },
  {
   "cell_type": "code",
   "execution_count": 75,
   "metadata": {},
   "outputs": [
    {
     "data": {
      "text/plain": [
       "Counter({'battery': 50,\n",
       "         'keyboard': 46,\n",
       "         'mouse': 38,\n",
       "         'cable': 35,\n",
       "         'case': 32,\n",
       "         'charger': 25})"
      ]
     },
     "execution_count": 75,
     "metadata": {},
     "output_type": "execute_result"
    }
   ],
   "source": [
    "net_counter"
   ]
  },
  {
   "cell_type": "code",
   "execution_count": 76,
   "metadata": {},
   "outputs": [
    {
     "name": "stdout",
     "output_type": "stream",
     "text": [
      "[('battery', 50), ('keyboard', 46), ('mouse', 38)]\n"
     ]
    }
   ],
   "source": [
    "print(net_counter.most_common(3))"
   ]
  },
  {
   "cell_type": "code",
   "execution_count": null,
   "metadata": {},
   "outputs": [],
   "source": []
  },
  {
   "cell_type": "code",
   "execution_count": 85,
   "metadata": {},
   "outputs": [
    {
     "data": {
      "text/plain": [
       "{'case': 32,\n",
       " 'battery': 50,\n",
       " 'keyboard': 46,\n",
       " 'cable': 35,\n",
       " 'mouse': 38,\n",
       " 'charger': 25}"
      ]
     },
     "execution_count": 85,
     "metadata": {},
     "output_type": "execute_result"
    }
   ],
   "source": [
    "net_sales = {}\n",
    "\n",
    "for order in orders:\n",
    "    key = order[0]\n",
    "    cnt = order[1]\n",
    "    net_sales[key] = net_sales.get(key, 0) + cnt\n",
    "\n",
    "for refund in refunds:\n",
    "    key = refund[0]\n",
    "    cnt = refund[1]\n",
    "    net_sales[key] = net_sales.get(key, 0) - cnt\n",
    "\n",
    "net_sales = {k: v for k, v in net_sales.items() if v > 0}\n",
    "net_sales\n"
   ]
  },
  {
   "cell_type": "code",
   "execution_count": 90,
   "metadata": {},
   "outputs": [
    {
     "data": {
      "text/plain": [
       "{'battery': 50,\n",
       " 'keyboard': 46,\n",
       " 'mouse': 38,\n",
       " 'cable': 35,\n",
       " 'case': 32,\n",
       " 'charger': 25}"
      ]
     },
     "execution_count": 90,
     "metadata": {},
     "output_type": "execute_result"
    }
   ],
   "source": [
    "dict(sorted(net_sales.items(), key=lambda x: x[1], reverse=True))"
   ]
  },
  {
   "cell_type": "code",
   "execution_count": null,
   "metadata": {},
   "outputs": [],
   "source": []
  }
 ],
 "metadata": {
  "kernelspec": {
   "display_name": "Python 3",
   "language": "python",
   "name": "python3"
  },
  "language_info": {
   "codemirror_mode": {
    "name": "ipython",
    "version": 3
   },
   "file_extension": ".py",
   "mimetype": "text/x-python",
   "name": "python",
   "nbconvert_exporter": "python",
   "pygments_lexer": "ipython3",
   "version": "3.11.6"
  }
 },
 "nbformat": 4,
 "nbformat_minor": 2
}
