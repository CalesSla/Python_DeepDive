{
 "cells": [
  {
   "cell_type": "code",
   "execution_count": 1,
   "metadata": {},
   "outputs": [],
   "source": [
    "template = {\n",
    "    'user_id': int,\n",
    "    'name': {\n",
    "        'first': str,\n",
    "        'last': str\n",
    "    },\n",
    "    'bio': {\n",
    "        'dob': {\n",
    "            'year': int,\n",
    "            'month': int,\n",
    "            'day': int\n",
    "        },\n",
    "        'birthplace': {\n",
    "            'country': str,\n",
    "            'city': str\n",
    "        }\n",
    "    }\n",
    "}\n",
    "\n",
    "\n",
    "# def validate(data, template):\n",
    "#     # implement\n",
    "#     # and return True/False\n",
    "#     # in the case of False, return a string describing \n",
    "#     # the first error encountered\n",
    "#     # in the case of True, string can be empty\n",
    "#     return state, error"
   ]
  },
  {
   "cell_type": "code",
   "execution_count": 328,
   "metadata": {},
   "outputs": [],
   "source": [
    "template = {\n",
    "    'user_id': int,\n",
    "    'name': str,\n",
    "    \"address\": {\n",
    "        \"street\": str,\n",
    "        \"house\": int,\n",
    "        \"location\": {\n",
    "            \"district\": str,\n",
    "            \"idx\": int\n",
    "        }\n",
    "    }\n",
    "}\n",
    "\n",
    "olia = {\n",
    "    \"user_id\": 1,\n",
    "    \"name\": \"olia\",\n",
    "    \"address\": {\n",
    "        \"street\": \"Mircea\",\n",
    "        \"house\": 56,\n",
    "        \"location\": {\n",
    "            \"district\": \"calea\",\n",
    "            # \"idx\": 2043\n",
    "        }\n",
    "    }\n",
    "}"
   ]
  },
  {
   "cell_type": "code",
   "execution_count": null,
   "metadata": {},
   "outputs": [],
   "source": []
  },
  {
   "cell_type": "code",
   "execution_count": 346,
   "metadata": {},
   "outputs": [
    {
     "name": "stdout",
     "output_type": "stream",
     "text": [
      "\n",
      "The template does not have template.address.location.idx\n"
     ]
    },
    {
     "data": {
      "text/plain": [
       "(False, '.address.location.idx', '')"
      ]
     },
     "execution_count": 346,
     "metadata": {},
     "output_type": "execute_result"
    }
   ],
   "source": [
    "\n",
    "\n",
    "def validate(data, template, is_recursive, missing_from_data=None, missing_from_template=None):\n",
    "    if missing_from_data is None:\n",
    "        missing_from_data = \"\"\n",
    "    if missing_from_template is None:\n",
    "        missing_from_template = \"\"\n",
    "    \n",
    "    \n",
    "    if data.keys() ^ template.keys() != set():\n",
    "        missing_field = (template.keys() - data.keys())\n",
    "        if missing_field:\n",
    "            missing_from_data += \".\" + missing_field.pop()\n",
    "        else:\n",
    "            missing_from_template += \".\" + (data.keys() - template.keys()).pop()\n",
    "        \n",
    "        if not is_recursive:\n",
    "            if missing_from_data:\n",
    "                print(\"The following data is missing: template\"+missing_from_data)\n",
    "            elif missing_from_template:\n",
    "                print(f\"The template does not have\" + \" template\"+missing_from_template)\n",
    "        \n",
    "        return False, missing_from_data, missing_from_template\n",
    "\n",
    "    else:\n",
    "        for k, v in template.items():\n",
    "            if type(v) == dict:\n",
    "                inter_res, missing_from_data, missing_from_template = validate(data=data[k], template=v, is_recursive=True, missing_from_data=missing_from_data, missing_from_template=missing_from_template)\n",
    "                if not inter_res:\n",
    "                    if missing_from_data:\n",
    "                        missing_from_data = \".\" + k + missing_from_data\n",
    "                    if missing_from_template:\n",
    "                        missing_from_template = \".\" + k + missing_from_template\n",
    "                    if not is_recursive:\n",
    "                        if missing_from_template:\n",
    "                            print(\"The following data is missing: template\" + missing_from_template)\n",
    "                        \n",
    "                        elif missing_from_data:\n",
    "                            print(missing_from_template)\n",
    "                            print(f\"The template does not have\" + \" template\" + missing_from_data)\n",
    "\n",
    "                    return False, missing_from_data, missing_from_template\n",
    "            elif type(data[k]) != v:\n",
    "                print(\"======================\")\n",
    "                print(f\"Expected: {k, v}\\nactual: {type(data[k])}\")\n",
    "                print(\"======================\")\n",
    "                return False, missing_from_data, missing_from_template\n",
    "      \n",
    "    return True, missing_from_data, missing_from_template\n",
    "                \n",
    "\n",
    "\n",
    "validate(olia, template, False)"
   ]
  },
  {
   "cell_type": "code",
   "execution_count": 345,
   "metadata": {},
   "outputs": [
    {
     "data": {
      "text/plain": [
       "False"
      ]
     },
     "execution_count": 345,
     "metadata": {},
     "output_type": "execute_result"
    }
   ],
   "source": [
    "bool('')"
   ]
  },
  {
   "cell_type": "code",
   "execution_count": null,
   "metadata": {},
   "outputs": [],
   "source": []
  },
  {
   "cell_type": "code",
   "execution_count": 326,
   "metadata": {},
   "outputs": [
    {
     "ename": "TypeError",
     "evalue": "validate() missing 1 required positional argument: 'is_recursive'",
     "output_type": "error",
     "traceback": [
      "\u001b[1;31m---------------------------------------------------------------------------\u001b[0m",
      "\u001b[1;31mTypeError\u001b[0m                                 Traceback (most recent call last)",
      "\u001b[1;32mc:\\Users\\veace\\Desktop\\Python_DeepDive\\Dictionaries\\sets\\project_1.ipynb Cell 7\u001b[0m line \u001b[0;36m3\n\u001b[0;32m      <a href='vscode-notebook-cell:/c%3A/Users/veace/Desktop/Python_DeepDive/Dictionaries/sets/project_1.ipynb#X14sZmlsZQ%3D%3D?line=0'>1</a>\u001b[0m template \u001b[39m=\u001b[39m {\n\u001b[0;32m      <a href='vscode-notebook-cell:/c%3A/Users/veace/Desktop/Python_DeepDive/Dictionaries/sets/project_1.ipynb#X14sZmlsZQ%3D%3D?line=1'>2</a>\u001b[0m     \u001b[39m'\u001b[39m\u001b[39muser_id\u001b[39m\u001b[39m'\u001b[39m: \u001b[39mint\u001b[39m,\n\u001b[0;32m      <a href='vscode-notebook-cell:/c%3A/Users/veace/Desktop/Python_DeepDive/Dictionaries/sets/project_1.ipynb#X14sZmlsZQ%3D%3D?line=2'>3</a>\u001b[0m     \u001b[39m'\u001b[39m\u001b[39mname\u001b[39m\u001b[39m'\u001b[39m: {\n\u001b[1;32m   (...)\u001b[0m\n\u001b[0;32m     <a href='vscode-notebook-cell:/c%3A/Users/veace/Desktop/Python_DeepDive/Dictionaries/sets/project_1.ipynb#X14sZmlsZQ%3D%3D?line=16'>17</a>\u001b[0m     }\n\u001b[0;32m     <a href='vscode-notebook-cell:/c%3A/Users/veace/Desktop/Python_DeepDive/Dictionaries/sets/project_1.ipynb#X14sZmlsZQ%3D%3D?line=17'>18</a>\u001b[0m }\n\u001b[0;32m     <a href='vscode-notebook-cell:/c%3A/Users/veace/Desktop/Python_DeepDive/Dictionaries/sets/project_1.ipynb#X14sZmlsZQ%3D%3D?line=19'>20</a>\u001b[0m eric \u001b[39m=\u001b[39m {\n\u001b[0;32m     <a href='vscode-notebook-cell:/c%3A/Users/veace/Desktop/Python_DeepDive/Dictionaries/sets/project_1.ipynb#X14sZmlsZQ%3D%3D?line=20'>21</a>\u001b[0m     \u001b[39m'\u001b[39m\u001b[39muser_id\u001b[39m\u001b[39m'\u001b[39m: \u001b[39m101\u001b[39m,\n\u001b[0;32m     <a href='vscode-notebook-cell:/c%3A/Users/veace/Desktop/Python_DeepDive/Dictionaries/sets/project_1.ipynb#X14sZmlsZQ%3D%3D?line=21'>22</a>\u001b[0m     \u001b[39m'\u001b[39m\u001b[39mname\u001b[39m\u001b[39m'\u001b[39m: {\n\u001b[1;32m   (...)\u001b[0m\n\u001b[0;32m     <a href='vscode-notebook-cell:/c%3A/Users/veace/Desktop/Python_DeepDive/Dictionaries/sets/project_1.ipynb#X14sZmlsZQ%3D%3D?line=34'>35</a>\u001b[0m     }\n\u001b[0;32m     <a href='vscode-notebook-cell:/c%3A/Users/veace/Desktop/Python_DeepDive/Dictionaries/sets/project_1.ipynb#X14sZmlsZQ%3D%3D?line=35'>36</a>\u001b[0m }\n\u001b[1;32m---> <a href='vscode-notebook-cell:/c%3A/Users/veace/Desktop/Python_DeepDive/Dictionaries/sets/project_1.ipynb#X14sZmlsZQ%3D%3D?line=37'>38</a>\u001b[0m validate(data\u001b[39m=\u001b[39;49meric, template\u001b[39m=\u001b[39;49mtemplate)\n",
      "\u001b[1;31mTypeError\u001b[0m: validate() missing 1 required positional argument: 'is_recursive'"
     ]
    }
   ],
   "source": [
    "template = {\n",
    "    'user_id': int,\n",
    "    'name': {\n",
    "        'first': str,\n",
    "        'last': str\n",
    "    },\n",
    "    'bio': {\n",
    "        'dob': {\n",
    "            'year': int,\n",
    "            'month': int,\n",
    "            'day': int\n",
    "        },\n",
    "        'birthplace': {\n",
    "            'country': str,\n",
    "            'city': str\n",
    "        }\n",
    "    }\n",
    "}\n",
    "\n",
    "eric = {\n",
    "    'user_id': 101,\n",
    "    'name': {\n",
    "        'first': 'Eric',\n",
    "        'last': 'Idle'\n",
    "    },\n",
    "    'bio': {\n",
    "        'dob': {\n",
    "            'year': 1943,\n",
    "            'month': 3,\n",
    "            'day': 29\n",
    "        },\n",
    "        'birthplace': {\n",
    "            'country': 'United Kingdom'\n",
    "        }\n",
    "    }\n",
    "}\n",
    "\n",
    "validate(data=eric, template=template)"
   ]
  },
  {
   "cell_type": "code",
   "execution_count": null,
   "metadata": {},
   "outputs": [],
   "source": []
  },
  {
   "cell_type": "code",
   "execution_count": null,
   "metadata": {},
   "outputs": [],
   "source": []
  },
  {
   "cell_type": "code",
   "execution_count": 105,
   "metadata": {},
   "outputs": [
    {
     "data": {
      "text/plain": [
       "True"
      ]
     },
     "execution_count": 105,
     "metadata": {},
     "output_type": "execute_result"
    }
   ],
   "source": [
    "template = {\n",
    "    'user_id': int,\n",
    "    'name': {\n",
    "        'first': str,\n",
    "        'last': str\n",
    "    },\n",
    "    'bio': {\n",
    "        'dob': {\n",
    "            'year': int,\n",
    "            'month': int,\n",
    "            'day': int\n",
    "        },\n",
    "        'birthplace': {\n",
    "            'country': str,\n",
    "            'city': str\n",
    "        }\n",
    "    }\n",
    "}\n",
    "\n",
    "john = {\n",
    "    'user_id': 100,\n",
    "    'name': {\n",
    "        'first': 'John',\n",
    "        'last': 'Cleese'\n",
    "    },\n",
    "    'bio': {\n",
    "        'dob': {\n",
    "            'year': 1939,\n",
    "            'month': 11,\n",
    "            'day': 27\n",
    "        },\n",
    "        'birthplace': {\n",
    "            'country': 'United Kingdom',\n",
    "            'city': 'Weston-super-Mare'\n",
    "        }\n",
    "    }\n",
    "}\n",
    "\n",
    "validate(data=john, template=template)"
   ]
  },
  {
   "cell_type": "code",
   "execution_count": null,
   "metadata": {},
   "outputs": [],
   "source": []
  },
  {
   "cell_type": "code",
   "execution_count": null,
   "metadata": {},
   "outputs": [],
   "source": []
  },
  {
   "cell_type": "code",
   "execution_count": 106,
   "metadata": {},
   "outputs": [
    {
     "name": "stdout",
     "output_type": "stream",
     "text": [
      "The following fields are missing from {'city', 'country'}: {'city'}\n"
     ]
    },
    {
     "data": {
      "text/plain": [
       "True"
      ]
     },
     "execution_count": 106,
     "metadata": {},
     "output_type": "execute_result"
    }
   ],
   "source": [
    "template = {\n",
    "    'user_id': int,\n",
    "    'name': {\n",
    "        'first': str,\n",
    "        'last': str\n",
    "    },\n",
    "    'bio': {\n",
    "        'dob': {\n",
    "            'year': int,\n",
    "            'month': int,\n",
    "            'day': int\n",
    "        },\n",
    "        'birthplace': {\n",
    "            'country': str,\n",
    "            'city': str\n",
    "        }\n",
    "    }\n",
    "}\n",
    "\n",
    "eric = {\n",
    "    'user_id': 101,\n",
    "    'name': {\n",
    "        'first': 'Eric',\n",
    "        'last': 'Idle'\n",
    "    },\n",
    "    'bio': {\n",
    "        'dob': {\n",
    "            'year': 1943,\n",
    "            'month': 3,\n",
    "            'day': 29\n",
    "        },\n",
    "        'birthplace': {\n",
    "            'country': 'United Kingdom'\n",
    "        }\n",
    "    }\n",
    "}\n",
    "\n",
    "validate(data=eric, template=template)"
   ]
  },
  {
   "cell_type": "code",
   "execution_count": 107,
   "metadata": {},
   "outputs": [
    {
     "name": "stdout",
     "output_type": "stream",
     "text": [
      "======================\n",
      "Expected: <class 'int'>\n",
      "actual: <class 'str'>\n",
      "======================\n"
     ]
    },
    {
     "data": {
      "text/plain": [
       "True"
      ]
     },
     "execution_count": 107,
     "metadata": {},
     "output_type": "execute_result"
    }
   ],
   "source": [
    "template = {\n",
    "    'user_id': int,\n",
    "    'name': {\n",
    "        'first': str,\n",
    "        'last': str\n",
    "    },\n",
    "    'bio': {\n",
    "        'dob': {\n",
    "            'year': int,\n",
    "            'month': int,\n",
    "            'day': int\n",
    "        },\n",
    "        'birthplace': {\n",
    "            'country': str,\n",
    "            'city': str\n",
    "        }\n",
    "    }\n",
    "}\n",
    "\n",
    "michael = {\n",
    "    'user_id': 102,\n",
    "    'name': {\n",
    "        'first': 'Michael',\n",
    "        'last': 'Palin'\n",
    "    },\n",
    "    'bio': {\n",
    "        'dob': {\n",
    "            'year': 1943,\n",
    "            'month': 'May',\n",
    "            'day': 5\n",
    "        },\n",
    "        'birthplace': {\n",
    "            'country': 'United Kingdom',\n",
    "            'city': 'Sheffield'\n",
    "        }\n",
    "    }\n",
    "}\n",
    "\n",
    "validate(data=michael, template=template)"
   ]
  },
  {
   "cell_type": "code",
   "execution_count": null,
   "metadata": {},
   "outputs": [],
   "source": []
  }
 ],
 "metadata": {
  "kernelspec": {
   "display_name": "Python 3",
   "language": "python",
   "name": "python3"
  },
  "language_info": {
   "codemirror_mode": {
    "name": "ipython",
    "version": 3
   },
   "file_extension": ".py",
   "mimetype": "text/x-python",
   "name": "python",
   "nbconvert_exporter": "python",
   "pygments_lexer": "ipython3",
   "version": "3.11.6"
  }
 },
 "nbformat": 4,
 "nbformat_minor": 2
}
