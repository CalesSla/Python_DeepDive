{
 "cells": [
  {
   "cell_type": "code",
   "execution_count": 1,
   "metadata": {},
   "outputs": [],
   "source": [
    "template = {\n",
    "    'user_id': int,\n",
    "    'name': str,\n",
    "    \"address\": {\n",
    "        \"street\": str,\n",
    "        \"house\": int,\n",
    "        \"location\": {\n",
    "            \"district\": str,\n",
    "            \"idx\": int\n",
    "        }\n",
    "    }\n",
    "}\n",
    "\n",
    "olia = {\n",
    "    \"user_id\": 1,\n",
    "    \"name\": \"olia\",\n",
    "    \"address\": {\n",
    "        \"street\": \"Mircea\",\n",
    "        \"house\": 56,\n",
    "        \"location\": {\n",
    "            \"district\": \"calea\",\n",
    "            # \"idx\": 2043\n",
    "        }\n",
    "    }\n",
    "}"
   ]
  },
  {
   "cell_type": "code",
   "execution_count": 3,
   "metadata": {},
   "outputs": [
    {
     "name": "stdout",
     "output_type": "stream",
     "text": [
      "The following data is missing: template.address.location.idx\n"
     ]
    },
    {
     "data": {
      "text/plain": [
       "(False, '.address.location.idx', '')"
      ]
     },
     "execution_count": 3,
     "metadata": {},
     "output_type": "execute_result"
    }
   ],
   "source": [
    "def validate(data, template, is_recursive, missing_from_data=None, missing_from_template=None):\n",
    "    if missing_from_data is None:\n",
    "        missing_from_data = \"\"\n",
    "    if missing_from_template is None:\n",
    "        missing_from_template = \"\"\n",
    "    \n",
    "    \n",
    "    if data.keys() ^ template.keys() != set():\n",
    "        missing_field = (template.keys() - data.keys())\n",
    "        if missing_field:\n",
    "            missing_from_data += \".\" + missing_field.pop()\n",
    "            if not is_recursive:\n",
    "                print(\"The following data is missing: template\"+missing_from_data)\n",
    "        else:\n",
    "            missing_from_template += \".\" + (data.keys() - template.keys()).pop()\n",
    "            if not is_recursive:\n",
    "                print(f\"The template does not have\" + \" template\"+missing_from_template)\n",
    "                \n",
    "        return False, missing_from_data, missing_from_template\n",
    "\n",
    "    else:\n",
    "        for k, v in template.items():\n",
    "            if isinstance(v, dict):\n",
    "                inter_res, missing_from_data, missing_from_template = validate(data=data[k], template=v, is_recursive=True, missing_from_data=missing_from_data, missing_from_template=missing_from_template)\n",
    "                if not inter_res:\n",
    "                    if missing_from_data:\n",
    "                        missing_from_data = \".\" + k + missing_from_data\n",
    "                    elif missing_from_template:\n",
    "                        missing_from_template = \".\" + k + missing_from_template\n",
    "                    if not is_recursive:\n",
    "                        if missing_from_template:\n",
    "                            print(f\"The template does not have: template\" + missing_from_template)\n",
    "                        \n",
    "                        elif missing_from_data:\n",
    "                            print(\"The following data is missing: template\" + missing_from_data)\n",
    "                            \n",
    "                    return False, missing_from_data, missing_from_template\n",
    "                \n",
    "            elif not isinstance(data[k], v):\n",
    "                print(\"======================\")\n",
    "                print(f\"Expected: {k, v}\\nactual: {k, type(data[k])}\")\n",
    "                print(\"======================\")\n",
    "                return False, missing_from_data, missing_from_template\n",
    "      \n",
    "    return True, missing_from_data, missing_from_template\n",
    "                \n",
    "\n",
    "\n",
    "validate(olia, template, False)"
   ]
  },
  {
   "cell_type": "code",
   "execution_count": null,
   "metadata": {},
   "outputs": [],
   "source": []
  },
  {
   "cell_type": "code",
   "execution_count": null,
   "metadata": {},
   "outputs": [],
   "source": []
  },
  {
   "cell_type": "code",
   "execution_count": 110,
   "metadata": {},
   "outputs": [],
   "source": [
    "class SchemaError(Exception):\n",
    "    pass\n",
    "\n",
    "class SchemaKeyMismatch(SchemaError):\n",
    "    pass\n",
    "\n",
    "class SchemaTypeMismatch(SchemaError, TypeError):\n",
    "    pass"
   ]
  },
  {
   "cell_type": "code",
   "execution_count": 129,
   "metadata": {},
   "outputs": [],
   "source": [
    "template = {\n",
    "    'user_id': int,\n",
    "    'name': str,\n",
    "    \"address\": {\n",
    "        \"street\": str,\n",
    "        \"house\": int,\n",
    "        \"location\": {\n",
    "            \"district\": str,\n",
    "            \"idx\": int\n",
    "        }\n",
    "    }\n",
    "}\n",
    "\n",
    "olia = {\n",
    "    \"user_id\": 1,\n",
    "    \"name\": 'olga',\n",
    "    \"address\": {\n",
    "        \"street\": \"Mircea\",\n",
    "        \"house\": 56,\n",
    "        \"location\": {\n",
    "            \"district\": \"calea\",\n",
    "            \"idx\": \"hey\"\n",
    "        }\n",
    "    }\n",
    "}"
   ]
  },
  {
   "cell_type": "code",
   "execution_count": 142,
   "metadata": {},
   "outputs": [],
   "source": [
    "def validate(data, template, path=\".\"):\n",
    "\n",
    "    if data.keys() ^ template.keys() != set():\n",
    "        if (data.keys() - template.keys()):\n",
    "            raise SchemaKeyMismatch(f\"Key is not supported: {path}{(data.keys() - template.keys()).pop()}\")\n",
    "        else:\n",
    "            raise SchemaKeyMismatch(f\"Missing key: {path}{(template.keys() - data.keys()).pop()}\")\n",
    "            \n",
    "    else:\n",
    "        for k, v in template.items():\n",
    "            if isinstance(v, dict):\n",
    "                sub_path = path + str(k) + \".\"\n",
    "                validate(data[k], template[k], sub_path)\n",
    "\n",
    "            elif not isinstance(data[k], v):\n",
    "                raise SchemaTypeMismatch(f\"\\nExpected: {path}{k}: {v}\\nActual:   {path}{k}: {type(data[k])}   ('{data[k]}')\")"
   ]
  },
  {
   "cell_type": "code",
   "execution_count": 143,
   "metadata": {},
   "outputs": [
    {
     "ename": "SchemaTypeMismatch",
     "evalue": "\nExpected: .address.location.idx: <class 'int'>\nActual:   .address.location.idx: <class 'str'>   ('hey')",
     "output_type": "error",
     "traceback": [
      "\u001b[1;31m---------------------------------------------------------------------------\u001b[0m",
      "\u001b[1;31mSchemaTypeMismatch\u001b[0m                        Traceback (most recent call last)",
      "\u001b[1;32mc:\\Users\\User\\Desktop\\Python_DeepDive\\Dictionaries\\sets\\project_1.ipynb Cell 8\u001b[0m line \u001b[0;36m1\n\u001b[1;32m----> <a href='vscode-notebook-cell:/c%3A/Users/User/Desktop/Python_DeepDive/Dictionaries/sets/project_1.ipynb#X21sZmlsZQ%3D%3D?line=0'>1</a>\u001b[0m validate(olia, template)\n",
      "\u001b[1;32mc:\\Users\\User\\Desktop\\Python_DeepDive\\Dictionaries\\sets\\project_1.ipynb Cell 8\u001b[0m line \u001b[0;36m1\n\u001b[0;32m     <a href='vscode-notebook-cell:/c%3A/Users/User/Desktop/Python_DeepDive/Dictionaries/sets/project_1.ipynb#X21sZmlsZQ%3D%3D?line=10'>11</a>\u001b[0m \u001b[39mif\u001b[39;00m \u001b[39misinstance\u001b[39m(v, \u001b[39mdict\u001b[39m):\n\u001b[0;32m     <a href='vscode-notebook-cell:/c%3A/Users/User/Desktop/Python_DeepDive/Dictionaries/sets/project_1.ipynb#X21sZmlsZQ%3D%3D?line=11'>12</a>\u001b[0m     sub_path \u001b[39m=\u001b[39m path \u001b[39m+\u001b[39m \u001b[39mstr\u001b[39m(k) \u001b[39m+\u001b[39m \u001b[39m\"\u001b[39m\u001b[39m.\u001b[39m\u001b[39m\"\u001b[39m\n\u001b[1;32m---> <a href='vscode-notebook-cell:/c%3A/Users/User/Desktop/Python_DeepDive/Dictionaries/sets/project_1.ipynb#X21sZmlsZQ%3D%3D?line=12'>13</a>\u001b[0m     validate(data[k], template[k], sub_path)\n\u001b[0;32m     <a href='vscode-notebook-cell:/c%3A/Users/User/Desktop/Python_DeepDive/Dictionaries/sets/project_1.ipynb#X21sZmlsZQ%3D%3D?line=14'>15</a>\u001b[0m \u001b[39melif\u001b[39;00m \u001b[39mnot\u001b[39;00m \u001b[39misinstance\u001b[39m(data[k], v):\n\u001b[0;32m     <a href='vscode-notebook-cell:/c%3A/Users/User/Desktop/Python_DeepDive/Dictionaries/sets/project_1.ipynb#X21sZmlsZQ%3D%3D?line=15'>16</a>\u001b[0m     \u001b[39mraise\u001b[39;00m SchemaTypeMismatch(\u001b[39mf\u001b[39m\u001b[39m\"\u001b[39m\u001b[39m\\n\u001b[39;00m\u001b[39mExpected: \u001b[39m\u001b[39m{\u001b[39;00mpath\u001b[39m}\u001b[39;00m\u001b[39m{\u001b[39;00mk\u001b[39m}\u001b[39;00m\u001b[39m: \u001b[39m\u001b[39m{\u001b[39;00mv\u001b[39m}\u001b[39;00m\u001b[39m\\n\u001b[39;00m\u001b[39mActual:   \u001b[39m\u001b[39m{\u001b[39;00mpath\u001b[39m}\u001b[39;00m\u001b[39m{\u001b[39;00mk\u001b[39m}\u001b[39;00m\u001b[39m: \u001b[39m\u001b[39m{\u001b[39;00m\u001b[39mtype\u001b[39m(data[k])\u001b[39m}\u001b[39;00m\u001b[39m   (\u001b[39m\u001b[39m'\u001b[39m\u001b[39m{\u001b[39;00mdata[k]\u001b[39m}\u001b[39;00m\u001b[39m'\u001b[39m\u001b[39m)\u001b[39m\u001b[39m\"\u001b[39m)\n",
      "\u001b[1;32mc:\\Users\\User\\Desktop\\Python_DeepDive\\Dictionaries\\sets\\project_1.ipynb Cell 8\u001b[0m line \u001b[0;36m1\n\u001b[0;32m     <a href='vscode-notebook-cell:/c%3A/Users/User/Desktop/Python_DeepDive/Dictionaries/sets/project_1.ipynb#X21sZmlsZQ%3D%3D?line=10'>11</a>\u001b[0m \u001b[39mif\u001b[39;00m \u001b[39misinstance\u001b[39m(v, \u001b[39mdict\u001b[39m):\n\u001b[0;32m     <a href='vscode-notebook-cell:/c%3A/Users/User/Desktop/Python_DeepDive/Dictionaries/sets/project_1.ipynb#X21sZmlsZQ%3D%3D?line=11'>12</a>\u001b[0m     sub_path \u001b[39m=\u001b[39m path \u001b[39m+\u001b[39m \u001b[39mstr\u001b[39m(k) \u001b[39m+\u001b[39m \u001b[39m\"\u001b[39m\u001b[39m.\u001b[39m\u001b[39m\"\u001b[39m\n\u001b[1;32m---> <a href='vscode-notebook-cell:/c%3A/Users/User/Desktop/Python_DeepDive/Dictionaries/sets/project_1.ipynb#X21sZmlsZQ%3D%3D?line=12'>13</a>\u001b[0m     validate(data[k], template[k], sub_path)\n\u001b[0;32m     <a href='vscode-notebook-cell:/c%3A/Users/User/Desktop/Python_DeepDive/Dictionaries/sets/project_1.ipynb#X21sZmlsZQ%3D%3D?line=14'>15</a>\u001b[0m \u001b[39melif\u001b[39;00m \u001b[39mnot\u001b[39;00m \u001b[39misinstance\u001b[39m(data[k], v):\n\u001b[0;32m     <a href='vscode-notebook-cell:/c%3A/Users/User/Desktop/Python_DeepDive/Dictionaries/sets/project_1.ipynb#X21sZmlsZQ%3D%3D?line=15'>16</a>\u001b[0m     \u001b[39mraise\u001b[39;00m SchemaTypeMismatch(\u001b[39mf\u001b[39m\u001b[39m\"\u001b[39m\u001b[39m\\n\u001b[39;00m\u001b[39mExpected: \u001b[39m\u001b[39m{\u001b[39;00mpath\u001b[39m}\u001b[39;00m\u001b[39m{\u001b[39;00mk\u001b[39m}\u001b[39;00m\u001b[39m: \u001b[39m\u001b[39m{\u001b[39;00mv\u001b[39m}\u001b[39;00m\u001b[39m\\n\u001b[39;00m\u001b[39mActual:   \u001b[39m\u001b[39m{\u001b[39;00mpath\u001b[39m}\u001b[39;00m\u001b[39m{\u001b[39;00mk\u001b[39m}\u001b[39;00m\u001b[39m: \u001b[39m\u001b[39m{\u001b[39;00m\u001b[39mtype\u001b[39m(data[k])\u001b[39m}\u001b[39;00m\u001b[39m   (\u001b[39m\u001b[39m'\u001b[39m\u001b[39m{\u001b[39;00mdata[k]\u001b[39m}\u001b[39;00m\u001b[39m'\u001b[39m\u001b[39m)\u001b[39m\u001b[39m\"\u001b[39m)\n",
      "\u001b[1;32mc:\\Users\\User\\Desktop\\Python_DeepDive\\Dictionaries\\sets\\project_1.ipynb Cell 8\u001b[0m line \u001b[0;36m1\n\u001b[0;32m     <a href='vscode-notebook-cell:/c%3A/Users/User/Desktop/Python_DeepDive/Dictionaries/sets/project_1.ipynb#X21sZmlsZQ%3D%3D?line=12'>13</a>\u001b[0m     validate(data[k], template[k], sub_path)\n\u001b[0;32m     <a href='vscode-notebook-cell:/c%3A/Users/User/Desktop/Python_DeepDive/Dictionaries/sets/project_1.ipynb#X21sZmlsZQ%3D%3D?line=14'>15</a>\u001b[0m \u001b[39melif\u001b[39;00m \u001b[39mnot\u001b[39;00m \u001b[39misinstance\u001b[39m(data[k], v):\n\u001b[1;32m---> <a href='vscode-notebook-cell:/c%3A/Users/User/Desktop/Python_DeepDive/Dictionaries/sets/project_1.ipynb#X21sZmlsZQ%3D%3D?line=15'>16</a>\u001b[0m     \u001b[39mraise\u001b[39;00m SchemaTypeMismatch(\u001b[39mf\u001b[39m\u001b[39m\"\u001b[39m\u001b[39m\\n\u001b[39;00m\u001b[39mExpected: \u001b[39m\u001b[39m{\u001b[39;00mpath\u001b[39m}\u001b[39;00m\u001b[39m{\u001b[39;00mk\u001b[39m}\u001b[39;00m\u001b[39m: \u001b[39m\u001b[39m{\u001b[39;00mv\u001b[39m}\u001b[39;00m\u001b[39m\\n\u001b[39;00m\u001b[39mActual:   \u001b[39m\u001b[39m{\u001b[39;00mpath\u001b[39m}\u001b[39;00m\u001b[39m{\u001b[39;00mk\u001b[39m}\u001b[39;00m\u001b[39m: \u001b[39m\u001b[39m{\u001b[39;00m\u001b[39mtype\u001b[39m(data[k])\u001b[39m}\u001b[39;00m\u001b[39m   (\u001b[39m\u001b[39m'\u001b[39m\u001b[39m{\u001b[39;00mdata[k]\u001b[39m}\u001b[39;00m\u001b[39m'\u001b[39m\u001b[39m)\u001b[39m\u001b[39m\"\u001b[39m)\n",
      "\u001b[1;31mSchemaTypeMismatch\u001b[0m: \nExpected: .address.location.idx: <class 'int'>\nActual:   .address.location.idx: <class 'str'>   ('hey')"
     ]
    }
   ],
   "source": [
    "validate(olia, template)"
   ]
  },
  {
   "cell_type": "code",
   "execution_count": null,
   "metadata": {},
   "outputs": [],
   "source": []
  },
  {
   "cell_type": "code",
   "execution_count": null,
   "metadata": {},
   "outputs": [],
   "source": []
  },
  {
   "cell_type": "code",
   "execution_count": null,
   "metadata": {},
   "outputs": [],
   "source": []
  },
  {
   "cell_type": "code",
   "execution_count": 144,
   "metadata": {},
   "outputs": [
    {
     "ename": "SchemaKeyMismatch",
     "evalue": "Missing key: .bio.birthplace.city",
     "output_type": "error",
     "traceback": [
      "\u001b[1;31m---------------------------------------------------------------------------\u001b[0m",
      "\u001b[1;31mSchemaKeyMismatch\u001b[0m                         Traceback (most recent call last)",
      "\u001b[1;32mc:\\Users\\User\\Desktop\\Python_DeepDive\\Dictionaries\\sets\\project_1.ipynb Cell 12\u001b[0m line \u001b[0;36m3\n\u001b[0;32m      <a href='vscode-notebook-cell:/c%3A/Users/User/Desktop/Python_DeepDive/Dictionaries/sets/project_1.ipynb#W6sZmlsZQ%3D%3D?line=0'>1</a>\u001b[0m template \u001b[39m=\u001b[39m {\n\u001b[0;32m      <a href='vscode-notebook-cell:/c%3A/Users/User/Desktop/Python_DeepDive/Dictionaries/sets/project_1.ipynb#W6sZmlsZQ%3D%3D?line=1'>2</a>\u001b[0m     \u001b[39m'\u001b[39m\u001b[39muser_id\u001b[39m\u001b[39m'\u001b[39m: \u001b[39mint\u001b[39m,\n\u001b[0;32m      <a href='vscode-notebook-cell:/c%3A/Users/User/Desktop/Python_DeepDive/Dictionaries/sets/project_1.ipynb#W6sZmlsZQ%3D%3D?line=2'>3</a>\u001b[0m     \u001b[39m'\u001b[39m\u001b[39mname\u001b[39m\u001b[39m'\u001b[39m: {\n\u001b[1;32m   (...)\u001b[0m\n\u001b[0;32m     <a href='vscode-notebook-cell:/c%3A/Users/User/Desktop/Python_DeepDive/Dictionaries/sets/project_1.ipynb#W6sZmlsZQ%3D%3D?line=16'>17</a>\u001b[0m     }\n\u001b[0;32m     <a href='vscode-notebook-cell:/c%3A/Users/User/Desktop/Python_DeepDive/Dictionaries/sets/project_1.ipynb#W6sZmlsZQ%3D%3D?line=17'>18</a>\u001b[0m }\n\u001b[0;32m     <a href='vscode-notebook-cell:/c%3A/Users/User/Desktop/Python_DeepDive/Dictionaries/sets/project_1.ipynb#W6sZmlsZQ%3D%3D?line=19'>20</a>\u001b[0m eric \u001b[39m=\u001b[39m {\n\u001b[0;32m     <a href='vscode-notebook-cell:/c%3A/Users/User/Desktop/Python_DeepDive/Dictionaries/sets/project_1.ipynb#W6sZmlsZQ%3D%3D?line=20'>21</a>\u001b[0m     \u001b[39m'\u001b[39m\u001b[39muser_id\u001b[39m\u001b[39m'\u001b[39m: \u001b[39m101\u001b[39m,\n\u001b[0;32m     <a href='vscode-notebook-cell:/c%3A/Users/User/Desktop/Python_DeepDive/Dictionaries/sets/project_1.ipynb#W6sZmlsZQ%3D%3D?line=21'>22</a>\u001b[0m     \u001b[39m'\u001b[39m\u001b[39mname\u001b[39m\u001b[39m'\u001b[39m: {\n\u001b[1;32m   (...)\u001b[0m\n\u001b[0;32m     <a href='vscode-notebook-cell:/c%3A/Users/User/Desktop/Python_DeepDive/Dictionaries/sets/project_1.ipynb#W6sZmlsZQ%3D%3D?line=34'>35</a>\u001b[0m     }\n\u001b[0;32m     <a href='vscode-notebook-cell:/c%3A/Users/User/Desktop/Python_DeepDive/Dictionaries/sets/project_1.ipynb#W6sZmlsZQ%3D%3D?line=35'>36</a>\u001b[0m }\n\u001b[1;32m---> <a href='vscode-notebook-cell:/c%3A/Users/User/Desktop/Python_DeepDive/Dictionaries/sets/project_1.ipynb#W6sZmlsZQ%3D%3D?line=37'>38</a>\u001b[0m validate(data\u001b[39m=\u001b[39;49meric, template\u001b[39m=\u001b[39;49mtemplate)\n",
      "\u001b[1;32mc:\\Users\\User\\Desktop\\Python_DeepDive\\Dictionaries\\sets\\project_1.ipynb Cell 12\u001b[0m line \u001b[0;36m1\n\u001b[0;32m     <a href='vscode-notebook-cell:/c%3A/Users/User/Desktop/Python_DeepDive/Dictionaries/sets/project_1.ipynb#W6sZmlsZQ%3D%3D?line=10'>11</a>\u001b[0m \u001b[39mif\u001b[39;00m \u001b[39misinstance\u001b[39m(v, \u001b[39mdict\u001b[39m):\n\u001b[0;32m     <a href='vscode-notebook-cell:/c%3A/Users/User/Desktop/Python_DeepDive/Dictionaries/sets/project_1.ipynb#W6sZmlsZQ%3D%3D?line=11'>12</a>\u001b[0m     sub_path \u001b[39m=\u001b[39m path \u001b[39m+\u001b[39m \u001b[39mstr\u001b[39m(k) \u001b[39m+\u001b[39m \u001b[39m\"\u001b[39m\u001b[39m.\u001b[39m\u001b[39m\"\u001b[39m\n\u001b[1;32m---> <a href='vscode-notebook-cell:/c%3A/Users/User/Desktop/Python_DeepDive/Dictionaries/sets/project_1.ipynb#W6sZmlsZQ%3D%3D?line=12'>13</a>\u001b[0m     validate(data[k], template[k], sub_path)\n\u001b[0;32m     <a href='vscode-notebook-cell:/c%3A/Users/User/Desktop/Python_DeepDive/Dictionaries/sets/project_1.ipynb#W6sZmlsZQ%3D%3D?line=14'>15</a>\u001b[0m \u001b[39melif\u001b[39;00m \u001b[39mnot\u001b[39;00m \u001b[39misinstance\u001b[39m(data[k], v):\n\u001b[0;32m     <a href='vscode-notebook-cell:/c%3A/Users/User/Desktop/Python_DeepDive/Dictionaries/sets/project_1.ipynb#W6sZmlsZQ%3D%3D?line=15'>16</a>\u001b[0m     \u001b[39mraise\u001b[39;00m SchemaTypeMismatch(\u001b[39mf\u001b[39m\u001b[39m\"\u001b[39m\u001b[39m\\n\u001b[39;00m\u001b[39mExpected: \u001b[39m\u001b[39m{\u001b[39;00mpath\u001b[39m}\u001b[39;00m\u001b[39m{\u001b[39;00mk\u001b[39m}\u001b[39;00m\u001b[39m: \u001b[39m\u001b[39m{\u001b[39;00mv\u001b[39m}\u001b[39;00m\u001b[39m\\n\u001b[39;00m\u001b[39mActual:   \u001b[39m\u001b[39m{\u001b[39;00mpath\u001b[39m}\u001b[39;00m\u001b[39m{\u001b[39;00mk\u001b[39m}\u001b[39;00m\u001b[39m: \u001b[39m\u001b[39m{\u001b[39;00m\u001b[39mtype\u001b[39m(data[k])\u001b[39m}\u001b[39;00m\u001b[39m   (\u001b[39m\u001b[39m'\u001b[39m\u001b[39m{\u001b[39;00mdata[k]\u001b[39m}\u001b[39;00m\u001b[39m'\u001b[39m\u001b[39m)\u001b[39m\u001b[39m\"\u001b[39m)\n",
      "\u001b[1;32mc:\\Users\\User\\Desktop\\Python_DeepDive\\Dictionaries\\sets\\project_1.ipynb Cell 12\u001b[0m line \u001b[0;36m1\n\u001b[0;32m     <a href='vscode-notebook-cell:/c%3A/Users/User/Desktop/Python_DeepDive/Dictionaries/sets/project_1.ipynb#W6sZmlsZQ%3D%3D?line=10'>11</a>\u001b[0m \u001b[39mif\u001b[39;00m \u001b[39misinstance\u001b[39m(v, \u001b[39mdict\u001b[39m):\n\u001b[0;32m     <a href='vscode-notebook-cell:/c%3A/Users/User/Desktop/Python_DeepDive/Dictionaries/sets/project_1.ipynb#W6sZmlsZQ%3D%3D?line=11'>12</a>\u001b[0m     sub_path \u001b[39m=\u001b[39m path \u001b[39m+\u001b[39m \u001b[39mstr\u001b[39m(k) \u001b[39m+\u001b[39m \u001b[39m\"\u001b[39m\u001b[39m.\u001b[39m\u001b[39m\"\u001b[39m\n\u001b[1;32m---> <a href='vscode-notebook-cell:/c%3A/Users/User/Desktop/Python_DeepDive/Dictionaries/sets/project_1.ipynb#W6sZmlsZQ%3D%3D?line=12'>13</a>\u001b[0m     validate(data[k], template[k], sub_path)\n\u001b[0;32m     <a href='vscode-notebook-cell:/c%3A/Users/User/Desktop/Python_DeepDive/Dictionaries/sets/project_1.ipynb#W6sZmlsZQ%3D%3D?line=14'>15</a>\u001b[0m \u001b[39melif\u001b[39;00m \u001b[39mnot\u001b[39;00m \u001b[39misinstance\u001b[39m(data[k], v):\n\u001b[0;32m     <a href='vscode-notebook-cell:/c%3A/Users/User/Desktop/Python_DeepDive/Dictionaries/sets/project_1.ipynb#W6sZmlsZQ%3D%3D?line=15'>16</a>\u001b[0m     \u001b[39mraise\u001b[39;00m SchemaTypeMismatch(\u001b[39mf\u001b[39m\u001b[39m\"\u001b[39m\u001b[39m\\n\u001b[39;00m\u001b[39mExpected: \u001b[39m\u001b[39m{\u001b[39;00mpath\u001b[39m}\u001b[39;00m\u001b[39m{\u001b[39;00mk\u001b[39m}\u001b[39;00m\u001b[39m: \u001b[39m\u001b[39m{\u001b[39;00mv\u001b[39m}\u001b[39;00m\u001b[39m\\n\u001b[39;00m\u001b[39mActual:   \u001b[39m\u001b[39m{\u001b[39;00mpath\u001b[39m}\u001b[39;00m\u001b[39m{\u001b[39;00mk\u001b[39m}\u001b[39;00m\u001b[39m: \u001b[39m\u001b[39m{\u001b[39;00m\u001b[39mtype\u001b[39m(data[k])\u001b[39m}\u001b[39;00m\u001b[39m   (\u001b[39m\u001b[39m'\u001b[39m\u001b[39m{\u001b[39;00mdata[k]\u001b[39m}\u001b[39;00m\u001b[39m'\u001b[39m\u001b[39m)\u001b[39m\u001b[39m\"\u001b[39m)\n",
      "\u001b[1;32mc:\\Users\\User\\Desktop\\Python_DeepDive\\Dictionaries\\sets\\project_1.ipynb Cell 12\u001b[0m line \u001b[0;36m7\n\u001b[0;32m      <a href='vscode-notebook-cell:/c%3A/Users/User/Desktop/Python_DeepDive/Dictionaries/sets/project_1.ipynb#W6sZmlsZQ%3D%3D?line=4'>5</a>\u001b[0m         \u001b[39mraise\u001b[39;00m SchemaKeyMismatch(\u001b[39mf\u001b[39m\u001b[39m\"\u001b[39m\u001b[39mKey is not supported: \u001b[39m\u001b[39m{\u001b[39;00mpath\u001b[39m}\u001b[39;00m\u001b[39m{\u001b[39;00m(data\u001b[39m.\u001b[39mkeys()\u001b[39m \u001b[39m\u001b[39m-\u001b[39m\u001b[39m \u001b[39mtemplate\u001b[39m.\u001b[39mkeys())\u001b[39m.\u001b[39mpop()\u001b[39m}\u001b[39;00m\u001b[39m\"\u001b[39m)\n\u001b[0;32m      <a href='vscode-notebook-cell:/c%3A/Users/User/Desktop/Python_DeepDive/Dictionaries/sets/project_1.ipynb#W6sZmlsZQ%3D%3D?line=5'>6</a>\u001b[0m     \u001b[39melse\u001b[39;00m:\n\u001b[1;32m----> <a href='vscode-notebook-cell:/c%3A/Users/User/Desktop/Python_DeepDive/Dictionaries/sets/project_1.ipynb#W6sZmlsZQ%3D%3D?line=6'>7</a>\u001b[0m         \u001b[39mraise\u001b[39;00m SchemaKeyMismatch(\u001b[39mf\u001b[39m\u001b[39m\"\u001b[39m\u001b[39mMissing key: \u001b[39m\u001b[39m{\u001b[39;00mpath\u001b[39m}\u001b[39;00m\u001b[39m{\u001b[39;00m(template\u001b[39m.\u001b[39mkeys()\u001b[39m \u001b[39m\u001b[39m-\u001b[39m\u001b[39m \u001b[39mdata\u001b[39m.\u001b[39mkeys())\u001b[39m.\u001b[39mpop()\u001b[39m}\u001b[39;00m\u001b[39m\"\u001b[39m)\n\u001b[0;32m      <a href='vscode-notebook-cell:/c%3A/Users/User/Desktop/Python_DeepDive/Dictionaries/sets/project_1.ipynb#W6sZmlsZQ%3D%3D?line=8'>9</a>\u001b[0m \u001b[39melse\u001b[39;00m:\n\u001b[0;32m     <a href='vscode-notebook-cell:/c%3A/Users/User/Desktop/Python_DeepDive/Dictionaries/sets/project_1.ipynb#W6sZmlsZQ%3D%3D?line=9'>10</a>\u001b[0m     \u001b[39mfor\u001b[39;00m k, v \u001b[39min\u001b[39;00m template\u001b[39m.\u001b[39mitems():\n",
      "\u001b[1;31mSchemaKeyMismatch\u001b[0m: Missing key: .bio.birthplace.city"
     ]
    }
   ],
   "source": [
    "template = {\n",
    "    'user_id': int,\n",
    "    'name': {\n",
    "        'first': str,\n",
    "        'last': str\n",
    "    },\n",
    "    'bio': {\n",
    "        'dob': {\n",
    "            'year': int,\n",
    "            'month': int,\n",
    "            'day': int\n",
    "        },\n",
    "        'birthplace': {\n",
    "            'country': str,\n",
    "            'city': str\n",
    "        }\n",
    "    }\n",
    "}\n",
    "\n",
    "eric = {\n",
    "    'user_id': 101,\n",
    "    'name': {\n",
    "        'first': 'Eric',\n",
    "        'last': 'Idle'\n",
    "    },\n",
    "    'bio': {\n",
    "        'dob': {\n",
    "            'year': 1943,\n",
    "            'month': 3,\n",
    "            'day': 29\n",
    "        },\n",
    "        'birthplace': {\n",
    "            'country': 'United Kingdom'\n",
    "        }\n",
    "    }\n",
    "}\n",
    "\n",
    "validate(data=eric, template=template)"
   ]
  },
  {
   "cell_type": "code",
   "execution_count": null,
   "metadata": {},
   "outputs": [],
   "source": []
  },
  {
   "cell_type": "code",
   "execution_count": null,
   "metadata": {},
   "outputs": [],
   "source": []
  },
  {
   "cell_type": "code",
   "execution_count": 145,
   "metadata": {},
   "outputs": [],
   "source": [
    "template = {\n",
    "    'user_id': int,\n",
    "    'name': {\n",
    "        'first': str,\n",
    "        'last': str\n",
    "    },\n",
    "    'bio': {\n",
    "        'dob': {\n",
    "            'year': int,\n",
    "            'month': int,\n",
    "            'day': int\n",
    "        },\n",
    "        'birthplace': {\n",
    "            'country': str,\n",
    "            'city': str\n",
    "        }\n",
    "    }\n",
    "}\n",
    "\n",
    "john = {\n",
    "    'user_id': 100,\n",
    "    'name': {\n",
    "        'first': 'John',\n",
    "        'last': 'Cleese'\n",
    "    },\n",
    "    'bio': {\n",
    "        'dob': {\n",
    "            'year': 1939,\n",
    "            'month': 11,\n",
    "            'day': 27\n",
    "        },\n",
    "        'birthplace': {\n",
    "            'country': 'United Kingdom',\n",
    "            'city': 'Weston-super-Mare'\n",
    "        }\n",
    "    }\n",
    "}\n",
    "\n",
    "validate(data=john, template=template)"
   ]
  },
  {
   "cell_type": "code",
   "execution_count": null,
   "metadata": {},
   "outputs": [],
   "source": []
  },
  {
   "cell_type": "code",
   "execution_count": null,
   "metadata": {},
   "outputs": [],
   "source": []
  },
  {
   "cell_type": "code",
   "execution_count": 146,
   "metadata": {},
   "outputs": [
    {
     "ename": "SchemaKeyMismatch",
     "evalue": "Missing key: .bio.birthplace.city",
     "output_type": "error",
     "traceback": [
      "\u001b[1;31m---------------------------------------------------------------------------\u001b[0m",
      "\u001b[1;31mSchemaKeyMismatch\u001b[0m                         Traceback (most recent call last)",
      "\u001b[1;32mc:\\Users\\User\\Desktop\\Python_DeepDive\\Dictionaries\\sets\\project_1.ipynb Cell 18\u001b[0m line \u001b[0;36m3\n\u001b[0;32m      <a href='vscode-notebook-cell:/c%3A/Users/User/Desktop/Python_DeepDive/Dictionaries/sets/project_1.ipynb#X15sZmlsZQ%3D%3D?line=0'>1</a>\u001b[0m template \u001b[39m=\u001b[39m {\n\u001b[0;32m      <a href='vscode-notebook-cell:/c%3A/Users/User/Desktop/Python_DeepDive/Dictionaries/sets/project_1.ipynb#X15sZmlsZQ%3D%3D?line=1'>2</a>\u001b[0m     \u001b[39m'\u001b[39m\u001b[39muser_id\u001b[39m\u001b[39m'\u001b[39m: \u001b[39mint\u001b[39m,\n\u001b[0;32m      <a href='vscode-notebook-cell:/c%3A/Users/User/Desktop/Python_DeepDive/Dictionaries/sets/project_1.ipynb#X15sZmlsZQ%3D%3D?line=2'>3</a>\u001b[0m     \u001b[39m'\u001b[39m\u001b[39mname\u001b[39m\u001b[39m'\u001b[39m: {\n\u001b[1;32m   (...)\u001b[0m\n\u001b[0;32m     <a href='vscode-notebook-cell:/c%3A/Users/User/Desktop/Python_DeepDive/Dictionaries/sets/project_1.ipynb#X15sZmlsZQ%3D%3D?line=16'>17</a>\u001b[0m     }\n\u001b[0;32m     <a href='vscode-notebook-cell:/c%3A/Users/User/Desktop/Python_DeepDive/Dictionaries/sets/project_1.ipynb#X15sZmlsZQ%3D%3D?line=17'>18</a>\u001b[0m }\n\u001b[0;32m     <a href='vscode-notebook-cell:/c%3A/Users/User/Desktop/Python_DeepDive/Dictionaries/sets/project_1.ipynb#X15sZmlsZQ%3D%3D?line=19'>20</a>\u001b[0m eric \u001b[39m=\u001b[39m {\n\u001b[0;32m     <a href='vscode-notebook-cell:/c%3A/Users/User/Desktop/Python_DeepDive/Dictionaries/sets/project_1.ipynb#X15sZmlsZQ%3D%3D?line=20'>21</a>\u001b[0m     \u001b[39m'\u001b[39m\u001b[39muser_id\u001b[39m\u001b[39m'\u001b[39m: \u001b[39m101\u001b[39m,\n\u001b[0;32m     <a href='vscode-notebook-cell:/c%3A/Users/User/Desktop/Python_DeepDive/Dictionaries/sets/project_1.ipynb#X15sZmlsZQ%3D%3D?line=21'>22</a>\u001b[0m     \u001b[39m'\u001b[39m\u001b[39mname\u001b[39m\u001b[39m'\u001b[39m: {\n\u001b[1;32m   (...)\u001b[0m\n\u001b[0;32m     <a href='vscode-notebook-cell:/c%3A/Users/User/Desktop/Python_DeepDive/Dictionaries/sets/project_1.ipynb#X15sZmlsZQ%3D%3D?line=34'>35</a>\u001b[0m     }\n\u001b[0;32m     <a href='vscode-notebook-cell:/c%3A/Users/User/Desktop/Python_DeepDive/Dictionaries/sets/project_1.ipynb#X15sZmlsZQ%3D%3D?line=35'>36</a>\u001b[0m }\n\u001b[1;32m---> <a href='vscode-notebook-cell:/c%3A/Users/User/Desktop/Python_DeepDive/Dictionaries/sets/project_1.ipynb#X15sZmlsZQ%3D%3D?line=37'>38</a>\u001b[0m validate(data\u001b[39m=\u001b[39;49meric, template\u001b[39m=\u001b[39;49mtemplate)\n",
      "\u001b[1;32mc:\\Users\\User\\Desktop\\Python_DeepDive\\Dictionaries\\sets\\project_1.ipynb Cell 18\u001b[0m line \u001b[0;36m1\n\u001b[0;32m     <a href='vscode-notebook-cell:/c%3A/Users/User/Desktop/Python_DeepDive/Dictionaries/sets/project_1.ipynb#X15sZmlsZQ%3D%3D?line=10'>11</a>\u001b[0m \u001b[39mif\u001b[39;00m \u001b[39misinstance\u001b[39m(v, \u001b[39mdict\u001b[39m):\n\u001b[0;32m     <a href='vscode-notebook-cell:/c%3A/Users/User/Desktop/Python_DeepDive/Dictionaries/sets/project_1.ipynb#X15sZmlsZQ%3D%3D?line=11'>12</a>\u001b[0m     sub_path \u001b[39m=\u001b[39m path \u001b[39m+\u001b[39m \u001b[39mstr\u001b[39m(k) \u001b[39m+\u001b[39m \u001b[39m\"\u001b[39m\u001b[39m.\u001b[39m\u001b[39m\"\u001b[39m\n\u001b[1;32m---> <a href='vscode-notebook-cell:/c%3A/Users/User/Desktop/Python_DeepDive/Dictionaries/sets/project_1.ipynb#X15sZmlsZQ%3D%3D?line=12'>13</a>\u001b[0m     validate(data[k], template[k], sub_path)\n\u001b[0;32m     <a href='vscode-notebook-cell:/c%3A/Users/User/Desktop/Python_DeepDive/Dictionaries/sets/project_1.ipynb#X15sZmlsZQ%3D%3D?line=14'>15</a>\u001b[0m \u001b[39melif\u001b[39;00m \u001b[39mnot\u001b[39;00m \u001b[39misinstance\u001b[39m(data[k], v):\n\u001b[0;32m     <a href='vscode-notebook-cell:/c%3A/Users/User/Desktop/Python_DeepDive/Dictionaries/sets/project_1.ipynb#X15sZmlsZQ%3D%3D?line=15'>16</a>\u001b[0m     \u001b[39mraise\u001b[39;00m SchemaTypeMismatch(\u001b[39mf\u001b[39m\u001b[39m\"\u001b[39m\u001b[39m\\n\u001b[39;00m\u001b[39mExpected: \u001b[39m\u001b[39m{\u001b[39;00mpath\u001b[39m}\u001b[39;00m\u001b[39m{\u001b[39;00mk\u001b[39m}\u001b[39;00m\u001b[39m: \u001b[39m\u001b[39m{\u001b[39;00mv\u001b[39m}\u001b[39;00m\u001b[39m\\n\u001b[39;00m\u001b[39mActual:   \u001b[39m\u001b[39m{\u001b[39;00mpath\u001b[39m}\u001b[39;00m\u001b[39m{\u001b[39;00mk\u001b[39m}\u001b[39;00m\u001b[39m: \u001b[39m\u001b[39m{\u001b[39;00m\u001b[39mtype\u001b[39m(data[k])\u001b[39m}\u001b[39;00m\u001b[39m   (\u001b[39m\u001b[39m'\u001b[39m\u001b[39m{\u001b[39;00mdata[k]\u001b[39m}\u001b[39;00m\u001b[39m'\u001b[39m\u001b[39m)\u001b[39m\u001b[39m\"\u001b[39m)\n",
      "\u001b[1;32mc:\\Users\\User\\Desktop\\Python_DeepDive\\Dictionaries\\sets\\project_1.ipynb Cell 18\u001b[0m line \u001b[0;36m1\n\u001b[0;32m     <a href='vscode-notebook-cell:/c%3A/Users/User/Desktop/Python_DeepDive/Dictionaries/sets/project_1.ipynb#X15sZmlsZQ%3D%3D?line=10'>11</a>\u001b[0m \u001b[39mif\u001b[39;00m \u001b[39misinstance\u001b[39m(v, \u001b[39mdict\u001b[39m):\n\u001b[0;32m     <a href='vscode-notebook-cell:/c%3A/Users/User/Desktop/Python_DeepDive/Dictionaries/sets/project_1.ipynb#X15sZmlsZQ%3D%3D?line=11'>12</a>\u001b[0m     sub_path \u001b[39m=\u001b[39m path \u001b[39m+\u001b[39m \u001b[39mstr\u001b[39m(k) \u001b[39m+\u001b[39m \u001b[39m\"\u001b[39m\u001b[39m.\u001b[39m\u001b[39m\"\u001b[39m\n\u001b[1;32m---> <a href='vscode-notebook-cell:/c%3A/Users/User/Desktop/Python_DeepDive/Dictionaries/sets/project_1.ipynb#X15sZmlsZQ%3D%3D?line=12'>13</a>\u001b[0m     validate(data[k], template[k], sub_path)\n\u001b[0;32m     <a href='vscode-notebook-cell:/c%3A/Users/User/Desktop/Python_DeepDive/Dictionaries/sets/project_1.ipynb#X15sZmlsZQ%3D%3D?line=14'>15</a>\u001b[0m \u001b[39melif\u001b[39;00m \u001b[39mnot\u001b[39;00m \u001b[39misinstance\u001b[39m(data[k], v):\n\u001b[0;32m     <a href='vscode-notebook-cell:/c%3A/Users/User/Desktop/Python_DeepDive/Dictionaries/sets/project_1.ipynb#X15sZmlsZQ%3D%3D?line=15'>16</a>\u001b[0m     \u001b[39mraise\u001b[39;00m SchemaTypeMismatch(\u001b[39mf\u001b[39m\u001b[39m\"\u001b[39m\u001b[39m\\n\u001b[39;00m\u001b[39mExpected: \u001b[39m\u001b[39m{\u001b[39;00mpath\u001b[39m}\u001b[39;00m\u001b[39m{\u001b[39;00mk\u001b[39m}\u001b[39;00m\u001b[39m: \u001b[39m\u001b[39m{\u001b[39;00mv\u001b[39m}\u001b[39;00m\u001b[39m\\n\u001b[39;00m\u001b[39mActual:   \u001b[39m\u001b[39m{\u001b[39;00mpath\u001b[39m}\u001b[39;00m\u001b[39m{\u001b[39;00mk\u001b[39m}\u001b[39;00m\u001b[39m: \u001b[39m\u001b[39m{\u001b[39;00m\u001b[39mtype\u001b[39m(data[k])\u001b[39m}\u001b[39;00m\u001b[39m   (\u001b[39m\u001b[39m'\u001b[39m\u001b[39m{\u001b[39;00mdata[k]\u001b[39m}\u001b[39;00m\u001b[39m'\u001b[39m\u001b[39m)\u001b[39m\u001b[39m\"\u001b[39m)\n",
      "\u001b[1;32mc:\\Users\\User\\Desktop\\Python_DeepDive\\Dictionaries\\sets\\project_1.ipynb Cell 18\u001b[0m line \u001b[0;36m7\n\u001b[0;32m      <a href='vscode-notebook-cell:/c%3A/Users/User/Desktop/Python_DeepDive/Dictionaries/sets/project_1.ipynb#X15sZmlsZQ%3D%3D?line=4'>5</a>\u001b[0m         \u001b[39mraise\u001b[39;00m SchemaKeyMismatch(\u001b[39mf\u001b[39m\u001b[39m\"\u001b[39m\u001b[39mKey is not supported: \u001b[39m\u001b[39m{\u001b[39;00mpath\u001b[39m}\u001b[39;00m\u001b[39m{\u001b[39;00m(data\u001b[39m.\u001b[39mkeys()\u001b[39m \u001b[39m\u001b[39m-\u001b[39m\u001b[39m \u001b[39mtemplate\u001b[39m.\u001b[39mkeys())\u001b[39m.\u001b[39mpop()\u001b[39m}\u001b[39;00m\u001b[39m\"\u001b[39m)\n\u001b[0;32m      <a href='vscode-notebook-cell:/c%3A/Users/User/Desktop/Python_DeepDive/Dictionaries/sets/project_1.ipynb#X15sZmlsZQ%3D%3D?line=5'>6</a>\u001b[0m     \u001b[39melse\u001b[39;00m:\n\u001b[1;32m----> <a href='vscode-notebook-cell:/c%3A/Users/User/Desktop/Python_DeepDive/Dictionaries/sets/project_1.ipynb#X15sZmlsZQ%3D%3D?line=6'>7</a>\u001b[0m         \u001b[39mraise\u001b[39;00m SchemaKeyMismatch(\u001b[39mf\u001b[39m\u001b[39m\"\u001b[39m\u001b[39mMissing key: \u001b[39m\u001b[39m{\u001b[39;00mpath\u001b[39m}\u001b[39;00m\u001b[39m{\u001b[39;00m(template\u001b[39m.\u001b[39mkeys()\u001b[39m \u001b[39m\u001b[39m-\u001b[39m\u001b[39m \u001b[39mdata\u001b[39m.\u001b[39mkeys())\u001b[39m.\u001b[39mpop()\u001b[39m}\u001b[39;00m\u001b[39m\"\u001b[39m)\n\u001b[0;32m      <a href='vscode-notebook-cell:/c%3A/Users/User/Desktop/Python_DeepDive/Dictionaries/sets/project_1.ipynb#X15sZmlsZQ%3D%3D?line=8'>9</a>\u001b[0m \u001b[39melse\u001b[39;00m:\n\u001b[0;32m     <a href='vscode-notebook-cell:/c%3A/Users/User/Desktop/Python_DeepDive/Dictionaries/sets/project_1.ipynb#X15sZmlsZQ%3D%3D?line=9'>10</a>\u001b[0m     \u001b[39mfor\u001b[39;00m k, v \u001b[39min\u001b[39;00m template\u001b[39m.\u001b[39mitems():\n",
      "\u001b[1;31mSchemaKeyMismatch\u001b[0m: Missing key: .bio.birthplace.city"
     ]
    }
   ],
   "source": [
    "template = {\n",
    "    'user_id': int,\n",
    "    'name': {\n",
    "        'first': str,\n",
    "        'last': str\n",
    "    },\n",
    "    'bio': {\n",
    "        'dob': {\n",
    "            'year': int,\n",
    "            'month': int,\n",
    "            'day': int\n",
    "        },\n",
    "        'birthplace': {\n",
    "            'country': str,\n",
    "            'city': str\n",
    "        }\n",
    "    }\n",
    "}\n",
    "\n",
    "eric = {\n",
    "    'user_id': 101,\n",
    "    'name': {\n",
    "        'first': 'Eric',\n",
    "        'last': 'Idle'\n",
    "    },\n",
    "    'bio': {\n",
    "        'dob': {\n",
    "            'year': 1943,\n",
    "            'month': 3,\n",
    "            'day': 29\n",
    "        },\n",
    "        'birthplace': {\n",
    "            'country': 'United Kingdom'\n",
    "        }\n",
    "    }\n",
    "}\n",
    "\n",
    "validate(data=eric, template=template)"
   ]
  },
  {
   "cell_type": "code",
   "execution_count": 147,
   "metadata": {},
   "outputs": [
    {
     "ename": "SchemaTypeMismatch",
     "evalue": "\nExpected: .bio.dob.month: <class 'int'>\nActual:   .bio.dob.month: <class 'str'>   ('May')",
     "output_type": "error",
     "traceback": [
      "\u001b[1;31m---------------------------------------------------------------------------\u001b[0m",
      "\u001b[1;31mSchemaTypeMismatch\u001b[0m                        Traceback (most recent call last)",
      "\u001b[1;32mc:\\Users\\User\\Desktop\\Python_DeepDive\\Dictionaries\\sets\\project_1.ipynb Cell 19\u001b[0m line \u001b[0;36m3\n\u001b[0;32m      <a href='vscode-notebook-cell:/c%3A/Users/User/Desktop/Python_DeepDive/Dictionaries/sets/project_1.ipynb#X16sZmlsZQ%3D%3D?line=0'>1</a>\u001b[0m template \u001b[39m=\u001b[39m {\n\u001b[0;32m      <a href='vscode-notebook-cell:/c%3A/Users/User/Desktop/Python_DeepDive/Dictionaries/sets/project_1.ipynb#X16sZmlsZQ%3D%3D?line=1'>2</a>\u001b[0m     \u001b[39m'\u001b[39m\u001b[39muser_id\u001b[39m\u001b[39m'\u001b[39m: \u001b[39mint\u001b[39m,\n\u001b[0;32m      <a href='vscode-notebook-cell:/c%3A/Users/User/Desktop/Python_DeepDive/Dictionaries/sets/project_1.ipynb#X16sZmlsZQ%3D%3D?line=2'>3</a>\u001b[0m     \u001b[39m'\u001b[39m\u001b[39mname\u001b[39m\u001b[39m'\u001b[39m: {\n\u001b[1;32m   (...)\u001b[0m\n\u001b[0;32m     <a href='vscode-notebook-cell:/c%3A/Users/User/Desktop/Python_DeepDive/Dictionaries/sets/project_1.ipynb#X16sZmlsZQ%3D%3D?line=16'>17</a>\u001b[0m     }\n\u001b[0;32m     <a href='vscode-notebook-cell:/c%3A/Users/User/Desktop/Python_DeepDive/Dictionaries/sets/project_1.ipynb#X16sZmlsZQ%3D%3D?line=17'>18</a>\u001b[0m }\n\u001b[0;32m     <a href='vscode-notebook-cell:/c%3A/Users/User/Desktop/Python_DeepDive/Dictionaries/sets/project_1.ipynb#X16sZmlsZQ%3D%3D?line=19'>20</a>\u001b[0m michael \u001b[39m=\u001b[39m {\n\u001b[0;32m     <a href='vscode-notebook-cell:/c%3A/Users/User/Desktop/Python_DeepDive/Dictionaries/sets/project_1.ipynb#X16sZmlsZQ%3D%3D?line=20'>21</a>\u001b[0m     \u001b[39m'\u001b[39m\u001b[39muser_id\u001b[39m\u001b[39m'\u001b[39m: \u001b[39m102\u001b[39m,\n\u001b[0;32m     <a href='vscode-notebook-cell:/c%3A/Users/User/Desktop/Python_DeepDive/Dictionaries/sets/project_1.ipynb#X16sZmlsZQ%3D%3D?line=21'>22</a>\u001b[0m     \u001b[39m'\u001b[39m\u001b[39mname\u001b[39m\u001b[39m'\u001b[39m: {\n\u001b[1;32m   (...)\u001b[0m\n\u001b[0;32m     <a href='vscode-notebook-cell:/c%3A/Users/User/Desktop/Python_DeepDive/Dictionaries/sets/project_1.ipynb#X16sZmlsZQ%3D%3D?line=35'>36</a>\u001b[0m     }\n\u001b[0;32m     <a href='vscode-notebook-cell:/c%3A/Users/User/Desktop/Python_DeepDive/Dictionaries/sets/project_1.ipynb#X16sZmlsZQ%3D%3D?line=36'>37</a>\u001b[0m }\n\u001b[1;32m---> <a href='vscode-notebook-cell:/c%3A/Users/User/Desktop/Python_DeepDive/Dictionaries/sets/project_1.ipynb#X16sZmlsZQ%3D%3D?line=38'>39</a>\u001b[0m validate(data\u001b[39m=\u001b[39;49mmichael, template\u001b[39m=\u001b[39;49mtemplate)\n",
      "\u001b[1;32mc:\\Users\\User\\Desktop\\Python_DeepDive\\Dictionaries\\sets\\project_1.ipynb Cell 19\u001b[0m line \u001b[0;36m1\n\u001b[0;32m     <a href='vscode-notebook-cell:/c%3A/Users/User/Desktop/Python_DeepDive/Dictionaries/sets/project_1.ipynb#X16sZmlsZQ%3D%3D?line=10'>11</a>\u001b[0m \u001b[39mif\u001b[39;00m \u001b[39misinstance\u001b[39m(v, \u001b[39mdict\u001b[39m):\n\u001b[0;32m     <a href='vscode-notebook-cell:/c%3A/Users/User/Desktop/Python_DeepDive/Dictionaries/sets/project_1.ipynb#X16sZmlsZQ%3D%3D?line=11'>12</a>\u001b[0m     sub_path \u001b[39m=\u001b[39m path \u001b[39m+\u001b[39m \u001b[39mstr\u001b[39m(k) \u001b[39m+\u001b[39m \u001b[39m\"\u001b[39m\u001b[39m.\u001b[39m\u001b[39m\"\u001b[39m\n\u001b[1;32m---> <a href='vscode-notebook-cell:/c%3A/Users/User/Desktop/Python_DeepDive/Dictionaries/sets/project_1.ipynb#X16sZmlsZQ%3D%3D?line=12'>13</a>\u001b[0m     validate(data[k], template[k], sub_path)\n\u001b[0;32m     <a href='vscode-notebook-cell:/c%3A/Users/User/Desktop/Python_DeepDive/Dictionaries/sets/project_1.ipynb#X16sZmlsZQ%3D%3D?line=14'>15</a>\u001b[0m \u001b[39melif\u001b[39;00m \u001b[39mnot\u001b[39;00m \u001b[39misinstance\u001b[39m(data[k], v):\n\u001b[0;32m     <a href='vscode-notebook-cell:/c%3A/Users/User/Desktop/Python_DeepDive/Dictionaries/sets/project_1.ipynb#X16sZmlsZQ%3D%3D?line=15'>16</a>\u001b[0m     \u001b[39mraise\u001b[39;00m SchemaTypeMismatch(\u001b[39mf\u001b[39m\u001b[39m\"\u001b[39m\u001b[39m\\n\u001b[39;00m\u001b[39mExpected: \u001b[39m\u001b[39m{\u001b[39;00mpath\u001b[39m}\u001b[39;00m\u001b[39m{\u001b[39;00mk\u001b[39m}\u001b[39;00m\u001b[39m: \u001b[39m\u001b[39m{\u001b[39;00mv\u001b[39m}\u001b[39;00m\u001b[39m\\n\u001b[39;00m\u001b[39mActual:   \u001b[39m\u001b[39m{\u001b[39;00mpath\u001b[39m}\u001b[39;00m\u001b[39m{\u001b[39;00mk\u001b[39m}\u001b[39;00m\u001b[39m: \u001b[39m\u001b[39m{\u001b[39;00m\u001b[39mtype\u001b[39m(data[k])\u001b[39m}\u001b[39;00m\u001b[39m   (\u001b[39m\u001b[39m'\u001b[39m\u001b[39m{\u001b[39;00mdata[k]\u001b[39m}\u001b[39;00m\u001b[39m'\u001b[39m\u001b[39m)\u001b[39m\u001b[39m\"\u001b[39m)\n",
      "\u001b[1;32mc:\\Users\\User\\Desktop\\Python_DeepDive\\Dictionaries\\sets\\project_1.ipynb Cell 19\u001b[0m line \u001b[0;36m1\n\u001b[0;32m     <a href='vscode-notebook-cell:/c%3A/Users/User/Desktop/Python_DeepDive/Dictionaries/sets/project_1.ipynb#X16sZmlsZQ%3D%3D?line=10'>11</a>\u001b[0m \u001b[39mif\u001b[39;00m \u001b[39misinstance\u001b[39m(v, \u001b[39mdict\u001b[39m):\n\u001b[0;32m     <a href='vscode-notebook-cell:/c%3A/Users/User/Desktop/Python_DeepDive/Dictionaries/sets/project_1.ipynb#X16sZmlsZQ%3D%3D?line=11'>12</a>\u001b[0m     sub_path \u001b[39m=\u001b[39m path \u001b[39m+\u001b[39m \u001b[39mstr\u001b[39m(k) \u001b[39m+\u001b[39m \u001b[39m\"\u001b[39m\u001b[39m.\u001b[39m\u001b[39m\"\u001b[39m\n\u001b[1;32m---> <a href='vscode-notebook-cell:/c%3A/Users/User/Desktop/Python_DeepDive/Dictionaries/sets/project_1.ipynb#X16sZmlsZQ%3D%3D?line=12'>13</a>\u001b[0m     validate(data[k], template[k], sub_path)\n\u001b[0;32m     <a href='vscode-notebook-cell:/c%3A/Users/User/Desktop/Python_DeepDive/Dictionaries/sets/project_1.ipynb#X16sZmlsZQ%3D%3D?line=14'>15</a>\u001b[0m \u001b[39melif\u001b[39;00m \u001b[39mnot\u001b[39;00m \u001b[39misinstance\u001b[39m(data[k], v):\n\u001b[0;32m     <a href='vscode-notebook-cell:/c%3A/Users/User/Desktop/Python_DeepDive/Dictionaries/sets/project_1.ipynb#X16sZmlsZQ%3D%3D?line=15'>16</a>\u001b[0m     \u001b[39mraise\u001b[39;00m SchemaTypeMismatch(\u001b[39mf\u001b[39m\u001b[39m\"\u001b[39m\u001b[39m\\n\u001b[39;00m\u001b[39mExpected: \u001b[39m\u001b[39m{\u001b[39;00mpath\u001b[39m}\u001b[39;00m\u001b[39m{\u001b[39;00mk\u001b[39m}\u001b[39;00m\u001b[39m: \u001b[39m\u001b[39m{\u001b[39;00mv\u001b[39m}\u001b[39;00m\u001b[39m\\n\u001b[39;00m\u001b[39mActual:   \u001b[39m\u001b[39m{\u001b[39;00mpath\u001b[39m}\u001b[39;00m\u001b[39m{\u001b[39;00mk\u001b[39m}\u001b[39;00m\u001b[39m: \u001b[39m\u001b[39m{\u001b[39;00m\u001b[39mtype\u001b[39m(data[k])\u001b[39m}\u001b[39;00m\u001b[39m   (\u001b[39m\u001b[39m'\u001b[39m\u001b[39m{\u001b[39;00mdata[k]\u001b[39m}\u001b[39;00m\u001b[39m'\u001b[39m\u001b[39m)\u001b[39m\u001b[39m\"\u001b[39m)\n",
      "\u001b[1;32mc:\\Users\\User\\Desktop\\Python_DeepDive\\Dictionaries\\sets\\project_1.ipynb Cell 19\u001b[0m line \u001b[0;36m1\n\u001b[0;32m     <a href='vscode-notebook-cell:/c%3A/Users/User/Desktop/Python_DeepDive/Dictionaries/sets/project_1.ipynb#X16sZmlsZQ%3D%3D?line=12'>13</a>\u001b[0m     validate(data[k], template[k], sub_path)\n\u001b[0;32m     <a href='vscode-notebook-cell:/c%3A/Users/User/Desktop/Python_DeepDive/Dictionaries/sets/project_1.ipynb#X16sZmlsZQ%3D%3D?line=14'>15</a>\u001b[0m \u001b[39melif\u001b[39;00m \u001b[39mnot\u001b[39;00m \u001b[39misinstance\u001b[39m(data[k], v):\n\u001b[1;32m---> <a href='vscode-notebook-cell:/c%3A/Users/User/Desktop/Python_DeepDive/Dictionaries/sets/project_1.ipynb#X16sZmlsZQ%3D%3D?line=15'>16</a>\u001b[0m     \u001b[39mraise\u001b[39;00m SchemaTypeMismatch(\u001b[39mf\u001b[39m\u001b[39m\"\u001b[39m\u001b[39m\\n\u001b[39;00m\u001b[39mExpected: \u001b[39m\u001b[39m{\u001b[39;00mpath\u001b[39m}\u001b[39;00m\u001b[39m{\u001b[39;00mk\u001b[39m}\u001b[39;00m\u001b[39m: \u001b[39m\u001b[39m{\u001b[39;00mv\u001b[39m}\u001b[39;00m\u001b[39m\\n\u001b[39;00m\u001b[39mActual:   \u001b[39m\u001b[39m{\u001b[39;00mpath\u001b[39m}\u001b[39;00m\u001b[39m{\u001b[39;00mk\u001b[39m}\u001b[39;00m\u001b[39m: \u001b[39m\u001b[39m{\u001b[39;00m\u001b[39mtype\u001b[39m(data[k])\u001b[39m}\u001b[39;00m\u001b[39m   (\u001b[39m\u001b[39m'\u001b[39m\u001b[39m{\u001b[39;00mdata[k]\u001b[39m}\u001b[39;00m\u001b[39m'\u001b[39m\u001b[39m)\u001b[39m\u001b[39m\"\u001b[39m)\n",
      "\u001b[1;31mSchemaTypeMismatch\u001b[0m: \nExpected: .bio.dob.month: <class 'int'>\nActual:   .bio.dob.month: <class 'str'>   ('May')"
     ]
    }
   ],
   "source": [
    "template = {\n",
    "    'user_id': int,\n",
    "    'name': {\n",
    "        'first': str,\n",
    "        'last': str\n",
    "    },\n",
    "    'bio': {\n",
    "        'dob': {\n",
    "            'year': int,\n",
    "            'month': int,\n",
    "            'day': int\n",
    "        },\n",
    "        'birthplace': {\n",
    "            'country': str,\n",
    "            'city': str\n",
    "        }\n",
    "    }\n",
    "}\n",
    "\n",
    "michael = {\n",
    "    'user_id': 102,\n",
    "    'name': {\n",
    "        'first': 'Michael',\n",
    "        'last': 'Palin'\n",
    "    },\n",
    "    'bio': {\n",
    "        'dob': {\n",
    "            'year': 1943,\n",
    "            'month': 'May',\n",
    "            'day': 5\n",
    "        },\n",
    "        'birthplace': {\n",
    "            'country': 'United Kingdom',\n",
    "            'city': 'Sheffield'\n",
    "        }\n",
    "    }\n",
    "}\n",
    "\n",
    "validate(data=michael, template=template)"
   ]
  },
  {
   "cell_type": "code",
   "execution_count": null,
   "metadata": {},
   "outputs": [],
   "source": []
  }
 ],
 "metadata": {
  "kernelspec": {
   "display_name": "Python 3",
   "language": "python",
   "name": "python3"
  },
  "language_info": {
   "codemirror_mode": {
    "name": "ipython",
    "version": 3
   },
   "file_extension": ".py",
   "mimetype": "text/x-python",
   "name": "python",
   "nbconvert_exporter": "python",
   "pygments_lexer": "ipython3",
   "version": "3.11.4"
  }
 },
 "nbformat": 4,
 "nbformat_minor": 2
}
