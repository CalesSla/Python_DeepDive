{
 "cells": [
  {
   "cell_type": "code",
   "execution_count": 1,
   "metadata": {},
   "outputs": [],
   "source": [
    "template = {\n",
    "    'user_id': int,\n",
    "    'name': {\n",
    "        'first': str,\n",
    "        'last': str\n",
    "    },\n",
    "    'bio': {\n",
    "        'dob': {\n",
    "            'year': int,\n",
    "            'month': int,\n",
    "            'day': int\n",
    "        },\n",
    "        'birthplace': {\n",
    "            'country': str,\n",
    "            'city': str\n",
    "        }\n",
    "    }\n",
    "}\n",
    "\n",
    "\n",
    "# def validate(data, template):\n",
    "#     # implement\n",
    "#     # and return True/False\n",
    "#     # in the case of False, return a string describing \n",
    "#     # the first error encountered\n",
    "#     # in the case of True, string can be empty\n",
    "#     return state, error"
   ]
  },
  {
   "cell_type": "code",
   "execution_count": 409,
   "metadata": {},
   "outputs": [],
   "source": [
    "template = {\n",
    "    'user_id': int,\n",
    "    'name': str,\n",
    "    \"address\": {\n",
    "        \"street\": str,\n",
    "        \"house\": int,\n",
    "        \"location\": {\n",
    "            \"district\": str,\n",
    "            \"idx\": int\n",
    "        }\n",
    "    }\n",
    "}\n",
    "\n",
    "olia = {\n",
    "    \"user_id\": 1,\n",
    "    \"name\": \"olia\",\n",
    "    \"address\": {\n",
    "        \"street\": \"Mircea\",\n",
    "        \"house\": 56,\n",
    "        \"location\": {\n",
    "            \"district\": \"calea\",\n",
    "            # \"idx\": 2043\n",
    "        }\n",
    "    }\n",
    "}"
   ]
  },
  {
   "cell_type": "code",
   "execution_count": null,
   "metadata": {},
   "outputs": [],
   "source": []
  },
  {
   "cell_type": "code",
   "execution_count": 416,
   "metadata": {},
   "outputs": [
    {
     "name": "stdout",
     "output_type": "stream",
     "text": [
      "The following data is missing: template.bio\n"
     ]
    },
    {
     "data": {
      "text/plain": [
       "(False, '.bio', '')"
      ]
     },
     "execution_count": 416,
     "metadata": {},
     "output_type": "execute_result"
    }
   ],
   "source": [
    "def validate(data, template, is_recursive, missing_from_data=None, missing_from_template=None):\n",
    "    if missing_from_data is None:\n",
    "        missing_from_data = \"\"\n",
    "    if missing_from_template is None:\n",
    "        missing_from_template = \"\"\n",
    "    \n",
    "    \n",
    "    if data.keys() ^ template.keys() != set():\n",
    "        missing_field = (template.keys() - data.keys())\n",
    "        if missing_field:\n",
    "            missing_from_data += \".\" + missing_field.pop()\n",
    "            if not is_recursive:\n",
    "                print(\"The following data is missing: template\"+missing_from_data)\n",
    "        else:\n",
    "            missing_from_template += \".\" + (data.keys() - template.keys()).pop()\n",
    "            if not is_recursive:\n",
    "                print(f\"The template does not have\" + \" template\"+missing_from_template)\n",
    "                \n",
    "        return False, missing_from_data, missing_from_template\n",
    "\n",
    "    else:\n",
    "        for k, v in template.items():\n",
    "            if isinstance(v, dict):\n",
    "                inter_res, missing_from_data, missing_from_template = validate(data=data[k], template=v, is_recursive=True, missing_from_data=missing_from_data, missing_from_template=missing_from_template)\n",
    "                if not inter_res:\n",
    "                    if missing_from_data:\n",
    "                        missing_from_data = \".\" + k + missing_from_data\n",
    "                    elif missing_from_template:\n",
    "                        missing_from_template = \".\" + k + missing_from_template\n",
    "                    if not is_recursive:\n",
    "                        if missing_from_template:\n",
    "                            print(f\"The template does not have: template\" + missing_from_template)\n",
    "                        \n",
    "                        elif missing_from_data:\n",
    "                            print(\"The following data is missing: template\" + missing_from_data)\n",
    "                            \n",
    "                    return False, missing_from_data, missing_from_template\n",
    "                \n",
    "            elif not isinstance(data[k], v):\n",
    "                print(\"======================\")\n",
    "                print(f\"Expected: {k, v}\\nactual: {k, type(data[k])}\")\n",
    "                print(\"======================\")\n",
    "                return False, missing_from_data, missing_from_template\n",
    "      \n",
    "    return True, missing_from_data, missing_from_template\n",
    "                \n",
    "\n",
    "\n",
    "validate(olia, template, False)"
   ]
  },
  {
   "cell_type": "code",
   "execution_count": 417,
   "metadata": {},
   "outputs": [
    {
     "data": {
      "text/plain": [
       "False"
      ]
     },
     "execution_count": 417,
     "metadata": {},
     "output_type": "execute_result"
    }
   ],
   "source": [
    "bool('')"
   ]
  },
  {
   "cell_type": "code",
   "execution_count": null,
   "metadata": {},
   "outputs": [],
   "source": []
  },
  {
   "cell_type": "code",
   "execution_count": 418,
   "metadata": {},
   "outputs": [
    {
     "name": "stdout",
     "output_type": "stream",
     "text": [
      "The following data is missing: template.bio.birthplace.city\n"
     ]
    },
    {
     "data": {
      "text/plain": [
       "(False, '.bio.birthplace.city', '')"
      ]
     },
     "execution_count": 418,
     "metadata": {},
     "output_type": "execute_result"
    }
   ],
   "source": [
    "template = {\n",
    "    'user_id': int,\n",
    "    'name': {\n",
    "        'first': str,\n",
    "        'last': str\n",
    "    },\n",
    "    'bio': {\n",
    "        'dob': {\n",
    "            'year': int,\n",
    "            'month': int,\n",
    "            'day': int\n",
    "        },\n",
    "        'birthplace': {\n",
    "            'country': str,\n",
    "            'city': str\n",
    "        }\n",
    "    }\n",
    "}\n",
    "\n",
    "eric = {\n",
    "    'user_id': 101,\n",
    "    'name': {\n",
    "        'first': 'Eric',\n",
    "        'last': 'Idle'\n",
    "    },\n",
    "    'bio': {\n",
    "        'dob': {\n",
    "            'year': 1943,\n",
    "            'month': 3,\n",
    "            'day': 29\n",
    "        },\n",
    "        'birthplace': {\n",
    "            'country': 'United Kingdom'\n",
    "        }\n",
    "    }\n",
    "}\n",
    "\n",
    "validate(data=eric, template=template, is_recursive=False)"
   ]
  },
  {
   "cell_type": "code",
   "execution_count": null,
   "metadata": {},
   "outputs": [],
   "source": []
  },
  {
   "cell_type": "code",
   "execution_count": null,
   "metadata": {},
   "outputs": [],
   "source": []
  },
  {
   "cell_type": "code",
   "execution_count": 413,
   "metadata": {},
   "outputs": [
    {
     "data": {
      "text/plain": [
       "(True, '', '')"
      ]
     },
     "execution_count": 413,
     "metadata": {},
     "output_type": "execute_result"
    }
   ],
   "source": [
    "template = {\n",
    "    'user_id': int,\n",
    "    'name': {\n",
    "        'first': str,\n",
    "        'last': str\n",
    "    },\n",
    "    'bio': {\n",
    "        'dob': {\n",
    "            'year': int,\n",
    "            'month': int,\n",
    "            'day': int\n",
    "        },\n",
    "        'birthplace': {\n",
    "            'country': str,\n",
    "            'city': str\n",
    "        }\n",
    "    }\n",
    "}\n",
    "\n",
    "john = {\n",
    "    'user_id': 100,\n",
    "    'name': {\n",
    "        'first': 'John',\n",
    "        'last': 'Cleese'\n",
    "    },\n",
    "    'bio': {\n",
    "        'dob': {\n",
    "            'year': 1939,\n",
    "            'month': 11,\n",
    "            'day': 27\n",
    "        },\n",
    "        'birthplace': {\n",
    "            'country': 'United Kingdom',\n",
    "            'city': 'Weston-super-Mare'\n",
    "        }\n",
    "    }\n",
    "}\n",
    "\n",
    "validate(data=john, template=template, is_recursive=False)"
   ]
  },
  {
   "cell_type": "code",
   "execution_count": null,
   "metadata": {},
   "outputs": [],
   "source": []
  },
  {
   "cell_type": "code",
   "execution_count": null,
   "metadata": {},
   "outputs": [],
   "source": []
  },
  {
   "cell_type": "code",
   "execution_count": 414,
   "metadata": {},
   "outputs": [
    {
     "name": "stdout",
     "output_type": "stream",
     "text": [
      "The following data is missing: template.bio.birthplace.city\n"
     ]
    },
    {
     "data": {
      "text/plain": [
       "(False, '.bio.birthplace.city', '')"
      ]
     },
     "execution_count": 414,
     "metadata": {},
     "output_type": "execute_result"
    }
   ],
   "source": [
    "template = {\n",
    "    'user_id': int,\n",
    "    'name': {\n",
    "        'first': str,\n",
    "        'last': str\n",
    "    },\n",
    "    'bio': {\n",
    "        'dob': {\n",
    "            'year': int,\n",
    "            'month': int,\n",
    "            'day': int\n",
    "        },\n",
    "        'birthplace': {\n",
    "            'country': str,\n",
    "            'city': str\n",
    "        }\n",
    "    }\n",
    "}\n",
    "\n",
    "eric = {\n",
    "    'user_id': 101,\n",
    "    'name': {\n",
    "        'first': 'Eric',\n",
    "        'last': 'Idle'\n",
    "    },\n",
    "    'bio': {\n",
    "        'dob': {\n",
    "            'year': 1943,\n",
    "            'month': 3,\n",
    "            'day': 29\n",
    "        },\n",
    "        'birthplace': {\n",
    "            'country': 'United Kingdom'\n",
    "        }\n",
    "    }\n",
    "}\n",
    "\n",
    "validate(data=eric, template=template, is_recursive=False)"
   ]
  },
  {
   "cell_type": "code",
   "execution_count": 415,
   "metadata": {},
   "outputs": [
    {
     "name": "stdout",
     "output_type": "stream",
     "text": [
      "======================\n",
      "Expected: ('month', <class 'int'>)\n",
      "actual: ('month', <class 'str'>)\n",
      "======================\n"
     ]
    },
    {
     "data": {
      "text/plain": [
       "(False, '', '')"
      ]
     },
     "execution_count": 415,
     "metadata": {},
     "output_type": "execute_result"
    }
   ],
   "source": [
    "template = {\n",
    "    'user_id': int,\n",
    "    'name': {\n",
    "        'first': str,\n",
    "        'last': str\n",
    "    },\n",
    "    'bio': {\n",
    "        'dob': {\n",
    "            'year': int,\n",
    "            'month': int,\n",
    "            'day': int\n",
    "        },\n",
    "        'birthplace': {\n",
    "            'country': str,\n",
    "            'city': str\n",
    "        }\n",
    "    }\n",
    "}\n",
    "\n",
    "michael = {\n",
    "    'user_id': 102,\n",
    "    'name': {\n",
    "        'first': 'Michael',\n",
    "        'last': 'Palin'\n",
    "    },\n",
    "    'bio': {\n",
    "        'dob': {\n",
    "            'year': 1943,\n",
    "            'month': 'May',\n",
    "            'day': 5\n",
    "        },\n",
    "        'birthplace': {\n",
    "            'country': 'United Kingdom',\n",
    "            'city': 'Sheffield'\n",
    "        }\n",
    "    }\n",
    "}\n",
    "\n",
    "validate(data=michael, template=template, is_recursive=False)"
   ]
  },
  {
   "cell_type": "code",
   "execution_count": null,
   "metadata": {},
   "outputs": [],
   "source": []
  }
 ],
 "metadata": {
  "kernelspec": {
   "display_name": "Python 3",
   "language": "python",
   "name": "python3"
  },
  "language_info": {
   "codemirror_mode": {
    "name": "ipython",
    "version": 3
   },
   "file_extension": ".py",
   "mimetype": "text/x-python",
   "name": "python",
   "nbconvert_exporter": "python",
   "pygments_lexer": "ipython3",
   "version": "3.11.6"
  }
 },
 "nbformat": 4,
 "nbformat_minor": 2
}
