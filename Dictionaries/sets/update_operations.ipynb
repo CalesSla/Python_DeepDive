{
 "cells": [
  {
   "cell_type": "code",
   "execution_count": 4,
   "metadata": {},
   "outputs": [
    {
     "name": "stdout",
     "output_type": "stream",
     "text": [
      "{1, 2, 3} 2336852354304\n",
      "{2, 3, 4} 2336852356320\n"
     ]
    }
   ],
   "source": [
    "s1 = {1, 2, 3}\n",
    "s2 = {2, 3, 4}\n",
    "\n",
    "print(s1, id(s1))\n",
    "print(s2, id(s2))"
   ]
  },
  {
   "cell_type": "code",
   "execution_count": 5,
   "metadata": {},
   "outputs": [
    {
     "name": "stdout",
     "output_type": "stream",
     "text": [
      "{2, 3} 2336851169728\n",
      "{2, 3, 4} 2336852356320\n"
     ]
    }
   ],
   "source": [
    "s1 = s1 & s2\n",
    "\n",
    "print(s1, id(s1))\n",
    "print(s2, id(s2))"
   ]
  },
  {
   "cell_type": "code",
   "execution_count": 6,
   "metadata": {},
   "outputs": [
    {
     "name": "stdout",
     "output_type": "stream",
     "text": [
      "2336852356096\n",
      "{1, 2, 3, 4} 2336852356096\n"
     ]
    }
   ],
   "source": [
    "s1 = {1, 2, 3}\n",
    "s2 = {2, 3, 4}\n",
    "\n",
    "print(id(s1))\n",
    "s1 |= s2\n",
    "print(s1, id(s1))"
   ]
  },
  {
   "cell_type": "code",
   "execution_count": 8,
   "metadata": {},
   "outputs": [
    {
     "name": "stdout",
     "output_type": "stream",
     "text": [
      "2336852354528\n",
      "{1, 2, 3, 4} 2336852354528\n"
     ]
    }
   ],
   "source": [
    "s1 = {1, 2, 3}\n",
    "s2 = {2, 3, 4}\n",
    "\n",
    "print(id(s1))\n",
    "s1.update(s2)\n",
    "print(s1, id(s1))"
   ]
  },
  {
   "cell_type": "code",
   "execution_count": 9,
   "metadata": {},
   "outputs": [
    {
     "name": "stdout",
     "output_type": "stream",
     "text": [
      "2336852356096\n",
      "{2, 3} 2336852356096\n"
     ]
    }
   ],
   "source": [
    "s1 = {1, 2, 3}\n",
    "s2 = {2, 3, 4}\n",
    "\n",
    "print(id(s1))\n",
    "s1 &= s2\n",
    "print(s1, id(s1))"
   ]
  },
  {
   "cell_type": "code",
   "execution_count": 10,
   "metadata": {},
   "outputs": [
    {
     "name": "stdout",
     "output_type": "stream",
     "text": [
      "2336851169728\n",
      "{2, 3} 2336851169728\n"
     ]
    }
   ],
   "source": [
    "s1 = {1, 2, 3}\n",
    "s2 = {2, 3, 4}\n",
    "\n",
    "print(id(s1))\n",
    "s1.intersection_update(s2)\n",
    "print(s1, id(s1))"
   ]
  },
  {
   "cell_type": "code",
   "execution_count": 11,
   "metadata": {},
   "outputs": [
    {
     "name": "stdout",
     "output_type": "stream",
     "text": [
      "2336852352960\n",
      "{1, 4} 2336852352960\n"
     ]
    }
   ],
   "source": [
    "s1 = {1, 2, 3, 4}\n",
    "s2 = {2, 3}\n",
    "print(id(s1))\n",
    "s1 -= s2\n",
    "print(s1, id(s1))"
   ]
  },
  {
   "cell_type": "code",
   "execution_count": 12,
   "metadata": {},
   "outputs": [
    {
     "name": "stdout",
     "output_type": "stream",
     "text": [
      "2336852353856\n",
      "{1, 4} 2336852353856\n"
     ]
    }
   ],
   "source": [
    "s1 = {1, 2, 3, 4}\n",
    "s2 = {2, 3}\n",
    "print(id(s1))\n",
    "s1.difference_update(s2)\n",
    "print(s1, id(s1))"
   ]
  },
  {
   "cell_type": "code",
   "execution_count": 13,
   "metadata": {},
   "outputs": [
    {
     "data": {
      "text/plain": [
       "{1, 2, 3, 6, 7}"
      ]
     },
     "execution_count": 13,
     "metadata": {},
     "output_type": "execute_result"
    }
   ],
   "source": [
    "s1 = {1, 2, 3, 4, 5}\n",
    "s2 = {4, 5, 6, 7}\n",
    "s1 ^ s2"
   ]
  },
  {
   "cell_type": "code",
   "execution_count": 14,
   "metadata": {},
   "outputs": [
    {
     "name": "stdout",
     "output_type": "stream",
     "text": [
      "2336851169728\n"
     ]
    }
   ],
   "source": [
    "print(id(s1))\n",
    "s1 ^= s2"
   ]
  },
  {
   "cell_type": "code",
   "execution_count": 15,
   "metadata": {},
   "outputs": [
    {
     "name": "stdout",
     "output_type": "stream",
     "text": [
      "2336851169728 {1, 2, 3, 6, 7}\n"
     ]
    }
   ],
   "source": [
    "print(id(s1), s1)"
   ]
  },
  {
   "cell_type": "code",
   "execution_count": 16,
   "metadata": {},
   "outputs": [
    {
     "name": "stdout",
     "output_type": "stream",
     "text": [
      "2336852353632\n",
      "2336852353632 {1, 2, 3, 4, 5, 6, 7}\n"
     ]
    }
   ],
   "source": [
    "s1 = {1, 2, 3}\n",
    "s2 = {3, 4, 5}\n",
    "s3 = {5, 6, 7}\n",
    "\n",
    "print(id(s1))\n",
    "s1 |= s2 | s3\n",
    "print(id(s1), s1)"
   ]
  },
  {
   "cell_type": "code",
   "execution_count": 18,
   "metadata": {},
   "outputs": [
    {
     "data": {
      "text/plain": [
       "{1, 2, 3, 4, 5, 6, 7, 8, 'a', 'b', 'c'}"
      ]
     },
     "execution_count": 18,
     "metadata": {},
     "output_type": "execute_result"
    }
   ],
   "source": [
    "s1 = {1, 2, 3}\n",
    "s1.update([3, 4, 5], (6, 7, 8), \"abc\")\n",
    "s1"
   ]
  },
  {
   "cell_type": "code",
   "execution_count": 19,
   "metadata": {},
   "outputs": [
    {
     "data": {
      "text/plain": [
       "{1, 2, 3, 4, 5, 6, 7, 8, 'a', 'b', 'c'}"
      ]
     },
     "execution_count": 19,
     "metadata": {},
     "output_type": "execute_result"
    }
   ],
   "source": [
    "s1 = {1, 2, 3}\n",
    "s1 |= set([3, 4, 5]) | set((6, 7, 8)) | set(\"abc\")\n",
    "s1"
   ]
  },
  {
   "cell_type": "code",
   "execution_count": 20,
   "metadata": {},
   "outputs": [
    {
     "name": "stdout",
     "output_type": "stream",
     "text": [
      "{'lumberjacks', 'late', 'silly', 'ministry', 'night', 'all', 'parrot', 'this', 'sleep', 'walks'}\n"
     ]
    }
   ],
   "source": [
    "def combine(string, target):\n",
    "    target.update(string.split(\" \"))\n",
    "\n",
    "def cleanup(combined):\n",
    "    words = {\"the\", \"and\", \"a\", \"or\", \"is\", \"of\"}\n",
    "    combined -= words\n",
    "\n",
    "result = set()\n",
    "\n",
    "combine(\"lumberjacks sleep all night\", result)\n",
    "combine(\"the ministry of silly walks\", result)\n",
    "combine(\"this parrot is a late parrot\", result)\n",
    "cleanup(result)\n",
    "print(result)"
   ]
  },
  {
   "cell_type": "code",
   "execution_count": 22,
   "metadata": {},
   "outputs": [
    {
     "data": {
      "text/plain": [
       "['Paris', 'Beijing', 'New York', 'London', 'Madrid', 'Mumbai']"
      ]
     },
     "execution_count": 22,
     "metadata": {},
     "output_type": "execute_result"
    }
   ],
   "source": [
    "def gen_read_data():\n",
    "    yield [\"Paris\", \"Beijing\", \"New York\", \"London\", \"Madrid\", \"Mumbai\"]\n",
    "    yield [\"Hyderabad\", \"New York\", \"Milan\", \"Phoenix\", \"Berlin\", \"Cairo\"]\n",
    "    yield [\"Stockholm\", \"Cairo\", \"Paris\", \"Barcelona\", \"San Francisco\", \"Cologne\"]\n",
    "\n",
    "data = gen_read_data()\n",
    "\n",
    "next(data)"
   ]
  },
  {
   "cell_type": "code",
   "execution_count": 23,
   "metadata": {},
   "outputs": [
    {
     "data": {
      "text/plain": [
       "['Hyderabad', 'New York', 'Milan', 'Phoenix', 'Berlin', 'Cairo']"
      ]
     },
     "execution_count": 23,
     "metadata": {},
     "output_type": "execute_result"
    }
   ],
   "source": [
    "next(data)"
   ]
  },
  {
   "cell_type": "code",
   "execution_count": 24,
   "metadata": {},
   "outputs": [
    {
     "data": {
      "text/plain": [
       "['Stockholm', 'Cairo', 'Paris', 'Barcelona', 'San Francisco', 'Cologne']"
      ]
     },
     "execution_count": 24,
     "metadata": {},
     "output_type": "execute_result"
    }
   ],
   "source": [
    "next(data)"
   ]
  },
  {
   "cell_type": "code",
   "execution_count": 27,
   "metadata": {},
   "outputs": [
    {
     "name": "stdout",
     "output_type": "stream",
     "text": [
      "2336858670240\n",
      "True\n",
      "2336858670240\n"
     ]
    }
   ],
   "source": [
    "data_set = {\"Berlin\", \"Cairo\", \"Stockholm\", \"San Francisco\", \"Paris\", \"Cologne\", \"New York\", \"Barcelona\", \"Hyderabad\", \"Milan\", \"Phoenix\", \"Mumbai\", \"Madrid\", \"London\", \"Beijing\", \"Berlin\", \"Cairo\", \"Stockholm\", \"San Francisco\", \"Paris\", \"Cologne\", \"New York\", \"Barcelona\", \"Hyderabad\", \"Milan\", \"Phoenix\", \"Mumbai\", \"Madrid\", \"London\", \"Beijing\"}\n",
    "print(id(data_set))\n",
    "print(\"Berlin\" in data_set)\n",
    "def filter_incoming(*cities, data_set):\n",
    "    data_set.difference_update(cities)\n",
    "    return data_set\n",
    "\n",
    "data_set = filter_incoming(\"Berlin\", \"Cairo\", data_set=data_set)\n",
    "print(id(data_set))"
   ]
  },
  {
   "cell_type": "code",
   "execution_count": 29,
   "metadata": {},
   "outputs": [
    {
     "data": {
      "text/plain": [
       "False"
      ]
     },
     "execution_count": 29,
     "metadata": {},
     "output_type": "execute_result"
    }
   ],
   "source": [
    "\"Berlin\" in data_set"
   ]
  },
  {
   "cell_type": "code",
   "execution_count": null,
   "metadata": {},
   "outputs": [],
   "source": []
  }
 ],
 "metadata": {
  "kernelspec": {
   "display_name": "Python 3",
   "language": "python",
   "name": "python3"
  },
  "language_info": {
   "codemirror_mode": {
    "name": "ipython",
    "version": 3
   },
   "file_extension": ".py",
   "mimetype": "text/x-python",
   "name": "python",
   "nbconvert_exporter": "python",
   "pygments_lexer": "ipython3",
   "version": "3.11.6"
  }
 },
 "nbformat": 4,
 "nbformat_minor": 2
}
