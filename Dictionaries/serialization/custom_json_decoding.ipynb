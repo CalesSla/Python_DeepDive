{
 "cells": [
  {
   "cell_type": "code",
   "execution_count": 1,
   "metadata": {},
   "outputs": [
    {
     "data": {
      "text/plain": [
       "{'name': 'Python', 'age': 27, 'versions': ['2.x', '3.x']}"
      ]
     },
     "execution_count": 1,
     "metadata": {},
     "output_type": "execute_result"
    }
   ],
   "source": [
    "import json\n",
    "\n",
    "j = '''\n",
    "{\n",
    "    \"name\": \"Python\",\n",
    "    \"age\": 27,\n",
    "    \"versions\": [\"2.x\", \"3.x\"]\n",
    "}\n",
    "'''\n",
    "\n",
    "json.loads(j)"
   ]
  },
  {
   "cell_type": "code",
   "execution_count": 3,
   "metadata": {},
   "outputs": [
    {
     "data": {
      "text/plain": [
       "{'time': '2018-10-21T09:00:00Z', 'message': 'created this json string'}"
      ]
     },
     "execution_count": 3,
     "metadata": {},
     "output_type": "execute_result"
    }
   ],
   "source": [
    "p = '''\n",
    "{\n",
    "    \"time\": \"2018-10-21T09:00:00Z\",\n",
    "    \"message\": \"created this json string\"\n",
    "}\n",
    "'''\n",
    "\n",
    "json.loads(p)"
   ]
  },
  {
   "cell_type": "code",
   "execution_count": 4,
   "metadata": {},
   "outputs": [
    {
     "name": "stdout",
     "output_type": "stream",
     "text": [
      "{'message': 'created this json string',\n",
      " 'time': {'objecttype': 'datetime', 'value': '2018-10-21T09:00:00Z'}}\n"
     ]
    }
   ],
   "source": [
    "p = '''\n",
    "{\n",
    "    \"time\": {\n",
    "        \"objecttype\": \"datetime\",\n",
    "        \"value\": \"2018-10-21T09:00:00Z\"\n",
    "    },\n",
    "    \"message\": \"created this json string\"\n",
    "}\n",
    "'''\n",
    "\n",
    "d = json.loads(p)\n",
    "from pprint import pprint\n",
    "pprint(d)"
   ]
  },
  {
   "cell_type": "code",
   "execution_count": 6,
   "metadata": {},
   "outputs": [],
   "source": [
    "from datetime import datetime\n",
    "\n",
    "for k, v in d.items():\n",
    "    if isinstance(v, dict) and \"objecttype\" in v and v[\"objecttype\"] == \"datetime\":\n",
    "        d[k] = datetime.strptime(v[\"value\"], \"%Y-%m-%dT%H:%M:%SZ\")"
   ]
  },
  {
   "cell_type": "code",
   "execution_count": 7,
   "metadata": {},
   "outputs": [
    {
     "data": {
      "text/plain": [
       "{'time': datetime.datetime(2018, 10, 21, 9, 0),\n",
       " 'message': 'created this json string'}"
      ]
     },
     "execution_count": 7,
     "metadata": {},
     "output_type": "execute_result"
    }
   ],
   "source": [
    "d"
   ]
  },
  {
   "cell_type": "code",
   "execution_count": 8,
   "metadata": {},
   "outputs": [
    {
     "data": {
      "text/plain": [
       "{'cake': 'yummy chocolate cake',\n",
       " 'myShare': {'objecttype': 'fraction', 'numerator': 1, 'denominator': 8}}"
      ]
     },
     "execution_count": 8,
     "metadata": {},
     "output_type": "execute_result"
    }
   ],
   "source": [
    "j = '''\n",
    "{\n",
    "    \"cake\": \"yummy chocolate cake\",\n",
    "    \"myShare\": {\n",
    "        \"objecttype\": \"fraction\",\n",
    "        \"numerator\": 1,\n",
    "        \"denominator\": 8\n",
    "    }\n",
    "}\n",
    "'''\n",
    "\n",
    "d = json.loads(j)\n",
    "d"
   ]
  },
  {
   "cell_type": "code",
   "execution_count": 9,
   "metadata": {},
   "outputs": [
    {
     "data": {
      "text/plain": [
       "{'cake': 'yummy chocolate cake', 'myShare': Fraction(1, 8)}"
      ]
     },
     "execution_count": 9,
     "metadata": {},
     "output_type": "execute_result"
    }
   ],
   "source": [
    "from fractions import Fraction\n",
    "for k, v in d.items():\n",
    "    if isinstance(v, dict) and \"objecttype\" in v and v[\"objecttype\"] == \"fraction\":\n",
    "        numerator = v[\"numerator\"]\n",
    "        denominator = v[\"denominator\"]\n",
    "        d[k] = Fraction(numerator, denominator)\n",
    "\n",
    "d"
   ]
  },
  {
   "cell_type": "code",
   "execution_count": 10,
   "metadata": {},
   "outputs": [
    {
     "name": "stdout",
     "output_type": "stream",
     "text": [
      "Decoding {'c.3.1': 1, 'c.3.2': 2}\n",
      "Decoding {'c.1': 1, 'c.2': 2, 'c.3': {'c.3.1': 1, 'c.3.2': 2}}\n",
      "Decoding {'a': 1, 'b': 2, 'c': {'c.1': 1, 'c.2': 2, 'c.3': {'c.3.1': 1, 'c.3.2': 2}}}\n"
     ]
    }
   ],
   "source": [
    "def custom_decoder(arg):\n",
    "    print(f\"Decoding {arg}\")\n",
    "    return arg\n",
    "\n",
    "j = '''\n",
    "{\n",
    "    \"a\": 1,\n",
    "    \"b\": 2,\n",
    "    \"c\": {\n",
    "        \"c.1\": 1,\n",
    "        \"c.2\": 2,\n",
    "        \"c.3\": {\n",
    "            \"c.3.1\": 1,\n",
    "            \"c.3.2\": 2\n",
    "        }\n",
    "    }\n",
    "}\n",
    "'''\n",
    "\n",
    "d = json.loads(j, object_hook=custom_decoder)"
   ]
  },
  {
   "cell_type": "code",
   "execution_count": 15,
   "metadata": {},
   "outputs": [
    {
     "name": "stdout",
     "output_type": "stream",
     "text": [
      "Decoding {'objecttype': 'datetime', 'value': '2018-10-21T09:00:00Z'}\n",
      "Decoding {'time': datetime.datetime(2018, 10, 21, 9, 0), 'message': 'created this json string'}\n"
     ]
    }
   ],
   "source": [
    "j = '''\n",
    "{\n",
    "    \"time\": {\n",
    "        \"objecttype\": \"datetime\",\n",
    "        \"value\": \"2018-10-21T09:00:00Z\"\n",
    "    },\n",
    "    \"message\": \"created this json string\"\n",
    "}\n",
    "'''\n",
    "\n",
    "def custom_decoder(arg):\n",
    "    print(f\"Decoding {arg}\")\n",
    "    if \"objecttype\" in arg and arg[\"objecttype\"] == \"datetime\":\n",
    "        return datetime.strptime(arg[\"value\"], \"%Y-%m-%dT%H:%M:%SZ\")\n",
    "    else:\n",
    "        return arg\n",
    "    \n",
    "\n",
    "d = json.loads(j, object_hook=custom_decoder)"
   ]
  },
  {
   "cell_type": "code",
   "execution_count": 16,
   "metadata": {},
   "outputs": [
    {
     "name": "stdout",
     "output_type": "stream",
     "text": [
      "Decoding {'objecttype': 'datetime', 'value': '2018-10-21T09:00:00Z'}\n"
     ]
    },
    {
     "data": {
      "text/plain": [
       "datetime.datetime(2018, 10, 21, 9, 0)"
      ]
     },
     "execution_count": 16,
     "metadata": {},
     "output_type": "execute_result"
    }
   ],
   "source": [
    "custom_decoder(dict(objecttype=\"datetime\", value=\"2018-10-21T09:00:00Z\"))"
   ]
  },
  {
   "cell_type": "code",
   "execution_count": 17,
   "metadata": {},
   "outputs": [
    {
     "name": "stdout",
     "output_type": "stream",
     "text": [
      "Decoding {'a': 1}\n"
     ]
    },
    {
     "data": {
      "text/plain": [
       "{'a': 1}"
      ]
     },
     "execution_count": 17,
     "metadata": {},
     "output_type": "execute_result"
    }
   ],
   "source": [
    "custom_decoder({\"a\": 1})"
   ]
  },
  {
   "cell_type": "code",
   "execution_count": 18,
   "metadata": {},
   "outputs": [
    {
     "name": "stdout",
     "output_type": "stream",
     "text": [
      "Decoding {'objecttype': 'datetime', 'value': '2018-10-21T09:00:00Z'}\n",
      "Decoding {'time': datetime.datetime(2018, 10, 21, 9, 0), 'message': 'created this json string'}\n"
     ]
    },
    {
     "data": {
      "text/plain": [
       "{'time': datetime.datetime(2018, 10, 21, 9, 0),\n",
       " 'message': 'created this json string'}"
      ]
     },
     "execution_count": 18,
     "metadata": {},
     "output_type": "execute_result"
    }
   ],
   "source": [
    "json.loads(j, object_hook=custom_decoder)"
   ]
  },
  {
   "cell_type": "code",
   "execution_count": 20,
   "metadata": {},
   "outputs": [
    {
     "name": "stdout",
     "output_type": "stream",
     "text": [
      "Decoding {'objecttype': 'datetime', 'value': '2018-10-21T09:00:00Z'}\n",
      "Decoding {'objecttype': 'datetime', 'value': '2018-10-22T10:00:00Z'}\n",
      "Decoding {'created': datetime.datetime(2018, 10, 21, 9, 0), 'updated': datetime.datetime(2018, 10, 22, 10, 0)}\n",
      "Decoding {'times': {'created': datetime.datetime(2018, 10, 21, 9, 0), 'updated': datetime.datetime(2018, 10, 22, 10, 0)}, 'message': 'log message here'}\n"
     ]
    },
    {
     "data": {
      "text/plain": [
       "{'times': {'created': datetime.datetime(2018, 10, 21, 9, 0),\n",
       "  'updated': datetime.datetime(2018, 10, 22, 10, 0)},\n",
       " 'message': 'log message here'}"
      ]
     },
     "execution_count": 20,
     "metadata": {},
     "output_type": "execute_result"
    }
   ],
   "source": [
    "j = '''\n",
    "{\n",
    "    \"times\": {\n",
    "        \"created\": {\n",
    "            \"objecttype\": \"datetime\",\n",
    "            \"value\": \"2018-10-21T09:00:00Z\"\n",
    "        },\n",
    "        \"updated\": {\n",
    "            \"objecttype\": \"datetime\",\n",
    "            \"value\": \"2018-10-22T10:00:00Z\"\n",
    "        }\n",
    "    },\n",
    "    \"message\": \"log message here\"\n",
    "}\n",
    "'''\n",
    "\n",
    "json.loads(j, object_hook=custom_decoder)"
   ]
  },
  {
   "cell_type": "code",
   "execution_count": 21,
   "metadata": {},
   "outputs": [
    {
     "data": {
      "text/plain": [
       "{'cake': 'yummy chocolate cake',\n",
       " 'myShare': Fraction(1, 8),\n",
       " 'eaten': {'at': datetime.datetime(2018, 10, 21, 9, 0),\n",
       "  'time_taken': '30 seconds'}}"
      ]
     },
     "execution_count": 21,
     "metadata": {},
     "output_type": "execute_result"
    }
   ],
   "source": [
    "def custom_decoder(arg):\n",
    "    if \"objecttype\" in arg:\n",
    "        if arg[\"objecttype\"] == \"datetime\":\n",
    "            return datetime.strptime(arg[\"value\"], \"%Y-%m-%dT%H:%M:%SZ\")\n",
    "        elif arg[\"objecttype\"] == \"fraction\":\n",
    "            return Fraction(arg[\"numerator\"], arg[\"denominator\"]) \n",
    "        return arg\n",
    "    return arg\n",
    "\n",
    "\n",
    "j = '''\n",
    "{\n",
    "    \"cake\": \"yummy chocolate cake\",\n",
    "    \"myShare\": {\n",
    "        \"objecttype\": \"fraction\",\n",
    "        \"numerator\": 1,\n",
    "        \"denominator\": 8\n",
    "    },\n",
    "    \"eaten\": {\n",
    "        \"at\": {\n",
    "            \"objecttype\": \"datetime\",\n",
    "            \"value\": \"2018-10-21T09:00:00Z\"\n",
    "        },\n",
    "        \"time_taken\": \"30 seconds\"\n",
    "    }\n",
    "}\n",
    "'''\n",
    "\n",
    "json.loads(j, object_hook=custom_decoder)"
   ]
  },
  {
   "cell_type": "code",
   "execution_count": 22,
   "metadata": {},
   "outputs": [],
   "source": [
    "class Person:\n",
    "    def __init__(self, name, ssn):\n",
    "        self.name = name\n",
    "        self.ssn = ssn\n",
    "\n",
    "    def __repr__(self):\n",
    "        return f\"Person(name={self.name}, ssn={self.ssn})\"\n",
    "    \n",
    "\n",
    "j = '''\n",
    "{\n",
    "    \"accountHolder\": {\n",
    "        \"objecttype\": \"person\",\n",
    "        \"name\": \"Eric Idle\",\n",
    "        \"ssn\": 100\n",
    "    },\n",
    "    \"created\": {\n",
    "        \"objecttype\": \"datetime\",\n",
    "        \"value\": \"2018-10-21T09:00:00Z\"\n",
    "    }\n",
    "}\n",
    "'''\n",
    "\n",
    "def custom_decoder(arg):\n",
    "    if \"objecttype\" in arg:\n",
    "        if arg[\"objecttype\"] == \"datetime\":\n",
    "            return datetime.strptime(arg[\"value\"], \"%Y-%m-%dT%H:%M:%SZ\")\n",
    "        elif arg[\"objecttype\"] == \"fraction\":\n",
    "            return Fraction(arg[\"numerator\"], arg[\"denominator\"]) \n",
    "        elif arg[\"objecttype\"] == \"person\":\n",
    "            return Person(arg[\"name\"], arg[\"ssn\"])\n",
    "        return arg\n",
    "    return arg\n",
    "\n",
    "\n",
    "d = json.loads(j, object_hook=custom_decoder)"
   ]
  },
  {
   "cell_type": "code",
   "execution_count": 23,
   "metadata": {},
   "outputs": [
    {
     "data": {
      "text/plain": [
       "{'accountHolder': Person(name=Eric Idle, ssn=100),\n",
       " 'created': datetime.datetime(2018, 10, 21, 9, 0)}"
      ]
     },
     "execution_count": 23,
     "metadata": {},
     "output_type": "execute_result"
    }
   ],
   "source": [
    "d"
   ]
  },
  {
   "cell_type": "code",
   "execution_count": 24,
   "metadata": {},
   "outputs": [],
   "source": [
    "class Person:\n",
    "    def __init__(self, name, ssn):\n",
    "        self.name = name\n",
    "        self.ssn = ssn\n",
    "\n",
    "    def __repr__(self):\n",
    "        return f\"Person(name={self.name}, ssn={self.ssn})\"\n",
    "    \n",
    "    def toJSON(self):\n",
    "        return dict(objecttype=\"person\", name=self.name, ssn=self.ssn)\n"
   ]
  },
  {
   "cell_type": "code",
   "execution_count": 36,
   "metadata": {},
   "outputs": [
    {
     "name": "stdout",
     "output_type": "stream",
     "text": [
      "Float Received: <class 'str'>, 0.2\n",
      "Float Received: <class 'str'>, 0.5\n"
     ]
    },
    {
     "data": {
      "text/plain": [
       "{'a': 100, 'b': Decimal('0.2'), 'c': Decimal('0.5')}"
      ]
     },
     "execution_count": 36,
     "metadata": {},
     "output_type": "execute_result"
    }
   ],
   "source": [
    "from decimal import Decimal\n",
    "\n",
    "def make_decimal(arg):\n",
    "    print(f\"Float Received: {type(arg)}, {arg}\")\n",
    "    return Decimal(arg)\n",
    "\n",
    "j = '''\n",
    "{\n",
    "    \"a\": 100,\n",
    "    \"b\": 0.2,\n",
    "    \"c\": 0.5\n",
    "}\n",
    "'''\n",
    "\n",
    "d = json.loads(j, parse_float=make_decimal)\n",
    "d"
   ]
  },
  {
   "cell_type": "code",
   "execution_count": 37,
   "metadata": {},
   "outputs": [
    {
     "name": "stdout",
     "output_type": "stream",
     "text": [
      "Int Received: <class 'str'>, 100\n",
      "Float Received: <class 'str'>, 0.2\n",
      "Float Received: <class 'str'>, 0.5\n"
     ]
    },
    {
     "data": {
      "text/plain": [
       "{'a': '0b1100100', 'b': Decimal('0.2'), 'c': Decimal('0.5')}"
      ]
     },
     "execution_count": 37,
     "metadata": {},
     "output_type": "execute_result"
    }
   ],
   "source": [
    "def make_int_binary(arg):\n",
    "    print(f\"Int Received: {type(arg)}, {arg}\")\n",
    "    return bin(int(arg))\n",
    "\n",
    "j = '''\n",
    "{\n",
    "    \"a\": 100,\n",
    "    \"b\": 0.2,\n",
    "    \"c\": 0.5\n",
    "}\n",
    "'''\n",
    "\n",
    "d = json.loads(j, parse_int=make_int_binary, parse_float=make_decimal)\n",
    "d"
   ]
  },
  {
   "cell_type": "code",
   "execution_count": 38,
   "metadata": {},
   "outputs": [
    {
     "name": "stdout",
     "output_type": "stream",
     "text": [
      "Constant Received: <class 'str'>, Infinity\n"
     ]
    },
    {
     "data": {
      "text/plain": [
       "{'a': None, 'b': True, 'c': None}"
      ]
     },
     "execution_count": 38,
     "metadata": {},
     "output_type": "execute_result"
    }
   ],
   "source": [
    "def make_const_none(arg):\n",
    "    print(f\"Constant Received: {type(arg)}, {arg}\")\n",
    "    return None\n",
    "\n",
    "j = '''\n",
    "{\n",
    "    \"a\": Infinity,\n",
    "    \"b\": true,\n",
    "    \"c\": null\n",
    "}\n",
    "'''\n",
    "\n",
    "d = json.loads(j, parse_constant=make_const_none, parse_float=make_decimal)\n",
    "d"
   ]
  },
  {
   "cell_type": "code",
   "execution_count": 39,
   "metadata": {},
   "outputs": [],
   "source": [
    "def obj_pairs_hook(arg):\n",
    "    print(f\"Object pairs hook: {type(arg)}, {arg}\")\n",
    "    return dict(arg)\n",
    "\n",
    "\n",
    "def custom_decoder(arg):\n",
    "    print(f\"Decoding {arg}\")\n",
    "    return arg\n",
    "\n",
    "j = '''\n",
    "{\n",
    "    \"a\": 1,\n",
    "    \"b\": 2,\n",
    "    \"c\": {\n",
    "        \"c.1\": 1,\n",
    "        \"c.2\": 2,\n",
    "        \"c.3\": {\n",
    "            \"c.3.1\": 1,\n",
    "            \"c.3.2\": 2\n",
    "        }\n",
    "    }\n",
    "}\n",
    "'''"
   ]
  },
  {
   "cell_type": "code",
   "execution_count": 40,
   "metadata": {},
   "outputs": [
    {
     "name": "stdout",
     "output_type": "stream",
     "text": [
      "Decoding {'c.3.1': 1, 'c.3.2': 2}\n",
      "Decoding {'c.1': 1, 'c.2': 2, 'c.3': {'c.3.1': 1, 'c.3.2': 2}}\n",
      "Decoding {'a': 1, 'b': 2, 'c': {'c.1': 1, 'c.2': 2, 'c.3': {'c.3.1': 1, 'c.3.2': 2}}}\n"
     ]
    },
    {
     "data": {
      "text/plain": [
       "{'a': 1, 'b': 2, 'c': {'c.1': 1, 'c.2': 2, 'c.3': {'c.3.1': 1, 'c.3.2': 2}}}"
      ]
     },
     "execution_count": 40,
     "metadata": {},
     "output_type": "execute_result"
    }
   ],
   "source": [
    "json.loads(j, object_hook=custom_decoder)"
   ]
  },
  {
   "cell_type": "code",
   "execution_count": 41,
   "metadata": {},
   "outputs": [
    {
     "name": "stdout",
     "output_type": "stream",
     "text": [
      "Decoding [('c.3.1', 1), ('c.3.2', 2)]\n",
      "Decoding [('c.1', 1), ('c.2', 2), ('c.3', [('c.3.1', 1), ('c.3.2', 2)])]\n",
      "Decoding [('a', 1), ('b', 2), ('c', [('c.1', 1), ('c.2', 2), ('c.3', [('c.3.1', 1), ('c.3.2', 2)])])]\n"
     ]
    },
    {
     "data": {
      "text/plain": [
       "[('a', 1),\n",
       " ('b', 2),\n",
       " ('c', [('c.1', 1), ('c.2', 2), ('c.3', [('c.3.1', 1), ('c.3.2', 2)])])]"
      ]
     },
     "execution_count": 41,
     "metadata": {},
     "output_type": "execute_result"
    }
   ],
   "source": [
    "def custom_pairs_decoder(arg):\n",
    "    print(f\"Decoding {arg}\")\n",
    "    return arg\n",
    "\n",
    "json.loads(j, object_pairs_hook=custom_pairs_decoder)"
   ]
  },
  {
   "cell_type": "code",
   "execution_count": 42,
   "metadata": {},
   "outputs": [
    {
     "name": "stdout",
     "output_type": "stream",
     "text": [
      "Decoding [('c.3.1', 1), ('c.3.2', 2)]\n",
      "Decoding [('c.1', 1), ('c.2', 2), ('c.3', {'c.3.1': 1, 'c.3.2': 2})]\n",
      "Decoding [('a', 1), ('b', 2), ('c', {'c.1': 1, 'c.2': 2, 'c.3': {'c.3.1': 1, 'c.3.2': 2}})]\n"
     ]
    },
    {
     "data": {
      "text/plain": [
       "{'a': 1, 'b': 2, 'c': {'c.1': 1, 'c.2': 2, 'c.3': {'c.3.1': 1, 'c.3.2': 2}}}"
      ]
     },
     "execution_count": 42,
     "metadata": {},
     "output_type": "execute_result"
    }
   ],
   "source": [
    "def custom_pairs_decoder(arg):\n",
    "    print(f\"Decoding {arg}\")\n",
    "    return {k: v for k, v in arg}\n",
    "\n",
    "json.loads(j, object_pairs_hook=custom_pairs_decoder)\n"
   ]
  },
  {
   "cell_type": "code",
   "execution_count": 43,
   "metadata": {},
   "outputs": [
    {
     "data": {
      "text/plain": [
       "{'a': [1, 2, 3], 'b': 100, 'c': 10.5, 'd': nan, 'e': None, 'f': 'python'}"
      ]
     },
     "execution_count": 43,
     "metadata": {},
     "output_type": "execute_result"
    }
   ],
   "source": [
    "j = '''\n",
    "{\n",
    "    \"a\": [1, 2, 3],\n",
    "    \"b\": 100,\n",
    "    \"c\": 10.5,\n",
    "    \"d\": NaN,\n",
    "    \"e\": null,\n",
    "    \"f\": \"python\"\n",
    "}\n",
    "'''\n",
    "\n",
    "def float_handler(arg):\n",
    "    print(f\"float handler {type(arg)}, {arg}\")\n",
    "    return Decimal(arg)\n",
    "\n",
    "def int_handler(arg):\n",
    "    print(f\"int handler {type(arg)}, {arg}\")\n",
    "    return int(arg)\n",
    "\n",
    "def const_handler(arg):\n",
    "    print(f\"const handler {type(arg)}, {arg}\")\n",
    "    return None\n",
    "\n",
    "def obj_hook(arg):\n",
    "    print(f\"obj hook {type(arg)}, {arg}\")\n",
    "    return arg\n",
    "\n",
    "json.loads(j)"
   ]
  },
  {
   "cell_type": "code",
   "execution_count": 44,
   "metadata": {},
   "outputs": [
    {
     "name": "stdout",
     "output_type": "stream",
     "text": [
      "int handler <class 'str'>, 1\n",
      "int handler <class 'str'>, 2\n",
      "int handler <class 'str'>, 3\n",
      "int handler <class 'str'>, 100\n",
      "float handler <class 'str'>, 10.5\n",
      "const handler <class 'str'>, NaN\n",
      "obj hook <class 'dict'>, {'a': [1, 2, 3], 'b': 100, 'c': Decimal('10.5'), 'd': None, 'e': None, 'f': 'python'}\n"
     ]
    },
    {
     "data": {
      "text/plain": [
       "{'a': [1, 2, 3],\n",
       " 'b': 100,\n",
       " 'c': Decimal('10.5'),\n",
       " 'd': None,\n",
       " 'e': None,\n",
       " 'f': 'python'}"
      ]
     },
     "execution_count": 44,
     "metadata": {},
     "output_type": "execute_result"
    }
   ],
   "source": [
    "json.loads(j, object_hook=obj_hook, parse_float=float_handler, parse_int=int_handler, parse_constant=const_handler)"
   ]
  },
  {
   "cell_type": "code",
   "execution_count": 47,
   "metadata": {},
   "outputs": [
    {
     "name": "stdout",
     "output_type": "stream",
     "text": [
      "int handler <class 'str'>, 1\n",
      "int handler <class 'str'>, 2\n",
      "float handler <class 'str'>, 10.5\n",
      "const handler <class 'str'>, NaN\n",
      "obj hook <class 'dict'>, {'c': Decimal('10.5'), 'd': None}\n",
      "obj hook <class 'dict'>, {'a': [1, 2], 'b': {'c': Decimal('10.5'), 'd': None}}\n"
     ]
    },
    {
     "data": {
      "text/plain": [
       "{'a': [1, 2], 'b': {'c': Decimal('10.5'), 'd': None}}"
      ]
     },
     "execution_count": 47,
     "metadata": {},
     "output_type": "execute_result"
    }
   ],
   "source": [
    "j = '''\n",
    "{\n",
    "    \"a\": [1, 2],\n",
    "    \"b\": {\n",
    "        \"c\": 10.5,\n",
    "        \"d\": NaN\n",
    "    }\n",
    "}\n",
    "'''\n",
    "\n",
    "json.loads(j, object_hook=obj_hook, parse_float=float_handler, parse_int=int_handler, parse_constant=const_handler)"
   ]
  },
  {
   "cell_type": "code",
   "execution_count": null,
   "metadata": {},
   "outputs": [],
   "source": []
  },
  {
   "cell_type": "code",
   "execution_count": null,
   "metadata": {},
   "outputs": [],
   "source": []
  }
 ],
 "metadata": {
  "kernelspec": {
   "display_name": "Python 3",
   "language": "python",
   "name": "python3"
  },
  "language_info": {
   "codemirror_mode": {
    "name": "ipython",
    "version": 3
   },
   "file_extension": ".py",
   "mimetype": "text/x-python",
   "name": "python",
   "nbconvert_exporter": "python",
   "pygments_lexer": "ipython3",
   "version": "3.11.6"
  }
 },
 "nbformat": 4,
 "nbformat_minor": 2
}
