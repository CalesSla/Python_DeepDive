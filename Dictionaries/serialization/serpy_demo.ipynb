{
 "cells": [
  {
   "cell_type": "code",
   "execution_count": 2,
   "metadata": {},
   "outputs": [
    {
     "data": {
      "text/plain": [
       "{'name': 'John', 'age': 30}"
      ]
     },
     "execution_count": 2,
     "metadata": {},
     "output_type": "execute_result"
    }
   ],
   "source": [
    "class Person:\n",
    "    def __init__(self, name, age):\n",
    "        self.name = name\n",
    "        self.age = age\n",
    "    \n",
    "    def __repr__(self):\n",
    "        return f'Person(name={self.name}, age={self.age})'\n",
    "    \n",
    "p1 = Person('John', 30)\n",
    "\n",
    "\n",
    "import serpy\n",
    "class PersonSerializer(serpy.Serializer):\n",
    "    name = serpy.StrField()\n",
    "    age = serpy.IntField()\n",
    "\n",
    "PersonSerializer(p1).data"
   ]
  },
  {
   "cell_type": "code",
   "execution_count": 3,
   "metadata": {},
   "outputs": [
    {
     "data": {
      "text/plain": [
       "(\"Monty Python's Life of Brian\",\n",
       " 1979,\n",
       " [Person(name=John, age=30), Person(name=John Cleese, age=79)])"
      ]
     },
     "execution_count": 3,
     "metadata": {},
     "output_type": "execute_result"
    }
   ],
   "source": [
    "class Movie:\n",
    "    def __init__(self, title, year, actors):\n",
    "        self.title = title\n",
    "        self.year = year\n",
    "        self.actors = actors\n",
    "\n",
    "class MovieSerializer(serpy.Serializer):\n",
    "    title = serpy.StrField()\n",
    "    year = serpy.IntField()\n",
    "    actors = PersonSerializer(many=True)\n",
    "\n",
    "p2 = Person(\"John Cleese\", 79)\n",
    "movie = Movie(\"Monty Python's Life of Brian\", 1979, [p1, p2])\n",
    "\n",
    "movie.title, movie.year, movie.actors"
   ]
  },
  {
   "cell_type": "code",
   "execution_count": 5,
   "metadata": {},
   "outputs": [
    {
     "data": {
      "text/plain": [
       "{'title': \"Monty Python's Life of Brian\",\n",
       " 'year': 1979,\n",
       " 'actors': [{'name': 'John', 'age': 30}, {'name': 'John Cleese', 'age': 79}]}"
      ]
     },
     "execution_count": 5,
     "metadata": {},
     "output_type": "execute_result"
    }
   ],
   "source": [
    "MovieSerializer(movie).data"
   ]
  },
  {
   "cell_type": "code",
   "execution_count": 7,
   "metadata": {},
   "outputs": [
    {
     "name": "stdout",
     "output_type": "stream",
     "text": [
      "{\"title\": \"Monty Python's Life of Brian\", \"year\": 1979, \"actors\": [{\"name\": \"John\", \"age\": 30}, {\"name\": \"John Cleese\", \"age\": 79}]}\n"
     ]
    }
   ],
   "source": [
    "import json\n",
    "import yaml\n",
    "\n",
    "print(json.dumps(MovieSerializer(movie).data))"
   ]
  },
  {
   "cell_type": "code",
   "execution_count": null,
   "metadata": {},
   "outputs": [],
   "source": []
  }
 ],
 "metadata": {
  "kernelspec": {
   "display_name": "Python 3",
   "language": "python",
   "name": "python3"
  },
  "language_info": {
   "codemirror_mode": {
    "name": "ipython",
    "version": 3
   },
   "file_extension": ".py",
   "mimetype": "text/x-python",
   "name": "python",
   "nbconvert_exporter": "python",
   "pygments_lexer": "ipython3",
   "version": "3.11.6"
  }
 },
 "nbformat": 4,
 "nbformat_minor": 2
}
