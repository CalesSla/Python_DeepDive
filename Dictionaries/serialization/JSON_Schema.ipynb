{
 "cells": [
  {
   "cell_type": "code",
   "execution_count": 7,
   "metadata": {},
   "outputs": [],
   "source": [
    "person_schema = {\n",
    "    \"type\": \"object\",\n",
    "    \"properties\": {\n",
    "        \"firstName\": {\"type\": \"string\"},\n",
    "        \"middleInitial\": {\"type\": \"string\"},\n",
    "        \"lastName\": {\"type\": \"string\"},\n",
    "        \"age\": {\"type\": \"number\"}\n",
    "    }\n",
    "}\n",
    "\n",
    "p1 = '''\n",
    "{\n",
    "    \"firstName\": \"John\",\n",
    "    \"middleInitial\": \"M\",\n",
    "    \"lastName\": \"Cleese\",\n",
    "    \"age\": 79\n",
    "}\n",
    "'''\n",
    "\n",
    "p2 = '''\n",
    "{\n",
    "    \"firstName\": \"John\",\n",
    "    \"middleInitial\": 100,\n",
    "    \"lastName\": \"Cleese\",\n",
    "    \"age\": \"Unknown\"\n",
    "}\n",
    "'''\n",
    "\n",
    "p3 = '''\n",
    "{\n",
    "    \"firstName\": \"John\",\n",
    "    \"age\": -10.5\n",
    "}\n",
    "'''"
   ]
  },
  {
   "cell_type": "code",
   "execution_count": 18,
   "metadata": {},
   "outputs": [
    {
     "name": "stdout",
     "output_type": "stream",
     "text": [
      "\n",
      "{\n",
      "    \"firstName\": \"John\",\n",
      "    \"middleInitial\": \"M\",\n",
      "    \"lastName\": \"Cleese\",\n",
      "    \"age\": 79\n",
      "}\n",
      "\n"
     ]
    }
   ],
   "source": [
    "person_schema = {\n",
    "    \"type\": \"object\",\n",
    "    \"properties\": {\n",
    "        \"firstName\": {\n",
    "            \"type\": \"string\",\n",
    "            \"minLength\": 1\n",
    "            },\n",
    "        \"middleInitial\": {\n",
    "            \"type\": \"string\",\n",
    "            \"minLength\": 1,\n",
    "            \"maxLength\": 1\n",
    "            },\n",
    "        \"lastName\": {\n",
    "            \"type\": \"string\",\n",
    "            \"minLength\": 1\n",
    "            },\n",
    "        \"age\": {\n",
    "            \"type\": \"integer\",\n",
    "            \"minimum\": 0\n",
    "            },\n",
    "        \"eyeColor\": {\n",
    "            \"type\": \"string\",\n",
    "            \"enum\": [ \"amber\", \"blue\", \"brown\", \"gray\", \"green\", \"hazel\", \"red\", \"violet\"]\n",
    "            },\n",
    "        },\n",
    "        \"required\": [\"firstName\", \"age\", \"lastName\"]\n",
    "    }\n",
    "\n",
    "\n",
    "from jsonschema import validate\n",
    "from jsonschema.exceptions import ValidationError\n",
    "from json import loads, dumps, JSONDecodeError\n",
    "\n",
    "json_doc = p1\n",
    "print(json_doc)"
   ]
  },
  {
   "cell_type": "code",
   "execution_count": 19,
   "metadata": {},
   "outputs": [
    {
     "name": "stdout",
     "output_type": "stream",
     "text": [
      "Validation error: 'lastName' is a required property\n",
      "\n",
      "Failed validating 'required' in schema:\n",
      "    {'properties': {'age': {'minimum': 0, 'type': 'integer'},\n",
      "                    'eyeColor': {'enum': ['amber',\n",
      "                                          'blue',\n",
      "                                          'brown',\n",
      "                                          'gray',\n",
      "                                          'green',\n",
      "                                          'hazel',\n",
      "                                          'red',\n",
      "                                          'violet'],\n",
      "                                 'type': 'string'},\n",
      "                    'firstName': {'minLength': 1, 'type': 'string'},\n",
      "                    'lastName': {'minLength': 1, 'type': 'string'},\n",
      "                    'middleInitial': {'maxLength': 1,\n",
      "                                      'minLength': 1,\n",
      "                                      'type': 'string'}},\n",
      "     'required': ['firstName', 'age', 'lastName'],\n",
      "     'type': 'object'}\n",
      "\n",
      "On instance:\n",
      "    {'age': -10.5, 'firstName': 'John'}\n"
     ]
    }
   ],
   "source": [
    "try:\n",
    "    validate(loads(p3), person_schema)\n",
    "except JSONDecodeError as ex:\n",
    "    print(f\"Invalid JSON: {ex}\")\n",
    "except ValidationError as ex:\n",
    "    print(f\"Validation error: {ex}\")\n",
    "else:\n",
    "    print(\"JSON is valid and conforms to the schema\")"
   ]
  },
  {
   "cell_type": "code",
   "execution_count": 20,
   "metadata": {},
   "outputs": [
    {
     "name": "stdout",
     "output_type": "stream",
     "text": [
      "-10.5 is not of type 'integer'\n",
      "-10.5 is less than the minimum of 0\n",
      "'lastName' is a required property\n"
     ]
    }
   ],
   "source": [
    "from jsonschema import Draft4Validator\n",
    "\n",
    "validator = Draft4Validator(person_schema)\n",
    "\n",
    "for error in validator.iter_errors(loads(p3)):\n",
    "    print(error.message)"
   ]
  },
  {
   "cell_type": "code",
   "execution_count": 26,
   "metadata": {},
   "outputs": [],
   "source": [
    "p4 = '''\n",
    "{\n",
    "    \"firstName\": \"john\",\n",
    "    \"lastName\": \"cleese\",\n",
    "    \"age\": 79,\n",
    "    \"eyeColor\": \"blue\"\n",
    "}\n",
    "'''"
   ]
  },
  {
   "cell_type": "code",
   "execution_count": 27,
   "metadata": {},
   "outputs": [],
   "source": [
    "from jsonschema import Draft4Validator\n",
    "\n",
    "validator = Draft4Validator(person_schema)\n",
    "\n",
    "for error in validator.iter_errors(loads(p4)):\n",
    "    print(error.message)"
   ]
  }
 ],
 "metadata": {
  "kernelspec": {
   "display_name": "Python 3",
   "language": "python",
   "name": "python3"
  },
  "language_info": {
   "codemirror_mode": {
    "name": "ipython",
    "version": 3
   },
   "file_extension": ".py",
   "mimetype": "text/x-python",
   "name": "python",
   "nbconvert_exporter": "python",
   "pygments_lexer": "ipython3",
   "version": "3.11.6"
  }
 },
 "nbformat": 4,
 "nbformat_minor": 2
}
