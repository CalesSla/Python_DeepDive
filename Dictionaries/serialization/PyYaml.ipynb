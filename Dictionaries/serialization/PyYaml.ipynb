{
 "cells": [
  {
   "cell_type": "code",
   "execution_count": 4,
   "metadata": {},
   "outputs": [
    {
     "data": {
      "text/plain": [
       "{'title': 'Parrot Sketch',\n",
       " 'actors': [{'first_name': 'John',\n",
       "   'last_name': 'Cleese',\n",
       "   'dob': datetime.date(1939, 10, 27)},\n",
       "  {'first_name': 'Michael',\n",
       "   'last_name': 'Palin',\n",
       "   'dob': datetime.date(1943, 5, 5)}]}"
      ]
     },
     "execution_count": 4,
     "metadata": {},
     "output_type": "execute_result"
    }
   ],
   "source": [
    "import yaml\n",
    "\n",
    "data = '''\n",
    "---\n",
    "title: Parrot Sketch\n",
    "actors:\n",
    "    - first_name: John\n",
    "      last_name: Cleese\n",
    "      dob: 1939-10-27\n",
    "    - first_name: Michael\n",
    "      last_name: Palin\n",
    "      dob: 1943-05-05\n",
    "'''\n",
    "\n",
    "d = yaml.safe_load(data)\n",
    "d\n"
   ]
  },
  {
   "cell_type": "code",
   "execution_count": 6,
   "metadata": {},
   "outputs": [
    {
     "name": "stdout",
     "output_type": "stream",
     "text": [
      "a: 100\n",
      "b: false\n",
      "c: 10.5\n",
      "d:\n",
      "- 1\n",
      "- 2\n",
      "- 3\n",
      "\n"
     ]
    }
   ],
   "source": [
    "d = {\"a\": 100, \"b\": False, \"c\": 10.5, \"d\": [1, 2, 3]}\n",
    "print(yaml.safe_dump(d))"
   ]
  },
  {
   "cell_type": "code",
   "execution_count": 16,
   "metadata": {},
   "outputs": [
    {
     "name": "stdout",
     "output_type": "stream",
     "text": [
      "john: !Person\n",
      "  age: 1939-10-27\n",
      "  name: John Cleese\n",
      "michael: !Person\n",
      "  age: 1943-05-05\n",
      "  name: Michael Palin\n",
      "\n"
     ]
    }
   ],
   "source": [
    "from yaml import YAMLObject, SafeLoader\n",
    "class Person(YAMLObject):\n",
    "    yaml_tag = \"!Person\"\n",
    "    yaml_loader = SafeLoader\n",
    "    def __init__(self, name, age):\n",
    "        self.name = name\n",
    "        self.age = age\n",
    "\n",
    "    def __rept__(self):\n",
    "        return f\"Person(name={self.name}, age={self.age})\"\n",
    "    \n",
    "from datetime import date\n",
    "p1 = Person(\"John Cleese\", date(1939, 10, 27))\n",
    "p2 = Person(\"Michael Palin\", date(1943, 5, 5))\n",
    "\n",
    "print(yaml.dump({\"john\": p1, \"michael\": p2}))"
   ]
  },
  {
   "cell_type": "code",
   "execution_count": 17,
   "metadata": {},
   "outputs": [
    {
     "ename": "ConstructorError",
     "evalue": "could not determine a constructor for the tag 'tag:yaml.org,2002:python/object:__main__.Person'\n  in \"<unicode string>\", line 2, column 7:\n    john: !!python/object:__main__.Person\n          ^",
     "output_type": "error",
     "traceback": [
      "\u001b[1;31m---------------------------------------------------------------------------\u001b[0m",
      "\u001b[1;31mConstructorError\u001b[0m                          Traceback (most recent call last)",
      "\u001b[1;32mc:\\Users\\veace\\Desktop\\Python_DeepDive\\Dictionaries\\serialization\\PyYaml.ipynb Cell 4\u001b[0m line \u001b[0;36m1\n\u001b[0;32m      <a href='vscode-notebook-cell:/c%3A/Users/veace/Desktop/Python_DeepDive/Dictionaries/serialization/PyYaml.ipynb#W3sZmlsZQ%3D%3D?line=0'>1</a>\u001b[0m yaml_data \u001b[39m=\u001b[39m \u001b[39m\"\"\"\u001b[39m\n\u001b[0;32m      <a href='vscode-notebook-cell:/c%3A/Users/veace/Desktop/Python_DeepDive/Dictionaries/serialization/PyYaml.ipynb#W3sZmlsZQ%3D%3D?line=1'>2</a>\u001b[0m \u001b[39mjohn: !!python/object:__main__.Person\u001b[39m\n\u001b[0;32m      <a href='vscode-notebook-cell:/c%3A/Users/veace/Desktop/Python_DeepDive/Dictionaries/serialization/PyYaml.ipynb#W3sZmlsZQ%3D%3D?line=2'>3</a>\u001b[0m \u001b[39m    age: 1939-10-27\u001b[39m\n\u001b[1;32m   (...)\u001b[0m\n\u001b[0;32m      <a href='vscode-notebook-cell:/c%3A/Users/veace/Desktop/Python_DeepDive/Dictionaries/serialization/PyYaml.ipynb#W3sZmlsZQ%3D%3D?line=6'>7</a>\u001b[0m \u001b[39m    name: Michael Palin\u001b[39m\n\u001b[0;32m      <a href='vscode-notebook-cell:/c%3A/Users/veace/Desktop/Python_DeepDive/Dictionaries/serialization/PyYaml.ipynb#W3sZmlsZQ%3D%3D?line=7'>8</a>\u001b[0m \u001b[39m\"\"\"\u001b[39m\n\u001b[1;32m---> <a href='vscode-notebook-cell:/c%3A/Users/veace/Desktop/Python_DeepDive/Dictionaries/serialization/PyYaml.ipynb#W3sZmlsZQ%3D%3D?line=9'>10</a>\u001b[0m d \u001b[39m=\u001b[39m yaml\u001b[39m.\u001b[39;49msafe_load(yaml_data)\n\u001b[0;32m     <a href='vscode-notebook-cell:/c%3A/Users/veace/Desktop/Python_DeepDive/Dictionaries/serialization/PyYaml.ipynb#W3sZmlsZQ%3D%3D?line=10'>11</a>\u001b[0m d\n",
      "File \u001b[1;32mc:\\Users\\veace\\AppData\\Local\\Programs\\Python\\Python311\\Lib\\site-packages\\yaml\\__init__.py:125\u001b[0m, in \u001b[0;36msafe_load\u001b[1;34m(stream)\u001b[0m\n\u001b[0;32m    117\u001b[0m \u001b[39mdef\u001b[39;00m \u001b[39msafe_load\u001b[39m(stream):\n\u001b[0;32m    118\u001b[0m \u001b[39m    \u001b[39m\u001b[39m\"\"\"\u001b[39;00m\n\u001b[0;32m    119\u001b[0m \u001b[39m    Parse the first YAML document in a stream\u001b[39;00m\n\u001b[0;32m    120\u001b[0m \u001b[39m    and produce the corresponding Python object.\u001b[39;00m\n\u001b[1;32m   (...)\u001b[0m\n\u001b[0;32m    123\u001b[0m \u001b[39m    to be safe for untrusted input.\u001b[39;00m\n\u001b[0;32m    124\u001b[0m \u001b[39m    \"\"\"\u001b[39;00m\n\u001b[1;32m--> 125\u001b[0m     \u001b[39mreturn\u001b[39;00m load(stream, SafeLoader)\n",
      "File \u001b[1;32mc:\\Users\\veace\\AppData\\Local\\Programs\\Python\\Python311\\Lib\\site-packages\\yaml\\__init__.py:81\u001b[0m, in \u001b[0;36mload\u001b[1;34m(stream, Loader)\u001b[0m\n\u001b[0;32m     79\u001b[0m loader \u001b[39m=\u001b[39m Loader(stream)\n\u001b[0;32m     80\u001b[0m \u001b[39mtry\u001b[39;00m:\n\u001b[1;32m---> 81\u001b[0m     \u001b[39mreturn\u001b[39;00m loader\u001b[39m.\u001b[39;49mget_single_data()\n\u001b[0;32m     82\u001b[0m \u001b[39mfinally\u001b[39;00m:\n\u001b[0;32m     83\u001b[0m     loader\u001b[39m.\u001b[39mdispose()\n",
      "File \u001b[1;32mc:\\Users\\veace\\AppData\\Local\\Programs\\Python\\Python311\\Lib\\site-packages\\yaml\\constructor.py:51\u001b[0m, in \u001b[0;36mBaseConstructor.get_single_data\u001b[1;34m(self)\u001b[0m\n\u001b[0;32m     49\u001b[0m node \u001b[39m=\u001b[39m \u001b[39mself\u001b[39m\u001b[39m.\u001b[39mget_single_node()\n\u001b[0;32m     50\u001b[0m \u001b[39mif\u001b[39;00m node \u001b[39mis\u001b[39;00m \u001b[39mnot\u001b[39;00m \u001b[39mNone\u001b[39;00m:\n\u001b[1;32m---> 51\u001b[0m     \u001b[39mreturn\u001b[39;00m \u001b[39mself\u001b[39;49m\u001b[39m.\u001b[39;49mconstruct_document(node)\n\u001b[0;32m     52\u001b[0m \u001b[39mreturn\u001b[39;00m \u001b[39mNone\u001b[39;00m\n",
      "File \u001b[1;32mc:\\Users\\veace\\AppData\\Local\\Programs\\Python\\Python311\\Lib\\site-packages\\yaml\\constructor.py:60\u001b[0m, in \u001b[0;36mBaseConstructor.construct_document\u001b[1;34m(self, node)\u001b[0m\n\u001b[0;32m     58\u001b[0m     \u001b[39mself\u001b[39m\u001b[39m.\u001b[39mstate_generators \u001b[39m=\u001b[39m []\n\u001b[0;32m     59\u001b[0m     \u001b[39mfor\u001b[39;00m generator \u001b[39min\u001b[39;00m state_generators:\n\u001b[1;32m---> 60\u001b[0m         \u001b[39mfor\u001b[39;49;00m dummy \u001b[39min\u001b[39;49;00m generator:\n\u001b[0;32m     61\u001b[0m             \u001b[39mpass\u001b[39;49;00m\n\u001b[0;32m     62\u001b[0m \u001b[39mself\u001b[39m\u001b[39m.\u001b[39mconstructed_objects \u001b[39m=\u001b[39m {}\n",
      "File \u001b[1;32mc:\\Users\\veace\\AppData\\Local\\Programs\\Python\\Python311\\Lib\\site-packages\\yaml\\constructor.py:413\u001b[0m, in \u001b[0;36mSafeConstructor.construct_yaml_map\u001b[1;34m(self, node)\u001b[0m\n\u001b[0;32m    411\u001b[0m data \u001b[39m=\u001b[39m {}\n\u001b[0;32m    412\u001b[0m \u001b[39myield\u001b[39;00m data\n\u001b[1;32m--> 413\u001b[0m value \u001b[39m=\u001b[39m \u001b[39mself\u001b[39;49m\u001b[39m.\u001b[39;49mconstruct_mapping(node)\n\u001b[0;32m    414\u001b[0m data\u001b[39m.\u001b[39mupdate(value)\n",
      "File \u001b[1;32mc:\\Users\\veace\\AppData\\Local\\Programs\\Python\\Python311\\Lib\\site-packages\\yaml\\constructor.py:218\u001b[0m, in \u001b[0;36mSafeConstructor.construct_mapping\u001b[1;34m(self, node, deep)\u001b[0m\n\u001b[0;32m    216\u001b[0m \u001b[39mif\u001b[39;00m \u001b[39misinstance\u001b[39m(node, MappingNode):\n\u001b[0;32m    217\u001b[0m     \u001b[39mself\u001b[39m\u001b[39m.\u001b[39mflatten_mapping(node)\n\u001b[1;32m--> 218\u001b[0m \u001b[39mreturn\u001b[39;00m \u001b[39msuper\u001b[39;49m()\u001b[39m.\u001b[39;49mconstruct_mapping(node, deep\u001b[39m=\u001b[39;49mdeep)\n",
      "File \u001b[1;32mc:\\Users\\veace\\AppData\\Local\\Programs\\Python\\Python311\\Lib\\site-packages\\yaml\\constructor.py:143\u001b[0m, in \u001b[0;36mBaseConstructor.construct_mapping\u001b[1;34m(self, node, deep)\u001b[0m\n\u001b[0;32m    140\u001b[0m     \u001b[39mif\u001b[39;00m \u001b[39mnot\u001b[39;00m \u001b[39misinstance\u001b[39m(key, collections\u001b[39m.\u001b[39mabc\u001b[39m.\u001b[39mHashable):\n\u001b[0;32m    141\u001b[0m         \u001b[39mraise\u001b[39;00m ConstructorError(\u001b[39m\"\u001b[39m\u001b[39mwhile constructing a mapping\u001b[39m\u001b[39m\"\u001b[39m, node\u001b[39m.\u001b[39mstart_mark,\n\u001b[0;32m    142\u001b[0m                 \u001b[39m\"\u001b[39m\u001b[39mfound unhashable key\u001b[39m\u001b[39m\"\u001b[39m, key_node\u001b[39m.\u001b[39mstart_mark)\n\u001b[1;32m--> 143\u001b[0m     value \u001b[39m=\u001b[39m \u001b[39mself\u001b[39;49m\u001b[39m.\u001b[39;49mconstruct_object(value_node, deep\u001b[39m=\u001b[39;49mdeep)\n\u001b[0;32m    144\u001b[0m     mapping[key] \u001b[39m=\u001b[39m value\n\u001b[0;32m    145\u001b[0m \u001b[39mreturn\u001b[39;00m mapping\n",
      "File \u001b[1;32mc:\\Users\\veace\\AppData\\Local\\Programs\\Python\\Python311\\Lib\\site-packages\\yaml\\constructor.py:100\u001b[0m, in \u001b[0;36mBaseConstructor.construct_object\u001b[1;34m(self, node, deep)\u001b[0m\n\u001b[0;32m     98\u001b[0m             constructor \u001b[39m=\u001b[39m \u001b[39mself\u001b[39m\u001b[39m.\u001b[39m\u001b[39m__class__\u001b[39m\u001b[39m.\u001b[39mconstruct_mapping\n\u001b[0;32m     99\u001b[0m \u001b[39mif\u001b[39;00m tag_suffix \u001b[39mis\u001b[39;00m \u001b[39mNone\u001b[39;00m:\n\u001b[1;32m--> 100\u001b[0m     data \u001b[39m=\u001b[39m constructor(\u001b[39mself\u001b[39;49m, node)\n\u001b[0;32m    101\u001b[0m \u001b[39melse\u001b[39;00m:\n\u001b[0;32m    102\u001b[0m     data \u001b[39m=\u001b[39m constructor(\u001b[39mself\u001b[39m, tag_suffix, node)\n",
      "File \u001b[1;32mc:\\Users\\veace\\AppData\\Local\\Programs\\Python\\Python311\\Lib\\site-packages\\yaml\\constructor.py:427\u001b[0m, in \u001b[0;36mSafeConstructor.construct_undefined\u001b[1;34m(self, node)\u001b[0m\n\u001b[0;32m    426\u001b[0m \u001b[39mdef\u001b[39;00m \u001b[39mconstruct_undefined\u001b[39m(\u001b[39mself\u001b[39m, node):\n\u001b[1;32m--> 427\u001b[0m     \u001b[39mraise\u001b[39;00m ConstructorError(\u001b[39mNone\u001b[39;00m, \u001b[39mNone\u001b[39;00m,\n\u001b[0;32m    428\u001b[0m             \u001b[39m\"\u001b[39m\u001b[39mcould not determine a constructor for the tag \u001b[39m\u001b[39m%r\u001b[39;00m\u001b[39m\"\u001b[39m \u001b[39m%\u001b[39m node\u001b[39m.\u001b[39mtag,\n\u001b[0;32m    429\u001b[0m             node\u001b[39m.\u001b[39mstart_mark)\n",
      "\u001b[1;31mConstructorError\u001b[0m: could not determine a constructor for the tag 'tag:yaml.org,2002:python/object:__main__.Person'\n  in \"<unicode string>\", line 2, column 7:\n    john: !!python/object:__main__.Person\n          ^"
     ]
    }
   ],
   "source": [
    "yaml_data = \"\"\"\n",
    "john: !!python/object:__main__.Person\n",
    "    age: 1939-10-27\n",
    "    name: John Cleese\n",
    "michael: !!python/object:__main__.Person\n",
    "    age: 1943-05-05\n",
    "    name: Michael Palin\n",
    "\"\"\"\n",
    "\n",
    "d = yaml.safe_load(yaml_data)\n",
    "d"
   ]
  },
  {
   "cell_type": "code",
   "execution_count": null,
   "metadata": {},
   "outputs": [],
   "source": []
  }
 ],
 "metadata": {
  "kernelspec": {
   "display_name": "Python 3",
   "language": "python",
   "name": "python3"
  },
  "language_info": {
   "codemirror_mode": {
    "name": "ipython",
    "version": 3
   },
   "file_extension": ".py",
   "mimetype": "text/x-python",
   "name": "python",
   "nbconvert_exporter": "python",
   "pygments_lexer": "ipython3",
   "version": "3.11.6"
  }
 },
 "nbformat": 4,
 "nbformat_minor": 2
}
