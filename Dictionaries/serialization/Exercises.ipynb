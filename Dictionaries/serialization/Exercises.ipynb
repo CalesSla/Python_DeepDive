{
 "cells": [
  {
   "cell_type": "code",
   "execution_count": 366,
   "metadata": {},
   "outputs": [],
   "source": [
    "class Stock:\n",
    "    def __init__(self, symbol, date, open_, high, low, close, volume):\n",
    "        self.symbol = symbol\n",
    "        self.date = date\n",
    "        self.open = open_\n",
    "        self.high = high\n",
    "        self.low = low\n",
    "        self.close = close\n",
    "        self.volume = volume\n",
    "\n",
    "    def __repr__(self):\n",
    "        return f\"Stock(symbol={self.symbol}, date={self.date}, open={self.open}, high={self.high}, low={self.low}, close={self.close}, volume={self.volume})\"\n",
    "    \n",
    "    def toJSON(self):\n",
    "        return dict(object=\"Stock\",\n",
    "                    symbol=self.symbol,\n",
    "                    date=self.date,\n",
    "                    open=self.open,\n",
    "                    high=self.high,\n",
    "                    low=self.low,\n",
    "                    close=self.close,\n",
    "                    volume=self.volume)\n",
    "    \n",
    "    def __eq__(self, other):\n",
    "        return isinstance(other, Stock) and self.toJSON() == other.toJSON()\n",
    "\n",
    "\n",
    "class Trade:\n",
    "    def __init__(self, symbol, timestamp, order, price, volume, commission):\n",
    "        self.symbol = symbol\n",
    "        self.timestamp = timestamp\n",
    "        self.order = order\n",
    "        self.price = price\n",
    "        self.volume = volume\n",
    "        self.commission = commission\n",
    "\n",
    "    def __repr__(self):\n",
    "        return f\"Trade(symbol={self.symbol}, timestamp={self.timestamp}, order={self.order}, price={self.price}, commission={self.commission}, volume={self.volume})\"\n",
    "\n",
    "    def toJSON(self):\n",
    "        return dict(object=\"Trade\",\n",
    "                    symbol=self.symbol,\n",
    "                    timestamp=self.timestamp,\n",
    "                    order=self.order,\n",
    "                    price=self.price,\n",
    "                    volume=self.volume,\n",
    "                    commission=self.commission)\n",
    "    \n",
    "    def __eq__(self, other):\n",
    "        return isinstance(other, Trade) and self.toJSON() == other.toJSON()"
   ]
  },
  {
   "cell_type": "code",
   "execution_count": 367,
   "metadata": {},
   "outputs": [],
   "source": [
    "\n",
    "\n",
    "from datetime import date, datetime\n",
    "from decimal import Decimal\n",
    "\n",
    "activity = {\n",
    "    \"quotes\": [\n",
    "        Stock('TSLA', date(2018, 11, 22), \n",
    "              Decimal('338.19'), Decimal('338.64'), Decimal('337.60'), Decimal('338.19'), 365_607),\n",
    "        Stock('AAPL', date(2018, 11, 22), \n",
    "              Decimal('176.66'), Decimal('177.25'), Decimal('176.64'), Decimal('176.78'), 3_699_184),\n",
    "        Stock('MSFT', date(2018, 11, 22), \n",
    "              Decimal('103.25'), Decimal('103.48'), Decimal('103.07'), Decimal('103.11'), 4_493_689)\n",
    "    ],\n",
    "    \n",
    "    \"trades\": [\n",
    "        Trade('TSLA', datetime(2018, 11, 22, 10, 5, 12), 'buy', Decimal('338.25'), 100, Decimal('9.99')),\n",
    "        Trade('AAPL', datetime(2018, 11, 22, 10, 30, 5), 'sell', Decimal('177.01'), 20, Decimal('9.99'))\n",
    "    ]\n",
    "}"
   ]
  },
  {
   "cell_type": "code",
   "execution_count": null,
   "metadata": {},
   "outputs": [],
   "source": []
  },
  {
   "cell_type": "code",
   "execution_count": 368,
   "metadata": {},
   "outputs": [],
   "source": [
    "from pprint import pprint\n",
    "\n",
    "class CustomJSONEncoder(json.JSONEncoder):\n",
    "    def __init__(self, *args, **kwargs):\n",
    "        super().__init__(indent=2)\n",
    "    \n",
    "    def default(self, arg):\n",
    "        if isinstance(arg, date) or isinstance(arg, datetime):\n",
    "            return arg.isoformat()\n",
    "        elif isinstance(arg, Decimal):\n",
    "            return dict(object=\"Decimal\", value=str(arg))\n",
    "        elif isinstance(arg, Stock) or isinstance(arg, Trade):\n",
    "            return arg.toJSON()\n",
    "        else:\n",
    "            super().default(arg)"
   ]
  },
  {
   "cell_type": "code",
   "execution_count": 369,
   "metadata": {},
   "outputs": [
    {
     "name": "stdout",
     "output_type": "stream",
     "text": [
      "{\n",
      "  \"quotes\": [\n",
      "    {\n",
      "      \"object\": \"Stock\",\n",
      "      \"symbol\": \"TSLA\",\n",
      "      \"date\": \"2018-11-22\",\n",
      "      \"open\": {\n",
      "        \"object\": \"Decimal\",\n",
      "        \"value\": \"338.19\"\n",
      "      },\n",
      "      \"high\": {\n",
      "        \"object\": \"Decimal\",\n",
      "        \"value\": \"338.64\"\n",
      "      },\n",
      "      \"low\": {\n",
      "        \"object\": \"Decimal\",\n",
      "        \"value\": \"337.60\"\n",
      "      },\n",
      "      \"close\": {\n",
      "        \"object\": \"Decimal\",\n",
      "        \"value\": \"338.19\"\n",
      "      },\n",
      "      \"volume\": 365607\n",
      "    },\n",
      "    {\n",
      "      \"object\": \"Stock\",\n",
      "      \"symbol\": \"AAPL\",\n",
      "      \"date\": \"2018-11-22\",\n",
      "      \"open\": {\n",
      "        \"object\": \"Decimal\",\n",
      "        \"value\": \"176.66\"\n",
      "      },\n",
      "      \"high\": {\n",
      "        \"object\": \"Decimal\",\n",
      "        \"value\": \"177.25\"\n",
      "      },\n",
      "      \"low\": {\n",
      "        \"object\": \"Decimal\",\n",
      "        \"value\": \"176.64\"\n",
      "      },\n",
      "      \"close\": {\n",
      "        \"object\": \"Decimal\",\n",
      "        \"value\": \"176.78\"\n",
      "      },\n",
      "      \"volume\": 3699184\n",
      "    },\n",
      "    {\n",
      "      \"object\": \"Stock\",\n",
      "      \"symbol\": \"MSFT\",\n",
      "      \"date\": \"2018-11-22\",\n",
      "      \"open\": {\n",
      "        \"object\": \"Decimal\",\n",
      "        \"value\": \"103.25\"\n",
      "      },\n",
      "      \"high\": {\n",
      "        \"object\": \"Decimal\",\n",
      "        \"value\": \"103.48\"\n",
      "      },\n",
      "      \"low\": {\n",
      "        \"object\": \"Decimal\",\n",
      "        \"value\": \"103.07\"\n",
      "      },\n",
      "      \"close\": {\n",
      "        \"object\": \"Decimal\",\n",
      "        \"value\": \"103.11\"\n",
      "      },\n",
      "      \"volume\": 4493689\n",
      "    }\n",
      "  ],\n",
      "  \"trades\": [\n",
      "    {\n",
      "      \"object\": \"Trade\",\n",
      "      \"symbol\": \"TSLA\",\n",
      "      \"timestamp\": \"2018-11-22T10:05:12\",\n",
      "      \"order\": \"buy\",\n",
      "      \"price\": {\n",
      "        \"object\": \"Decimal\",\n",
      "        \"value\": \"338.25\"\n",
      "      },\n",
      "      \"volume\": 100,\n",
      "      \"commission\": {\n",
      "        \"object\": \"Decimal\",\n",
      "        \"value\": \"9.99\"\n",
      "      }\n",
      "    },\n",
      "    {\n",
      "      \"object\": \"Trade\",\n",
      "      \"symbol\": \"AAPL\",\n",
      "      \"timestamp\": \"2018-11-22T10:30:05\",\n",
      "      \"order\": \"sell\",\n",
      "      \"price\": {\n",
      "        \"object\": \"Decimal\",\n",
      "        \"value\": \"177.01\"\n",
      "      },\n",
      "      \"volume\": 20,\n",
      "      \"commission\": {\n",
      "        \"object\": \"Decimal\",\n",
      "        \"value\": \"9.99\"\n",
      "      }\n",
      "    }\n",
      "  ]\n",
      "}\n"
     ]
    }
   ],
   "source": [
    "enc = json.dumps(activity, cls=CustomJSONEncoder)\n",
    "print(enc)"
   ]
  },
  {
   "cell_type": "code",
   "execution_count": 370,
   "metadata": {},
   "outputs": [],
   "source": [
    "def custom_decoder(arg):\n",
    "    if \"object\" in arg:\n",
    "        if arg[\"object\"] == \"Stock\":\n",
    "            return Stock(symbol=arg[\"symbol\"], date=arg[\"date\"], open_=arg[\"open\"], high=arg[\"high\"], low=arg[\"low\"], close=arg[\"close\"], volume=arg[\"volume\"])\n",
    "        elif arg[\"object\"] == \"Decimal\":\n",
    "            return Decimal(arg[\"value\"])\n",
    "        elif arg[\"object\"] == \"Trade\":\n",
    "            return Trade(symbol=arg[\"symbol\"], timestamp=arg[\"timestamp\"], order=arg[\"order\"], price=arg[\"price\"], commission=arg[\"commission\"], volume=arg[\"volume\"])\n",
    "    else:\n",
    "        return arg"
   ]
  },
  {
   "cell_type": "code",
   "execution_count": 371,
   "metadata": {},
   "outputs": [
    {
     "data": {
      "text/plain": [
       "{'quotes': [{'object': 'Stock',\n",
       "   'symbol': 'TSLA',\n",
       "   'date': '2018-11-22',\n",
       "   'open': {'object': 'Decimal', 'value': '338.19'},\n",
       "   'high': {'object': 'Decimal', 'value': '338.64'},\n",
       "   'low': {'object': 'Decimal', 'value': '337.60'},\n",
       "   'close': {'object': 'Decimal', 'value': '338.19'},\n",
       "   'volume': 365607},\n",
       "  {'object': 'Stock',\n",
       "   'symbol': 'AAPL',\n",
       "   'date': '2018-11-22',\n",
       "   'open': {'object': 'Decimal', 'value': '176.66'},\n",
       "   'high': {'object': 'Decimal', 'value': '177.25'},\n",
       "   'low': {'object': 'Decimal', 'value': '176.64'},\n",
       "   'close': {'object': 'Decimal', 'value': '176.78'},\n",
       "   'volume': 3699184},\n",
       "  {'object': 'Stock',\n",
       "   'symbol': 'MSFT',\n",
       "   'date': '2018-11-22',\n",
       "   'open': {'object': 'Decimal', 'value': '103.25'},\n",
       "   'high': {'object': 'Decimal', 'value': '103.48'},\n",
       "   'low': {'object': 'Decimal', 'value': '103.07'},\n",
       "   'close': {'object': 'Decimal', 'value': '103.11'},\n",
       "   'volume': 4493689}],\n",
       " 'trades': [{'object': 'Trade',\n",
       "   'symbol': 'TSLA',\n",
       "   'timestamp': '2018-11-22T10:05:12',\n",
       "   'order': 'buy',\n",
       "   'price': {'object': 'Decimal', 'value': '338.25'},\n",
       "   'volume': 100,\n",
       "   'commission': {'object': 'Decimal', 'value': '9.99'}},\n",
       "  {'object': 'Trade',\n",
       "   'symbol': 'AAPL',\n",
       "   'timestamp': '2018-11-22T10:30:05',\n",
       "   'order': 'sell',\n",
       "   'price': {'object': 'Decimal', 'value': '177.01'},\n",
       "   'volume': 20,\n",
       "   'commission': {'object': 'Decimal', 'value': '9.99'}}]}"
      ]
     },
     "execution_count": 371,
     "metadata": {},
     "output_type": "execute_result"
    }
   ],
   "source": [
    "json.loads(enc)"
   ]
  },
  {
   "cell_type": "code",
   "execution_count": 376,
   "metadata": {},
   "outputs": [],
   "source": [
    "import re\n",
    "\n",
    "class CustomDecoder(json.JSONDecoder):\n",
    "    def decode(self, arg):\n",
    "        obj = json.loads(arg)\n",
    "        pattern_decimal = r'\"object\"\\s*:\\s*\"Decimal\"'\n",
    "        if re.search(pattern_decimal, arg):\n",
    "            obj = self.make_decimal(obj)\n",
    "        pattern_stock = r'\"object\"\\s*:\\s*\"Stock\"'\n",
    "        if re.search(pattern_stock, arg):\n",
    "            obj = self.make_stock(obj)\n",
    "        pattern_trade = r'\"object\"\\s*:\\s*\"Trade\"'\n",
    "        if re.search(pattern_trade, arg):\n",
    "            obj = self.make_trade(obj)\n",
    "        \n",
    "\n",
    "        return obj\n",
    "    \n",
    "    \n",
    "    def make_stock(self, obj):\n",
    "        if isinstance(obj, dict):\n",
    "            if obj.get(\"object\", None) == \"Stock\":\n",
    "                obj = Stock(obj[\"symbol\"], datetime.strptime(obj[\"date\"], \"%Y-%m-%d\").date(), obj[\"open\"], obj[\"high\"], obj[\"low\"], obj[\"close\"], obj[\"volume\"])\n",
    "            else:\n",
    "                for key, value in obj.items():\n",
    "                    obj[key] = self.make_stock(value)\n",
    "\n",
    "        elif isinstance(obj, list):\n",
    "            for index, item in enumerate(obj):\n",
    "                obj[index] = self.make_stock(item)\n",
    "\n",
    "        return obj\n",
    "    \n",
    "    def make_trade(self, obj):\n",
    "        if isinstance(obj, dict):\n",
    "            if obj.get(\"object\", None) == \"Trade\":\n",
    "                obj = Trade(obj[\"symbol\"], datetime.strptime(obj[\"timestamp\"], \"%Y-%m-%dT%H:%M:%S\"), obj[\"order\"], obj[\"price\"], obj[\"volume\"], obj[\"commission\"])\n",
    "            else:\n",
    "                for key, value in obj.items():\n",
    "                    obj[key] = self.make_trade(value)\n",
    "\n",
    "        elif isinstance(obj, list):\n",
    "            for index, item in enumerate(obj):\n",
    "                obj[index] = self.make_trade(item)\n",
    "\n",
    "        return obj\n",
    "    \n",
    "    def make_decimal(self, obj):\n",
    "        if isinstance(obj, dict):\n",
    "            if obj.get(\"object\", None) == \"Decimal\":\n",
    "                obj = Decimal(obj[\"value\"])\n",
    "            else:\n",
    "                for key, value in obj.items():\n",
    "                    obj[key] = self.make_decimal(value)\n",
    "        \n",
    "        elif isinstance(obj, list):\n",
    "            for index, item in enumerate(obj):\n",
    "                obj[index] = self.make_decimal(item)\n",
    "\n",
    "        return obj"
   ]
  },
  {
   "cell_type": "code",
   "execution_count": 377,
   "metadata": {},
   "outputs": [
    {
     "data": {
      "text/plain": [
       "{'quotes': [Stock(symbol=TSLA, date=2018-11-22, open=338.19, high=338.64, low=337.60, close=338.19, volume=365607),\n",
       "  Stock(symbol=AAPL, date=2018-11-22, open=176.66, high=177.25, low=176.64, close=176.78, volume=3699184),\n",
       "  Stock(symbol=MSFT, date=2018-11-22, open=103.25, high=103.48, low=103.07, close=103.11, volume=4493689)],\n",
       " 'trades': [Trade(symbol=TSLA, timestamp=2018-11-22 10:05:12, order=buy, price=338.25, commission=9.99, volume=100),\n",
       "  Trade(symbol=AAPL, timestamp=2018-11-22 10:30:05, order=sell, price=177.01, commission=9.99, volume=20)]}"
      ]
     },
     "execution_count": 377,
     "metadata": {},
     "output_type": "execute_result"
    }
   ],
   "source": [
    "decoded = json.loads(enc, cls=CustomDecoder)\n",
    "decoded"
   ]
  },
  {
   "cell_type": "code",
   "execution_count": 380,
   "metadata": {},
   "outputs": [
    {
     "data": {
      "text/plain": [
       "{'quotes': [Stock(symbol=TSLA, date=2018-11-22, open=338.19, high=338.64, low=337.60, close=338.19, volume=365607),\n",
       "  Stock(symbol=AAPL, date=2018-11-22, open=176.66, high=177.25, low=176.64, close=176.78, volume=3699184),\n",
       "  Stock(symbol=MSFT, date=2018-11-22, open=103.25, high=103.48, low=103.07, close=103.11, volume=4493689)],\n",
       " 'trades': [Trade(symbol=TSLA, timestamp=2018-11-22 10:05:12, order=buy, price=338.25, commission=9.99, volume=100),\n",
       "  Trade(symbol=AAPL, timestamp=2018-11-22 10:30:05, order=sell, price=177.01, commission=9.99, volume=20)]}"
      ]
     },
     "execution_count": 380,
     "metadata": {},
     "output_type": "execute_result"
    }
   ],
   "source": [
    "activity"
   ]
  },
  {
   "cell_type": "code",
   "execution_count": 381,
   "metadata": {},
   "outputs": [
    {
     "data": {
      "text/plain": [
       "{'quotes': [Stock(symbol=TSLA, date=2018-11-22, open=338.19, high=338.64, low=337.60, close=338.19, volume=365607),\n",
       "  Stock(symbol=AAPL, date=2018-11-22, open=176.66, high=177.25, low=176.64, close=176.78, volume=3699184),\n",
       "  Stock(symbol=MSFT, date=2018-11-22, open=103.25, high=103.48, low=103.07, close=103.11, volume=4493689)],\n",
       " 'trades': [Trade(symbol=TSLA, timestamp=2018-11-22 10:05:12, order=buy, price=338.25, commission=9.99, volume=100),\n",
       "  Trade(symbol=AAPL, timestamp=2018-11-22 10:30:05, order=sell, price=177.01, commission=9.99, volume=20)]}"
      ]
     },
     "execution_count": 381,
     "metadata": {},
     "output_type": "execute_result"
    }
   ],
   "source": [
    "decoded"
   ]
  },
  {
   "cell_type": "code",
   "execution_count": 277,
   "metadata": {},
   "outputs": [
    {
     "data": {
      "text/plain": [
       "dict_keys(['quotes', 'trades'])"
      ]
     },
     "execution_count": 277,
     "metadata": {},
     "output_type": "execute_result"
    }
   ],
   "source": [
    "activity.keys()"
   ]
  },
  {
   "cell_type": "code",
   "execution_count": 303,
   "metadata": {},
   "outputs": [
    {
     "data": {
      "text/plain": [
       "{'quotes': [{'object': 'Stock',\n",
       "   'symbol': 'TSLA',\n",
       "   'date': '2018-11-22',\n",
       "   'open': {'object': 'Decimal', 'value': '338.19'},\n",
       "   'high': {'object': 'Decimal', 'value': '338.64'},\n",
       "   'low': {'object': 'Decimal', 'value': '337.60'},\n",
       "   'close': {'object': 'Decimal', 'value': '338.19'},\n",
       "   'volume': 365607},\n",
       "  {'object': 'Stock',\n",
       "   'symbol': 'AAPL',\n",
       "   'date': '2018-11-22',\n",
       "   'open': {'object': 'Decimal', 'value': '176.66'},\n",
       "   'high': {'object': 'Decimal', 'value': '177.25'},\n",
       "   'low': {'object': 'Decimal', 'value': '176.64'},\n",
       "   'close': {'object': 'Decimal', 'value': '176.78'},\n",
       "   'volume': 3699184},\n",
       "  {'object': 'Stock',\n",
       "   'symbol': 'MSFT',\n",
       "   'date': '2018-11-22',\n",
       "   'open': {'object': 'Decimal', 'value': '103.25'},\n",
       "   'high': {'object': 'Decimal', 'value': '103.48'},\n",
       "   'low': {'object': 'Decimal', 'value': '103.07'},\n",
       "   'close': {'object': 'Decimal', 'value': '103.11'},\n",
       "   'volume': 4493689}],\n",
       " 'trades': [{'object': 'Trade',\n",
       "   'symbol': 'TSLA',\n",
       "   'timestamp': '2018-11-22T10:05:12',\n",
       "   'order': 'buy',\n",
       "   'price': {'object': 'Decimal', 'value': '338.25'},\n",
       "   'commission': {'object': 'Decimal', 'value': '9.99'},\n",
       "   'volume': 100},\n",
       "  {'object': 'Trade',\n",
       "   'symbol': 'AAPL',\n",
       "   'timestamp': '2018-11-22T10:30:05',\n",
       "   'order': 'sell',\n",
       "   'price': {'object': 'Decimal', 'value': '177.01'},\n",
       "   'commission': {'object': 'Decimal', 'value': '9.99'},\n",
       "   'volume': 20}]}"
      ]
     },
     "execution_count": 303,
     "metadata": {},
     "output_type": "execute_result"
    }
   ],
   "source": [
    "json.loads(enc)"
   ]
  },
  {
   "cell_type": "code",
   "execution_count": null,
   "metadata": {},
   "outputs": [],
   "source": []
  }
 ],
 "metadata": {
  "kernelspec": {
   "display_name": "Python 3",
   "language": "python",
   "name": "python3"
  },
  "language_info": {
   "codemirror_mode": {
    "name": "ipython",
    "version": 3
   },
   "file_extension": ".py",
   "mimetype": "text/x-python",
   "name": "python",
   "nbconvert_exporter": "python",
   "pygments_lexer": "ipython3",
   "version": "3.11.6"
  }
 },
 "nbformat": 4,
 "nbformat_minor": 2
}
