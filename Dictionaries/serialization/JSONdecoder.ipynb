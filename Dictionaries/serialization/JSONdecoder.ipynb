{
 "cells": [
  {
   "cell_type": "code",
   "execution_count": 2,
   "metadata": {},
   "outputs": [
    {
     "name": "stdout",
     "output_type": "stream",
     "text": [
      "Decoding:<class 'str'>, \n",
      "{\n",
      "    \"a\": 100,\n",
      "    \"b\": [1, 2, 3],\n",
      "    \"c\": \"Python\",\n",
      "    \"d\": {\n",
      "        \"e\": 4,\n",
      "        \"f\": 5.5\n",
      "    }\n",
      "}\n",
      "\n"
     ]
    },
    {
     "data": {
      "text/plain": [
       "'a simple string object'"
      ]
     },
     "execution_count": 2,
     "metadata": {},
     "output_type": "execute_result"
    }
   ],
   "source": [
    "import json\n",
    "\n",
    "j = '''\n",
    "{\n",
    "    \"a\": 100,\n",
    "    \"b\": [1, 2, 3],\n",
    "    \"c\": \"Python\",\n",
    "    \"d\": {\n",
    "        \"e\": 4,\n",
    "        \"f\": 5.5\n",
    "    }\n",
    "}\n",
    "'''\n",
    "\n",
    "class CustomDecoder(json.JSONDecoder):\n",
    "    def decode(self, arg):\n",
    "        print(f\"Decoding:{type(arg)}, {arg}\")\n",
    "        return \"a simple string object\"\n",
    "    \n",
    "json.loads(j, cls=CustomDecoder)"
   ]
  },
  {
   "cell_type": "code",
   "execution_count": 17,
   "metadata": {},
   "outputs": [
    {
     "data": {
      "text/plain": [
       "'parsing object for points'"
      ]
     },
     "execution_count": 17,
     "metadata": {},
     "output_type": "execute_result"
    }
   ],
   "source": [
    "class Point:\n",
    "    def __init__(self, x, y):\n",
    "        self.x = x\n",
    "        self.y = y\n",
    "        \n",
    "    def __repr__(self):\n",
    "        return f\"Point(x={self.x}, y={self.y})\"\n",
    "    \n",
    "j_points = '''\n",
    "{   \n",
    "    \"points\": [\n",
    "        [10, 20],\n",
    "        [-1, -2],\n",
    "        [0.5, 0.5]\n",
    "    ]\n",
    "}\n",
    "'''\n",
    "\n",
    "j_other = '''\n",
    "{\n",
    "    \"a\": 1,\n",
    "    \"b\": 2\n",
    "}\n",
    "'''\n",
    "\n",
    "class CustomDecoder(json.JSONDecoder):\n",
    "    def decode(self, arg):\n",
    "        if \"points\" in arg:\n",
    "            obj = json.loads(arg)\n",
    "            return \"parsing object for points\"\n",
    "        else:\n",
    "            return super().decode(arg)\n",
    "\n",
    "json.loads(j_points, cls=CustomDecoder)"
   ]
  },
  {
   "cell_type": "code",
   "execution_count": 18,
   "metadata": {},
   "outputs": [
    {
     "data": {
      "text/plain": [
       "{'a': 1, 'b': 2}"
      ]
     },
     "execution_count": 18,
     "metadata": {},
     "output_type": "execute_result"
    }
   ],
   "source": [
    "json.loads(j_other, cls=CustomDecoder)"
   ]
  },
  {
   "cell_type": "code",
   "execution_count": 19,
   "metadata": {},
   "outputs": [
    {
     "data": {
      "text/plain": [
       "{'points': [Point(x=10, y=20), Point(x=-1, y=-2), Point(x=0.5, y=0.5)]}"
      ]
     },
     "execution_count": 19,
     "metadata": {},
     "output_type": "execute_result"
    }
   ],
   "source": [
    "class CustomDecoder(json.JSONDecoder):\n",
    "    def decode(self, arg):\n",
    "        obj = json.loads(arg)\n",
    "        if \"points\" in obj:\n",
    "            obj['points'] = [Point(x, y) for x, y in obj['points']]\n",
    "        return obj\n",
    "    \n",
    "json.loads(j_points, cls=CustomDecoder)"
   ]
  },
  {
   "cell_type": "code",
   "execution_count": 20,
   "metadata": {},
   "outputs": [
    {
     "data": {
      "text/plain": [
       "{'a': 1, 'b': 2}"
      ]
     },
     "execution_count": 20,
     "metadata": {},
     "output_type": "execute_result"
    }
   ],
   "source": [
    "json.loads(j_other, cls=CustomDecoder)"
   ]
  },
  {
   "cell_type": "code",
   "execution_count": 21,
   "metadata": {},
   "outputs": [
    {
     "data": {
      "text/plain": [
       "{'a': 100, 'b': [1, 2, 3], 'c': 'Python', 'd': {'e': 4, 'f': 5.5}}"
      ]
     },
     "execution_count": 21,
     "metadata": {},
     "output_type": "execute_result"
    }
   ],
   "source": [
    "json.loads(j, cls = CustomDecoder)"
   ]
  },
  {
   "cell_type": "code",
   "execution_count": 24,
   "metadata": {},
   "outputs": [
    {
     "name": "stdout",
     "output_type": "stream",
     "text": [
      "None\n"
     ]
    }
   ],
   "source": [
    "import re\n",
    "\n",
    "pattern = r'\"_type\"\\s*:\\s*\"point\"'\n",
    "\n",
    "regexp = re.compile(pattern)\n",
    "\n",
    "print(regexp.search(j_points))"
   ]
  },
  {
   "cell_type": "code",
   "execution_count": 26,
   "metadata": {},
   "outputs": [
    {
     "name": "stdout",
     "output_type": "stream",
     "text": [
      "<re.Match object; span=(0, 24), match='\"_type\"        : \"point\"'>\n"
     ]
    }
   ],
   "source": [
    "print(regexp.search('\"_type\"        : \"point\"'))"
   ]
  },
  {
   "cell_type": "code",
   "execution_count": 27,
   "metadata": {},
   "outputs": [
    {
     "data": {
      "text/plain": [
       "<re.Match object; span=(0, 24), match='\"_type\"        : \"point\"'>"
      ]
     },
     "execution_count": 27,
     "metadata": {},
     "output_type": "execute_result"
    }
   ],
   "source": [
    "re.search(pattern, '\"_type\"        : \"point\"')"
   ]
  },
  {
   "cell_type": "code",
   "execution_count": 32,
   "metadata": {},
   "outputs": [
    {
     "data": {
      "text/plain": [
       "{'a': 100,\n",
       " 'b': 0.5,\n",
       " 'rectangle': {'corners': {'b_left': {'_type': 'point', 'x': -1, 'y': -1},\n",
       "   'b_right': {'_type': 'point', 'x': 1, 'y': -1},\n",
       "   't_left': {'_type': 'point', 'x': -1, 'y': 1},\n",
       "   't_right': {'_type': 'point', 'x': 1, 'y': 1}},\n",
       "  'rotate': {'_type': 'point', 'x': 0, 'y': 0},\n",
       "  'interior_pts': [{'_type': 'point', 'x': 0, 'y': 0},\n",
       "   {'_type': 'point', 'x': 0.5, 'y': 0.5}]}}"
      ]
     },
     "execution_count": 32,
     "metadata": {},
     "output_type": "execute_result"
    }
   ],
   "source": [
    "class CustomDecoder(json.JSONDecoder):\n",
    "    def decode(self, arg):\n",
    "        obj = json.loads(arg)\n",
    "        pattern = r'\"_type\"\\s*:\\s*\"point\"'\n",
    "        if re.search(pattern, arg):\n",
    "            obj = self.make_pts(obj)\n",
    "        return obj\n",
    "    \n",
    "    def make_pts(self, obj):\n",
    "        if isinstance(obj, dict):\n",
    "            if obj.get(\"_type\", None) == \"point\":\n",
    "                obj = Point(obj['x'], obj['y'])\n",
    "            else:\n",
    "                for key, value in obj.items():\n",
    "                    obj[key] = self.make_pts(value)\n",
    "\n",
    "        elif isinstance(obj, list):\n",
    "            for index, item in enumerate(obj):\n",
    "                obj[index] = self.make_pts(item)\n",
    "        return obj\n",
    "    \n",
    "j = '''\n",
    "{\n",
    "    \"a\": 100,\n",
    "    \"b\": 0.5,\n",
    "    \"rectangle\": {\n",
    "        \"corners\": {\n",
    "            \"b_left\": {\"_type\": \"point\", \"x\": -1, \"y\": -1},\n",
    "            \"b_right\": {\"_type\": \"point\", \"x\": 1, \"y\": -1},\n",
    "            \"t_left\": {\"_type\": \"point\", \"x\": -1, \"y\": 1},\n",
    "            \"t_right\": {\"_type\": \"point\", \"x\": 1, \"y\": 1}\n",
    "        },\n",
    "        \"rotate\": {\"_type\": \"point\", \"x\": 0, \"y\": 0},\n",
    "        \"interior_pts\": [\n",
    "            {\"_type\": \"point\", \"x\": 0, \"y\": 0},\n",
    "            {\"_type\": \"point\", \"x\": 0.5, \"y\": 0.5}\n",
    "        ]\n",
    "    }\n",
    "}\n",
    "'''\n",
    "\n",
    "\n",
    "json.loads(j)"
   ]
  },
  {
   "cell_type": "code",
   "execution_count": 34,
   "metadata": {},
   "outputs": [
    {
     "name": "stdout",
     "output_type": "stream",
     "text": [
      "{'a': 100,\n",
      " 'b': 0.5,\n",
      " 'rectangle': {'corners': {'b_left': Point(x=-1, y=-1),\n",
      "                           'b_right': Point(x=1, y=-1),\n",
      "                           't_left': Point(x=-1, y=1),\n",
      "                           't_right': Point(x=1, y=1)},\n",
      "               'interior_pts': [Point(x=0, y=0), Point(x=0.5, y=0.5)],\n",
      "               'rotate': Point(x=0, y=0)}}\n"
     ]
    }
   ],
   "source": [
    "from pprint import pprint\n",
    "pprint(json.loads(j, cls=CustomDecoder))"
   ]
  },
  {
   "cell_type": "code",
   "execution_count": 37,
   "metadata": {},
   "outputs": [
    {
     "ename": "TypeError",
     "evalue": "'JSONDecoder' object is not callable",
     "output_type": "error",
     "traceback": [
      "\u001b[1;31m---------------------------------------------------------------------------\u001b[0m",
      "\u001b[1;31mTypeError\u001b[0m                                 Traceback (most recent call last)",
      "\u001b[1;32mc:\\Users\\veace\\Desktop\\Python_DeepDive\\Dictionaries\\serialization\\JSONdecoder.ipynb Cell 12\u001b[0m line \u001b[0;36m5\n\u001b[0;32m      <a href='vscode-notebook-cell:/c%3A/Users/veace/Desktop/Python_DeepDive/Dictionaries/serialization/JSONdecoder.ipynb#X14sZmlsZQ%3D%3D?line=0'>1</a>\u001b[0m \u001b[39mfrom\u001b[39;00m \u001b[39mdecimal\u001b[39;00m \u001b[39mimport\u001b[39;00m Decimal\n\u001b[0;32m      <a href='vscode-notebook-cell:/c%3A/Users/veace/Desktop/Python_DeepDive/Dictionaries/serialization/JSONdecoder.ipynb#X14sZmlsZQ%3D%3D?line=2'>3</a>\u001b[0m CustomDecoder \u001b[39m=\u001b[39m json\u001b[39m.\u001b[39mJSONDecoder(parse_float\u001b[39m=\u001b[39mDecimal)\n\u001b[1;32m----> <a href='vscode-notebook-cell:/c%3A/Users/veace/Desktop/Python_DeepDive/Dictionaries/serialization/JSONdecoder.ipynb#X14sZmlsZQ%3D%3D?line=4'>5</a>\u001b[0m pprint(json\u001b[39m.\u001b[39;49mloads(j, \u001b[39mcls\u001b[39;49m\u001b[39m=\u001b[39;49mCustomDecoder))\n",
      "File \u001b[1;32mc:\\Users\\veace\\AppData\\Local\\Programs\\Python\\Python311\\Lib\\json\\__init__.py:359\u001b[0m, in \u001b[0;36mloads\u001b[1;34m(s, cls, object_hook, parse_float, parse_int, parse_constant, object_pairs_hook, **kw)\u001b[0m\n\u001b[0;32m    357\u001b[0m \u001b[39mif\u001b[39;00m parse_constant \u001b[39mis\u001b[39;00m \u001b[39mnot\u001b[39;00m \u001b[39mNone\u001b[39;00m:\n\u001b[0;32m    358\u001b[0m     kw[\u001b[39m'\u001b[39m\u001b[39mparse_constant\u001b[39m\u001b[39m'\u001b[39m] \u001b[39m=\u001b[39m parse_constant\n\u001b[1;32m--> 359\u001b[0m \u001b[39mreturn\u001b[39;00m \u001b[39mcls\u001b[39;49m(\u001b[39m*\u001b[39;49m\u001b[39m*\u001b[39;49mkw)\u001b[39m.\u001b[39mdecode(s)\n",
      "\u001b[1;31mTypeError\u001b[0m: 'JSONDecoder' object is not callable"
     ]
    }
   ],
   "source": [
    "from decimal import Decimal\n",
    "\n",
    "CustomDecoder = json.JSONDecoder(parse_float=Decimal)\n",
    "\n",
    "pprint(json.loads(j, cls=CustomDecoder))"
   ]
  },
  {
   "cell_type": "code",
   "execution_count": 36,
   "metadata": {},
   "outputs": [
    {
     "data": {
      "text/plain": [
       "{'a': 100,\n",
       " 'b': Decimal('0.5'),\n",
       " 'rectangle': {'corners': {'b_left': {'_type': 'point', 'x': -1, 'y': -1},\n",
       "   'b_right': {'_type': 'point', 'x': 1, 'y': -1},\n",
       "   't_left': {'_type': 'point', 'x': -1, 'y': 1},\n",
       "   't_right': {'_type': 'point', 'x': 1, 'y': 1}},\n",
       "  'rotate': {'_type': 'point', 'x': 0, 'y': 0},\n",
       "  'interior_pts': [{'_type': 'point', 'x': 0, 'y': 0},\n",
       "   {'_type': 'point', 'x': Decimal('0.5'), 'y': Decimal('0.5')}]}}"
      ]
     },
     "execution_count": 36,
     "metadata": {},
     "output_type": "execute_result"
    }
   ],
   "source": [
    "d"
   ]
  },
  {
   "cell_type": "code",
   "execution_count": 39,
   "metadata": {},
   "outputs": [
    {
     "name": "stdout",
     "output_type": "stream",
     "text": [
      "{'a': 100,\n",
      " 'b': Decimal('0.5'),\n",
      " 'rectangle': {'corners': {'b_left': Point(x=-1, y=-1),\n",
      "                           'b_right': Point(x=1, y=-1),\n",
      "                           't_left': Point(x=-1, y=1),\n",
      "                           't_right': Point(x=1, y=1)},\n",
      "               'interior_pts': [Point(x=0, y=0), Point(x=0.5, y=0.5)],\n",
      "               'rotate': Point(x=0, y=0)}}\n"
     ]
    }
   ],
   "source": [
    "class CustomDecoder(json.JSONDecoder):\n",
    "    base_decoder = json.JSONDecoder(parse_float=Decimal)\n",
    "\n",
    "    def decode(self, arg):\n",
    "        obj = self.base_decoder.decode(arg)\n",
    "        pattern = r'\"_type\"\\s*:\\s*\"point\"'\n",
    "        if re.search(pattern, arg):\n",
    "            obj = self.make_pts(obj)\n",
    "        return obj\n",
    "    \n",
    "    def make_pts(self, obj):\n",
    "        if isinstance(obj, dict):\n",
    "            if obj.get(\"_type\", None) == \"point\":\n",
    "                obj = Point(obj['x'], obj['y'])\n",
    "            else:\n",
    "                for key, value in obj.items():\n",
    "                    obj[key] = self.make_pts(value)\n",
    "\n",
    "        elif isinstance(obj, list):\n",
    "            for index, item in enumerate(obj):\n",
    "                obj[index] = self.make_pts(item)\n",
    "        return obj\n",
    "    \n",
    "\n",
    "pprint(json.loads(j, cls=CustomDecoder))"
   ]
  },
  {
   "cell_type": "code",
   "execution_count": 43,
   "metadata": {},
   "outputs": [
    {
     "data": {
      "text/plain": [
       "decimal.Decimal"
      ]
     },
     "execution_count": 43,
     "metadata": {},
     "output_type": "execute_result"
    }
   ],
   "source": [
    "result = json.loads(j, cls = CustomDecoder)\n",
    "pt = result['rectangle']['interior_pts'][1]\n",
    "type(pt.x)"
   ]
  },
  {
   "cell_type": "code",
   "execution_count": 44,
   "metadata": {},
   "outputs": [
    {
     "name": "stdout",
     "output_type": "stream",
     "text": [
      "{'a': 100,\n",
      " 'b': Decimal('0.5'),\n",
      " 'rectangle': {'corners': {'b_left': Point(x=-1, y=-1),\n",
      "                           'b_right': Point(x=1, y=-1),\n",
      "                           't_left': Point(x=-1, y=1),\n",
      "                           't_right': Point(x=1, y=1)},\n",
      "               'interior_pts': [Point(x=0, y=0), Point(x=0.5, y=0.5)],\n",
      "               'rotate': Point(x=0, y=0)}}\n"
     ]
    }
   ],
   "source": [
    "class CustomDecoder(json.JSONDecoder):\n",
    "    def __init__(self, *args, **kwargs):\n",
    "        super().__init__(parse_float=Decimal)\n",
    "    base_decoder = json.JSONDecoder(parse_float=Decimal)\n",
    "\n",
    "    def decode(self, arg):\n",
    "        obj = super().decode(arg)\n",
    "        pattern = r'\"_type\"\\s*:\\s*\"point\"'\n",
    "        if re.search(pattern, arg):\n",
    "            obj = self.make_pts(obj)\n",
    "        return obj\n",
    "    \n",
    "    def make_pts(self, obj):\n",
    "        if isinstance(obj, dict):\n",
    "            if obj.get(\"_type\", None) == \"point\":\n",
    "                obj = Point(obj['x'], obj['y'])\n",
    "            else:\n",
    "                for key, value in obj.items():\n",
    "                    obj[key] = self.make_pts(value)\n",
    "\n",
    "        elif isinstance(obj, list):\n",
    "            for index, item in enumerate(obj):\n",
    "                obj[index] = self.make_pts(item)\n",
    "        return obj\n",
    "    \n",
    "\n",
    "pprint(json.loads(j, cls=CustomDecoder))"
   ]
  },
  {
   "cell_type": "code",
   "execution_count": null,
   "metadata": {},
   "outputs": [],
   "source": []
  }
 ],
 "metadata": {
  "kernelspec": {
   "display_name": "Python 3",
   "language": "python",
   "name": "python3"
  },
  "language_info": {
   "codemirror_mode": {
    "name": "ipython",
    "version": 3
   },
   "file_extension": ".py",
   "mimetype": "text/x-python",
   "name": "python",
   "nbconvert_exporter": "python",
   "pygments_lexer": "ipython3",
   "version": "3.11.6"
  }
 },
 "nbformat": 4,
 "nbformat_minor": 2
}
