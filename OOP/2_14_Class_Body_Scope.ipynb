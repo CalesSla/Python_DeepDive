{
 "cells": [
  {
   "cell_type": "code",
   "execution_count": 1,
   "metadata": {},
   "outputs": [],
   "source": [
    "class Language:\n",
    "    MAJOR = 3\n",
    "    MINOR = 7\n",
    "    REVISION = 4\n",
    "    FULL = \"{}.{}.{}\".format(MAJOR, MINOR, REVISION)"
   ]
  },
  {
   "cell_type": "code",
   "execution_count": 2,
   "metadata": {},
   "outputs": [
    {
     "data": {
      "text/plain": [
       "'3.7.4'"
      ]
     },
     "execution_count": 2,
     "metadata": {},
     "output_type": "execute_result"
    }
   ],
   "source": [
    "Language.FULL"
   ]
  },
  {
   "cell_type": "code",
   "execution_count": 5,
   "metadata": {},
   "outputs": [],
   "source": [
    "class Language:\n",
    "    MAJOR = 3\n",
    "    MINOR = 7\n",
    "    REVISION = 4\n",
    "\n",
    "    @property\n",
    "    def version(self):\n",
    "        return \"{}.{}.{}\".format(self.MAJOR, self.MINOR, self.REVISION)\n",
    "\n",
    "    @classmethod\n",
    "    def cls_version(cls):\n",
    "        return \"{}.{}.{}\".format(cls.MAJOR, cls.MINOR, cls.REVISION)\n",
    "\n",
    "    @staticmethod\n",
    "    def static_version():\n",
    "        return \"{}.{}.{}\".format(Language.MAJOR, Language.MINOR, Language.REVISION)\n",
    "    \n"
   ]
  },
  {
   "cell_type": "code",
   "execution_count": 4,
   "metadata": {},
   "outputs": [
    {
     "data": {
      "text/plain": [
       "'3.7.4'"
      ]
     },
     "execution_count": 4,
     "metadata": {},
     "output_type": "execute_result"
    }
   ],
   "source": [
    "l = Language()\n",
    "l.version"
   ]
  },
  {
   "cell_type": "code",
   "execution_count": 6,
   "metadata": {},
   "outputs": [
    {
     "data": {
      "text/plain": [
       "'3.7.4'"
      ]
     },
     "execution_count": 6,
     "metadata": {},
     "output_type": "execute_result"
    }
   ],
   "source": [
    "Language.cls_version()"
   ]
  },
  {
   "cell_type": "code",
   "execution_count": 7,
   "metadata": {},
   "outputs": [],
   "source": [
    "def full_version():\n",
    "    return \"{}.{}.{}\".format(Language.MAJOR, Language.MINOR, Language.REVISION)\n",
    "\n",
    "class Language:\n",
    "    MAJOR = 3\n",
    "    MINOR = 7\n",
    "    REVISION = 4\n",
    "\n",
    "    version = full_version"
   ]
  },
  {
   "cell_type": "code",
   "execution_count": 8,
   "metadata": {},
   "outputs": [
    {
     "data": {
      "text/plain": [
       "True"
      ]
     },
     "execution_count": 8,
     "metadata": {},
     "output_type": "execute_result"
    }
   ],
   "source": [
    "Language.version is full_version"
   ]
  },
  {
   "cell_type": "code",
   "execution_count": 9,
   "metadata": {},
   "outputs": [
    {
     "data": {
      "text/plain": [
       "'3.7.4'"
      ]
     },
     "execution_count": 9,
     "metadata": {},
     "output_type": "execute_result"
    }
   ],
   "source": [
    "Language.version()"
   ]
  },
  {
   "cell_type": "code",
   "execution_count": 10,
   "metadata": {},
   "outputs": [
    {
     "ename": "TypeError",
     "evalue": "Language.version() missing 1 required positional argument: 'self'",
     "output_type": "error",
     "traceback": [
      "\u001b[1;31m---------------------------------------------------------------------------\u001b[0m",
      "\u001b[1;31mTypeError\u001b[0m                                 Traceback (most recent call last)",
      "Cell \u001b[1;32mIn[10], line 14\u001b[0m\n\u001b[0;32m     11\u001b[0m         \u001b[38;5;28;01mreturn\u001b[39;00m \u001b[38;5;124m\"\u001b[39m\u001b[38;5;132;01m{}\u001b[39;00m\u001b[38;5;124m.\u001b[39m\u001b[38;5;132;01m{}\u001b[39;00m\u001b[38;5;124m.\u001b[39m\u001b[38;5;132;01m{}\u001b[39;00m\u001b[38;5;124m\"\u001b[39m\u001b[38;5;241m.\u001b[39mformat(MAJOR, MINOR, REVISION)\n\u001b[0;32m     13\u001b[0m l \u001b[38;5;241m=\u001b[39m Language()\n\u001b[1;32m---> 14\u001b[0m \u001b[43ml\u001b[49m\u001b[38;5;241;43m.\u001b[39;49m\u001b[43mversion\u001b[49m\u001b[43m(\u001b[49m\u001b[43m)\u001b[49m        \n",
      "\u001b[1;31mTypeError\u001b[0m: Language.version() missing 1 required positional argument: 'self'"
     ]
    }
   ],
   "source": [
    "def full_version():\n",
    "    return \"{}.{}.{}\".format(MAJOR, MINOR, REVISION)\n",
    "\n",
    "class Language:\n",
    "    MAJOR = 3\n",
    "    MINOR = 7\n",
    "    REVISION = 4\n",
    "\n",
    "    @staticmethod\n",
    "    def version(self):\n",
    "        return \"{}.{}.{}\".format(MAJOR, MINOR, REVISION)\n",
    "\n",
    "l = Language()\n",
    "l.version()        \n"
   ]
  },
  {
   "cell_type": "code",
   "execution_count": 13,
   "metadata": {},
   "outputs": [
    {
     "data": {
      "text/plain": [
       "'0.4.2'"
      ]
     },
     "execution_count": 13,
     "metadata": {},
     "output_type": "execute_result"
    }
   ],
   "source": [
    "MAJOR = 0\n",
    "MINOR = 0\n",
    "REVISION = 1\n",
    "\n",
    "def gen_class():\n",
    "    MAJOR = 0\n",
    "    MINOR = 4\n",
    "    REVISION = 2\n",
    "\n",
    "    class Language:\n",
    "        MAJOR = 3\n",
    "        MINOR = 7\n",
    "        REVISION = 4\n",
    "\n",
    "        @classmethod\n",
    "        def version(cls):\n",
    "            return \"{}.{}.{}\".format(MAJOR, MINOR, REVISION)\n",
    "        \n",
    "\n",
    "    return Language\n",
    "\n",
    "cls = gen_class()\n",
    "\n",
    "cls.version()"
   ]
  },
  {
   "cell_type": "code",
   "execution_count": 14,
   "metadata": {},
   "outputs": [
    {
     "data": {
      "text/plain": [
       "ClosureVars(nonlocals={'MAJOR': 0, 'MINOR': 4, 'REVISION': 2}, globals={}, builtins={'format': <built-in function format>}, unbound=set())"
      ]
     },
     "execution_count": 14,
     "metadata": {},
     "output_type": "execute_result"
    }
   ],
   "source": [
    "import inspect\n",
    "\n",
    "inspect.getclosurevars(cls.version)"
   ]
  },
  {
   "cell_type": "code",
   "execution_count": 15,
   "metadata": {},
   "outputs": [
    {
     "data": {
      "text/plain": [
       "{'__name__': '__main__',\n",
       " '__doc__': 'Automatically created module for IPython interactive environment',\n",
       " '__package__': None,\n",
       " '__loader__': None,\n",
       " '__spec__': None,\n",
       " '__builtin__': <module 'builtins' (built-in)>,\n",
       " '__builtins__': <module 'builtins' (built-in)>,\n",
       " '_ih': ['',\n",
       "  'class Language:\\n    MAJOR = 3\\n    MINOR = 7\\n    REVISION = 4\\n    FULL = \"{}.{}.{}\".format(MAJOR, MINOR, REVISION)',\n",
       "  'Language.FULL',\n",
       "  'class Language:\\n    MAJOR = 3\\n    MINOR = 7\\n    REVISION = 4\\n\\n    @property\\n    def version(self):\\n        return \"{}.{}.{}\".format(self.MAJOR, self.MINOR, self.REVISION)',\n",
       "  'l = Language()\\nl.version',\n",
       "  'class Language:\\n    MAJOR = 3\\n    MINOR = 7\\n    REVISION = 4\\n\\n    @property\\n    def version(self):\\n        return \"{}.{}.{}\".format(self.MAJOR, self.MINOR, self.REVISION)\\n\\n    @classmethod\\n    def cls_version(cls):\\n        return \"{}.{}.{}\".format(cls.MAJOR, cls.MINOR, cls.REVISION)\\n\\n    @staticmethod\\n    def static_version():\\n        return \"{}.{}.{}\".format(Language.MAJOR, Language.MINOR, Language.REVISION)\\n    ',\n",
       "  'Language.cls_version()',\n",
       "  'def full_version():\\n    return \"{}.{}.{}\".format(Language.MAJOR, Language.MINOR, Language.REVISION)\\n\\nclass Language:\\n    MAJOR = 3\\n    MINOR = 7\\n    REVISION = 4\\n\\n    version = full_version',\n",
       "  'Language.version is full_version',\n",
       "  'Language.version()',\n",
       "  'def full_version():\\n    return \"{}.{}.{}\".format(MAJOR, MINOR, REVISION)\\n\\nclass Language:\\n    MAJOR = 3\\n    MINOR = 7\\n    REVISION = 4\\n\\n    @staticmethod\\n    def version(self):\\n        return \"{}.{}.{}\".format(MAJOR, MINOR, REVISION)\\n\\nl = Language()\\nl.version()        ',\n",
       "  'MAJOR = 0\\nMINOR = 0\\nREVISION = 1\\n\\ndef gen_class():\\n    MAJOR = 0\\n    MINOR = 4\\n    REVISION = 2\\n\\n    class Language:\\n        MAJOR = 3\\n        MINOR = 7\\n        REVISION = 4\\n\\n        @classmethod\\n        def version(cls):\\n            return \"{}.{}.{}\".format(MAJOR, MINOR, REVISION)\\n        \\n\\n    return Language\\n\\ncls = gen_class()\\n\\ncls.version()',\n",
       "  'MAJOR = 0\\nMINOR = 0\\nREVISION = 1\\n\\ndef gen_class():\\n    # MAJOR = 0\\n    # MINOR = 4\\n    # REVISION = 2\\n\\n    class Language:\\n        MAJOR = 3\\n        MINOR = 7\\n        REVISION = 4\\n\\n        @classmethod\\n        def version(cls):\\n            return \"{}.{}.{}\".format(MAJOR, MINOR, REVISION)\\n        \\n\\n    return Language\\n\\ncls = gen_class()\\n\\ncls.version()',\n",
       "  'MAJOR = 0\\nMINOR = 0\\nREVISION = 1\\n\\ndef gen_class():\\n    MAJOR = 0\\n    MINOR = 4\\n    REVISION = 2\\n\\n    class Language:\\n        MAJOR = 3\\n        MINOR = 7\\n        REVISION = 4\\n\\n        @classmethod\\n        def version(cls):\\n            return \"{}.{}.{}\".format(MAJOR, MINOR, REVISION)\\n        \\n\\n    return Language\\n\\ncls = gen_class()\\n\\ncls.version()',\n",
       "  'import inspect\\n\\ninspect.getclosurevars(cls.version)',\n",
       "  'globals()'],\n",
       " '_oh': {2: '3.7.4',\n",
       "  4: '3.7.4',\n",
       "  6: '3.7.4',\n",
       "  8: True,\n",
       "  9: '3.7.4',\n",
       "  11: '0.4.2',\n",
       "  12: '0.0.1',\n",
       "  13: '0.4.2',\n",
       "  14: ClosureVars(nonlocals={'MAJOR': 0, 'MINOR': 4, 'REVISION': 2}, globals={}, builtins={'format': <built-in function format>}, unbound=set())},\n",
       " '_dh': [WindowsPath('c:/Users/veace/Desktop/Python_DeepDive/OOP')],\n",
       " 'In': ['',\n",
       "  'class Language:\\n    MAJOR = 3\\n    MINOR = 7\\n    REVISION = 4\\n    FULL = \"{}.{}.{}\".format(MAJOR, MINOR, REVISION)',\n",
       "  'Language.FULL',\n",
       "  'class Language:\\n    MAJOR = 3\\n    MINOR = 7\\n    REVISION = 4\\n\\n    @property\\n    def version(self):\\n        return \"{}.{}.{}\".format(self.MAJOR, self.MINOR, self.REVISION)',\n",
       "  'l = Language()\\nl.version',\n",
       "  'class Language:\\n    MAJOR = 3\\n    MINOR = 7\\n    REVISION = 4\\n\\n    @property\\n    def version(self):\\n        return \"{}.{}.{}\".format(self.MAJOR, self.MINOR, self.REVISION)\\n\\n    @classmethod\\n    def cls_version(cls):\\n        return \"{}.{}.{}\".format(cls.MAJOR, cls.MINOR, cls.REVISION)\\n\\n    @staticmethod\\n    def static_version():\\n        return \"{}.{}.{}\".format(Language.MAJOR, Language.MINOR, Language.REVISION)\\n    ',\n",
       "  'Language.cls_version()',\n",
       "  'def full_version():\\n    return \"{}.{}.{}\".format(Language.MAJOR, Language.MINOR, Language.REVISION)\\n\\nclass Language:\\n    MAJOR = 3\\n    MINOR = 7\\n    REVISION = 4\\n\\n    version = full_version',\n",
       "  'Language.version is full_version',\n",
       "  'Language.version()',\n",
       "  'def full_version():\\n    return \"{}.{}.{}\".format(MAJOR, MINOR, REVISION)\\n\\nclass Language:\\n    MAJOR = 3\\n    MINOR = 7\\n    REVISION = 4\\n\\n    @staticmethod\\n    def version(self):\\n        return \"{}.{}.{}\".format(MAJOR, MINOR, REVISION)\\n\\nl = Language()\\nl.version()        ',\n",
       "  'MAJOR = 0\\nMINOR = 0\\nREVISION = 1\\n\\ndef gen_class():\\n    MAJOR = 0\\n    MINOR = 4\\n    REVISION = 2\\n\\n    class Language:\\n        MAJOR = 3\\n        MINOR = 7\\n        REVISION = 4\\n\\n        @classmethod\\n        def version(cls):\\n            return \"{}.{}.{}\".format(MAJOR, MINOR, REVISION)\\n        \\n\\n    return Language\\n\\ncls = gen_class()\\n\\ncls.version()',\n",
       "  'MAJOR = 0\\nMINOR = 0\\nREVISION = 1\\n\\ndef gen_class():\\n    # MAJOR = 0\\n    # MINOR = 4\\n    # REVISION = 2\\n\\n    class Language:\\n        MAJOR = 3\\n        MINOR = 7\\n        REVISION = 4\\n\\n        @classmethod\\n        def version(cls):\\n            return \"{}.{}.{}\".format(MAJOR, MINOR, REVISION)\\n        \\n\\n    return Language\\n\\ncls = gen_class()\\n\\ncls.version()',\n",
       "  'MAJOR = 0\\nMINOR = 0\\nREVISION = 1\\n\\ndef gen_class():\\n    MAJOR = 0\\n    MINOR = 4\\n    REVISION = 2\\n\\n    class Language:\\n        MAJOR = 3\\n        MINOR = 7\\n        REVISION = 4\\n\\n        @classmethod\\n        def version(cls):\\n            return \"{}.{}.{}\".format(MAJOR, MINOR, REVISION)\\n        \\n\\n    return Language\\n\\ncls = gen_class()\\n\\ncls.version()',\n",
       "  'import inspect\\n\\ninspect.getclosurevars(cls.version)',\n",
       "  'globals()'],\n",
       " 'Out': {2: '3.7.4',\n",
       "  4: '3.7.4',\n",
       "  6: '3.7.4',\n",
       "  8: True,\n",
       "  9: '3.7.4',\n",
       "  11: '0.4.2',\n",
       "  12: '0.0.1',\n",
       "  13: '0.4.2',\n",
       "  14: ClosureVars(nonlocals={'MAJOR': 0, 'MINOR': 4, 'REVISION': 2}, globals={}, builtins={'format': <built-in function format>}, unbound=set())},\n",
       " 'get_ipython': <bound method InteractiveShell.get_ipython of <ipykernel.zmqshell.ZMQInteractiveShell object at 0x0000020FEADB4190>>,\n",
       " 'exit': <IPython.core.autocall.ZMQExitAutocall at 0x20feadc4910>,\n",
       " 'quit': <IPython.core.autocall.ZMQExitAutocall at 0x20feadc4910>,\n",
       " 'open': <function io.open(file, mode='r', buffering=-1, encoding=None, errors=None, newline=None, closefd=True, opener=None)>,\n",
       " '_': ClosureVars(nonlocals={'MAJOR': 0, 'MINOR': 4, 'REVISION': 2}, globals={}, builtins={'format': <built-in function format>}, unbound=set()),\n",
       " '__': '0.4.2',\n",
       " '___': '0.0.1',\n",
       " '__vsc_ipynb_file__': 'c:\\\\Users\\\\veace\\\\Desktop\\\\Python_DeepDive\\\\OOP\\\\2_14_Class_Body_Scope.ipynb',\n",
       " '_i': 'import inspect\\n\\ninspect.getclosurevars(cls.version)',\n",
       " '_ii': 'MAJOR = 0\\nMINOR = 0\\nREVISION = 1\\n\\ndef gen_class():\\n    MAJOR = 0\\n    MINOR = 4\\n    REVISION = 2\\n\\n    class Language:\\n        MAJOR = 3\\n        MINOR = 7\\n        REVISION = 4\\n\\n        @classmethod\\n        def version(cls):\\n            return \"{}.{}.{}\".format(MAJOR, MINOR, REVISION)\\n        \\n\\n    return Language\\n\\ncls = gen_class()\\n\\ncls.version()',\n",
       " '_iii': 'MAJOR = 0\\nMINOR = 0\\nREVISION = 1\\n\\ndef gen_class():\\n    # MAJOR = 0\\n    # MINOR = 4\\n    # REVISION = 2\\n\\n    class Language:\\n        MAJOR = 3\\n        MINOR = 7\\n        REVISION = 4\\n\\n        @classmethod\\n        def version(cls):\\n            return \"{}.{}.{}\".format(MAJOR, MINOR, REVISION)\\n        \\n\\n    return Language\\n\\ncls = gen_class()\\n\\ncls.version()',\n",
       " '_i1': 'class Language:\\n    MAJOR = 3\\n    MINOR = 7\\n    REVISION = 4\\n    FULL = \"{}.{}.{}\".format(MAJOR, MINOR, REVISION)',\n",
       " 'Language': __main__.Language,\n",
       " '_i2': 'Language.FULL',\n",
       " '_2': '3.7.4',\n",
       " '_i3': 'class Language:\\n    MAJOR = 3\\n    MINOR = 7\\n    REVISION = 4\\n\\n    @property\\n    def version(self):\\n        return \"{}.{}.{}\".format(self.MAJOR, self.MINOR, self.REVISION)',\n",
       " '_i4': 'l = Language()\\nl.version',\n",
       " 'l': <__main__.Language at 0x20feb2fd590>,\n",
       " '_4': '3.7.4',\n",
       " '_i5': 'class Language:\\n    MAJOR = 3\\n    MINOR = 7\\n    REVISION = 4\\n\\n    @property\\n    def version(self):\\n        return \"{}.{}.{}\".format(self.MAJOR, self.MINOR, self.REVISION)\\n\\n    @classmethod\\n    def cls_version(cls):\\n        return \"{}.{}.{}\".format(cls.MAJOR, cls.MINOR, cls.REVISION)\\n\\n    @staticmethod\\n    def static_version():\\n        return \"{}.{}.{}\".format(Language.MAJOR, Language.MINOR, Language.REVISION)\\n    ',\n",
       " '_i6': 'Language.cls_version()',\n",
       " '_6': '3.7.4',\n",
       " '_i7': 'def full_version():\\n    return \"{}.{}.{}\".format(Language.MAJOR, Language.MINOR, Language.REVISION)\\n\\nclass Language:\\n    MAJOR = 3\\n    MINOR = 7\\n    REVISION = 4\\n\\n    version = full_version',\n",
       " 'full_version': <function __main__.full_version()>,\n",
       " '_i8': 'Language.version is full_version',\n",
       " '_8': True,\n",
       " '_i9': 'Language.version()',\n",
       " '_9': '3.7.4',\n",
       " '_i10': 'def full_version():\\n    return \"{}.{}.{}\".format(MAJOR, MINOR, REVISION)\\n\\nclass Language:\\n    MAJOR = 3\\n    MINOR = 7\\n    REVISION = 4\\n\\n    @staticmethod\\n    def version(self):\\n        return \"{}.{}.{}\".format(MAJOR, MINOR, REVISION)\\n\\nl = Language()\\nl.version()        ',\n",
       " '_i11': 'MAJOR = 0\\nMINOR = 0\\nREVISION = 1\\n\\ndef gen_class():\\n    MAJOR = 0\\n    MINOR = 4\\n    REVISION = 2\\n\\n    class Language:\\n        MAJOR = 3\\n        MINOR = 7\\n        REVISION = 4\\n\\n        @classmethod\\n        def version(cls):\\n            return \"{}.{}.{}\".format(MAJOR, MINOR, REVISION)\\n        \\n\\n    return Language\\n\\ncls = gen_class()\\n\\ncls.version()',\n",
       " 'MAJOR': 0,\n",
       " 'MINOR': 0,\n",
       " 'REVISION': 1,\n",
       " 'gen_class': <function __main__.gen_class()>,\n",
       " 'cls': __main__.gen_class.<locals>.Language,\n",
       " '_11': '0.4.2',\n",
       " '_i12': 'MAJOR = 0\\nMINOR = 0\\nREVISION = 1\\n\\ndef gen_class():\\n    # MAJOR = 0\\n    # MINOR = 4\\n    # REVISION = 2\\n\\n    class Language:\\n        MAJOR = 3\\n        MINOR = 7\\n        REVISION = 4\\n\\n        @classmethod\\n        def version(cls):\\n            return \"{}.{}.{}\".format(MAJOR, MINOR, REVISION)\\n        \\n\\n    return Language\\n\\ncls = gen_class()\\n\\ncls.version()',\n",
       " '_12': '0.0.1',\n",
       " '_i13': 'MAJOR = 0\\nMINOR = 0\\nREVISION = 1\\n\\ndef gen_class():\\n    MAJOR = 0\\n    MINOR = 4\\n    REVISION = 2\\n\\n    class Language:\\n        MAJOR = 3\\n        MINOR = 7\\n        REVISION = 4\\n\\n        @classmethod\\n        def version(cls):\\n            return \"{}.{}.{}\".format(MAJOR, MINOR, REVISION)\\n        \\n\\n    return Language\\n\\ncls = gen_class()\\n\\ncls.version()',\n",
       " '_13': '0.4.2',\n",
       " '_i14': 'import inspect\\n\\ninspect.getclosurevars(cls.version)',\n",
       " 'inspect': <module 'inspect' from 'c:\\\\Users\\\\veace\\\\anaconda3\\\\envs\\\\llms\\\\Lib\\\\inspect.py'>,\n",
       " '_14': ClosureVars(nonlocals={'MAJOR': 0, 'MINOR': 4, 'REVISION': 2}, globals={}, builtins={'format': <built-in function format>}, unbound=set()),\n",
       " '_i15': 'globals()'}"
      ]
     },
     "execution_count": 15,
     "metadata": {},
     "output_type": "execute_result"
    }
   ],
   "source": [
    "globals()"
   ]
  },
  {
   "cell_type": "code",
   "execution_count": 18,
   "metadata": {},
   "outputs": [
    {
     "data": {
      "text/plain": [
       "'Guido says hello'"
      ]
     },
     "execution_count": 18,
     "metadata": {},
     "output_type": "execute_result"
    }
   ],
   "source": [
    "name = \"Guido\"\n",
    "\n",
    "class MyClass:\n",
    "    name = \"Raymond\"\n",
    "    list_1 = [name] * 3\n",
    "    list_2 = [name for i in range(3)]\n",
    "\n",
    "    @classmethod\n",
    "    def hello(cls):\n",
    "        return \"{} says hello\".format(name)\n",
    "    \n",
    "\n",
    "MyClass.hello()"
   ]
  },
  {
   "cell_type": "code",
   "execution_count": 19,
   "metadata": {},
   "outputs": [
    {
     "data": {
      "text/plain": [
       "['Raymond', 'Raymond', 'Raymond']"
      ]
     },
     "execution_count": 19,
     "metadata": {},
     "output_type": "execute_result"
    }
   ],
   "source": [
    "MyClass.list_1"
   ]
  },
  {
   "cell_type": "code",
   "execution_count": 20,
   "metadata": {},
   "outputs": [
    {
     "data": {
      "text/plain": [
       "['Guido', 'Guido', 'Guido']"
      ]
     },
     "execution_count": 20,
     "metadata": {},
     "output_type": "execute_result"
    }
   ],
   "source": [
    "MyClass.list_2"
   ]
  },
  {
   "cell_type": "code",
   "execution_count": null,
   "metadata": {},
   "outputs": [],
   "source": [
    "c"
   ]
  }
 ],
 "metadata": {
  "kernelspec": {
   "display_name": "llms",
   "language": "python",
   "name": "python3"
  },
  "language_info": {
   "codemirror_mode": {
    "name": "ipython",
    "version": 3
   },
   "file_extension": ".py",
   "mimetype": "text/x-python",
   "name": "python",
   "nbconvert_exporter": "python",
   "pygments_lexer": "ipython3",
   "version": "3.11.11"
  }
 },
 "nbformat": 4,
 "nbformat_minor": 2
}
