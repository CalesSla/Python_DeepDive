{
  "nbformat": 4,
  "nbformat_minor": 0,
  "metadata": {
    "colab": {
      "provenance": []
    },
    "kernelspec": {
      "name": "python3",
      "display_name": "Python 3"
    },
    "language_info": {
      "name": "python"
    }
  },
  "cells": [
    {
      "cell_type": "code",
      "execution_count": null,
      "metadata": {
        "id": "sUS8QWYXONF6"
      },
      "outputs": [],
      "source": [
        "# Function decorating without a decorator\n",
        "\n",
        "def counter(fn):\n",
        "  count = 0\n",
        "\n",
        "  def inner(*args, **kwargs):\n",
        "    nonlocal count\n",
        "    count += 1\n",
        "    print('Function {0} was calles {1} times'.format(fn.__name__, count))\n",
        "    return  fn(*args, **kwargs)\n",
        "  return inner\n",
        "\n",
        "\n",
        "def add(a, b=0):\n",
        "  \"\"\"\n",
        "  adds two values\n",
        "  \"\"\"\n",
        "  return a + b"
      ]
    },
    {
      "cell_type": "code",
      "source": [
        "id(add)"
      ],
      "metadata": {
        "colab": {
          "base_uri": "https://localhost:8080/"
        },
        "id": "Lx3w_eUaO8Wg",
        "outputId": "3c815445-e97f-4ab4-d004-5fff4bb33d40"
      },
      "execution_count": null,
      "outputs": [
        {
          "output_type": "execute_result",
          "data": {
            "text/plain": [
              "140152197641984"
            ]
          },
          "metadata": {},
          "execution_count": 3
        }
      ]
    },
    {
      "cell_type": "code",
      "source": [
        "add = counter(add)"
      ],
      "metadata": {
        "id": "1KfeY1B9PJxk"
      },
      "execution_count": null,
      "outputs": []
    },
    {
      "cell_type": "code",
      "source": [
        "id(add)"
      ],
      "metadata": {
        "colab": {
          "base_uri": "https://localhost:8080/"
        },
        "id": "Zii3bM1sPMiR",
        "outputId": "6ee964db-0b63-48c9-ff7d-94dbf9b9cda4"
      },
      "execution_count": null,
      "outputs": [
        {
          "output_type": "execute_result",
          "data": {
            "text/plain": [
              "140152197642560"
            ]
          },
          "metadata": {},
          "execution_count": 5
        }
      ]
    },
    {
      "cell_type": "code",
      "source": [
        "add(10, 20)"
      ],
      "metadata": {
        "colab": {
          "base_uri": "https://localhost:8080/"
        },
        "id": "F33XHIN7POby",
        "outputId": "3bc9664a-c433-46a9-9a9b-36b47a88d3b8"
      },
      "execution_count": null,
      "outputs": [
        {
          "output_type": "stream",
          "name": "stdout",
          "text": [
            "Function add was calles 1 times\n"
          ]
        },
        {
          "output_type": "execute_result",
          "data": {
            "text/plain": [
              "30"
            ]
          },
          "metadata": {},
          "execution_count": 6
        }
      ]
    },
    {
      "cell_type": "code",
      "source": [
        "add(10)"
      ],
      "metadata": {
        "colab": {
          "base_uri": "https://localhost:8080/"
        },
        "id": "-nkrRbDCQHXq",
        "outputId": "e5f12d04-9090-47d1-f634-d8039f23424c"
      },
      "execution_count": null,
      "outputs": [
        {
          "output_type": "stream",
          "name": "stdout",
          "text": [
            "Function add was calles 2 times\n"
          ]
        },
        {
          "output_type": "execute_result",
          "data": {
            "text/plain": [
              "10"
            ]
          },
          "metadata": {},
          "execution_count": 7
        }
      ]
    },
    {
      "cell_type": "code",
      "source": [
        "def mult(a, b, c=1, *, d):\n",
        "  \"\"\"\n",
        "  multiplies four vars\n",
        "  \"\"\"\n",
        "  return a * b * c * c"
      ],
      "metadata": {
        "id": "E_GGGqrtPucq"
      },
      "execution_count": null,
      "outputs": []
    },
    {
      "cell_type": "code",
      "source": [
        "mult(1,2,3,d=4)"
      ],
      "metadata": {
        "colab": {
          "base_uri": "https://localhost:8080/"
        },
        "id": "Dt0PPNJHQg7C",
        "outputId": "0d342882-725e-46ba-b1f5-7c8a8f1ca7e2"
      },
      "execution_count": null,
      "outputs": [
        {
          "output_type": "execute_result",
          "data": {
            "text/plain": [
              "18"
            ]
          },
          "metadata": {},
          "execution_count": 9
        }
      ]
    },
    {
      "cell_type": "code",
      "source": [
        "mult = counter(mult)\n",
        "mult(1,2,3,d=4)"
      ],
      "metadata": {
        "colab": {
          "base_uri": "https://localhost:8080/"
        },
        "id": "h2Z74NsKRt7B",
        "outputId": "df5de4af-6740-4c5b-c165-b871c229d9a4"
      },
      "execution_count": null,
      "outputs": [
        {
          "output_type": "stream",
          "name": "stdout",
          "text": [
            "Function mult was calles 1 times\n"
          ]
        },
        {
          "output_type": "execute_result",
          "data": {
            "text/plain": [
              "18"
            ]
          },
          "metadata": {},
          "execution_count": 10
        }
      ]
    },
    {
      "cell_type": "code",
      "source": [
        "@counter\n",
        "def my_func(s: str, i: int) -> str:\n",
        "  return s * i\n",
        "\n",
        "my_func('a', 10)"
      ],
      "metadata": {
        "colab": {
          "base_uri": "https://localhost:8080/",
          "height": 53
        },
        "id": "llxeW5F7SGjp",
        "outputId": "236354b0-91d3-4d8e-c83f-a938580f4772"
      },
      "execution_count": null,
      "outputs": [
        {
          "output_type": "stream",
          "name": "stdout",
          "text": [
            "Function my_func was calles 1 times\n"
          ]
        },
        {
          "output_type": "execute_result",
          "data": {
            "text/plain": [
              "'aaaaaaaaaa'"
            ],
            "application/vnd.google.colaboratory.intrinsic+json": {
              "type": "string"
            }
          },
          "metadata": {},
          "execution_count": 11
        }
      ]
    },
    {
      "cell_type": "code",
      "source": [
        "def counter(fn):\n",
        "  count = 0\n",
        "\n",
        "  def inner(*args, **kwargs):\n",
        "    \"\"\"\n",
        "    This is the inner closure\n",
        "    \"\"\"\n",
        "    nonlocal count\n",
        "    count += 1\n",
        "    print('Function {0} was calles {1} times'.format(fn.__name__, count))\n",
        "    return  fn(*args, **kwargs)\n",
        "  inner.__name__ = fn.__name__\n",
        "  inner.__doc__ = fn.__doc__\n",
        "  return inner\n",
        "\n",
        "\n",
        "def mult(a, b, c=1, *, d):\n",
        "  \"\"\"\n",
        "  multiplies four vars\n",
        "  \"\"\"\n",
        "  return a * b * c * c"
      ],
      "metadata": {
        "id": "iDDdpCNtTsSY"
      },
      "execution_count": null,
      "outputs": []
    },
    {
      "cell_type": "code",
      "source": [
        "mult = counter(mult)"
      ],
      "metadata": {
        "id": "ZODcbrydVPEg"
      },
      "execution_count": null,
      "outputs": []
    },
    {
      "cell_type": "code",
      "source": [
        "help(mult)"
      ],
      "metadata": {
        "colab": {
          "base_uri": "https://localhost:8080/"
        },
        "id": "EsZkFHaDVapa",
        "outputId": "7d98ec99-311e-448b-8f77-5a2069c8d21d"
      },
      "execution_count": null,
      "outputs": [
        {
          "output_type": "stream",
          "name": "stdout",
          "text": [
            "Help on function mult in module __main__:\n",
            "\n",
            "mult(*args, **kwargs)\n",
            "    multiplies four vars\n",
            "\n"
          ]
        }
      ]
    },
    {
      "cell_type": "code",
      "source": [
        "from functools import wraps"
      ],
      "metadata": {
        "id": "pOY2sEF4VeFg"
      },
      "execution_count": null,
      "outputs": []
    },
    {
      "cell_type": "code",
      "source": [
        "def counter(fn):\n",
        "  count = 0\n",
        "\n",
        "  @wraps(fn)\n",
        "  def inner(*args, **kwargs):\n",
        "    \"\"\"\n",
        "    This is the inner closure\n",
        "    \"\"\"\n",
        "    nonlocal count\n",
        "    count += 1\n",
        "    print('Function {0} was calles {1} times'.format(fn.__name__, count))\n",
        "    return  fn(*args, **kwargs)\n",
        "  return inner\n",
        "\n",
        "\n",
        "def mult(a, b, c=1, *, d):\n",
        "  \"\"\"\n",
        "  multiplies four vars\n",
        "  \"\"\"\n",
        "  return a * b * c * c"
      ],
      "metadata": {
        "id": "HxKjk3KGVznv"
      },
      "execution_count": null,
      "outputs": []
    },
    {
      "cell_type": "code",
      "source": [
        "mult = counter(mult)"
      ],
      "metadata": {
        "id": "G_F-DlMaWGTA"
      },
      "execution_count": null,
      "outputs": []
    },
    {
      "cell_type": "code",
      "source": [
        "help(mult)"
      ],
      "metadata": {
        "colab": {
          "base_uri": "https://localhost:8080/"
        },
        "id": "lZyEPfgIWLr4",
        "outputId": "83362abc-7dd2-4ae2-8c6b-d341f6281c6c"
      },
      "execution_count": null,
      "outputs": [
        {
          "output_type": "stream",
          "name": "stdout",
          "text": [
            "Help on function mult in module __main__:\n",
            "\n",
            "mult(a, b, c=1, *, d)\n",
            "    multiplies four vars\n",
            "\n"
          ]
        }
      ]
    },
    {
      "cell_type": "markdown",
      "source": [
        "## Decorator Application (Timer)"
      ],
      "metadata": {
        "id": "H9OxRgT4WMMR"
      }
    },
    {
      "cell_type": "code",
      "source": [
        "def timed(fn):\n",
        "  from time import perf_counter\n",
        "  from functools import WRAPPER_ASSIGNMENTS\n",
        "\n",
        "  @wraps(fn)\n",
        "  def inner(*args, **kwargs):\n",
        "    start = perf_counter()\n",
        "    result = fn(*args, **kwargs)\n",
        "    end = perf_counter()\n",
        "    elapsed = end - start\n",
        "\n",
        "    args_ = [str(a) for a in args]\n",
        "    kwargs_ = [f'{k} = {v}' for k, v in kwargs.items()]\n",
        "    all_args = args_ + kwargs_\n",
        "    args_str = ','.join(all_args)\n",
        "    print(f'{fn.__name__}({args_str}) took {elapsed:.6f}s to run')\n",
        "\n",
        "    return result\n",
        "\n",
        "  return inner"
      ],
      "metadata": {
        "id": "02mFoMP_c4dh"
      },
      "execution_count": null,
      "outputs": []
    },
    {
      "cell_type": "markdown",
      "source": [
        "### Three implementations of fibonaci numbers calculation:\n",
        "\n",
        "1. Recursion\n",
        "2. Loop\n",
        "3. Reduce"
      ],
      "metadata": {
        "id": "Uy0o4ZNKl5k3"
      }
    },
    {
      "cell_type": "code",
      "source": [
        "@timed\n",
        "def calc_recursive_fib(n):\n",
        "  if n <= 2:\n",
        "    return 1\n",
        "  else:\n",
        "    return calc_recursive_fib(n-1) + calc_recursive_fib(n-2)\n",
        "\n",
        "calc_recursive_fib(6)"
      ],
      "metadata": {
        "colab": {
          "base_uri": "https://localhost:8080/"
        },
        "id": "nrb4k2PQjs29",
        "outputId": "59df039b-d7b3-413e-b65d-9b938bab7d82"
      },
      "execution_count": null,
      "outputs": [
        {
          "output_type": "stream",
          "name": "stdout",
          "text": [
            "calc_recursive_fib(2) took 0.000001s to run\n",
            "calc_recursive_fib(1) took 0.000001s to run\n",
            "calc_recursive_fib(3) took 0.001356s to run\n",
            "calc_recursive_fib(2) took 0.000001s to run\n",
            "calc_recursive_fib(4) took 0.002251s to run\n",
            "calc_recursive_fib(2) took 0.000001s to run\n",
            "calc_recursive_fib(1) took 0.000001s to run\n",
            "calc_recursive_fib(3) took 0.000946s to run\n",
            "calc_recursive_fib(5) took 0.004103s to run\n",
            "calc_recursive_fib(2) took 0.000001s to run\n",
            "calc_recursive_fib(1) took 0.000001s to run\n",
            "calc_recursive_fib(3) took 0.000920s to run\n",
            "calc_recursive_fib(2) took 0.000001s to run\n",
            "calc_recursive_fib(4) took 0.001549s to run\n",
            "calc_recursive_fib(6) took 0.006137s to run\n"
          ]
        },
        {
          "output_type": "execute_result",
          "data": {
            "text/plain": [
              "8"
            ]
          },
          "metadata": {},
          "execution_count": 20
        }
      ]
    },
    {
      "cell_type": "code",
      "source": [],
      "metadata": {
        "id": "UESfnzHOkGqV"
      },
      "execution_count": null,
      "outputs": []
    },
    {
      "cell_type": "code",
      "source": [
        "def calc_recursive_fib(n):\n",
        "  if n <= 2:\n",
        "    return 1\n",
        "  else:\n",
        "    return calc_recursive_fib(n-1) + calc_recursive_fib(n-2)\n",
        "\n",
        "calc_recursive_fib(6)"
      ],
      "metadata": {
        "colab": {
          "base_uri": "https://localhost:8080/"
        },
        "id": "b7BD4c3ukoY_",
        "outputId": "1a963ee2-5f14-45b7-c828-e0fde3950746"
      },
      "execution_count": null,
      "outputs": [
        {
          "output_type": "execute_result",
          "data": {
            "text/plain": [
              "8"
            ]
          },
          "metadata": {},
          "execution_count": 21
        }
      ]
    },
    {
      "cell_type": "code",
      "source": [
        "@timed\n",
        "def fib_recursive(n):\n",
        "  return calc_recursive_fib(n)\n",
        "\n",
        "fib_recursive(32)"
      ],
      "metadata": {
        "colab": {
          "base_uri": "https://localhost:8080/"
        },
        "id": "LZ8rCoESlimo",
        "outputId": "9ad49580-f552-4cd1-9e2f-af347226d31a"
      },
      "execution_count": null,
      "outputs": [
        {
          "output_type": "stream",
          "name": "stdout",
          "text": [
            "fib_recursive(32) took 0.525186s to run\n"
          ]
        },
        {
          "output_type": "execute_result",
          "data": {
            "text/plain": [
              "2178309"
            ]
          },
          "metadata": {},
          "execution_count": 22
        }
      ]
    },
    {
      "cell_type": "code",
      "source": [
        "@timed\n",
        "def fib_loop(n):\n",
        "  fib_1 = 1\n",
        "  fib_2 = 1\n",
        "  for i in range(3, n+1):\n",
        "    fib_1, fib_2 = fib_2, fib_1 + fib_2\n",
        "    \n",
        "  return fib_2"
      ],
      "metadata": {
        "id": "HH6yAotPljJO"
      },
      "execution_count": null,
      "outputs": []
    },
    {
      "cell_type": "code",
      "source": [
        "fib_loop(6)"
      ],
      "metadata": {
        "colab": {
          "base_uri": "https://localhost:8080/"
        },
        "id": "oJw2fy9Tmr45",
        "outputId": "878d2b8a-01f6-4101-8cbd-3beefd83575f"
      },
      "execution_count": null,
      "outputs": [
        {
          "output_type": "stream",
          "name": "stdout",
          "text": [
            "fib_loop(6) took 0.000003s to run\n"
          ]
        },
        {
          "output_type": "execute_result",
          "data": {
            "text/plain": [
              "8"
            ]
          },
          "metadata": {},
          "execution_count": 24
        }
      ]
    },
    {
      "cell_type": "code",
      "source": [
        "fib_loop(36)"
      ],
      "metadata": {
        "colab": {
          "base_uri": "https://localhost:8080/"
        },
        "id": "nID8ylojmttQ",
        "outputId": "ca8bd5c8-0486-4ced-a975-f3b4513900e3"
      },
      "execution_count": null,
      "outputs": [
        {
          "output_type": "stream",
          "name": "stdout",
          "text": [
            "fib_loop(36) took 0.000008s to run\n"
          ]
        },
        {
          "output_type": "execute_result",
          "data": {
            "text/plain": [
              "14930352"
            ]
          },
          "metadata": {},
          "execution_count": 25
        }
      ]
    },
    {
      "cell_type": "code",
      "source": [
        "from functools import reduce\n",
        "\n",
        "@timed\n",
        "def fib_reduce(n):\n",
        "  initial = (1, 0)\n",
        "  dummy = range(n)\n",
        "  fib_n = reduce(lambda prev, n: (prev[0] + prev[1], prev[0]), dummy, initial)\n",
        "  return fib_n[0]"
      ],
      "metadata": {
        "id": "fwCvdLYnmwcr"
      },
      "execution_count": null,
      "outputs": []
    },
    {
      "cell_type": "code",
      "source": [
        "fib_reduce(10000)"
      ],
      "metadata": {
        "colab": {
          "base_uri": "https://localhost:8080/"
        },
        "id": "fA0f518VqqEs",
        "outputId": "c8e95886-ee9e-443d-ae59-16a4b8da9a1b"
      },
      "execution_count": null,
      "outputs": [
        {
          "output_type": "stream",
          "name": "stdout",
          "text": [
            "fib_reduce(10000) took 0.007433s to run\n"
          ]
        },
        {
          "output_type": "execute_result",
          "data": {
            "text/plain": [
              "54438373113565281338734260993750380135389184554695967026247715841208582865622349017083051547938960541173822675978026317384359584751116241439174702642959169925586334117906063048089793531476108466259072759367899150677960088306597966641965824937721800381441158841042480997984696487375337180028163763317781927941101369262750979509800713596718023814710669912644214775254478587674568963808002962265133111359929762726679441400101575800043510777465935805362502461707918059226414679005690752321895868142367849593880756423483754386342639635970733756260098962462668746112041739819404875062443709868654315626847186195620146126642232711815040367018825205314845875817193533529827837800351902529239517836689467661917953884712441028463935449484614450778762529520961887597272889220768537396475869543159172434537193611263743926337313005896167248051737986306368115003088396749587102619524631352447499505204198305187168321623283859794627245919771454628218399695789223798912199431775469705216131081096559950638297261253848242007897109054754028438149611930465061866170122983288964352733750792786069444761853525144421077928045979904561298129423809156055033032338919609162236698759922782923191896688017718575555520994653320128446502371153715141749290913104897203455577507196645425232862022019506091483585223882711016708433051169942115775151255510251655931888164048344129557038825477521111577395780115868397072602565614824956460538700280331311861485399805397031555727529693399586079850381581446276433858828529535803424850845426446471681531001533180479567436396815653326152509571127480411928196022148849148284389124178520174507305538928717857923509417743383331506898239354421988805429332440371194867215543576548565499134519271098919802665184564927827827212957649240235507595558205647569365394873317659000206373126570643509709482649710038733517477713403319028105575667931789470024118803094604034362953471997461392274791549730356412633074230824051999996101549784667340458326852960388301120765629245998136251652347093963049734046445106365304163630823669242257761468288461791843224793434406079917883360676846711185597501"
            ]
          },
          "metadata": {},
          "execution_count": 27
        }
      ]
    },
    {
      "cell_type": "code",
      "source": [
        "fib_loop(10000)"
      ],
      "metadata": {
        "colab": {
          "base_uri": "https://localhost:8080/"
        },
        "id": "5Ewkoaorqvn1",
        "outputId": "995e0b1a-f5ec-4992-99fd-ed60abdda7bd"
      },
      "execution_count": null,
      "outputs": [
        {
          "output_type": "stream",
          "name": "stdout",
          "text": [
            "fib_loop(10000) took 0.003490s to run\n"
          ]
        },
        {
          "output_type": "execute_result",
          "data": {
            "text/plain": [
              "33644764876431783266621612005107543310302148460680063906564769974680081442166662368155595513633734025582065332680836159373734790483865268263040892463056431887354544369559827491606602099884183933864652731300088830269235673613135117579297437854413752130520504347701602264758318906527890855154366159582987279682987510631200575428783453215515103870818298969791613127856265033195487140214287532698187962046936097879900350962302291026368131493195275630227837628441540360584402572114334961180023091208287046088923962328835461505776583271252546093591128203925285393434620904245248929403901706233888991085841065183173360437470737908552631764325733993712871937587746897479926305837065742830161637408969178426378624212835258112820516370298089332099905707920064367426202389783111470054074998459250360633560933883831923386783056136435351892133279732908133732642652633989763922723407882928177953580570993691049175470808931841056146322338217465637321248226383092103297701648054726243842374862411453093812206564914032751086643394517512161526545361333111314042436854805106765843493523836959653428071768775328348234345557366719731392746273629108210679280784718035329131176778924659089938635459327894523777674406192240337638674004021330343297496902028328145933418826817683893072003634795623117103101291953169794607632737589253530772552375943788434504067715555779056450443016640119462580972216729758615026968443146952034614932291105970676243268515992834709891284706740862008587135016260312071903172086094081298321581077282076353186624611278245537208532365305775956430072517744315051539600905168603220349163222640885248852433158051534849622434848299380905070483482449327453732624567755879089187190803662058009594743150052402532709746995318770724376825907419939632265984147498193609285223945039707165443156421328157688908058783183404917434556270520223564846495196112460268313970975069382648706613264507665074611512677522748621598642530711298441182622661057163515069260029861704945425047491378115154139941550671256271197133252763631939606902895650288268608362241082050562430701794976171121233066073310059947366875"
            ]
          },
          "metadata": {},
          "execution_count": 28
        }
      ]
    },
    {
      "cell_type": "code",
      "source": [
        "def timed(fn):\n",
        "  from time import perf_counter\n",
        "  from functools import WRAPPER_ASSIGNMENTS\n",
        "\n",
        "  @wraps(fn)\n",
        "  def inner(*args, **kwargs):\n",
        "    elapsed_total = 0\n",
        "    elapsed_count = 0\n",
        "\n",
        "    for i in range(10):\n",
        "      start = perf_counter()\n",
        "      result = fn(*args, **kwargs)\n",
        "      end = perf_counter()\n",
        "      elapsed = end - start\n",
        "      elapsed_total += elapsed\n",
        "      elapsed_count += 1\n",
        "\n",
        "    args_ = [str(a) for a in args]\n",
        "    kwargs_ = [f'{k} = {v}' for k, v in kwargs.items()]\n",
        "    all_args = args_ + kwargs_\n",
        "    args_str = ','.join(all_args)\n",
        "\n",
        "    elapsed_avg = elapsed_total / elapsed_count \n",
        "    print(f'{fn.__name__}({args_str}) took {elapsed_avg:.6f}s to run')\n",
        "\n",
        "    return result\n",
        "\n",
        "  return inner"
      ],
      "metadata": {
        "id": "UNFuDsL6q4qG"
      },
      "execution_count": null,
      "outputs": []
    },
    {
      "cell_type": "code",
      "source": [
        "from functools import reduce\n",
        "\n",
        "@timed\n",
        "def fib_reduce(n):\n",
        "  initial = (1, 0)\n",
        "  dummy = range(n)\n",
        "  fib_n = reduce(lambda prev, n: (prev[0] + prev[1], prev[0]), dummy, initial)\n",
        "  return fib_n[0]"
      ],
      "metadata": {
        "id": "IRd39pTcrfkg"
      },
      "execution_count": null,
      "outputs": []
    },
    {
      "cell_type": "markdown",
      "source": [
        "### Decorator Application (Logger, Stacked Decorators)"
      ],
      "metadata": {
        "id": "MITxQGlgrilO"
      }
    },
    {
      "cell_type": "code",
      "source": [
        "def logged(fn):\n",
        "  from functools import wraps\n",
        "  from datetime import datetime, timezone\n",
        "\n",
        "  @wraps(fn)\n",
        "  def inner(*args, **kwargs):\n",
        "    run_dt = datetime.now(timezone.utc)\n",
        "    result = fn(*args, **kwargs)\n",
        "    print(f'{run_dt}: called {fn.__name__}')\n",
        "    return result\n",
        "\n",
        "  return inner"
      ],
      "metadata": {
        "id": "SUlBT-48tiXI"
      },
      "execution_count": null,
      "outputs": []
    },
    {
      "cell_type": "code",
      "source": [
        "@logged\n",
        "def func_1():\n",
        "  pass\n",
        "\n",
        "@logged\n",
        "def func_2():\n",
        "  pass"
      ],
      "metadata": {
        "id": "6klvP_ZzuHHS"
      },
      "execution_count": null,
      "outputs": []
    },
    {
      "cell_type": "code",
      "source": [
        "func_1()"
      ],
      "metadata": {
        "colab": {
          "base_uri": "https://localhost:8080/"
        },
        "id": "u8aRve9RueR3",
        "outputId": "005fb0ab-0231-4b58-8db1-aa5b05c3223d"
      },
      "execution_count": null,
      "outputs": [
        {
          "output_type": "stream",
          "name": "stdout",
          "text": [
            "2023-04-18 13:15:47.403661+00:00: called func_1\n"
          ]
        }
      ]
    },
    {
      "cell_type": "code",
      "source": [
        "func_2()"
      ],
      "metadata": {
        "colab": {
          "base_uri": "https://localhost:8080/"
        },
        "id": "bU2VCof7ufTX",
        "outputId": "913f76cd-99f6-4b64-f8b3-29dc897913a8"
      },
      "execution_count": null,
      "outputs": [
        {
          "output_type": "stream",
          "name": "stdout",
          "text": [
            "2023-04-18 13:15:48.742086+00:00: called func_2\n"
          ]
        }
      ]
    },
    {
      "cell_type": "code",
      "source": [
        "def timed(fn):\n",
        "  from time import perf_counter\n",
        "  from functools import WRAPPER_ASSIGNMENTS\n",
        "\n",
        "  @wraps(fn)\n",
        "  def inner(*args, **kwargs):\n",
        "    start = perf_counter()\n",
        "    result = fn(*args, **kwargs)\n",
        "    end = perf_counter()\n",
        "    elapsed = end - start\n",
        "\n",
        "    args_ = [str(a) for a in args]\n",
        "    kwargs_ = [f'{k} = {v}' for k, v in kwargs.items()]\n",
        "    all_args = args_ + kwargs_\n",
        "    args_str = ','.join(all_args)\n",
        "    print(f'{fn.__name__}({args_str}) took {elapsed:.6f}s to run')\n",
        "\n",
        "    return result\n",
        "\n",
        "  return inner"
      ],
      "metadata": {
        "id": "KZUcTBA3ugAX"
      },
      "execution_count": null,
      "outputs": []
    },
    {
      "cell_type": "code",
      "source": [
        "@logged\n",
        "@timed\n",
        "def fact(n):\n",
        "  from operator import mul\n",
        "  from functools import reduce\n",
        "\n",
        "  return reduce(mul, range(1, n+1))"
      ],
      "metadata": {
        "id": "mdVguPnMuvBQ"
      },
      "execution_count": null,
      "outputs": []
    },
    {
      "cell_type": "code",
      "source": [
        "fact(3)"
      ],
      "metadata": {
        "colab": {
          "base_uri": "https://localhost:8080/"
        },
        "id": "Yu7j6Twiu_kA",
        "outputId": "fe93b2cc-9855-4187-c51a-8368d7f9d1a0"
      },
      "execution_count": null,
      "outputs": [
        {
          "output_type": "stream",
          "name": "stdout",
          "text": [
            "fact(3) took 0.000033s to run\n",
            "2023-04-18 13:15:49.813954+00:00: called fact\n"
          ]
        },
        {
          "output_type": "execute_result",
          "data": {
            "text/plain": [
              "6"
            ]
          },
          "metadata": {},
          "execution_count": 37
        }
      ]
    },
    {
      "cell_type": "code",
      "source": [
        "fact(5)"
      ],
      "metadata": {
        "colab": {
          "base_uri": "https://localhost:8080/"
        },
        "id": "E2Klu0h2vd0Q",
        "outputId": "4e57b8b8-a6f4-44d4-e365-6cd34da1f55d"
      },
      "execution_count": null,
      "outputs": [
        {
          "output_type": "stream",
          "name": "stdout",
          "text": [
            "fact(5) took 0.000015s to run\n",
            "2023-04-18 13:15:49.831388+00:00: called fact\n"
          ]
        },
        {
          "output_type": "execute_result",
          "data": {
            "text/plain": [
              "120"
            ]
          },
          "metadata": {},
          "execution_count": 38
        }
      ]
    },
    {
      "cell_type": "code",
      "source": [
        "def dec_1(fn):\n",
        "  def inner(*args, **kwargs):\n",
        "    print('Running dec_1')\n",
        "    return fn()\n",
        "  return inner"
      ],
      "metadata": {
        "id": "80ZGEpRdvg0n"
      },
      "execution_count": null,
      "outputs": []
    },
    {
      "cell_type": "code",
      "source": [
        "def dec_2(fn):\n",
        "  def inner(*args, **kwargs):\n",
        "    print('Running dec_2')\n",
        "    return fn()\n",
        "  return inner"
      ],
      "metadata": {
        "id": "MPmXP_dAwQ-P"
      },
      "execution_count": null,
      "outputs": []
    },
    {
      "cell_type": "code",
      "source": [
        "@dec_1\n",
        "@dec_2\n",
        "def my_func():\n",
        "  print(\"Running my_func\")"
      ],
      "metadata": {
        "id": "-zRYkX3swL1f"
      },
      "execution_count": null,
      "outputs": []
    },
    {
      "cell_type": "code",
      "source": [
        "my_func()"
      ],
      "metadata": {
        "colab": {
          "base_uri": "https://localhost:8080/"
        },
        "id": "MeDxwYGpwPna",
        "outputId": "094e3e7e-e2a1-4bfe-8cc9-57d2b095d2b8"
      },
      "execution_count": null,
      "outputs": [
        {
          "output_type": "stream",
          "name": "stdout",
          "text": [
            "Running dec_1\n",
            "Running dec_2\n",
            "Running my_func\n"
          ]
        }
      ]
    },
    {
      "cell_type": "markdown",
      "source": [
        "### Decorator Application (Memoization)"
      ],
      "metadata": {
        "id": "P7Ht6cSjwc5o"
      }
    },
    {
      "cell_type": "code",
      "source": [
        "def fib(n):\n",
        "  print(f'Calculating fib({n})')\n",
        "  return 1 if n < 3 else fib(n-1) + fib(n-2)\n",
        "\n",
        "fib(10)"
      ],
      "metadata": {
        "colab": {
          "base_uri": "https://localhost:8080/"
        },
        "id": "FD4G5ObEx_t0",
        "outputId": "81188752-9c70-47e8-f3e8-4698343896c0"
      },
      "execution_count": null,
      "outputs": [
        {
          "output_type": "stream",
          "name": "stdout",
          "text": [
            "Calculating fib(10)\n",
            "Calculating fib(9)\n",
            "Calculating fib(8)\n",
            "Calculating fib(7)\n",
            "Calculating fib(6)\n",
            "Calculating fib(5)\n",
            "Calculating fib(4)\n",
            "Calculating fib(3)\n",
            "Calculating fib(2)\n",
            "Calculating fib(1)\n",
            "Calculating fib(2)\n",
            "Calculating fib(3)\n",
            "Calculating fib(2)\n",
            "Calculating fib(1)\n",
            "Calculating fib(4)\n",
            "Calculating fib(3)\n",
            "Calculating fib(2)\n",
            "Calculating fib(1)\n",
            "Calculating fib(2)\n",
            "Calculating fib(5)\n",
            "Calculating fib(4)\n",
            "Calculating fib(3)\n",
            "Calculating fib(2)\n",
            "Calculating fib(1)\n",
            "Calculating fib(2)\n",
            "Calculating fib(3)\n",
            "Calculating fib(2)\n",
            "Calculating fib(1)\n",
            "Calculating fib(6)\n",
            "Calculating fib(5)\n",
            "Calculating fib(4)\n",
            "Calculating fib(3)\n",
            "Calculating fib(2)\n",
            "Calculating fib(1)\n",
            "Calculating fib(2)\n",
            "Calculating fib(3)\n",
            "Calculating fib(2)\n",
            "Calculating fib(1)\n",
            "Calculating fib(4)\n",
            "Calculating fib(3)\n",
            "Calculating fib(2)\n",
            "Calculating fib(1)\n",
            "Calculating fib(2)\n",
            "Calculating fib(7)\n",
            "Calculating fib(6)\n",
            "Calculating fib(5)\n",
            "Calculating fib(4)\n",
            "Calculating fib(3)\n",
            "Calculating fib(2)\n",
            "Calculating fib(1)\n",
            "Calculating fib(2)\n",
            "Calculating fib(3)\n",
            "Calculating fib(2)\n",
            "Calculating fib(1)\n",
            "Calculating fib(4)\n",
            "Calculating fib(3)\n",
            "Calculating fib(2)\n",
            "Calculating fib(1)\n",
            "Calculating fib(2)\n",
            "Calculating fib(5)\n",
            "Calculating fib(4)\n",
            "Calculating fib(3)\n",
            "Calculating fib(2)\n",
            "Calculating fib(1)\n",
            "Calculating fib(2)\n",
            "Calculating fib(3)\n",
            "Calculating fib(2)\n",
            "Calculating fib(1)\n",
            "Calculating fib(8)\n",
            "Calculating fib(7)\n",
            "Calculating fib(6)\n",
            "Calculating fib(5)\n",
            "Calculating fib(4)\n",
            "Calculating fib(3)\n",
            "Calculating fib(2)\n",
            "Calculating fib(1)\n",
            "Calculating fib(2)\n",
            "Calculating fib(3)\n",
            "Calculating fib(2)\n",
            "Calculating fib(1)\n",
            "Calculating fib(4)\n",
            "Calculating fib(3)\n",
            "Calculating fib(2)\n",
            "Calculating fib(1)\n",
            "Calculating fib(2)\n",
            "Calculating fib(5)\n",
            "Calculating fib(4)\n",
            "Calculating fib(3)\n",
            "Calculating fib(2)\n",
            "Calculating fib(1)\n",
            "Calculating fib(2)\n",
            "Calculating fib(3)\n",
            "Calculating fib(2)\n",
            "Calculating fib(1)\n",
            "Calculating fib(6)\n",
            "Calculating fib(5)\n",
            "Calculating fib(4)\n",
            "Calculating fib(3)\n",
            "Calculating fib(2)\n",
            "Calculating fib(1)\n",
            "Calculating fib(2)\n",
            "Calculating fib(3)\n",
            "Calculating fib(2)\n",
            "Calculating fib(1)\n",
            "Calculating fib(4)\n",
            "Calculating fib(3)\n",
            "Calculating fib(2)\n",
            "Calculating fib(1)\n",
            "Calculating fib(2)\n"
          ]
        },
        {
          "output_type": "execute_result",
          "data": {
            "text/plain": [
              "55"
            ]
          },
          "metadata": {},
          "execution_count": 43
        }
      ]
    },
    {
      "cell_type": "code",
      "source": [
        "class Fib:\n",
        "  def __init__(self):\n",
        "    self.cache = {1: 1, 2: 1}\n",
        "\n",
        "  def fib(self, n):\n",
        "    if n not in self.cache:\n",
        "      print(f'Calculating fib({n})')\n",
        "      self.cache[n] = self.fib(n-1) + self.fib(n-2)\n",
        "    return self.cache[n]"
      ],
      "metadata": {
        "id": "J-SJMSMUyb09"
      },
      "execution_count": null,
      "outputs": []
    },
    {
      "cell_type": "code",
      "source": [
        "f = Fib()\n",
        "f.fib(10)"
      ],
      "metadata": {
        "colab": {
          "base_uri": "https://localhost:8080/"
        },
        "id": "I30oqRT-zOBf",
        "outputId": "f34840e2-e670-4412-dcd2-e13023c1a81a"
      },
      "execution_count": null,
      "outputs": [
        {
          "output_type": "stream",
          "name": "stdout",
          "text": [
            "Calculating fib(10)\n",
            "Calculating fib(9)\n",
            "Calculating fib(8)\n",
            "Calculating fib(7)\n",
            "Calculating fib(6)\n",
            "Calculating fib(5)\n",
            "Calculating fib(4)\n",
            "Calculating fib(3)\n"
          ]
        },
        {
          "output_type": "execute_result",
          "data": {
            "text/plain": [
              "55"
            ]
          },
          "metadata": {},
          "execution_count": 45
        }
      ]
    },
    {
      "cell_type": "code",
      "source": [
        "def fib():\n",
        "  cache = {1:1, 2: 1}\n",
        "\n",
        "  def calc_fib(n):\n",
        "    if n not in cache:\n",
        "      print(f'Calculating fib({n})')\n",
        "      cache[n] = calc_fib(n-1) + calc_fib(n-2)\n",
        "    return cache[n]\n",
        "  \n",
        "  return calc_fib"
      ],
      "metadata": {
        "id": "W_VtrCLSzQAp"
      },
      "execution_count": null,
      "outputs": []
    },
    {
      "cell_type": "code",
      "source": [
        "f = fib()\n",
        "f(10)"
      ],
      "metadata": {
        "colab": {
          "base_uri": "https://localhost:8080/"
        },
        "id": "J9hI_-3jFu8F",
        "outputId": "fb2a8bb5-e872-4ff1-88ca-8b69419d4775"
      },
      "execution_count": null,
      "outputs": [
        {
          "output_type": "stream",
          "name": "stdout",
          "text": [
            "Calculating fib(10)\n",
            "Calculating fib(9)\n",
            "Calculating fib(8)\n",
            "Calculating fib(7)\n",
            "Calculating fib(6)\n",
            "Calculating fib(5)\n",
            "Calculating fib(4)\n",
            "Calculating fib(3)\n"
          ]
        },
        {
          "output_type": "execute_result",
          "data": {
            "text/plain": [
              "55"
            ]
          },
          "metadata": {},
          "execution_count": 47
        }
      ]
    },
    {
      "cell_type": "code",
      "source": [
        "def memoize(fn):\n",
        "  cache = dict()\n",
        "\n",
        "  def inner(n):\n",
        "    if n not in cache:\n",
        "      cache[n] = fn(n)\n",
        "    return cache[n]\n",
        "  \n",
        "  return inner"
      ],
      "metadata": {
        "id": "Z8pCrd23F0W_"
      },
      "execution_count": null,
      "outputs": []
    },
    {
      "cell_type": "code",
      "source": [
        "@memoize\n",
        "def fib(n):\n",
        "  print(f'Calculating fib({n})')\n",
        "  return 1 if n < 3 else fib(n-1) + fib(n-2)"
      ],
      "metadata": {
        "id": "-FV5cieLG6nS"
      },
      "execution_count": null,
      "outputs": []
    },
    {
      "cell_type": "code",
      "source": [
        "fib(20)"
      ],
      "metadata": {
        "colab": {
          "base_uri": "https://localhost:8080/"
        },
        "id": "8MdZAvASHEM5",
        "outputId": "3d32576c-1575-49b9-9cba-2fca79946922"
      },
      "execution_count": null,
      "outputs": [
        {
          "output_type": "stream",
          "name": "stdout",
          "text": [
            "Calculating fib(20)\n",
            "Calculating fib(19)\n",
            "Calculating fib(18)\n",
            "Calculating fib(17)\n",
            "Calculating fib(16)\n",
            "Calculating fib(15)\n",
            "Calculating fib(14)\n",
            "Calculating fib(13)\n",
            "Calculating fib(12)\n",
            "Calculating fib(11)\n",
            "Calculating fib(10)\n",
            "Calculating fib(9)\n",
            "Calculating fib(8)\n",
            "Calculating fib(7)\n",
            "Calculating fib(6)\n",
            "Calculating fib(5)\n",
            "Calculating fib(4)\n",
            "Calculating fib(3)\n",
            "Calculating fib(2)\n",
            "Calculating fib(1)\n"
          ]
        },
        {
          "output_type": "execute_result",
          "data": {
            "text/plain": [
              "6765"
            ]
          },
          "metadata": {},
          "execution_count": 50
        }
      ]
    },
    {
      "cell_type": "markdown",
      "source": [
        "### Parameterized decorators"
      ],
      "metadata": {
        "id": "4-lXWyhyHIZs"
      }
    },
    {
      "cell_type": "code",
      "source": [
        "def timed(fn):\n",
        "  from time import perf_counter\n",
        "\n",
        "  def inner(*args, **kwargs):\n",
        "    start = perf_counter()\n",
        "    result = fn(*args, **kwargs)\n",
        "    end = perf_counter()\n",
        "    elapsed = end - start\n",
        "    print(f'Run time: {elapsed:.6f}')\n",
        "    return result\n",
        "  return inner"
      ],
      "metadata": {
        "id": "dENZMfx5cuRO"
      },
      "execution_count": null,
      "outputs": []
    },
    {
      "cell_type": "code",
      "source": [
        "def calc_fib_recurse(n):\n",
        "  return 1 if n < 3 else calc_fib_recurse(n-2) + calc_fib_recurse(n-1)\n",
        "\n",
        "@timed\n",
        "def fib(n):\n",
        "  return calc_fib_recurse(n)"
      ],
      "metadata": {
        "id": "CWmfMvhsdLfG"
      },
      "execution_count": null,
      "outputs": []
    },
    {
      "cell_type": "code",
      "source": [
        "fib(7)"
      ],
      "metadata": {
        "colab": {
          "base_uri": "https://localhost:8080/"
        },
        "id": "1ewU41UZeAyx",
        "outputId": "0b388fa8-e8b2-4f0c-db7b-7ba53994f519"
      },
      "execution_count": null,
      "outputs": [
        {
          "output_type": "stream",
          "name": "stdout",
          "text": [
            "Run time: 0.000007\n"
          ]
        },
        {
          "output_type": "execute_result",
          "data": {
            "text/plain": [
              "13"
            ]
          },
          "metadata": {},
          "execution_count": 53
        }
      ]
    },
    {
      "cell_type": "code",
      "source": [
        "def timed(reps):\n",
        "  def outer(fn):\n",
        "    from time import perf_counter\n",
        "\n",
        "    def inner(*args, **kwargs):\n",
        "      total_elapsed = 0\n",
        "      for i in range(reps):\n",
        "        start = perf_counter()\n",
        "        result = fn(*args, **kwargs)\n",
        "        end = perf_counter()\n",
        "        total_elapsed += (end - start)\n",
        "\n",
        "      avg_run_time = total_elapsed / reps\n",
        "      print(f'Run time: {avg_run_time:.6f}, reps: {reps}')\n",
        "      return result\n",
        "    return inner\n",
        "  return outer"
      ],
      "metadata": {
        "id": "wxzEcQOxeBz4"
      },
      "execution_count": null,
      "outputs": []
    },
    {
      "cell_type": "code",
      "source": [
        "@timed(10)\n",
        "def fib(n):\n",
        "  return calc_fib_recurse(n)"
      ],
      "metadata": {
        "id": "RdZFHdoVeirg"
      },
      "execution_count": null,
      "outputs": []
    },
    {
      "cell_type": "code",
      "source": [
        "def calc_fib_recurse(n):\n",
        "  return 1 if n < 3 else calc_fib_recurse(n-2) + calc_fib_recurse(n-1)\n",
        "\n",
        "@timed\n",
        "def fib(n):\n",
        "  return 1 if n < 3 else fib(n-2) + fib(n-1)"
      ],
      "metadata": {
        "id": "L7k7c-n-e61P"
      },
      "execution_count": null,
      "outputs": []
    },
    {
      "cell_type": "code",
      "source": [
        "fib(28)"
      ],
      "metadata": {
        "colab": {
          "base_uri": "https://localhost:8080/"
        },
        "id": "setwkCKFe-6A",
        "outputId": "f520d225-4161-46eb-a66f-5f8db79d2b7f"
      },
      "execution_count": null,
      "outputs": [
        {
          "output_type": "execute_result",
          "data": {
            "text/plain": [
              "<function __main__.timed.<locals>.outer.<locals>.inner(*args, **kwargs)>"
            ]
          },
          "metadata": {},
          "execution_count": 74
        }
      ]
    },
    {
      "cell_type": "code",
      "source": [
        "def calc_fib_recurse(n):\n",
        "  return 1 if n < 3 else calc_fib_recurse(n-2) + calc_fib_recurse(n-1)"
      ],
      "metadata": {
        "id": "9tI8Uji6giJ4"
      },
      "execution_count": null,
      "outputs": []
    },
    {
      "cell_type": "code",
      "source": [
        "calc_fib_recurse(6)"
      ],
      "metadata": {
        "colab": {
          "base_uri": "https://localhost:8080/"
        },
        "id": "t8Wz0KfJk-ue",
        "outputId": "f6be3054-9a99-43e3-93da-36342dfed6f7"
      },
      "execution_count": null,
      "outputs": [
        {
          "output_type": "execute_result",
          "data": {
            "text/plain": [
              "8"
            ]
          },
          "metadata": {},
          "execution_count": 77
        }
      ]
    },
    {
      "cell_type": "markdown",
      "source": [
        "### Decorator class"
      ],
      "metadata": {
        "id": "IZF0FgaPk_q0"
      }
    },
    {
      "cell_type": "code",
      "source": [
        "def my_dec(a, b):\n",
        "  def dec(fn):\n",
        "    def inner(*args, **kwargs):\n",
        "      print(f'decorated function called: a={a}, b={b}')\n",
        "      return fn(*args, **kwargs)\n",
        "    return inner\n",
        "  return dec"
      ],
      "metadata": {
        "id": "yx83GOVxoZsT"
      },
      "execution_count": null,
      "outputs": []
    },
    {
      "cell_type": "code",
      "source": [
        "@my_dec(10, 20)\n",
        "def my_func(s):\n",
        "  print(f'Hello {s}')"
      ],
      "metadata": {
        "id": "1LSlqKCPoy3n"
      },
      "execution_count": null,
      "outputs": []
    },
    {
      "cell_type": "code",
      "source": [
        "my_func('World')"
      ],
      "metadata": {
        "colab": {
          "base_uri": "https://localhost:8080/"
        },
        "id": "6qOqbm0Lo7AT",
        "outputId": "b948035c-a81f-4106-feb2-4bd44f9edf6c"
      },
      "execution_count": null,
      "outputs": [
        {
          "output_type": "stream",
          "name": "stdout",
          "text": [
            "decorated function called: a=10, b=20\n",
            "Hello World\n"
          ]
        }
      ]
    },
    {
      "cell_type": "code",
      "source": [
        "class MyClass:\n",
        "  def __init__(self, a, b):\n",
        "    self.a = a\n",
        "    self.b = b\n",
        "\n",
        "  def __call__(self, c):\n",
        "    print(f'called a = {self.a}, b = {self.b}, c = {c}')"
      ],
      "metadata": {
        "id": "5aF0iOyxo_wz"
      },
      "execution_count": null,
      "outputs": []
    },
    {
      "cell_type": "code",
      "source": [
        "obj = MyClass(10, 20)\n",
        "obj(30)"
      ],
      "metadata": {
        "colab": {
          "base_uri": "https://localhost:8080/"
        },
        "id": "HJ492J0kp_q-",
        "outputId": "d51d8628-5fdf-4c8b-c04e-79f06dba9fb1"
      },
      "execution_count": null,
      "outputs": [
        {
          "output_type": "stream",
          "name": "stdout",
          "text": [
            "called a = 10, b = 20, c = 30\n"
          ]
        }
      ]
    },
    {
      "cell_type": "code",
      "source": [
        "class MyClass:\n",
        "  def __init__(self, a, b):\n",
        "    self.a = a\n",
        "    self.b = b\n",
        "\n",
        "  def __call__(self, fn):\n",
        "    def inner(*args, **kwargs):\n",
        "      print(f'decorated function called: a={self.a}, b={self.b}')\n",
        "      return fn(*args, **kwargs)\n",
        "    return inner"
      ],
      "metadata": {
        "id": "kPKVe2r6rKrD"
      },
      "execution_count": null,
      "outputs": []
    },
    {
      "cell_type": "code",
      "source": [
        "@MyClass(10, 20)\n",
        "def my_func(s):\n",
        "  print(f'Hello {s}')"
      ],
      "metadata": {
        "id": "6tWozE0asInF"
      },
      "execution_count": null,
      "outputs": []
    },
    {
      "cell_type": "code",
      "source": [
        "my_func('World')"
      ],
      "metadata": {
        "colab": {
          "base_uri": "https://localhost:8080/"
        },
        "id": "3K7gEw3RsPL9",
        "outputId": "4dce1145-6699-4537-82a9-52b9a03b97cb"
      },
      "execution_count": null,
      "outputs": [
        {
          "output_type": "stream",
          "name": "stdout",
          "text": [
            "decorated function called: a=10, b=20\n",
            "Hello World\n"
          ]
        }
      ]
    },
    {
      "cell_type": "code",
      "source": [],
      "metadata": {
        "id": "ogAT_5RlswAn"
      },
      "execution_count": null,
      "outputs": []
    },
    {
      "cell_type": "code",
      "source": [
        "obj = MyClass(10, 20)\n",
        "\n",
        "def my_func(s):\n",
        "  print(f'Hello {s}')\n",
        "\n",
        "my_func('World')"
      ],
      "metadata": {
        "colab": {
          "base_uri": "https://localhost:8080/"
        },
        "id": "UsytPJbAs9f3",
        "outputId": "7c3f79c8-f864-4835-c390-16ddb3ab030e"
      },
      "execution_count": null,
      "outputs": [
        {
          "output_type": "stream",
          "name": "stdout",
          "text": [
            "Hello World\n"
          ]
        }
      ]
    },
    {
      "cell_type": "markdown",
      "source": [
        "### Decorating Classes"
      ],
      "metadata": {
        "id": "pe6s9Y_JtDta"
      }
    },
    {
      "cell_type": "code",
      "source": [
        "from fractions import Fraction"
      ],
      "metadata": {
        "id": "KC55OaUOyNZB"
      },
      "execution_count": null,
      "outputs": []
    },
    {
      "cell_type": "code",
      "source": [
        "f = Fraction(2, 3)\n",
        "f.denominator"
      ],
      "metadata": {
        "colab": {
          "base_uri": "https://localhost:8080/"
        },
        "id": "TPizVpsiyW0q",
        "outputId": "c5b2073d-6969-4cc9-af85-2eca7ee8dbac"
      },
      "execution_count": null,
      "outputs": [
        {
          "output_type": "execute_result",
          "data": {
            "text/plain": [
              "3"
            ]
          },
          "metadata": {},
          "execution_count": 109
        }
      ]
    },
    {
      "cell_type": "code",
      "source": [
        "f.numerator"
      ],
      "metadata": {
        "colab": {
          "base_uri": "https://localhost:8080/"
        },
        "id": "YHgV9amkyaJJ",
        "outputId": "efc1ba6f-8494-478c-ea31-105535a96ad0"
      },
      "execution_count": null,
      "outputs": [
        {
          "output_type": "execute_result",
          "data": {
            "text/plain": [
              "2"
            ]
          },
          "metadata": {},
          "execution_count": 110
        }
      ]
    },
    {
      "cell_type": "code",
      "source": [
        "Fraction.speak = 100"
      ],
      "metadata": {
        "id": "eysXna9nyc1T"
      },
      "execution_count": null,
      "outputs": []
    },
    {
      "cell_type": "code",
      "source": [
        "f.speak"
      ],
      "metadata": {
        "colab": {
          "base_uri": "https://localhost:8080/"
        },
        "id": "SyhoHRmsyfsq",
        "outputId": "5dc53afc-6873-4bf7-df5b-a9de56d34fe1"
      },
      "execution_count": null,
      "outputs": [
        {
          "output_type": "execute_result",
          "data": {
            "text/plain": [
              "100"
            ]
          },
          "metadata": {},
          "execution_count": 112
        }
      ]
    },
    {
      "cell_type": "code",
      "source": [
        "Fraction.speak = lambda self, message: f\"Fraction says {message}\""
      ],
      "metadata": {
        "id": "HhEtlOgtyg8K"
      },
      "execution_count": null,
      "outputs": []
    },
    {
      "cell_type": "code",
      "source": [
        "f.speak('This is a late parrot')"
      ],
      "metadata": {
        "colab": {
          "base_uri": "https://localhost:8080/",
          "height": 35
        },
        "id": "Gwy_SIj2yqsO",
        "outputId": "7105a2ea-2002-4e76-b44e-b4c123a8148a"
      },
      "execution_count": null,
      "outputs": [
        {
          "output_type": "execute_result",
          "data": {
            "text/plain": [
              "'Fraction says This is a late parrot'"
            ],
            "application/vnd.google.colaboratory.intrinsic+json": {
              "type": "string"
            }
          },
          "metadata": {},
          "execution_count": 114
        }
      ]
    },
    {
      "cell_type": "code",
      "source": [
        "f2 = Fraction(10, 5)\n",
        "f2.speak('This parrot is no more')"
      ],
      "metadata": {
        "colab": {
          "base_uri": "https://localhost:8080/",
          "height": 35
        },
        "id": "4CwfG1XiytKJ",
        "outputId": "49cf2d5f-29db-4aa3-b29c-6d7337148fbf"
      },
      "execution_count": null,
      "outputs": [
        {
          "output_type": "execute_result",
          "data": {
            "text/plain": [
              "'Fraction says This parrot is no more'"
            ],
            "application/vnd.google.colaboratory.intrinsic+json": {
              "type": "string"
            }
          },
          "metadata": {},
          "execution_count": 115
        }
      ]
    },
    {
      "cell_type": "code",
      "source": [
        "def speak(self, message):\n",
        "  return f\"Fraction says {message}\"\n",
        "\n",
        "Fraction.speak = speak"
      ],
      "metadata": {
        "id": "mMuoR7r5yzBW"
      },
      "execution_count": null,
      "outputs": []
    },
    {
      "cell_type": "code",
      "source": [
        "f2.speak('Hi')"
      ],
      "metadata": {
        "colab": {
          "base_uri": "https://localhost:8080/",
          "height": 35
        },
        "id": "arK1gpGhzEPr",
        "outputId": "eeed1118-61e6-439e-e57c-b83d1827bcf1"
      },
      "execution_count": null,
      "outputs": [
        {
          "output_type": "execute_result",
          "data": {
            "text/plain": [
              "'Fraction says Hi'"
            ],
            "application/vnd.google.colaboratory.intrinsic+json": {
              "type": "string"
            }
          },
          "metadata": {},
          "execution_count": 119
        }
      ]
    },
    {
      "cell_type": "markdown",
      "source": [
        "#### Adding custom methods to an existing class"
      ],
      "metadata": {
        "id": "QgbpIu6IzGDU"
      }
    },
    {
      "cell_type": "code",
      "source": [
        "Fraction.is_integral = lambda self: self.denominator == 1\n",
        "\n",
        "f1 = Fraction(2, 3)\n",
        "f2 = Fraction(64,8)\n",
        "\n",
        "f1"
      ],
      "metadata": {
        "colab": {
          "base_uri": "https://localhost:8080/"
        },
        "id": "Ndlfp6nfzS9z",
        "outputId": "cd0150ff-e96a-4720-8b5a-f2a5df5132d0"
      },
      "execution_count": null,
      "outputs": [
        {
          "output_type": "execute_result",
          "data": {
            "text/plain": [
              "Fraction(2, 3)"
            ]
          },
          "metadata": {},
          "execution_count": 122
        }
      ]
    },
    {
      "cell_type": "code",
      "source": [
        "f2"
      ],
      "metadata": {
        "colab": {
          "base_uri": "https://localhost:8080/"
        },
        "id": "NuwQMkzlzlyG",
        "outputId": "ff07da6b-03de-4f11-a8d3-a78a71dd99e7"
      },
      "execution_count": null,
      "outputs": [
        {
          "output_type": "execute_result",
          "data": {
            "text/plain": [
              "Fraction(8, 1)"
            ]
          },
          "metadata": {},
          "execution_count": 123
        }
      ]
    },
    {
      "cell_type": "code",
      "source": [
        "f1.is_integral()"
      ],
      "metadata": {
        "colab": {
          "base_uri": "https://localhost:8080/"
        },
        "id": "f6BwU0mKzv_z",
        "outputId": "0b563d1c-98af-4a6d-ef05-853a3cb9303c"
      },
      "execution_count": null,
      "outputs": [
        {
          "output_type": "execute_result",
          "data": {
            "text/plain": [
              "False"
            ]
          },
          "metadata": {},
          "execution_count": 126
        }
      ]
    },
    {
      "cell_type": "code",
      "source": [
        "f2.is_integral()"
      ],
      "metadata": {
        "colab": {
          "base_uri": "https://localhost:8080/"
        },
        "id": "J3yQI54nzxlK",
        "outputId": "e627f483-2705-4025-99da-5462b50d942b"
      },
      "execution_count": null,
      "outputs": [
        {
          "output_type": "execute_result",
          "data": {
            "text/plain": [
              "True"
            ]
          },
          "metadata": {},
          "execution_count": 127
        }
      ]
    },
    {
      "cell_type": "code",
      "source": [
        "def dec_speak(cls):\n",
        "  cls.speak = lambda self, message: f'{self.__class__.__name__} says {message}'\n",
        "  return cls"
      ],
      "metadata": {
        "id": "nHmgkBqXzzbY"
      },
      "execution_count": null,
      "outputs": []
    },
    {
      "cell_type": "code",
      "source": [
        "Fraction = dec_speak(Fraction)"
      ],
      "metadata": {
        "id": "b3K0xAjg0TXL"
      },
      "execution_count": null,
      "outputs": []
    },
    {
      "cell_type": "code",
      "source": [
        "f1 = Fraction(2,3)\n",
        "f1.speak('hello')"
      ],
      "metadata": {
        "colab": {
          "base_uri": "https://localhost:8080/",
          "height": 35
        },
        "id": "yRUzImAF0mMn",
        "outputId": "b38c487a-aeb2-4391-b1f3-a870ec1189cd"
      },
      "execution_count": null,
      "outputs": [
        {
          "output_type": "execute_result",
          "data": {
            "text/plain": [
              "'Fraction says hello'"
            ],
            "application/vnd.google.colaboratory.intrinsic+json": {
              "type": "string"
            }
          },
          "metadata": {},
          "execution_count": 131
        }
      ]
    },
    {
      "cell_type": "code",
      "source": [
        "class Person:\n",
        "  pass"
      ],
      "metadata": {
        "id": "U25A2C970qaj"
      },
      "execution_count": null,
      "outputs": []
    },
    {
      "cell_type": "code",
      "source": [
        "Person = dec_speak(Person)\n",
        "p = Person()\n",
        "p.speak('this works!')"
      ],
      "metadata": {
        "colab": {
          "base_uri": "https://localhost:8080/",
          "height": 35
        },
        "id": "hHwFCn2B0t1j",
        "outputId": "8b5749e4-6522-4c28-bf12-c81b22c4332f"
      },
      "execution_count": null,
      "outputs": [
        {
          "output_type": "execute_result",
          "data": {
            "text/plain": [
              "'Person says this works!'"
            ],
            "application/vnd.google.colaboratory.intrinsic+json": {
              "type": "string"
            }
          },
          "metadata": {},
          "execution_count": 134
        }
      ]
    },
    {
      "cell_type": "code",
      "source": [
        "from datetime import datetime, timezone"
      ],
      "metadata": {
        "id": "V8b1ikBa01Vt"
      },
      "execution_count": null,
      "outputs": []
    },
    {
      "cell_type": "code",
      "source": [
        "def info(self):\n",
        "    results = []\n",
        "    results.append(f'time: {datetime.now(timezone.utc)}')\n",
        "    results.append(f'Class: {self.__class__.__name__}')\n",
        "    results.append(f'id: {hex(id(self))}')\n",
        "    for k, v in vars(self).items():\n",
        "      results.append(f'{k}: {v}')\n",
        "    return results\n",
        "\n",
        "def debug_info(cls):\n",
        "  cls.debug = info\n",
        "  return cls"
      ],
      "metadata": {
        "id": "9TJa0Iu-082n"
      },
      "execution_count": null,
      "outputs": []
    },
    {
      "cell_type": "code",
      "source": [
        "@debug_info\n",
        "class Person:\n",
        "  def __init__(self, name, birth_year):\n",
        "    self.name = name\n",
        "    self.birth_year = birth_year\n",
        "\n",
        "  def say_hi():\n",
        "    return 'Hello there!'"
      ],
      "metadata": {
        "id": "27mt7fX61YE0"
      },
      "execution_count": null,
      "outputs": []
    },
    {
      "cell_type": "code",
      "source": [
        "p = Person('John', 1939)\n",
        "p.debug()"
      ],
      "metadata": {
        "colab": {
          "base_uri": "https://localhost:8080/"
        },
        "id": "8-zJS3f-3Ugy",
        "outputId": "e6db2508-d059-4f3b-e46c-f0fc98e5044f"
      },
      "execution_count": null,
      "outputs": [
        {
          "output_type": "execute_result",
          "data": {
            "text/plain": [
              "['time: 2023-04-18 14:57:09.837961+00:00',\n",
              " 'Class: Person',\n",
              " 'id: 0x7f778e635b50',\n",
              " 'name: John',\n",
              " 'birth_year: 1939']"
            ]
          },
          "metadata": {},
          "execution_count": 150
        }
      ]
    },
    {
      "cell_type": "code",
      "source": [
        "@debug_info\n",
        "class Automobile:\n",
        "  def __init__(self, make, model, year, top_speed):\n",
        "    self.make = make\n",
        "    self.model = model\n",
        "    self.year = year\n",
        "    self.top_speed = top_speed\n",
        "    self._speed = 0 \n",
        "\n",
        "  @property\n",
        "  def speed(self):\n",
        "    return self._speed\n",
        "  \n",
        "  @speed.setter\n",
        "  def speed(self, new_speed):\n",
        "    if new_speed > self.top_speed:\n",
        "      raise ValueError('Speed cannot exceed top_speed')\n",
        "    else:\n",
        "      self._speed = new_speed"
      ],
      "metadata": {
        "id": "IQyFAq6z3Wq0"
      },
      "execution_count": null,
      "outputs": []
    },
    {
      "cell_type": "code",
      "source": [
        "favorite = Automobile('Ford', 'Model T', 1908, 45)\n",
        "favorite.debug()"
      ],
      "metadata": {
        "colab": {
          "base_uri": "https://localhost:8080/"
        },
        "id": "eAdkoD8i_9my",
        "outputId": "d0b35a99-b057-4484-a2a5-dfd5a75ecaac"
      },
      "execution_count": null,
      "outputs": [
        {
          "output_type": "execute_result",
          "data": {
            "text/plain": [
              "['time: 2023-04-18 15:35:03.143456+00:00',\n",
              " 'Class: Automobile',\n",
              " 'id: 0x7f778e544700',\n",
              " 'make: Ford',\n",
              " 'model: Model T',\n",
              " 'year: 1908',\n",
              " 'top_speed: 45',\n",
              " '_speed: 0']"
            ]
          },
          "metadata": {},
          "execution_count": 155
        }
      ]
    },
    {
      "cell_type": "code",
      "source": [
        "favorite.speed = 45"
      ],
      "metadata": {
        "id": "9755p-13AM6K"
      },
      "execution_count": null,
      "outputs": []
    },
    {
      "cell_type": "code",
      "source": [
        "favorite.debug()"
      ],
      "metadata": {
        "colab": {
          "base_uri": "https://localhost:8080/"
        },
        "id": "Mm__MES4AYBL",
        "outputId": "2ce57cdc-7a36-476c-9d8b-799023852ca7"
      },
      "execution_count": null,
      "outputs": [
        {
          "output_type": "execute_result",
          "data": {
            "text/plain": [
              "['time: 2023-04-18 15:35:51.598357+00:00',\n",
              " 'Class: Automobile',\n",
              " 'id: 0x7f778e544700',\n",
              " 'make: Ford',\n",
              " 'model: Model T',\n",
              " 'year: 1908',\n",
              " 'top_speed: 45',\n",
              " '_speed: 45']"
            ]
          },
          "metadata": {},
          "execution_count": 160
        }
      ]
    },
    {
      "cell_type": "code",
      "source": [
        "from math import sqrt"
      ],
      "metadata": {
        "id": "WnOgkVIQAfxF"
      },
      "execution_count": null,
      "outputs": []
    },
    {
      "cell_type": "code",
      "source": [
        "class Point:\n",
        "  def __init__(self, x, y):\n",
        "    self.x = x\n",
        "    self.y = y\n",
        "  \n",
        "  def __abs__(self):\n",
        "    return sqrt(self.x ** 2 + self.y ** 2)\n",
        "\n",
        "  def __repr__(self):\n",
        "    return f\"Point({self.x}, {self.y})\""
      ],
      "metadata": {
        "id": "aR9NRjK3BUBD"
      },
      "execution_count": null,
      "outputs": []
    },
    {
      "cell_type": "code",
      "source": [
        "p1, p2, p3 = Point(2, 3), Point(2, 3), Point(0, 0)"
      ],
      "metadata": {
        "id": "bOLbc_k2B41M"
      },
      "execution_count": null,
      "outputs": []
    },
    {
      "cell_type": "code",
      "source": [
        "abs(p1)"
      ],
      "metadata": {
        "colab": {
          "base_uri": "https://localhost:8080/"
        },
        "id": "Kfk8UydBCAel",
        "outputId": "1a225f6e-4504-4720-81ea-5c180f75d679"
      },
      "execution_count": null,
      "outputs": [
        {
          "output_type": "execute_result",
          "data": {
            "text/plain": [
              "3.605551275463989"
            ]
          },
          "metadata": {},
          "execution_count": 166
        }
      ]
    },
    {
      "cell_type": "code",
      "source": [
        "p1"
      ],
      "metadata": {
        "colab": {
          "base_uri": "https://localhost:8080/"
        },
        "id": "eerRS_euCEi9",
        "outputId": "96e52270-f5d1-41a5-f634-41ad43bf8a8e"
      },
      "execution_count": null,
      "outputs": [
        {
          "output_type": "execute_result",
          "data": {
            "text/plain": [
              "Point(2, 3)"
            ]
          },
          "metadata": {},
          "execution_count": 168
        }
      ]
    },
    {
      "cell_type": "code",
      "source": [
        "p1 == p2"
      ],
      "metadata": {
        "colab": {
          "base_uri": "https://localhost:8080/"
        },
        "id": "YirrModjCG52",
        "outputId": "0603b8cf-e80c-4e13-9b27-14158a8370e9"
      },
      "execution_count": null,
      "outputs": [
        {
          "output_type": "execute_result",
          "data": {
            "text/plain": [
              "False"
            ]
          },
          "metadata": {},
          "execution_count": 169
        }
      ]
    },
    {
      "cell_type": "code",
      "source": [
        "class Point:\n",
        "  def __init__(self, x, y):\n",
        "    self.x = x\n",
        "    self.y = y\n",
        "  \n",
        "  def __abs__(self):\n",
        "    return sqrt(self.x ** 2 + self.y ** 2)\n",
        "\n",
        "  def __repr__(self):\n",
        "    return f\"Point({self.x}, {self.y})\"\n",
        "\n",
        "  def __eq__(self, other):\n",
        "    if isinstance(other, Point):\n",
        "      return self.x == other.x and self.y == other.y\n",
        "    else:\n",
        "      return False\n",
        "\n",
        "  def __lt__(self, other):\n",
        "    if isinstance(other, Point):\n",
        "      return abs(self) < abs(other)\n",
        "    else:\n",
        "      return NotImplemented"
      ],
      "metadata": {
        "id": "3FZolN_6CMhV"
      },
      "execution_count": null,
      "outputs": []
    },
    {
      "cell_type": "code",
      "source": [
        "p1, p2, p3 = Point(2, 3), Point(2, 3), Point(0, 0)"
      ],
      "metadata": {
        "id": "G7Y56wUGCveu"
      },
      "execution_count": null,
      "outputs": []
    },
    {
      "cell_type": "code",
      "source": [
        "p1 is p2"
      ],
      "metadata": {
        "colab": {
          "base_uri": "https://localhost:8080/"
        },
        "id": "HMLeiUEwC3Iu",
        "outputId": "e2cc7672-9ddd-4a74-be59-6853935dc58c"
      },
      "execution_count": null,
      "outputs": [
        {
          "output_type": "execute_result",
          "data": {
            "text/plain": [
              "False"
            ]
          },
          "metadata": {},
          "execution_count": 196
        }
      ]
    },
    {
      "cell_type": "code",
      "source": [
        "p1 == p2"
      ],
      "metadata": {
        "colab": {
          "base_uri": "https://localhost:8080/"
        },
        "id": "kz3RM7FOC6Ek",
        "outputId": "028cb6d9-31be-4453-81e2-008553acc025"
      },
      "execution_count": null,
      "outputs": [
        {
          "output_type": "execute_result",
          "data": {
            "text/plain": [
              "True"
            ]
          },
          "metadata": {},
          "execution_count": 197
        }
      ]
    },
    {
      "cell_type": "code",
      "source": [
        "p4 = Point(100, 100)"
      ],
      "metadata": {
        "id": "lo2-RuavDFFu"
      },
      "execution_count": null,
      "outputs": []
    },
    {
      "cell_type": "code",
      "source": [
        "p4 < p1"
      ],
      "metadata": {
        "colab": {
          "base_uri": "https://localhost:8080/"
        },
        "id": "AycRzH67DeA0",
        "outputId": "58fd1866-7a50-487a-bceb-29800f12ec18"
      },
      "execution_count": null,
      "outputs": [
        {
          "output_type": "execute_result",
          "data": {
            "text/plain": [
              "False"
            ]
          },
          "metadata": {},
          "execution_count": 199
        }
      ]
    },
    {
      "cell_type": "code",
      "source": [
        "p4 > p1"
      ],
      "metadata": {
        "colab": {
          "base_uri": "https://localhost:8080/"
        },
        "id": "4OWWDbRuDgtM",
        "outputId": "d4e94152-f688-4da3-c148-78a0d3d3e654"
      },
      "execution_count": null,
      "outputs": [
        {
          "output_type": "execute_result",
          "data": {
            "text/plain": [
              "True"
            ]
          },
          "metadata": {},
          "execution_count": 202
        }
      ]
    },
    {
      "cell_type": "code",
      "source": [
        "def complete_ordering(cls):\n",
        "  if '__eq__' in dir(cls) and '__lt__' in dir(cls):\n",
        "    cls.__le__ = lambda self, other: self < other or self == other\n",
        "    cls.__gt__ = lambda self, other: not(self < other) and not (self == other)\n",
        "    cls.__ge__ = lambda self, other: not(self < other)\n",
        "  return cls"
      ],
      "metadata": {
        "id": "2yAQAZJaDjtF"
      },
      "execution_count": null,
      "outputs": []
    },
    {
      "cell_type": "code",
      "source": [
        "@complete_ordering\n",
        "class Point:\n",
        "  def __init__(self, x, y):\n",
        "    self.x = x\n",
        "    self.y = y\n",
        "  \n",
        "  def __abs__(self):\n",
        "    return sqrt(self.x ** 2 + self.y ** 2)\n",
        "\n",
        "  def __repr__(self):\n",
        "    return f\"Point({self.x}, {self.y})\"\n",
        "\n",
        "  def __eq__(self, other):\n",
        "    if isinstance(other, Point):\n",
        "      return self.x == other.x and self.y == other.y\n",
        "    else:\n",
        "      return False\n",
        "\n",
        "  def __lt__(self, other):\n",
        "    if isinstance(other, Point):\n",
        "      return abs(self) < abs(other)\n",
        "    else:\n",
        "      return NotImplemented"
      ],
      "metadata": {
        "id": "2GurwXDdDlSe"
      },
      "execution_count": null,
      "outputs": []
    },
    {
      "cell_type": "code",
      "source": [
        "p1, p2, p3, p4 = Point(2, 3), Point(2, 3), Point(0, 0), Point(100, 200)"
      ],
      "metadata": {
        "id": "U_4pKR1UHKeX"
      },
      "execution_count": null,
      "outputs": []
    },
    {
      "cell_type": "code",
      "source": [
        "p1 <= p4"
      ],
      "metadata": {
        "colab": {
          "base_uri": "https://localhost:8080/"
        },
        "id": "lCsygYtPIAzG",
        "outputId": "b53debf7-b044-4ec3-cbfc-d02b3ddf0735"
      },
      "execution_count": null,
      "outputs": [
        {
          "output_type": "execute_result",
          "data": {
            "text/plain": [
              "True"
            ]
          },
          "metadata": {},
          "execution_count": 210
        }
      ]
    },
    {
      "cell_type": "code",
      "source": [
        "p4 >= p2"
      ],
      "metadata": {
        "colab": {
          "base_uri": "https://localhost:8080/"
        },
        "id": "FbW99d9-IDoL",
        "outputId": "37448098-b376-45cc-86bd-2ba54d865d9b"
      },
      "execution_count": null,
      "outputs": [
        {
          "output_type": "execute_result",
          "data": {
            "text/plain": [
              "True"
            ]
          },
          "metadata": {},
          "execution_count": 211
        }
      ]
    },
    {
      "cell_type": "code",
      "source": [
        "p1 != p2"
      ],
      "metadata": {
        "colab": {
          "base_uri": "https://localhost:8080/"
        },
        "id": "WFwaERWBIKaR",
        "outputId": "adccff38-fcdd-4f0c-b69d-48e8ff40044c"
      },
      "execution_count": null,
      "outputs": [
        {
          "output_type": "execute_result",
          "data": {
            "text/plain": [
              "False"
            ]
          },
          "metadata": {},
          "execution_count": 212
        }
      ]
    },
    {
      "cell_type": "code",
      "source": [
        "from functools import total_ordering\n",
        "\n",
        "@total_ordering\n",
        "class Point:\n",
        "  def __init__(self, x, y):\n",
        "    self.x = x\n",
        "    self.y = y\n",
        "  \n",
        "  def __abs__(self):\n",
        "    return sqrt(self.x ** 2 + self.y ** 2)\n",
        "\n",
        "  def __repr__(self):\n",
        "    return f\"Point({self.x}, {self.y})\"\n",
        "\n",
        "  def __eq__(self, other):\n",
        "    if isinstance(other, Point):\n",
        "      return self.x == other.x and self.y == other.y\n",
        "    else:\n",
        "      return False\n",
        "\n",
        "  def __lt__(self, other):\n",
        "    if isinstance(other, Point):\n",
        "      return abs(self) < abs(other)\n",
        "    else:\n",
        "      return NotImplemented"
      ],
      "metadata": {
        "id": "dMapHIHKIL_D"
      },
      "execution_count": null,
      "outputs": []
    },
    {
      "cell_type": "code",
      "source": [
        "p1, p2, p3, p4 = Point(2, 3), Point(2, 3), Point(0, 0), Point(100, 200)"
      ],
      "metadata": {
        "id": "xn8UIAHFIV9i"
      },
      "execution_count": null,
      "outputs": []
    },
    {
      "cell_type": "code",
      "source": [
        "p1 <= p2"
      ],
      "metadata": {
        "colab": {
          "base_uri": "https://localhost:8080/"
        },
        "id": "KP9e4oYyIcs6",
        "outputId": "7e9351e1-600a-48d7-f24f-2f3ee58329f7"
      },
      "execution_count": null,
      "outputs": [
        {
          "output_type": "execute_result",
          "data": {
            "text/plain": [
              "True"
            ]
          },
          "metadata": {},
          "execution_count": 215
        }
      ]
    },
    {
      "cell_type": "code",
      "source": [
        "p1 >= p4"
      ],
      "metadata": {
        "colab": {
          "base_uri": "https://localhost:8080/"
        },
        "id": "vUxLgRs9IdlC",
        "outputId": "77f51a10-9d2f-4029-d633-217ad3b9d701"
      },
      "execution_count": null,
      "outputs": [
        {
          "output_type": "execute_result",
          "data": {
            "text/plain": [
              "False"
            ]
          },
          "metadata": {},
          "execution_count": 216
        }
      ]
    },
    {
      "cell_type": "code",
      "source": [],
      "metadata": {
        "id": "icPm0biuIgTk"
      },
      "execution_count": null,
      "outputs": []
    }
  ]
}