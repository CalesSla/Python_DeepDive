{
 "cells": [
  {
   "cell_type": "code",
   "execution_count": 1,
   "id": "df8674b2",
   "metadata": {},
   "outputs": [],
   "source": [
    "from functools import partial"
   ]
  },
  {
   "cell_type": "code",
   "execution_count": 2,
   "id": "02e01c73",
   "metadata": {},
   "outputs": [
    {
     "name": "stdout",
     "output_type": "stream",
     "text": [
      "10 20 30\n"
     ]
    }
   ],
   "source": [
    "def my_func(a, b, c):\n",
    "  print(a, b, c)\n",
    "  \n",
    "my_func(10, 20, 30)"
   ]
  },
  {
   "cell_type": "code",
   "execution_count": 3,
   "id": "b4325c02",
   "metadata": {},
   "outputs": [
    {
     "name": "stdout",
     "output_type": "stream",
     "text": [
      "10 20 30\n"
     ]
    }
   ],
   "source": [
    "def f(x, y):\n",
    "  return my_func(10, x, y)\n",
    "\n",
    "f(20, 30)"
   ]
  },
  {
   "cell_type": "code",
   "execution_count": 5,
   "id": "b6fed86f",
   "metadata": {},
   "outputs": [
    {
     "name": "stdout",
     "output_type": "stream",
     "text": [
      "10 20 30\n"
     ]
    }
   ],
   "source": [
    "f = partial(my_func, 10)\n",
    "f(20, 30)"
   ]
  },
  {
   "cell_type": "code",
   "execution_count": 6,
   "id": "b2f4220c",
   "metadata": {},
   "outputs": [
    {
     "name": "stdout",
     "output_type": "stream",
     "text": [
      "10 20 30\n"
     ]
    }
   ],
   "source": [
    "f = partial(my_func, 10, 20)\n",
    "f(30)"
   ]
  },
  {
   "cell_type": "code",
   "execution_count": 7,
   "id": "13c68cea",
   "metadata": {},
   "outputs": [
    {
     "name": "stdout",
     "output_type": "stream",
     "text": [
      "10 20 (100, 200) a b {'k3': 1000, 'k4': 2000}\n"
     ]
    }
   ],
   "source": [
    "def my_func(a, b, *args, k1, k2, **kwargs):\n",
    "  print(a, b, args, k1, k2, kwargs)\n",
    "\n",
    "my_func(10, 20, 100, 200, k1 = 'a', k2 = 'b', k3 = 1000, k4 = 2000)"
   ]
  },
  {
   "cell_type": "code",
   "execution_count": 10,
   "id": "6fbe1de5",
   "metadata": {},
   "outputs": [
    {
     "name": "stdout",
     "output_type": "stream",
     "text": [
      "10 20 (100, 200) a b {'k3': 1000, 'k4': 2000}\n"
     ]
    }
   ],
   "source": [
    "f = partial(my_func, 10, k1 = 'a')\n",
    "\n",
    "f(20, 100, 200, k2 = 'b', k3 = 1000, k4 = 2000)"
   ]
  },
  {
   "cell_type": "code",
   "execution_count": 12,
   "id": "52a82495",
   "metadata": {},
   "outputs": [
    {
     "data": {
      "text/plain": [
       "16"
      ]
     },
     "execution_count": 12,
     "metadata": {},
     "output_type": "execute_result"
    }
   ],
   "source": [
    "def pow(base, exponent):\n",
    "  return base ** exponent\n",
    "\n",
    "sq = partial(pow, exponent = 2)\n",
    "\n",
    "sq(4)"
   ]
  },
  {
   "cell_type": "code",
   "execution_count": 13,
   "id": "0e64e4a3",
   "metadata": {},
   "outputs": [
    {
     "data": {
      "text/plain": [
       "2"
      ]
     },
     "execution_count": 13,
     "metadata": {},
     "output_type": "execute_result"
    }
   ],
   "source": [
    "origin = (0, 0)\n",
    "\n",
    "l = [(1, 1), (0, 2), (-3, 2), (0, 0), (10, 10)]\n",
    "\n",
    "dist2 = lambda a, b: (a[0] - b[0])**2 + (a[1] - b[1])**2\n",
    "\n",
    "dist2((1, 1), origin)"
   ]
  },
  {
   "cell_type": "code",
   "execution_count": 14,
   "id": "731df2d1",
   "metadata": {},
   "outputs": [
    {
     "data": {
      "text/plain": [
       "[(-3, 2), (0, 0), (0, 2), (1, 1), (10, 10)]"
      ]
     },
     "execution_count": 14,
     "metadata": {},
     "output_type": "execute_result"
    }
   ],
   "source": [
    "sorted(l)"
   ]
  },
  {
   "cell_type": "code",
   "execution_count": 15,
   "id": "ae8c0085",
   "metadata": {},
   "outputs": [
    {
     "data": {
      "text/plain": [
       "[(0, 0), (1, 1), (0, 2), (-3, 2), (10, 10)]"
      ]
     },
     "execution_count": 15,
     "metadata": {},
     "output_type": "execute_result"
    }
   ],
   "source": [
    "f = partial(dist2, origin)\n",
    "\n",
    "sorted(l, key = f)"
   ]
  },
  {
   "cell_type": "code",
   "execution_count": 16,
   "id": "836a4a75",
   "metadata": {},
   "outputs": [
    {
     "name": "stdout",
     "output_type": "stream",
     "text": [
      "a31a819 max reduction function\n",
      "3d64b16 implement reduction function with addition\n",
      "fc3266d map, filter and zip\n",
      "7460813 Function Introspection\n",
      "efe6a3c args, kwargs and unpacking\n",
      "ad7271d timer function, args and kwargs\n",
      "b71e1b6 docstrings and annotations\n",
      "81deb99 extended unpacking\n",
      "503f3b0 equality testing\n",
      "c8ec6b6 membership test\n",
      "08741c7 add setter for height and width\n",
      "1a4d24a add class properties (e.g. define a getter)\n",
      "038c268 make class variables private\n",
      "d11a525 __lt__ method implementation\n",
      "cc27399 fix the __eq__ method for other objects\n",
      "f8de5d0 __eq__ method custom\n",
      "256ee41 classes draft\n"
     ]
    }
   ],
   "source": [
    "!git add .\n",
    "!git commi"
   ]
  },
  {
   "cell_type": "code",
   "execution_count": null,
   "id": "ecf20336",
   "metadata": {},
   "outputs": [],
   "source": []
  }
 ],
 "metadata": {
  "kernelspec": {
   "display_name": "Python 3 (ipykernel)",
   "language": "python",
   "name": "python3"
  },
  "language_info": {
   "codemirror_mode": {
    "name": "ipython",
    "version": 3
   },
   "file_extension": ".py",
   "mimetype": "text/x-python",
   "name": "python",
   "nbconvert_exporter": "python",
   "pygments_lexer": "ipython3",
   "version": "3.9.16"
  }
 },
 "nbformat": 4,
 "nbformat_minor": 5
}
