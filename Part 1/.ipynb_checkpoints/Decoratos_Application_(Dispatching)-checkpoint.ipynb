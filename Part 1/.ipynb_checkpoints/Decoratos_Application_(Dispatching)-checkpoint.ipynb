{
 "cells": [
  {
   "cell_type": "code",
   "execution_count": 1,
   "metadata": {
    "id": "OR4dYpeKS2ZS"
   },
   "outputs": [],
   "source": [
    "from html import escape"
   ]
  },
  {
   "cell_type": "code",
   "execution_count": 2,
   "metadata": {
    "id": "b6_8XetaS82-"
   },
   "outputs": [],
   "source": [
    "def html_escape(arg):\n",
    "  return escape(str(arg))\\\n",
    "\n",
    "def html_int(a):\n",
    "  return f'{a}(<i>{str(hex(a))}</i>)'\n",
    "\n",
    "def html_real(a):\n",
    "  return f'{round(a,2):.2f}'\n",
    "\n",
    "def html_str(s):\n",
    "  return html_escape(s).replace('\\n', '<br/>\\n')\n",
    "\n",
    "def html_list(l):\n",
    "  items = (f'<li>{html_escape(item)}</li>' for item in l)\n",
    "  return '<ul\\n>' + '\\n'.join(items) + '\\n</ul>'\n",
    "\n",
    "def html_dict(d):\n",
    "  items = (f'<li>{0}={1}</li>' for k, v in d.items())\n",
    "  return '<ul>\\n' + '\\n'.join(items) + '\\n</ul>'"
   ]
  },
  {
   "cell_type": "code",
   "execution_count": 3,
   "metadata": {
    "colab": {
     "base_uri": "https://localhost:8080/"
    },
    "id": "YwxI2RqrTjYd",
    "outputId": "165f2e46-f88e-41f5-f990-01820dd441b3"
   },
   "outputs": [
    {
     "name": "stdout",
     "output_type": "stream",
     "text": [
      "this is<br/>\n",
      "a multi line string<br/>\n",
      "with special characters: 10 &lt; 100\n"
     ]
    }
   ],
   "source": [
    "print(html_str(\"\"\"this is\n",
    "a multi line string\n",
    "with special characters: 10 < 100\"\"\"))"
   ]
  },
  {
   "cell_type": "code",
   "execution_count": 4,
   "metadata": {
    "colab": {
     "base_uri": "https://localhost:8080/"
    },
    "id": "pdOvhY4lWwIT",
    "outputId": "457fd8a1-4bda-4e62-a9a1-833ea8b0635e"
   },
   "outputs": [
    {
     "name": "stdout",
     "output_type": "stream",
     "text": [
      "255(<i>0xff</i>)\n"
     ]
    }
   ],
   "source": [
    " print(html_int(255))"
   ]
  },
  {
   "cell_type": "code",
   "execution_count": 5,
   "metadata": {
    "colab": {
     "base_uri": "https://localhost:8080/"
    },
    "id": "6iNUvl4lW4OA",
    "outputId": "4af434d0-be4b-4951-df9b-126cb790772b"
   },
   "outputs": [
    {
     "name": "stdout",
     "output_type": "stream",
     "text": [
      "(3+10j)\n"
     ]
    }
   ],
   "source": [
    "print(html_escape(3+10j))"
   ]
  },
  {
   "cell_type": "code",
   "execution_count": 6,
   "metadata": {
    "id": "33DDWJUKW8Z_"
   },
   "outputs": [],
   "source": [
    "from decimal import Decimal"
   ]
  },
  {
   "cell_type": "code",
   "execution_count": 7,
   "metadata": {
    "id": "LSuOgrazXBJ4"
   },
   "outputs": [],
   "source": [
    "def htmlize(arg):\n",
    "  if isinstance(arg, int):\n",
    "    return html_int(arg)\n",
    "\n",
    "  elif isinstance(arg, float) or isinstance(arg, Decimal):\n",
    "    return html_real(arg)\n",
    "  \n",
    "  elif isinstance(arg, str):\n",
    "    return html_str(arg)\n",
    "\n",
    "  elif isinstance(arg, list) or isinstance(arg, tuple):\n",
    "    return html_list(arg)\n",
    "  \n",
    "  elif isinstance(arg, dict):\n",
    "    return html_dict(arg)\n",
    "  \n",
    "  else:\n",
    "    return html_escape(arg)"
   ]
  },
  {
   "cell_type": "code",
   "execution_count": 8,
   "metadata": {
    "colab": {
     "base_uri": "https://localhost:8080/",
     "height": 35
    },
    "id": "nhrceXjjXuIK",
    "outputId": "b3d69ae6-f2cb-41f0-bc60-e8deb25c6565"
   },
   "outputs": [
    {
     "data": {
      "text/plain": [
       "'100(<i>0x64</i>)'"
      ]
     },
     "execution_count": 8,
     "metadata": {},
     "output_type": "execute_result"
    }
   ],
   "source": [
    "htmlize(100)"
   ]
  },
  {
   "cell_type": "code",
   "execution_count": 9,
   "metadata": {
    "colab": {
     "base_uri": "https://localhost:8080/",
     "height": 35
    },
    "id": "5ZvNLsZkXwZq",
    "outputId": "3daf125e-e4ee-491a-8a32-77bae9dbf7e9"
   },
   "outputs": [
    {
     "data": {
      "text/plain": [
       "'Python<br/>\\nrocks!<br/>\\n'"
      ]
     },
     "execution_count": 9,
     "metadata": {},
     "output_type": "execute_result"
    }
   ],
   "source": [
    "htmlize(\"\"\"Python\n",
    "rocks!\n",
    "\"\"\")"
   ]
  },
  {
   "cell_type": "code",
   "execution_count": 10,
   "metadata": {
    "colab": {
     "base_uri": "https://localhost:8080/"
    },
    "id": "T2DVa-VUX2P0",
    "outputId": "a1af9d4b-d43c-472d-b71c-991175f05409"
   },
   "outputs": [
    {
     "name": "stdout",
     "output_type": "stream",
     "text": [
      "<ul\n",
      "><li>1</li>\n",
      "<li>2</li>\n",
      "<li>3</li>\n",
      "</ul>\n"
     ]
    }
   ],
   "source": [
    "print(htmlize([1,2,3]))"
   ]
  },
  {
   "cell_type": "code",
   "execution_count": 11,
   "metadata": {
    "colab": {
     "base_uri": "https://localhost:8080/"
    },
    "id": "HqFfXKYIX5vY",
    "outputId": "3406d528-3086-4c77-a94a-b9eede2511e3"
   },
   "outputs": [
    {
     "name": "stdout",
     "output_type": "stream",
     "text": [
      "<ul\n",
      "><li>Python\n",
      "rocks! 0 &lt; 1\n",
      "</li>\n",
      "<li>(10, 20, 30)</li>\n",
      "<li>100</li>\n",
      "</ul>\n"
     ]
    }
   ],
   "source": [
    "print(htmlize([\"\"\"Python\n",
    "rocks! 0 < 1\n",
    "\"\"\", (10, 20, 30), 100]))"
   ]
  },
  {
   "cell_type": "code",
   "execution_count": 12,
   "metadata": {
    "id": "lmeRdh2lYN2a"
   },
   "outputs": [],
   "source": [
    "def html_escape(arg):\n",
    "  return escape(str(arg))\\\n",
    "\n",
    "def html_int(a):\n",
    "  return f'{a}(<i>{str(hex(a))}</i>)'\n",
    "\n",
    "def html_real(a):\n",
    "  return f'{round(a,2):.2f}'\n",
    "\n",
    "def html_str(s):\n",
    "  return html_escape(s).replace('\\n', '<br/>\\n')\n",
    "\n",
    "def html_list(l):\n",
    "  items = (f'<li>{htmlize(item)}</li>' for item in l)\n",
    "  return '<ul\\n>' + '\\n'.join(items) + '\\n</ul>'\n",
    "\n",
    "def html_dict(d):\n",
    "  items = (f'<li>{html_escape(k)}={htmlize(v)}</li>' for k, v in d.items())\n",
    "  return '<ul>\\n' + '\\n'.join(items) + '\\n</ul>'"
   ]
  },
  {
   "cell_type": "code",
   "execution_count": 13,
   "metadata": {
    "id": "y_mx0GXPY-oK"
   },
   "outputs": [],
   "source": [
    "def htmlize(arg):\n",
    "  if isinstance(arg, int):\n",
    "    return html_int(arg)\n",
    "\n",
    "  elif isinstance(arg, float) or isinstance(arg, Decimal):\n",
    "    return html_real(arg)\n",
    "  \n",
    "  elif isinstance(arg, str):\n",
    "    return html_str(arg)\n",
    "\n",
    "  elif isinstance(arg, list) or isinstance(arg, tuple):\n",
    "    return html_list(arg)\n",
    "  \n",
    "  elif isinstance(arg, dict):\n",
    "    return html_dict(arg)\n",
    "  \n",
    "  else:\n",
    "    return html_escape(arg)"
   ]
  },
  {
   "cell_type": "code",
   "execution_count": 14,
   "metadata": {
    "colab": {
     "base_uri": "https://localhost:8080/"
    },
    "id": "e7D4s1eDZSTy",
    "outputId": "78c5a8e7-7702-41ca-af68-2fa01a619bc8"
   },
   "outputs": [
    {
     "name": "stdout",
     "output_type": "stream",
     "text": [
      "<ul\n",
      "><li>Python<br/>\n",
      "rocks! 0 &lt; 1<br/>\n",
      "</li>\n",
      "<li><ul\n",
      "><li>10(<i>0xa</i>)</li>\n",
      "<li>20(<i>0x14</i>)</li>\n",
      "<li>30(<i>0x1e</i>)</li>\n",
      "</ul></li>\n",
      "<li>100(<i>0x64</i>)</li>\n",
      "</ul>\n"
     ]
    }
   ],
   "source": [
    "print(htmlize([\"\"\"Python\n",
    "rocks! 0 < 1\n",
    "\"\"\", (10, 20, 30), 100]))"
   ]
  },
  {
   "cell_type": "code",
   "execution_count": 15,
   "metadata": {
    "id": "AUXE_CeUZTr6"
   },
   "outputs": [],
   "source": [
    "def htmlize(arg):\n",
    "  registry = {\n",
    "      object: html_escape,\n",
    "      int: html_int,\n",
    "      float: html_real,\n",
    "      Decimal: html_real,\n",
    "      str: html_str,\n",
    "      list: html_list,\n",
    "      tuple: html_list,\n",
    "      set: html_list,\n",
    "      dict: html_dict\n",
    "  }\n",
    "\n",
    "  fn = registry.get(type(arg), registry[object])\n",
    "\n",
    "  return fn(arg)"
   ]
  },
  {
   "cell_type": "code",
   "execution_count": 16,
   "metadata": {
    "colab": {
     "base_uri": "https://localhost:8080/",
     "height": 35
    },
    "id": "qu23N3tWabWD",
    "outputId": "65e728d2-54ef-4eea-bfb4-3ede5c60466a"
   },
   "outputs": [
    {
     "data": {
      "text/plain": [
       "'100(<i>0x64</i>)'"
      ]
     },
     "execution_count": 16,
     "metadata": {},
     "output_type": "execute_result"
    }
   ],
   "source": [
    "htmlize(100)"
   ]
  },
  {
   "cell_type": "code",
   "execution_count": 17,
   "metadata": {
    "colab": {
     "base_uri": "https://localhost:8080/"
    },
    "id": "vTCezVOba04s",
    "outputId": "1a4a9bac-22bb-4cc4-b276-10f3c2560bd3"
   },
   "outputs": [
    {
     "name": "stdout",
     "output_type": "stream",
     "text": [
      "<ul\n",
      "><li>1(<i>0x1</i>)</li>\n",
      "<li>2(<i>0x2</i>)</li>\n",
      "<li>3(<i>0x3</i>)</li>\n",
      "</ul>\n"
     ]
    }
   ],
   "source": [
    "print(htmlize([1,2,3]))"
   ]
  },
  {
   "cell_type": "code",
   "execution_count": null,
   "metadata": {
    "id": "lPbbYGhna4w2"
   },
   "outputs": [],
   "source": [
    "def singledispatch(fn):\n",
    "  registry = {}\n",
    "  \n",
    "  def inner(arg):\n",
    "    "
   ]
  },
  {
   "cell_type": "code",
   "execution_count": null,
   "metadata": {
    "id": "c--iGDJYZtQc"
   },
   "outputs": [],
   "source": []
  },
  {
   "cell_type": "code",
   "execution_count": null,
   "metadata": {
    "id": "eoWgePlbZ0b7"
   },
   "outputs": [],
   "source": []
  },
  {
   "cell_type": "code",
   "execution_count": null,
   "metadata": {},
   "outputs": [],
   "source": []
  }
 ],
 "metadata": {
  "colab": {
   "provenance": []
  },
  "kernelspec": {
   "display_name": "Python 3 (ipykernel)",
   "language": "python",
   "name": "python3"
  },
  "language_info": {
   "codemirror_mode": {
    "name": "ipython",
    "version": 3
   },
   "file_extension": ".py",
   "mimetype": "text/x-python",
   "name": "python",
   "nbconvert_exporter": "python",
   "pygments_lexer": "ipython3",
   "version": "3.9.16"
  }
 },
 "nbformat": 4,
 "nbformat_minor": 1
}
