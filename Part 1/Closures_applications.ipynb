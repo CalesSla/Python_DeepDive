{
 "cells": [
  {
   "cell_type": "code",
   "execution_count": 1,
   "id": "36ba144c",
   "metadata": {},
   "outputs": [],
   "source": [
    "class Averager:\n",
    "  def __init__(self):\n",
    "    self.numbers = []\n",
    "    \n",
    "  def add(self, number):\n",
    "    self.numbers.append(number)\n",
    "    total = sum(self.numbers)\n",
    "    count = len(self.numbers)\n",
    "    return total / count"
   ]
  },
  {
   "cell_type": "code",
   "execution_count": 2,
   "id": "baaf3183",
   "metadata": {},
   "outputs": [
    {
     "data": {
      "text/plain": [
       "10.0"
      ]
     },
     "execution_count": 2,
     "metadata": {},
     "output_type": "execute_result"
    }
   ],
   "source": [
    "a = Averager()\n",
    "a.add(10)"
   ]
  },
  {
   "cell_type": "code",
   "execution_count": 3,
   "id": "8cf82dda",
   "metadata": {},
   "outputs": [
    {
     "data": {
      "text/plain": [
       "15.0"
      ]
     },
     "execution_count": 3,
     "metadata": {},
     "output_type": "execute_result"
    }
   ],
   "source": [
    "a.add(20)"
   ]
  },
  {
   "cell_type": "code",
   "execution_count": 4,
   "id": "65f5fcdb",
   "metadata": {},
   "outputs": [
    {
     "data": {
      "text/plain": [
       "20.0"
      ]
     },
     "execution_count": 4,
     "metadata": {},
     "output_type": "execute_result"
    }
   ],
   "source": [
    "a.add(30)"
   ]
  },
  {
   "cell_type": "code",
   "execution_count": 7,
   "id": "e08cd0a1",
   "metadata": {},
   "outputs": [
    {
     "data": {
      "text/plain": [
       "10.0"
      ]
     },
     "execution_count": 7,
     "metadata": {},
     "output_type": "execute_result"
    }
   ],
   "source": [
    "def averager():\n",
    "  numbers = []\n",
    "  def add(number):\n",
    "    numbers.append(number)\n",
    "    total = sum(numbers)\n",
    "    count = len(numbers)\n",
    "    return total / count\n",
    "  return add\n",
    "\n",
    "a = averager()\n",
    "a(10)"
   ]
  },
  {
   "cell_type": "code",
   "execution_count": 8,
   "id": "75882f55",
   "metadata": {},
   "outputs": [
    {
     "data": {
      "text/plain": [
       "15.0"
      ]
     },
     "execution_count": 8,
     "metadata": {},
     "output_type": "execute_result"
    }
   ],
   "source": [
    "a(20)"
   ]
  },
  {
   "cell_type": "code",
   "execution_count": 10,
   "id": "8852e961",
   "metadata": {},
   "outputs": [
    {
     "data": {
      "text/plain": [
       "10.0"
      ]
     },
     "execution_count": 10,
     "metadata": {},
     "output_type": "execute_result"
    }
   ],
   "source": [
    "def averager():\n",
    "  total = 0\n",
    "  count = 0\n",
    "  def add(number):\n",
    "    nonlocal total\n",
    "    nonlocal count\n",
    "    total = total + number\n",
    "    count = count + 1\n",
    "    return total / count\n",
    "  return add\n",
    "\n",
    "a = averager()\n",
    "a(10)"
   ]
  },
  {
   "cell_type": "code",
   "execution_count": null,
   "id": "82b145a9",
   "metadata": {},
   "outputs": [],
   "source": []
  }
 ],
 "metadata": {
  "kernelspec": {
   "display_name": "Python 3 (ipykernel)",
   "language": "python",
   "name": "python3"
  },
  "language_info": {
   "codemirror_mode": {
    "name": "ipython",
    "version": 3
   },
   "file_extension": ".py",
   "mimetype": "text/x-python",
   "name": "python",
   "nbconvert_exporter": "python",
   "pygments_lexer": "ipython3",
   "version": "3.9.16"
  }
 },
 "nbformat": 4,
 "nbformat_minor": 5
}
