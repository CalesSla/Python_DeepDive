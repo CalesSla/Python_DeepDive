{
  "nbformat": 4,
  "nbformat_minor": 0,
  "metadata": {
    "colab": {
      "provenance": []
    },
    "kernelspec": {
      "name": "python3",
      "display_name": "Python 3"
    },
    "language_info": {
      "name": "python"
    }
  },
  "cells": [
    {
      "cell_type": "code",
      "execution_count": null,
      "metadata": {
        "colab": {
          "base_uri": "https://localhost:8080/"
        },
        "id": "iNef0uRqQZ2R",
        "outputId": "33bc1f16-e600-4a4b-e158-f1f8e888053d"
      },
      "outputs": [
        {
          "output_type": "stream",
          "name": "stdout",
          "text": [
            "10\n",
            "20\n",
            "['a', 'b']\n"
          ]
        }
      ],
      "source": [
        "a, b, *c = 10, 20, 'a', 'b'\n",
        "print(a)\n",
        "print(b)\n",
        "print(c)"
      ]
    },
    {
      "cell_type": "code",
      "source": [
        "def func1(a, b, *args):\n",
        "  print(a)\n",
        "  print(b)\n",
        "  print(args)\n",
        "\n",
        "func1(10, 20)"
      ],
      "metadata": {
        "colab": {
          "base_uri": "https://localhost:8080/"
        },
        "id": "Ib3KBDXlQurS",
        "outputId": "58dc84c7-e16d-4a54-ec99-3f43ab80a2ee"
      },
      "execution_count": null,
      "outputs": [
        {
          "output_type": "stream",
          "name": "stdout",
          "text": [
            "10\n",
            "20\n",
            "()\n"
          ]
        }
      ]
    },
    {
      "cell_type": "code",
      "source": [
        "func1(10, 20, 1, 2, 3)"
      ],
      "metadata": {
        "colab": {
          "base_uri": "https://localhost:8080/"
        },
        "id": "f9qPwVH0Rx0P",
        "outputId": "40193803-09ab-4e53-e369-ffdd9b4ef2cc"
      },
      "execution_count": null,
      "outputs": [
        {
          "output_type": "stream",
          "name": "stdout",
          "text": [
            "10\n",
            "20\n",
            "(1, 2, 3)\n"
          ]
        }
      ]
    },
    {
      "cell_type": "code",
      "source": [
        "def avg(*args):\n",
        "  count = len(args)\n",
        "  total = sum(args)\n",
        "  if count == 0:\n",
        "    return 0\n",
        "  else:\n",
        "    return total / count\n",
        "\n",
        "avg(2,2,4,4)"
      ],
      "metadata": {
        "colab": {
          "base_uri": "https://localhost:8080/"
        },
        "id": "hmUI45h7SJmO",
        "outputId": "4fa6bec5-468c-457f-d09f-9014999695b5"
      },
      "execution_count": null,
      "outputs": [
        {
          "output_type": "execute_result",
          "data": {
            "text/plain": [
              "3.0"
            ]
          },
          "metadata": {},
          "execution_count": 7
        }
      ]
    },
    {
      "cell_type": "code",
      "source": [
        "def func1(a, b, c):\n",
        "  print(a)\n",
        "  print(b)\n",
        "  print(c)\n",
        "\n",
        "l = [10, 20, 30]\n",
        "\n",
        "func1(*l)"
      ],
      "metadata": {
        "colab": {
          "base_uri": "https://localhost:8080/"
        },
        "id": "gIZVlpiwSVnd",
        "outputId": "e54cbc60-0fd3-4f77-d7ca-a9a5cce83717"
      },
      "execution_count": null,
      "outputs": [
        {
          "output_type": "stream",
          "name": "stdout",
          "text": [
            "10\n",
            "20\n",
            "30\n"
          ]
        }
      ]
    },
    {
      "cell_type": "code",
      "source": [
        "def func1(a, b, c,  *args):\n",
        "  print(a)\n",
        "  print(b)\n",
        "  print(c)"
      ],
      "metadata": {
        "id": "ufY4LXXIU_98"
      },
      "execution_count": null,
      "outputs": []
    },
    {
      "cell_type": "code",
      "source": [],
      "metadata": {
        "id": "ZimQIf37VKNC"
      },
      "execution_count": null,
      "outputs": []
    },
    {
      "cell_type": "code",
      "source": [
        "def func(**kwargs):\n",
        "  print(kwargs)\n",
        "\n",
        "func(a = 1, b = 2, c = 3)"
      ],
      "metadata": {
        "colab": {
          "base_uri": "https://localhost:8080/"
        },
        "id": "aUmenwSzVZMh",
        "outputId": "2d89c0b2-94b1-46ab-844e-9f43e87032df"
      },
      "execution_count": null,
      "outputs": [
        {
          "output_type": "stream",
          "name": "stdout",
          "text": [
            "{'a': 1, 'b': 2, 'c': 3}\n"
          ]
        }
      ]
    },
    {
      "cell_type": "code",
      "source": [
        "def func(*args, **kwargs):\n",
        "  print(args)\n",
        "  print(kwargs)\n",
        "\n",
        "func(1, 2, x = 100, y = 200)"
      ],
      "metadata": {
        "colab": {
          "base_uri": "https://localhost:8080/"
        },
        "id": "e-F01xtkVhSS",
        "outputId": "925b10c7-d90c-48c9-8a0f-09f19cc03320"
      },
      "execution_count": null,
      "outputs": [
        {
          "output_type": "stream",
          "name": "stdout",
          "text": [
            "(1, 2)\n",
            "{'x': 100, 'y': 200}\n"
          ]
        }
      ]
    },
    {
      "cell_type": "code",
      "source": [
        "def func(a, b = 2, *args, c = 3, d):\n",
        "  print(a, b, args, c, d)\n",
        "\n",
        "func(10, 20, 'x', 'y', 'z', c = 4, d = 1)"
      ],
      "metadata": {
        "colab": {
          "base_uri": "https://localhost:8080/"
        },
        "id": "e66gOAi8VZ3r",
        "outputId": "a7387528-0de7-4e42-8645-1fd29a6d517f"
      },
      "execution_count": null,
      "outputs": [
        {
          "output_type": "stream",
          "name": "stdout",
          "text": [
            "10 20 ('x', 'y', 'z') 4 1\n"
          ]
        }
      ]
    },
    {
      "cell_type": "code",
      "source": [
        "def func(a, b, *args, c=10, d=20, **kwargs):\n",
        "  print(a, b, args, c, d, kwargs)\n",
        "\n",
        "func(1, 2, 'x', 'y', 'z', c=100, d=200, x=0.1, y=0.2)"
      ],
      "metadata": {
        "colab": {
          "base_uri": "https://localhost:8080/"
        },
        "id": "wKdleYTmnCWr",
        "outputId": "3211800a-3096-4942-af44-e464d325805b"
      },
      "execution_count": null,
      "outputs": [
        {
          "output_type": "stream",
          "name": "stdout",
          "text": [
            "1 2 ('x', 'y', 'z') 100 200 {'x': 0.1, 'y': 0.2}\n"
          ]
        }
      ]
    },
    {
      "cell_type": "code",
      "source": [
        "print(1, 2, 3, sep = '-', end = ' *** ')\n",
        "print(4, 5, 6, sep = '-')"
      ],
      "metadata": {
        "colab": {
          "base_uri": "https://localhost:8080/"
        },
        "id": "-JVquJqPn4vb",
        "outputId": "18825252-bb85-4802-a296-69416de11a49"
      },
      "execution_count": null,
      "outputs": [
        {
          "output_type": "stream",
          "name": "stdout",
          "text": [
            "1-2-3 *** 4-5-6\n"
          ]
        }
      ]
    },
    {
      "cell_type": "code",
      "source": [
        "def compute_powers_3(n, *, start=1, end):\n",
        "  return (n**i for i in range(start, end))\n",
        "\n",
        "list(compute_powers_3(2, end = 5))"
      ],
      "metadata": {
        "colab": {
          "base_uri": "https://localhost:8080/"
        },
        "id": "SH7piuagoitu",
        "outputId": "57846068-6aee-4f00-b669-a3916f6f34ed"
      },
      "execution_count": null,
      "outputs": [
        {
          "output_type": "execute_result",
          "data": {
            "text/plain": [
              "[2, 4, 8, 16]"
            ]
          },
          "metadata": {},
          "execution_count": 27
        }
      ]
    },
    {
      "cell_type": "code",
      "source": [
        "time_it(compute_powers_1)"
      ],
      "metadata": {
        "id": "jpke-D33x6CC"
      },
      "execution_count": null,
      "outputs": []
    }
  ]
}