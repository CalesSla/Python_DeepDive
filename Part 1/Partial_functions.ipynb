{
 "cells": [
  {
   "cell_type": "code",
   "execution_count": 1,
   "id": "7e40589f",
   "metadata": {},
   "outputs": [],
   "source": [
    "from functools import partial"
   ]
  },
  {
   "cell_type": "code",
   "execution_count": 2,
   "id": "f31b4dba",
   "metadata": {},
   "outputs": [
    {
     "name": "stdout",
     "output_type": "stream",
     "text": [
      "10 20 30\n"
     ]
    }
   ],
   "source": [
    "def my_func(a, b, c):\n",
    "  print(a, b, c)\n",
    "  \n",
    "my_func(10, 20, 30)"
   ]
  },
  {
   "cell_type": "code",
   "execution_count": 3,
   "id": "bb55281c",
   "metadata": {},
   "outputs": [
    {
     "name": "stdout",
     "output_type": "stream",
     "text": [
      "10 20 30\n"
     ]
    }
   ],
   "source": [
    "def f(x, y):\n",
    "  return my_func(10, x, y)\n",
    "\n",
    "f(20, 30)"
   ]
  },
  {
   "cell_type": "code",
   "execution_count": 5,
   "id": "a2477e18",
   "metadata": {},
   "outputs": [
    {
     "name": "stdout",
     "output_type": "stream",
     "text": [
      "10 20 30\n"
     ]
    }
   ],
   "source": [
    "f = partial(my_func, 10)\n",
    "f(20, 30)"
   ]
  },
  {
   "cell_type": "code",
   "execution_count": 6,
   "id": "d137e504",
   "metadata": {},
   "outputs": [
    {
     "name": "stdout",
     "output_type": "stream",
     "text": [
      "10 20 30\n"
     ]
    }
   ],
   "source": [
    "f = partial(my_func, 10, 20)\n",
    "f(30)"
   ]
  },
  {
   "cell_type": "code",
   "execution_count": 7,
   "id": "79affbae",
   "metadata": {},
   "outputs": [
    {
     "name": "stdout",
     "output_type": "stream",
     "text": [
      "10 20 (100, 200) a b {'k3': 1000, 'k4': 2000}\n"
     ]
    }
   ],
   "source": [
    "def my_func(a, b, *args, k1, k2, **kwargs):\n",
    "  print(a, b, args, k1, k2, kwargs)\n",
    "\n",
    "my_func(10, 20, 100, 200, k1 = 'a', k2 = 'b', k3 = 1000, k4 = 2000)"
   ]
  },
  {
   "cell_type": "code",
   "execution_count": 10,
   "id": "ab8a8e1a",
   "metadata": {},
   "outputs": [
    {
     "name": "stdout",
     "output_type": "stream",
     "text": [
      "10 20 (100, 200) a b {'k3': 1000, 'k4': 2000}\n"
     ]
    }
   ],
   "source": [
    "f = partial(my_func, 10, k1 = 'a')\n",
    "\n",
    "f(20, 100, 200, k2 = 'b', k3 = 1000, k4 = 2000)"
   ]
  },
  {
   "cell_type": "code",
   "execution_count": 12,
   "id": "59110a99",
   "metadata": {},
   "outputs": [
    {
     "data": {
      "text/plain": [
       "16"
      ]
     },
     "execution_count": 12,
     "metadata": {},
     "output_type": "execute_result"
    }
   ],
   "source": [
    "def pow(base, exponent):\n",
    "  return base ** exponent\n",
    "\n",
    "sq = partial(pow, exponent = 2)\n",
    "\n",
    "sq(4)"
   ]
  },
  {
   "cell_type": "code",
   "execution_count": 13,
   "id": "8b1a9a2d",
   "metadata": {},
   "outputs": [
    {
     "data": {
      "text/plain": [
       "2"
      ]
     },
     "execution_count": 13,
     "metadata": {},
     "output_type": "execute_result"
    }
   ],
   "source": [
    "origin = (0, 0)\n",
    "\n",
    "l = [(1, 1), (0, 2), (-3, 2), (0, 0), (10, 10)]\n",
    "\n",
    "dist2 = lambda a, b: (a[0] - b[0])**2 + (a[1] - b[1])**2\n",
    "\n",
    "dist2((1, 1), origin)"
   ]
  },
  {
   "cell_type": "code",
   "execution_count": 14,
   "id": "d533f4e1",
   "metadata": {},
   "outputs": [
    {
     "data": {
      "text/plain": [
       "[(-3, 2), (0, 0), (0, 2), (1, 1), (10, 10)]"
      ]
     },
     "execution_count": 14,
     "metadata": {},
     "output_type": "execute_result"
    }
   ],
   "source": [
    "sorted(l)"
   ]
  },
  {
   "cell_type": "code",
   "execution_count": 15,
   "id": "31e7e298",
   "metadata": {},
   "outputs": [
    {
     "data": {
      "text/plain": [
       "[(0, 0), (1, 1), (0, 2), (-3, 2), (10, 10)]"
      ]
     },
     "execution_count": 15,
     "metadata": {},
     "output_type": "execute_result"
    }
   ],
   "source": [
    "f = partial(dist2, origin)\n",
    "\n",
    "sorted(l, key = f)"
   ]
  },
  {
   "cell_type": "code",
   "execution_count": null,
   "id": "60ce4dd4",
   "metadata": {},
   "outputs": [],
   "source": []
  },
  {
   "cell_type": "code",
   "execution_count": null,
   "id": "ada225fa",
   "metadata": {},
   "outputs": [],
   "source": []
  }
 ],
 "metadata": {
  "kernelspec": {
   "display_name": "Python 3 (ipykernel)",
   "language": "python",
   "name": "python3"
  },
  "language_info": {
   "codemirror_mode": {
    "name": "ipython",
    "version": 3
   },
   "file_extension": ".py",
   "mimetype": "text/x-python",
   "name": "python",
   "nbconvert_exporter": "python",
   "pygments_lexer": "ipython3",
   "version": "3.9.16"
  }
 },
 "nbformat": 4,
 "nbformat_minor": 5
}
