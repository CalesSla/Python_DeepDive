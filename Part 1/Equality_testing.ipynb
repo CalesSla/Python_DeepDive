{
 "cells": [
  {
   "cell_type": "code",
   "execution_count": 1,
   "id": "f4324561",
   "metadata": {},
   "outputs": [
    {
     "data": {
      "text/plain": [
       "False"
      ]
     },
     "execution_count": 1,
     "metadata": {},
     "output_type": "execute_result"
    }
   ],
   "source": [
    "x = 0.1 + 0.1 + 0.1\n",
    "y = 0.3\n",
    "x == y"
   ]
  },
  {
   "cell_type": "code",
   "execution_count": 2,
   "id": "633e451b",
   "metadata": {},
   "outputs": [
    {
     "name": "stdout",
     "output_type": "stream",
     "text": [
      "0.1 --> 0.1000000000000000055511151\n",
      "x --> 0.3000000000000000444089210\n",
      "y --> 0.2999999999999999888977698\n"
     ]
    }
   ],
   "source": [
    "print('0.1 --> {0:.25f}'.format(0.1))\n",
    "print('x --> {0:.25f}'.format(x))\n",
    "print('y --> {0:.25f}'.format(y))"
   ]
  },
  {
   "cell_type": "code",
   "execution_count": 3,
   "id": "3369dc4d",
   "metadata": {},
   "outputs": [
    {
     "data": {
      "text/plain": [
       "True"
      ]
     },
     "execution_count": 3,
     "metadata": {},
     "output_type": "execute_result"
    }
   ],
   "source": [
    "x = 0.125 + 0.125 + 0.125\n",
    "y = 0.375\n",
    "x == y"
   ]
  },
  {
   "cell_type": "code",
   "execution_count": 4,
   "id": "0332e618",
   "metadata": {},
   "outputs": [
    {
     "name": "stdout",
     "output_type": "stream",
     "text": [
      "0.125 --> 0.1250000000000000000000000\n",
      "x --> 0.3750000000000000000000000\n",
      "y --> 0.3750000000000000000000000\n"
     ]
    }
   ],
   "source": [
    "print('0.125 --> {0:.25f}'.format(0.125))\n",
    "print('x --> {0:.25f}'.format(x))\n",
    "print('y --> {0:.25f}'.format(y))"
   ]
  },
  {
   "cell_type": "code",
   "execution_count": 5,
   "id": "3ef924e4",
   "metadata": {},
   "outputs": [
    {
     "data": {
      "text/plain": [
       "True"
      ]
     },
     "execution_count": 5,
     "metadata": {},
     "output_type": "execute_result"
    }
   ],
   "source": [
    "x = 0.1 + 0.1 + 0.1\n",
    "y = 0.3\n",
    "round(x, 5) == round(y, 5)"
   ]
  },
  {
   "cell_type": "code",
   "execution_count": 6,
   "id": "b133232f",
   "metadata": {},
   "outputs": [],
   "source": [
    "from math import isclose"
   ]
  },
  {
   "cell_type": "code",
   "execution_count": 7,
   "id": "6e8eaba2",
   "metadata": {},
   "outputs": [
    {
     "data": {
      "text/plain": [
       "True"
      ]
     },
     "execution_count": 7,
     "metadata": {},
     "output_type": "execute_result"
    }
   ],
   "source": [
    "x = 0.1 + 0.1 + 0.1\n",
    "y = 0.3\n",
    "isclose(x, y)"
   ]
  },
  {
   "cell_type": "code",
   "execution_count": 8,
   "id": "ff7e4b90",
   "metadata": {},
   "outputs": [],
   "source": [
    "x = 123456789.01\n",
    "y = 123456789.02"
   ]
  },
  {
   "cell_type": "code",
   "execution_count": 9,
   "id": "d8fa7f75",
   "metadata": {},
   "outputs": [],
   "source": [
    "x = 0.01\n",
    "y = 0.02"
   ]
  },
  {
   "cell_type": "code",
   "execution_count": 10,
   "id": "c8bcd764",
   "metadata": {},
   "outputs": [
    {
     "data": {
      "text/plain": [
       "True"
      ]
     },
     "execution_count": 10,
     "metadata": {},
     "output_type": "execute_result"
    }
   ],
   "source": [
    "isclose(123456789.01, 123456789.02, rel_tol=0.01)"
   ]
  },
  {
   "cell_type": "code",
   "execution_count": 11,
   "id": "b286f532",
   "metadata": {},
   "outputs": [
    {
     "data": {
      "text/plain": [
       "False"
      ]
     },
     "execution_count": 11,
     "metadata": {},
     "output_type": "execute_result"
    }
   ],
   "source": [
    "isclose(0.01, 0.02, rel_tol=0.01)"
   ]
  },
  {
   "cell_type": "code",
   "execution_count": 12,
   "id": "05bddccc",
   "metadata": {},
   "outputs": [
    {
     "data": {
      "text/plain": [
       "False"
      ]
     },
     "execution_count": 12,
     "metadata": {},
     "output_type": "execute_result"
    }
   ],
   "source": [
    "x = 0.0000001\n",
    "y = 0.0000002\n",
    "isclose(x, y, rel_tol=0.01)"
   ]
  },
  {
   "cell_type": "code",
   "execution_count": 13,
   "id": "de9d75a5",
   "metadata": {},
   "outputs": [
    {
     "data": {
      "text/plain": [
       "True"
      ]
     },
     "execution_count": 13,
     "metadata": {},
     "output_type": "execute_result"
    }
   ],
   "source": [
    "isclose(x, y, abs_tol=0.0001, rel_tol=0)"
   ]
  },
  {
   "cell_type": "code",
   "execution_count": 17,
   "id": "870cd99a",
   "metadata": {},
   "outputs": [
    {
     "name": "stdout",
     "output_type": "stream",
     "text": [
      "x = y: True\n",
      "a = b: True\n"
     ]
    }
   ],
   "source": [
    "x = 0.0000001\n",
    "y = 0.0000002\n",
    "\n",
    "a = 123456789.01\n",
    "b = 123456789.02\n",
    "\n",
    "print('x = y:', isclose(x, y, abs_tol=0.0001, rel_tol=0.01))\n",
    "print('a = b:', isclose(a, b, abs_tol=0.0001, rel_tol=0.01))"
   ]
  },
  {
   "cell_type": "code",
   "execution_count": null,
   "id": "afd8c21e",
   "metadata": {},
   "outputs": [],
   "source": []
  },
  {
   "cell_type": "code",
   "execution_count": null,
   "id": "00c1e79f",
   "metadata": {},
   "outputs": [],
   "source": []
  }
 ],
 "metadata": {
  "kernelspec": {
   "display_name": "Python 3 (ipykernel)",
   "language": "python",
   "name": "python3"
  },
  "language_info": {
   "codemirror_mode": {
    "name": "ipython",
    "version": 3
   },
   "file_extension": ".py",
   "mimetype": "text/x-python",
   "name": "python",
   "nbconvert_exporter": "python",
   "pygments_lexer": "ipython3",
   "version": "3.9.16"
  }
 },
 "nbformat": 4,
 "nbformat_minor": 5
}
