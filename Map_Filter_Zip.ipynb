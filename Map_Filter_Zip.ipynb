{
 "cells": [
  {
   "cell_type": "code",
   "execution_count": 1,
   "id": "799e54ff",
   "metadata": {},
   "outputs": [],
   "source": [
    "def fact(n):\n",
    "  return 1 if n < 2 else n * fact(n-1)"
   ]
  },
  {
   "cell_type": "code",
   "execution_count": 2,
   "id": "c43b672e",
   "metadata": {},
   "outputs": [
    {
     "data": {
      "text/plain": [
       "6"
      ]
     },
     "execution_count": 2,
     "metadata": {},
     "output_type": "execute_result"
    }
   ],
   "source": [
    "fact(3)"
   ]
  },
  {
   "cell_type": "code",
   "execution_count": 4,
   "id": "d861e0c4",
   "metadata": {},
   "outputs": [],
   "source": [
    "results = map(fact, range(6))"
   ]
  },
  {
   "cell_type": "code",
   "execution_count": 5,
   "id": "48456312",
   "metadata": {},
   "outputs": [
    {
     "name": "stdout",
     "output_type": "stream",
     "text": [
      "1\n",
      "1\n",
      "2\n",
      "6\n",
      "24\n",
      "120\n"
     ]
    }
   ],
   "source": [
    "for x in results:\n",
    "  print(x)"
   ]
  },
  {
   "cell_type": "code",
   "execution_count": 8,
   "id": "7f49f5ff",
   "metadata": {},
   "outputs": [],
   "source": [
    "for x in results:\n",
    "  print(x)"
   ]
  },
  {
   "cell_type": "code",
   "execution_count": 11,
   "id": "e45395bc",
   "metadata": {},
   "outputs": [
    {
     "data": {
      "text/plain": [
       "[1, 1, 2, 6, 24, 120]"
      ]
     },
     "execution_count": 11,
     "metadata": {},
     "output_type": "execute_result"
    }
   ],
   "source": [
    "results = list(map(fact, range(6)))\n",
    "results"
   ]
  },
  {
   "cell_type": "code",
   "execution_count": 16,
   "id": "5e265144",
   "metadata": {},
   "outputs": [
    {
     "data": {
      "text/plain": [
       "[111, 222, 333]"
      ]
     },
     "execution_count": 16,
     "metadata": {},
     "output_type": "execute_result"
    }
   ],
   "source": [
    "l1 = [1,2,3,4,5]\n",
    "l2 = [10,20,30]\n",
    "l3 = 100, 200, 300, 400\n",
    "\n",
    "results = list(map(lambda x,y,z: x + y + z, l1,l2,l3))\n",
    "results"
   ]
  },
  {
   "cell_type": "code",
   "execution_count": 17,
   "id": "a124fa0b",
   "metadata": {},
   "outputs": [
    {
     "data": {
      "text/plain": [
       "<filter at 0x265810a1190>"
      ]
     },
     "execution_count": 17,
     "metadata": {},
     "output_type": "execute_result"
    }
   ],
   "source": [
    "filter(lambda x: x % 3 == 0, range(25))"
   ]
  },
  {
   "cell_type": "code",
   "execution_count": 18,
   "id": "cef46fff",
   "metadata": {},
   "outputs": [
    {
     "data": {
      "text/plain": [
       "[0, 3, 6, 9, 12, 15, 18, 21, 24]"
      ]
     },
     "execution_count": 18,
     "metadata": {},
     "output_type": "execute_result"
    }
   ],
   "source": [
    "list(filter(lambda x: x % 3 == 0, range(25)))"
   ]
  },
  {
   "cell_type": "code",
   "execution_count": 20,
   "id": "b0fbcb17",
   "metadata": {},
   "outputs": [
    {
     "data": {
      "text/plain": [
       "[1, 2, 3, 4]"
      ]
     },
     "execution_count": 20,
     "metadata": {},
     "output_type": "execute_result"
    }
   ],
   "source": [
    "list(filter(None, [0, 1, 2, 3, 4]))"
   ]
  },
  {
   "cell_type": "code",
   "execution_count": 23,
   "id": "4e3f2cb5",
   "metadata": {},
   "outputs": [
    {
     "name": "stdout",
     "output_type": "stream",
     "text": [
      "(1, 10, 'p')\n",
      "(2, 20, 'y')\n",
      "(3, 30, 't')\n",
      "(4, 40, 'h')\n"
     ]
    }
   ],
   "source": [
    "l1 = [1,2,3,4]\n",
    "l2 = [10,20,30,40]\n",
    "l3 = 'python'\n",
    "\n",
    "results = zip(l1,l2,l3)\n",
    "\n",
    "for i in results:\n",
    "  print(i)"
   ]
  },
  {
   "cell_type": "code",
   "execution_count": null,
   "id": "994694eb",
   "metadata": {},
   "outputs": [],
   "source": [
    "list(filter(lambda x: x%2==0, map(lambda x, y: x+y, l1, l2)))"
   ]
  },
  {
   "cell_type": "code",
   "execution_count": null,
   "id": "7c5bddf4",
   "metadata": {},
   "outputs": [],
   "source": [
    "l = [1,2,3,4]\n",
    "\n",
    "def add(a,b):\n",
    "  return a+b\n",
    "\n",
    "def _reduce(fn, sequence):\n",
    "  result = sequence[0]\n",
    "  for x in sequence[1:]:\n",
    "    result = fn(result,x)\n",
    "  return result"
   ]
  },
  {
   "cell_type": "code",
   "execution_count": null,
   "id": "1c281190",
   "metadata": {},
   "outputs": [],
   "source": []
  },
  {
   "cell_type": "code",
   "execution_count": 31,
   "id": "fbf1b970",
   "metadata": {},
   "outputs": [],
   "source": []
  },
  {
   "cell_type": "code",
   "execution_count": null,
   "id": "1c43c865",
   "metadata": {},
   "outputs": [],
   "source": []
  }
 ],
 "metadata": {
  "kernelspec": {
   "display_name": "Python 3 (ipykernel)",
   "language": "python",
   "name": "python3"
  },
  "language_info": {
   "codemirror_mode": {
    "name": "ipython",
    "version": 3
   },
   "file_extension": ".py",
   "mimetype": "text/x-python",
   "name": "python",
   "nbconvert_exporter": "python",
   "pygments_lexer": "ipython3",
   "version": "3.9.16"
  }
 },
 "nbformat": 4,
 "nbformat_minor": 5
}
