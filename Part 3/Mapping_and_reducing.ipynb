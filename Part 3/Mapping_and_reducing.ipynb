{
 "cells": [
  {
   "cell_type": "code",
   "execution_count": 4,
   "metadata": {},
   "outputs": [
    {
     "data": {
      "text/plain": [
       "[0, 1, 4, 9, 16]"
      ]
     },
     "execution_count": 4,
     "metadata": {},
     "output_type": "execute_result"
    }
   ],
   "source": [
    "# a simple example of using the map function\n",
    "maps = map(lambda x: x**2, range(5))\n",
    "list(maps)"
   ]
  },
  {
   "cell_type": "code",
   "execution_count": 6,
   "metadata": {},
   "outputs": [
    {
     "data": {
      "text/plain": [
       "[0, 2, 5]"
      ]
     },
     "execution_count": 6,
     "metadata": {},
     "output_type": "execute_result"
    }
   ],
   "source": [
    "# a simple example of using map with a custom function\n",
    "def add(t):\n",
    "    return t[0] + t[1]\n",
    "\n",
    "list(map(add, [(0, 0), [1, 1], range(2, 4)]))"
   ]
  },
  {
   "cell_type": "code",
   "execution_count": 12,
   "metadata": {},
   "outputs": [
    {
     "name": "stdout",
     "output_type": "stream",
     "text": [
      "5\n"
     ]
    },
    {
     "data": {
      "text/plain": [
       "[0, 2, 5]"
      ]
     },
     "execution_count": 12,
     "metadata": {},
     "output_type": "execute_result"
    }
   ],
   "source": [
    "# a custom function that uses two positional arguments instead of indices\n",
    "def add(x, y):\n",
    "    return x + y\n",
    "\n",
    "t = (2, 3)\n",
    "print(add(*t))\n",
    "\n",
    "[add(*t) for t in  [(0, 0), [1, 1], range(2, 4)]]"
   ]
  },
  {
   "cell_type": "code",
   "execution_count": 14,
   "metadata": {},
   "outputs": [
    {
     "data": {
      "text/plain": [
       "[0, 2, 5]"
      ]
     },
     "execution_count": 14,
     "metadata": {},
     "output_type": "execute_result"
    }
   ],
   "source": [
    "# the starmap function unpacks the values in an iterable if they are iterables themselves\n",
    "from itertools import starmap\n",
    "\n",
    "list(starmap(add, [(0, 0), [1, 1], range(2, 4)]))"
   ]
  },
  {
   "cell_type": "code",
   "execution_count": 16,
   "metadata": {},
   "outputs": [
    {
     "data": {
      "text/plain": [
       "24"
      ]
     },
     "execution_count": 16,
     "metadata": {},
     "output_type": "execute_result"
    }
   ],
   "source": [
    "# the reduce function aggregates an iterator and returns a single value that corresponds to the function provided\n",
    "from functools import reduce\n",
    "\n",
    "reduce(lambda x, y: x*y, [1,2,3,4])"
   ]
  },
  {
   "cell_type": "code",
   "execution_count": 18,
   "metadata": {},
   "outputs": [
    {
     "name": "stdout",
     "output_type": "stream",
     "text": [
      "10\n",
      "30\n",
      "60\n"
     ]
    }
   ],
   "source": [
    "# manual implementation of the sum iterator\n",
    "def sum_(iterable):\n",
    "    it = iter(iterable)\n",
    "    acc = next(it)\n",
    "    yield acc\n",
    "    for item in it:\n",
    "        acc += item\n",
    "        yield acc\n",
    "\n",
    "for item in sum_([10, 20, 30]):\n",
    "    print(item)"
   ]
  },
  {
   "cell_type": "code",
   "execution_count": 25,
   "metadata": {},
   "outputs": [
    {
     "name": "stdout",
     "output_type": "stream",
     "text": [
      "[10, 30, 60]\n",
      "\n",
      "\n",
      "[10, 30, 60]\n",
      "\n",
      "\n",
      "[10, 200, 6000]\n"
     ]
    }
   ],
   "source": [
    "# manual implementation of the reduce function that returns interim values (e.g. cumulative sum)\n",
    "def running_reduce(fn, iterable, start=None):\n",
    "    it = iter(iterable)\n",
    "    if start is None:\n",
    "        acc = next(it)\n",
    "    else:\n",
    "        acc = start\n",
    "    yield acc\n",
    "\n",
    "    for item in it:\n",
    "        acc = fn(acc, item)\n",
    "        yield acc\n",
    "\n",
    "\n",
    "print(list(running_reduce(lambda x,y: x+y, [10, 20, 30])))\n",
    "print('\\n')\n",
    "\n",
    "import operator\n",
    "print(list(running_reduce(operator.add, [10, 20, 30])))\n",
    "print('\\n')\n",
    "\n",
    "print(list(running_reduce(operator.mul, [10, 20, 30])))"
   ]
  },
  {
   "cell_type": "code",
   "execution_count": 27,
   "metadata": {},
   "outputs": [
    {
     "name": "stdout",
     "output_type": "stream",
     "text": [
      "[10, 30, 60]\n",
      "\n",
      "\n",
      "[1, 2, 6, 24]\n"
     ]
    }
   ],
   "source": [
    "# the accumulate in-built function is similar to reduce but like our implementation above it returns interim values\n",
    "\n",
    "from itertools import accumulate\n",
    "\n",
    "print(list(accumulate([10, 20, 30])))\n",
    "print('\\n')\n",
    "\n",
    "print(list(accumulate([1, 2, 3, 4], operator.mul)))"
   ]
  },
  {
   "cell_type": "code",
   "execution_count": null,
   "metadata": {},
   "outputs": [],
   "source": []
  }
 ],
 "metadata": {
  "kernelspec": {
   "display_name": "Python 3",
   "language": "python",
   "name": "python3"
  },
  "language_info": {
   "codemirror_mode": {
    "name": "ipython",
    "version": 3
   },
   "file_extension": ".py",
   "mimetype": "text/x-python",
   "name": "python",
   "nbconvert_exporter": "python",
   "pygments_lexer": "ipython3",
   "version": "3.11.4"
  },
  "orig_nbformat": 4
 },
 "nbformat": 4,
 "nbformat_minor": 2
}
