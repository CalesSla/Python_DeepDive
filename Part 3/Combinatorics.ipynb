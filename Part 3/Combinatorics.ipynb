{
 "cells": [
  {
   "cell_type": "code",
   "execution_count": 2,
   "metadata": {},
   "outputs": [
    {
     "name": "stdout",
     "output_type": "stream",
     "text": [
      "('x1', 'y1') ('x1', 'y2') ('x1', 'y3') \n",
      "('x2', 'y1') ('x2', 'y2') ('x2', 'y3') \n",
      "('x3', 'y1') ('x3', 'y2') ('x3', 'y3') \n",
      "('x4', 'y1') ('x4', 'y2') ('x4', 'y3') \n"
     ]
    }
   ],
   "source": [
    "# cartesian product manual implementation\n",
    "l1 = ['x1', 'x2', 'x3', 'x4']\n",
    "l2 = ['y1', 'y2', 'y3']\n",
    "\n",
    "for x in l1:\n",
    "    for y in l2:\n",
    "        print((x, y), end = ' ')\n",
    "    print('')"
   ]
  },
  {
   "cell_type": "code",
   "execution_count": 4,
   "metadata": {},
   "outputs": [
    {
     "data": {
      "text/plain": [
       "[('x1', 'y1'),\n",
       " ('x1', 'y2'),\n",
       " ('x1', 'y3'),\n",
       " ('x2', 'y1'),\n",
       " ('x2', 'y2'),\n",
       " ('x2', 'y3'),\n",
       " ('x3', 'y1'),\n",
       " ('x3', 'y2'),\n",
       " ('x3', 'y3'),\n",
       " ('x4', 'y1'),\n",
       " ('x4', 'y2'),\n",
       " ('x4', 'y3')]"
      ]
     },
     "execution_count": 4,
     "metadata": {},
     "output_type": "execute_result"
    }
   ],
   "source": [
    "# itertools cartesian product implentation\n",
    "from itertools import product\n",
    "\n",
    "list(product(l1, l2))"
   ]
  },
  {
   "cell_type": "code",
   "execution_count": 8,
   "metadata": {},
   "outputs": [
    {
     "data": {
      "text/plain": [
       "[(1, 1, 1),\n",
       " (1, 2, 2),\n",
       " (1, 3, 3),\n",
       " (2, 1, 2),\n",
       " (2, 2, 4),\n",
       " (2, 3, 6),\n",
       " (3, 1, 3),\n",
       " (3, 2, 6),\n",
       " (3, 3, 9)]"
      ]
     },
     "execution_count": 8,
     "metadata": {},
     "output_type": "execute_result"
    }
   ],
   "source": [
    "# an addition to cartesian product (e.g. sum)\n",
    "def matrix(n):\n",
    "    for i in range(1, n+1):\n",
    "        for j in range(1, n+1):\n",
    "            yield (i, j, i*j)\n",
    "\n",
    "list(matrix(3))"
   ]
  },
  {
   "cell_type": "code",
   "execution_count": 10,
   "metadata": {},
   "outputs": [
    {
     "data": {
      "text/plain": [
       "[(1, 1, 1),\n",
       " (1, 2, 2),\n",
       " (1, 3, 3),\n",
       " (2, 1, 2),\n",
       " (2, 2, 4),\n",
       " (2, 3, 6),\n",
       " (3, 1, 3),\n",
       " (3, 2, 6),\n",
       " (3, 3, 9)]"
      ]
     },
     "execution_count": 10,
     "metadata": {},
     "output_type": "execute_result"
    }
   ],
   "source": [
    "# implementation using itertools product\n",
    "def matrix(n):\n",
    "    for i, j in product(range(1, n+1), range(1, n+1)):\n",
    "        yield (i, j, i*j)\n",
    "\n",
    "list(matrix(3))"
   ]
  },
  {
   "cell_type": "code",
   "execution_count": 12,
   "metadata": {},
   "outputs": [
    {
     "data": {
      "text/plain": [
       "[(1, 1, 1),\n",
       " (1, 2, 2),\n",
       " (1, 3, 3),\n",
       " (2, 1, 2),\n",
       " (2, 2, 4),\n",
       " (2, 3, 6),\n",
       " (3, 1, 3),\n",
       " (3, 2, 6),\n",
       " (3, 3, 9)]"
      ]
     },
     "execution_count": 12,
     "metadata": {},
     "output_type": "execute_result"
    }
   ],
   "source": [
    "# using generator expression\n",
    "def matrix(n):\n",
    "    return ((i, j, i*j) for i, j, in product(range(1, n+1), range(1, n+1)))\n",
    "\n",
    "list(matrix(3))"
   ]
  },
  {
   "cell_type": "code",
   "execution_count": 24,
   "metadata": {},
   "outputs": [
    {
     "data": {
      "text/plain": [
       "[(1, 1, 1),\n",
       " (1, 2, 2),\n",
       " (1, 3, 3),\n",
       " (2, 1, 2),\n",
       " (2, 2, 4),\n",
       " (2, 3, 6),\n",
       " (3, 1, 3),\n",
       " (3, 2, 6),\n",
       " (3, 3, 9)]"
      ]
     },
     "execution_count": 24,
     "metadata": {},
     "output_type": "execute_result"
    }
   ],
   "source": [
    "# using tee function with product\n",
    "from itertools import tee\n",
    "\n",
    "def matrix(n):\n",
    "    return ((i, j, i*j) for i, j in product(*tee(range(1, n+1), 2)))\n",
    "\n",
    "list(matrix(3))"
   ]
  },
  {
   "cell_type": "code",
   "execution_count": 47,
   "metadata": {},
   "outputs": [
    {
     "data": {
      "text/plain": [
       "[(-1, -1, -1),\n",
       " (-1, -1, -0.5),\n",
       " (-1, -1, 0.0),\n",
       " (-1, -1, 0.5),\n",
       " (-1, -1, 1.0),\n",
       " (-1, -0.5, -1),\n",
       " (-1, -0.5, -0.5),\n",
       " (-1, -0.5, 0.0),\n",
       " (-1, -0.5, 0.5),\n",
       " (-1, -0.5, 1.0),\n",
       " (-1, 0.0, -1),\n",
       " (-1, 0.0, -0.5),\n",
       " (-1, 0.0, 0.0),\n",
       " (-1, 0.0, 0.5),\n",
       " (-1, 0.0, 1.0),\n",
       " (-1, 0.5, -1),\n",
       " (-1, 0.5, -0.5),\n",
       " (-1, 0.5, 0.0),\n",
       " (-1, 0.5, 0.5),\n",
       " (-1, 0.5, 1.0),\n",
       " (-1, 1.0, -1),\n",
       " (-1, 1.0, -0.5),\n",
       " (-1, 1.0, 0.0),\n",
       " (-1, 1.0, 0.5),\n",
       " (-1, 1.0, 1.0),\n",
       " (-0.5, -1, -1),\n",
       " (-0.5, -1, -0.5),\n",
       " (-0.5, -1, 0.0),\n",
       " (-0.5, -1, 0.5),\n",
       " (-0.5, -1, 1.0),\n",
       " (-0.5, -0.5, -1),\n",
       " (-0.5, -0.5, -0.5),\n",
       " (-0.5, -0.5, 0.0),\n",
       " (-0.5, -0.5, 0.5),\n",
       " (-0.5, -0.5, 1.0),\n",
       " (-0.5, 0.0, -1),\n",
       " (-0.5, 0.0, -0.5),\n",
       " (-0.5, 0.0, 0.0),\n",
       " (-0.5, 0.0, 0.5),\n",
       " (-0.5, 0.0, 1.0),\n",
       " (-0.5, 0.5, -1),\n",
       " (-0.5, 0.5, -0.5),\n",
       " (-0.5, 0.5, 0.0),\n",
       " (-0.5, 0.5, 0.5),\n",
       " (-0.5, 0.5, 1.0),\n",
       " (-0.5, 1.0, -1),\n",
       " (-0.5, 1.0, -0.5),\n",
       " (-0.5, 1.0, 0.0),\n",
       " (-0.5, 1.0, 0.5),\n",
       " (-0.5, 1.0, 1.0),\n",
       " (0.0, -1, -1),\n",
       " (0.0, -1, -0.5),\n",
       " (0.0, -1, 0.0),\n",
       " (0.0, -1, 0.5),\n",
       " (0.0, -1, 1.0),\n",
       " (0.0, -0.5, -1),\n",
       " (0.0, -0.5, -0.5),\n",
       " (0.0, -0.5, 0.0),\n",
       " (0.0, -0.5, 0.5),\n",
       " (0.0, -0.5, 1.0),\n",
       " (0.0, 0.0, -1),\n",
       " (0.0, 0.0, -0.5),\n",
       " (0.0, 0.0, 0.0),\n",
       " (0.0, 0.0, 0.5),\n",
       " (0.0, 0.0, 1.0),\n",
       " (0.0, 0.5, -1),\n",
       " (0.0, 0.5, -0.5),\n",
       " (0.0, 0.5, 0.0),\n",
       " (0.0, 0.5, 0.5),\n",
       " (0.0, 0.5, 1.0),\n",
       " (0.0, 1.0, -1),\n",
       " (0.0, 1.0, -0.5),\n",
       " (0.0, 1.0, 0.0),\n",
       " (0.0, 1.0, 0.5),\n",
       " (0.0, 1.0, 1.0),\n",
       " (0.5, -1, -1),\n",
       " (0.5, -1, -0.5),\n",
       " (0.5, -1, 0.0),\n",
       " (0.5, -1, 0.5),\n",
       " (0.5, -1, 1.0),\n",
       " (0.5, -0.5, -1),\n",
       " (0.5, -0.5, -0.5),\n",
       " (0.5, -0.5, 0.0),\n",
       " (0.5, -0.5, 0.5),\n",
       " (0.5, -0.5, 1.0),\n",
       " (0.5, 0.0, -1),\n",
       " (0.5, 0.0, -0.5),\n",
       " (0.5, 0.0, 0.0),\n",
       " (0.5, 0.0, 0.5),\n",
       " (0.5, 0.0, 1.0),\n",
       " (0.5, 0.5, -1),\n",
       " (0.5, 0.5, -0.5),\n",
       " (0.5, 0.5, 0.0),\n",
       " (0.5, 0.5, 0.5),\n",
       " (0.5, 0.5, 1.0),\n",
       " (0.5, 1.0, -1),\n",
       " (0.5, 1.0, -0.5),\n",
       " (0.5, 1.0, 0.0),\n",
       " (0.5, 1.0, 0.5),\n",
       " (0.5, 1.0, 1.0),\n",
       " (1.0, -1, -1),\n",
       " (1.0, -1, -0.5),\n",
       " (1.0, -1, 0.0),\n",
       " (1.0, -1, 0.5),\n",
       " (1.0, -1, 1.0),\n",
       " (1.0, -0.5, -1),\n",
       " (1.0, -0.5, -0.5),\n",
       " (1.0, -0.5, 0.0),\n",
       " (1.0, -0.5, 0.5),\n",
       " (1.0, -0.5, 1.0),\n",
       " (1.0, 0.0, -1),\n",
       " (1.0, 0.0, -0.5),\n",
       " (1.0, 0.0, 0.0),\n",
       " (1.0, 0.0, 0.5),\n",
       " (1.0, 0.0, 1.0),\n",
       " (1.0, 0.5, -1),\n",
       " (1.0, 0.5, -0.5),\n",
       " (1.0, 0.5, 0.0),\n",
       " (1.0, 0.5, 0.5),\n",
       " (1.0, 0.5, 1.0),\n",
       " (1.0, 1.0, -1),\n",
       " (1.0, 1.0, -0.5),\n",
       " (1.0, 1.0, 0.0),\n",
       " (1.0, 1.0, 0.5),\n",
       " (1.0, 1.0, 1.0)]"
      ]
     },
     "execution_count": 47,
     "metadata": {},
     "output_type": "execute_result"
    }
   ],
   "source": [
    "# define a cartesian grid using itertools functions in combination with a custom step\n",
    "from itertools import takewhile, islice, count\n",
    "\n",
    "def grid(min_val, max_val, step, *, num_dimensions=2):\n",
    "    axis = takewhile(lambda x: x <= max_val, count(min_val, step))\n",
    "    axes = tee(axis, num_dimensions)\n",
    "    return product(*axes)\n",
    "\n",
    "list(grid(-1, 1, 0.5, num_dimensions=3))"
   ]
  },
  {
   "cell_type": "code",
   "execution_count": 70,
   "metadata": {},
   "outputs": [],
   "source": [
    "from fractions import Fraction\n",
    "\n",
    "def dice_throw():\n",
    "    dice_range = takewhile(lambda x: x < 7, count(1, 1))\n",
    "    two_dice_range = tee(dice_range, 2)\n",
    "    all_combos = [(i, j, i+j) for i, j in product(*two_dice_range)]\n",
    "    eight_combos = list(filter(lambda x: x[2] == 8, all_combos))\n",
    "    prob = Fraction(len(eight_combos), len(all_combos))\n",
    "    return prob"
   ]
  },
  {
   "cell_type": "code",
   "execution_count": 71,
   "metadata": {},
   "outputs": [
    {
     "data": {
      "text/plain": [
       "Fraction(5, 36)"
      ]
     },
     "execution_count": 71,
     "metadata": {},
     "output_type": "execute_result"
    }
   ],
   "source": [
    "a = dice_throw()\n",
    "a"
   ]
  },
  {
   "cell_type": "code",
   "execution_count": 50,
   "metadata": {},
   "outputs": [
    {
     "data": {
      "text/plain": [
       "[(2, 6, 8), (3, 5, 8), (4, 4, 8), (5, 3, 8), (6, 2, 8)]"
      ]
     },
     "execution_count": 50,
     "metadata": {},
     "output_type": "execute_result"
    }
   ],
   "source": [
    "list(filter(lambda x: x[2] == 8, a))"
   ]
  },
  {
   "cell_type": "code",
   "execution_count": null,
   "metadata": {},
   "outputs": [],
   "source": []
  }
 ],
 "metadata": {
  "kernelspec": {
   "display_name": "Python 3",
   "language": "python",
   "name": "python3"
  },
  "language_info": {
   "codemirror_mode": {
    "name": "ipython",
    "version": 3
   },
   "file_extension": ".py",
   "mimetype": "text/x-python",
   "name": "python",
   "nbconvert_exporter": "python",
   "pygments_lexer": "ipython3",
   "version": "3.11.4"
  },
  "orig_nbformat": 4
 },
 "nbformat": 4,
 "nbformat_minor": 2
}
