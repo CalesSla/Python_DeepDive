{
 "cells": [
  {
   "cell_type": "code",
   "execution_count": 1,
   "metadata": {},
   "outputs": [
    {
     "ename": "TypeError",
     "evalue": "'function' object is not subscriptable",
     "output_type": "error",
     "traceback": [
      "\u001b[1;31m---------------------------------------------------------------------------\u001b[0m",
      "\u001b[1;31mTypeError\u001b[0m                                 Traceback (most recent call last)",
      "Cell \u001b[1;32mIn[1], line 9\u001b[0m\n\u001b[0;32m      6\u001b[0m         \u001b[39myield\u001b[39;00m math\u001b[39m.\u001b[39mfactorial(i)\n\u001b[0;32m      8\u001b[0m facts \u001b[39m=\u001b[39m factorials(\u001b[39m100\u001b[39m)\n\u001b[1;32m----> 9\u001b[0m facts \u001b[39m=\u001b[39m factorials[\u001b[39m0\u001b[39;49m:\u001b[39m2\u001b[39;49m]\n",
      "\u001b[1;31mTypeError\u001b[0m: 'function' object is not subscriptable"
     ]
    }
   ],
   "source": [
    "# generator objects by default can't be sliced\n",
    "import math\n",
    "\n",
    "def factorials(n):\n",
    "    for i in range(n):\n",
    "        yield math.factorial(i)\n",
    "\n",
    "facts = factorials(100)\n",
    "facts = factorials[0:2]"
   ]
  },
  {
   "cell_type": "code",
   "execution_count": 3,
   "metadata": {},
   "outputs": [
    {
     "name": "stdout",
     "output_type": "stream",
     "text": [
      "[1, 1, 2, 6, 24, 120, 720, 5040, 40320, 362880]\n",
      "[6, 24, 120, 720, 5040, 40320, 362880]\n"
     ]
    }
   ],
   "source": [
    "# we can slice iterables with a custom slicing function\n",
    "\n",
    "def slice_(iterable, start, stop):\n",
    "    for _ in range(0, start):\n",
    "        next(iterable)\n",
    "    for _ in range(start, stop):\n",
    "        yield next(iterable)\n",
    "\n",
    "print(list(slice_(factorials(100), 0, 10)))\n",
    "print(list(slice_(factorials(100), 3, 10)))"
   ]
  },
  {
   "cell_type": "code",
   "execution_count": 6,
   "metadata": {},
   "outputs": [
    {
     "name": "stdout",
     "output_type": "stream",
     "text": [
      "[6, 24, 120, 720, 5040, 40320, 362880]\n",
      "[6, 120, 5040, 362880]\n"
     ]
    }
   ],
   "source": [
    "# we can get the same result with an inbuilt islice function which also supports step\n",
    "\n",
    "from itertools import islice\n",
    "\n",
    "print(list(islice(factorials(100), 3, 10)))\n",
    "print(list(islice(factorials(100), 3, 10, 2)))"
   ]
  },
  {
   "cell_type": "code",
   "execution_count": 11,
   "metadata": {},
   "outputs": [
    {
     "name": "stdout",
     "output_type": "stream",
     "text": [
      "<itertools.islice object at 0x0000021ADD71D760>\n",
      "[6, 24, 120, 720, 5040, 40320, 362880]\n"
     ]
    }
   ],
   "source": [
    "# islice also works with infinite iterators\n",
    "\n",
    "def factorials():\n",
    "    index = 0\n",
    "    while True:\n",
    "        yield math.factorial(index)\n",
    "        index += 1\n",
    "\n",
    "facts = factorials()\n",
    "print(islice(factorials(), 3, 10))\n",
    "print(list(islice(factorials(), 3, 10)))"
   ]
  },
  {
   "cell_type": "code",
   "execution_count": null,
   "metadata": {},
   "outputs": [],
   "source": []
  }
 ],
 "metadata": {
  "kernelspec": {
   "display_name": "Python 3",
   "language": "python",
   "name": "python3"
  },
  "language_info": {
   "codemirror_mode": {
    "name": "ipython",
    "version": 3
   },
   "file_extension": ".py",
   "mimetype": "text/x-python",
   "name": "python",
   "nbconvert_exporter": "python",
   "pygments_lexer": "ipython3",
   "version": "3.11.4"
  },
  "orig_nbformat": 4
 },
 "nbformat": 4,
 "nbformat_minor": 2
}
