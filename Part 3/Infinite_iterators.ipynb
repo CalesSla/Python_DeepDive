{
 "cells": [
  {
   "cell_type": "code",
   "execution_count": 18,
   "metadata": {},
   "outputs": [
    {
     "name": "stdout",
     "output_type": "stream",
     "text": [
      "[10, 11, 12, 13, 14]\n",
      "[1, 1.5, 2.0, 2.5, 3.0]\n"
     ]
    }
   ],
   "source": [
    "from itertools import count, cycle, repeat, islice\n",
    "\n",
    "# the count function is similar to range, but it is infinite and the step value can be other numeric, not just an integer\n",
    "g = count(10)\n",
    "print(list(islice(g, 5)))\n",
    "\n",
    "g = count(1, 0.5)\n",
    "print(list(islice(g, 5)))"
   ]
  },
  {
   "cell_type": "code",
   "execution_count": 19,
   "metadata": {},
   "outputs": [
    {
     "name": "stdout",
     "output_type": "stream",
     "text": [
      "['red', 'green', 'blue', 'red', 'green']\n"
     ]
    }
   ],
   "source": [
    "# the cycle function iterates over an iterator indefinitely\n",
    "g = cycle(('red', 'green', 'blue'))\n",
    "\n",
    "print(list(islice(g, 5)))"
   ]
  },
  {
   "cell_type": "code",
   "execution_count": 20,
   "metadata": {},
   "outputs": [
    {
     "name": "stdout",
     "output_type": "stream",
     "text": [
      "[Card(rank='2', suit='Spades'), Card(rank='3', suit='Spades'), Card(rank='4', suit='Spades'), Card(rank='5', suit='Spades'), Card(rank='6', suit='Spades'), Card(rank='7', suit='Spades'), Card(rank='8', suit='Spades'), Card(rank='9', suit='Spades'), Card(rank='10', suit='Spades'), Card(rank='J', suit='Spades')]\n",
      "\n",
      "\n",
      "[[], [], [], []]\n",
      "\n",
      "\n",
      "[[Card(rank='2', suit='Spades'), Card(rank='6', suit='Spades'), Card(rank='10', suit='Spades'), Card(rank='A', suit='Spades'), Card(rank='5', suit='Hearts'), Card(rank='9', suit='Hearts'), Card(rank='K', suit='Hearts'), Card(rank='4', suit='Diamonds'), Card(rank='8', suit='Diamonds'), Card(rank='Q', suit='Diamonds'), Card(rank='3', suit='Clubs'), Card(rank='7', suit='Clubs'), Card(rank='J', suit='Clubs')], [Card(rank='3', suit='Spades'), Card(rank='7', suit='Spades'), Card(rank='J', suit='Spades'), Card(rank='2', suit='Hearts'), Card(rank='6', suit='Hearts'), Card(rank='10', suit='Hearts'), Card(rank='A', suit='Hearts'), Card(rank='5', suit='Diamonds'), Card(rank='9', suit='Diamonds'), Card(rank='K', suit='Diamonds'), Card(rank='4', suit='Clubs'), Card(rank='8', suit='Clubs'), Card(rank='Q', suit='Clubs')], [Card(rank='4', suit='Spades'), Card(rank='8', suit='Spades'), Card(rank='Q', suit='Spades'), Card(rank='3', suit='Hearts'), Card(rank='7', suit='Hearts'), Card(rank='J', suit='Hearts'), Card(rank='2', suit='Diamonds'), Card(rank='6', suit='Diamonds'), Card(rank='10', suit='Diamonds'), Card(rank='A', suit='Diamonds'), Card(rank='5', suit='Clubs'), Card(rank='9', suit='Clubs'), Card(rank='K', suit='Clubs')], [Card(rank='5', suit='Spades'), Card(rank='9', suit='Spades'), Card(rank='K', suit='Spades'), Card(rank='4', suit='Hearts'), Card(rank='8', suit='Hearts'), Card(rank='Q', suit='Hearts'), Card(rank='3', suit='Diamonds'), Card(rank='7', suit='Diamonds'), Card(rank='J', suit='Diamonds'), Card(rank='2', suit='Clubs'), Card(rank='6', suit='Clubs'), Card(rank='10', suit='Clubs'), Card(rank='A', suit='Clubs')]]\n"
     ]
    }
   ],
   "source": [
    "# an example of dealing cards into four hands using a manual approach\n",
    "\n",
    "from collections import namedtuple\n",
    "\n",
    "Card = namedtuple('Card', 'rank suit')\n",
    "def card_deck():\n",
    "    ranks = tuple(str(num) for num in range(2, 11)) + tuple('JQKA')\n",
    "    suits = ('Spades', 'Hearts', 'Diamonds', 'Clubs')\n",
    "    for suit in suits:\n",
    "        for rank in ranks:\n",
    "            yield Card(rank, suit)\n",
    "\n",
    "print(list(islice(card_deck(), 10)))\n",
    "print('\\n')\n",
    "\n",
    "\n",
    "hands = [list() for _ in range(4)]\n",
    "print(hands)\n",
    "print('\\n')\n",
    "\n",
    "index = 0\n",
    "for card in card_deck():\n",
    "    index = index % 4\n",
    "    hands[index].append(card)\n",
    "    index += 1\n",
    "\n",
    "print(hands)\n"
   ]
  },
  {
   "cell_type": "code",
   "execution_count": 26,
   "metadata": {},
   "outputs": [
    {
     "name": "stdout",
     "output_type": "stream",
     "text": [
      "[[Card(rank='2', suit='Spades'), Card(rank='6', suit='Spades'), Card(rank='10', suit='Spades'), Card(rank='A', suit='Spades'), Card(rank='5', suit='Hearts'), Card(rank='9', suit='Hearts'), Card(rank='K', suit='Hearts'), Card(rank='4', suit='Diamonds'), Card(rank='8', suit='Diamonds'), Card(rank='Q', suit='Diamonds'), Card(rank='3', suit='Clubs'), Card(rank='7', suit='Clubs'), Card(rank='J', suit='Clubs'), Card(rank='2', suit='Spades'), Card(rank='6', suit='Spades'), Card(rank='10', suit='Spades'), Card(rank='A', suit='Spades'), Card(rank='5', suit='Hearts'), Card(rank='9', suit='Hearts'), Card(rank='K', suit='Hearts'), Card(rank='4', suit='Diamonds'), Card(rank='8', suit='Diamonds'), Card(rank='Q', suit='Diamonds'), Card(rank='3', suit='Clubs'), Card(rank='7', suit='Clubs'), Card(rank='J', suit='Clubs'), Card(rank='2', suit='Spades'), Card(rank='6', suit='Spades'), Card(rank='10', suit='Spades'), Card(rank='A', suit='Spades'), Card(rank='5', suit='Hearts'), Card(rank='9', suit='Hearts'), Card(rank='K', suit='Hearts'), Card(rank='4', suit='Diamonds'), Card(rank='8', suit='Diamonds'), Card(rank='Q', suit='Diamonds'), Card(rank='3', suit='Clubs'), Card(rank='7', suit='Clubs'), Card(rank='J', suit='Clubs'), Card(rank='2', suit='Spades'), Card(rank='6', suit='Spades'), Card(rank='10', suit='Spades'), Card(rank='A', suit='Spades'), Card(rank='5', suit='Hearts'), Card(rank='9', suit='Hearts'), Card(rank='K', suit='Hearts'), Card(rank='4', suit='Diamonds'), Card(rank='8', suit='Diamonds'), Card(rank='Q', suit='Diamonds'), Card(rank='3', suit='Clubs'), Card(rank='7', suit='Clubs'), Card(rank='J', suit='Clubs'), Card(rank='2', suit='Spades'), Card(rank='6', suit='Spades'), Card(rank='10', suit='Spades'), Card(rank='A', suit='Spades'), Card(rank='5', suit='Hearts'), Card(rank='9', suit='Hearts'), Card(rank='K', suit='Hearts'), Card(rank='4', suit='Diamonds'), Card(rank='8', suit='Diamonds'), Card(rank='Q', suit='Diamonds'), Card(rank='3', suit='Clubs'), Card(rank='7', suit='Clubs'), Card(rank='J', suit='Clubs')], [Card(rank='3', suit='Spades'), Card(rank='7', suit='Spades'), Card(rank='J', suit='Spades'), Card(rank='2', suit='Hearts'), Card(rank='6', suit='Hearts'), Card(rank='10', suit='Hearts'), Card(rank='A', suit='Hearts'), Card(rank='5', suit='Diamonds'), Card(rank='9', suit='Diamonds'), Card(rank='K', suit='Diamonds'), Card(rank='4', suit='Clubs'), Card(rank='8', suit='Clubs'), Card(rank='Q', suit='Clubs'), Card(rank='3', suit='Spades'), Card(rank='7', suit='Spades'), Card(rank='J', suit='Spades'), Card(rank='2', suit='Hearts'), Card(rank='6', suit='Hearts'), Card(rank='10', suit='Hearts'), Card(rank='A', suit='Hearts'), Card(rank='5', suit='Diamonds'), Card(rank='9', suit='Diamonds'), Card(rank='K', suit='Diamonds'), Card(rank='4', suit='Clubs'), Card(rank='8', suit='Clubs'), Card(rank='Q', suit='Clubs'), Card(rank='3', suit='Spades'), Card(rank='7', suit='Spades'), Card(rank='J', suit='Spades'), Card(rank='2', suit='Hearts'), Card(rank='6', suit='Hearts'), Card(rank='10', suit='Hearts'), Card(rank='A', suit='Hearts'), Card(rank='5', suit='Diamonds'), Card(rank='9', suit='Diamonds'), Card(rank='K', suit='Diamonds'), Card(rank='4', suit='Clubs'), Card(rank='8', suit='Clubs'), Card(rank='Q', suit='Clubs'), Card(rank='3', suit='Spades'), Card(rank='7', suit='Spades'), Card(rank='J', suit='Spades'), Card(rank='2', suit='Hearts'), Card(rank='6', suit='Hearts'), Card(rank='10', suit='Hearts'), Card(rank='A', suit='Hearts'), Card(rank='5', suit='Diamonds'), Card(rank='9', suit='Diamonds'), Card(rank='K', suit='Diamonds'), Card(rank='4', suit='Clubs'), Card(rank='8', suit='Clubs'), Card(rank='Q', suit='Clubs'), Card(rank='3', suit='Spades'), Card(rank='7', suit='Spades'), Card(rank='J', suit='Spades'), Card(rank='2', suit='Hearts'), Card(rank='6', suit='Hearts'), Card(rank='10', suit='Hearts'), Card(rank='A', suit='Hearts'), Card(rank='5', suit='Diamonds'), Card(rank='9', suit='Diamonds'), Card(rank='K', suit='Diamonds'), Card(rank='4', suit='Clubs'), Card(rank='8', suit='Clubs'), Card(rank='Q', suit='Clubs')], [Card(rank='4', suit='Spades'), Card(rank='8', suit='Spades'), Card(rank='Q', suit='Spades'), Card(rank='3', suit='Hearts'), Card(rank='7', suit='Hearts'), Card(rank='J', suit='Hearts'), Card(rank='2', suit='Diamonds'), Card(rank='6', suit='Diamonds'), Card(rank='10', suit='Diamonds'), Card(rank='A', suit='Diamonds'), Card(rank='5', suit='Clubs'), Card(rank='9', suit='Clubs'), Card(rank='K', suit='Clubs'), Card(rank='4', suit='Spades'), Card(rank='8', suit='Spades'), Card(rank='Q', suit='Spades'), Card(rank='3', suit='Hearts'), Card(rank='7', suit='Hearts'), Card(rank='J', suit='Hearts'), Card(rank='2', suit='Diamonds'), Card(rank='6', suit='Diamonds'), Card(rank='10', suit='Diamonds'), Card(rank='A', suit='Diamonds'), Card(rank='5', suit='Clubs'), Card(rank='9', suit='Clubs'), Card(rank='K', suit='Clubs'), Card(rank='4', suit='Spades'), Card(rank='8', suit='Spades'), Card(rank='Q', suit='Spades'), Card(rank='3', suit='Hearts'), Card(rank='7', suit='Hearts'), Card(rank='J', suit='Hearts'), Card(rank='2', suit='Diamonds'), Card(rank='6', suit='Diamonds'), Card(rank='10', suit='Diamonds'), Card(rank='A', suit='Diamonds'), Card(rank='5', suit='Clubs'), Card(rank='9', suit='Clubs'), Card(rank='K', suit='Clubs'), Card(rank='4', suit='Spades'), Card(rank='8', suit='Spades'), Card(rank='Q', suit='Spades'), Card(rank='3', suit='Hearts'), Card(rank='7', suit='Hearts'), Card(rank='J', suit='Hearts'), Card(rank='2', suit='Diamonds'), Card(rank='6', suit='Diamonds'), Card(rank='10', suit='Diamonds'), Card(rank='A', suit='Diamonds'), Card(rank='5', suit='Clubs'), Card(rank='9', suit='Clubs'), Card(rank='K', suit='Clubs'), Card(rank='4', suit='Spades'), Card(rank='8', suit='Spades'), Card(rank='Q', suit='Spades'), Card(rank='3', suit='Hearts'), Card(rank='7', suit='Hearts'), Card(rank='J', suit='Hearts'), Card(rank='2', suit='Diamonds'), Card(rank='6', suit='Diamonds'), Card(rank='10', suit='Diamonds'), Card(rank='A', suit='Diamonds'), Card(rank='5', suit='Clubs'), Card(rank='9', suit='Clubs'), Card(rank='K', suit='Clubs')], [Card(rank='5', suit='Spades'), Card(rank='9', suit='Spades'), Card(rank='K', suit='Spades'), Card(rank='4', suit='Hearts'), Card(rank='8', suit='Hearts'), Card(rank='Q', suit='Hearts'), Card(rank='3', suit='Diamonds'), Card(rank='7', suit='Diamonds'), Card(rank='J', suit='Diamonds'), Card(rank='2', suit='Clubs'), Card(rank='6', suit='Clubs'), Card(rank='10', suit='Clubs'), Card(rank='A', suit='Clubs'), Card(rank='5', suit='Spades'), Card(rank='9', suit='Spades'), Card(rank='K', suit='Spades'), Card(rank='4', suit='Hearts'), Card(rank='8', suit='Hearts'), Card(rank='Q', suit='Hearts'), Card(rank='3', suit='Diamonds'), Card(rank='7', suit='Diamonds'), Card(rank='J', suit='Diamonds'), Card(rank='2', suit='Clubs'), Card(rank='6', suit='Clubs'), Card(rank='10', suit='Clubs'), Card(rank='A', suit='Clubs'), Card(rank='5', suit='Spades'), Card(rank='9', suit='Spades'), Card(rank='K', suit='Spades'), Card(rank='4', suit='Hearts'), Card(rank='8', suit='Hearts'), Card(rank='Q', suit='Hearts'), Card(rank='3', suit='Diamonds'), Card(rank='7', suit='Diamonds'), Card(rank='J', suit='Diamonds'), Card(rank='2', suit='Clubs'), Card(rank='6', suit='Clubs'), Card(rank='10', suit='Clubs'), Card(rank='A', suit='Clubs'), Card(rank='5', suit='Spades'), Card(rank='9', suit='Spades'), Card(rank='K', suit='Spades'), Card(rank='4', suit='Hearts'), Card(rank='8', suit='Hearts'), Card(rank='Q', suit='Hearts'), Card(rank='3', suit='Diamonds'), Card(rank='7', suit='Diamonds'), Card(rank='J', suit='Diamonds'), Card(rank='2', suit='Clubs'), Card(rank='6', suit='Clubs'), Card(rank='10', suit='Clubs'), Card(rank='A', suit='Clubs'), Card(rank='5', suit='Spades'), Card(rank='9', suit='Spades'), Card(rank='K', suit='Spades'), Card(rank='4', suit='Hearts'), Card(rank='8', suit='Hearts'), Card(rank='Q', suit='Hearts'), Card(rank='3', suit='Diamonds'), Card(rank='7', suit='Diamonds'), Card(rank='J', suit='Diamonds'), Card(rank='2', suit='Clubs'), Card(rank='6', suit='Clubs'), Card(rank='10', suit='Clubs'), Card(rank='A', suit='Clubs')]]\n"
     ]
    }
   ],
   "source": [
    "# an example of cycling through the hands with cycle function\n",
    "index_cycle = cycle([0, 1, 2, 3])\n",
    "for card in card_deck():\n",
    "    hands[next(index_cycle)].append(card)\n",
    "\n",
    "print(hands)"
   ]
  },
  {
   "cell_type": "code",
   "execution_count": 28,
   "metadata": {},
   "outputs": [
    {
     "name": "stdout",
     "output_type": "stream",
     "text": [
      "[[Card(rank='2', suit='Spades'), Card(rank='6', suit='Spades'), Card(rank='10', suit='Spades'), Card(rank='A', suit='Spades'), Card(rank='5', suit='Hearts'), Card(rank='9', suit='Hearts'), Card(rank='K', suit='Hearts'), Card(rank='4', suit='Diamonds'), Card(rank='8', suit='Diamonds'), Card(rank='Q', suit='Diamonds'), Card(rank='3', suit='Clubs'), Card(rank='7', suit='Clubs'), Card(rank='J', suit='Clubs')], [Card(rank='3', suit='Spades'), Card(rank='7', suit='Spades'), Card(rank='J', suit='Spades'), Card(rank='2', suit='Hearts'), Card(rank='6', suit='Hearts'), Card(rank='10', suit='Hearts'), Card(rank='A', suit='Hearts'), Card(rank='5', suit='Diamonds'), Card(rank='9', suit='Diamonds'), Card(rank='K', suit='Diamonds'), Card(rank='4', suit='Clubs'), Card(rank='8', suit='Clubs'), Card(rank='Q', suit='Clubs')], [Card(rank='4', suit='Spades'), Card(rank='8', suit='Spades'), Card(rank='Q', suit='Spades'), Card(rank='3', suit='Hearts'), Card(rank='7', suit='Hearts'), Card(rank='J', suit='Hearts'), Card(rank='2', suit='Diamonds'), Card(rank='6', suit='Diamonds'), Card(rank='10', suit='Diamonds'), Card(rank='A', suit='Diamonds'), Card(rank='5', suit='Clubs'), Card(rank='9', suit='Clubs'), Card(rank='K', suit='Clubs')], [Card(rank='5', suit='Spades'), Card(rank='9', suit='Spades'), Card(rank='K', suit='Spades'), Card(rank='4', suit='Hearts'), Card(rank='8', suit='Hearts'), Card(rank='Q', suit='Hearts'), Card(rank='3', suit='Diamonds'), Card(rank='7', suit='Diamonds'), Card(rank='J', suit='Diamonds'), Card(rank='2', suit='Clubs'), Card(rank='6', suit='Clubs'), Card(rank='10', suit='Clubs'), Card(rank='A', suit='Clubs')]]\n"
     ]
    }
   ],
   "source": [
    "# using the cycle method directly on the hands\n",
    "hands = [list() for _ in range(4)]\n",
    "hands_cycle = cycle(hands)\n",
    "\n",
    "for card in card_deck():\n",
    "    next(hands_cycle).append(card)\n",
    "\n",
    "print(hands)"
   ]
  },
  {
   "cell_type": "code",
   "execution_count": 32,
   "metadata": {},
   "outputs": [
    {
     "name": "stdout",
     "output_type": "stream",
     "text": [
      "Python\n",
      "Python\n",
      "Python\n",
      "Python\n",
      "Python\n"
     ]
    }
   ],
   "source": [
    "# the repeat function repeats the same element indefinitely\n",
    "g = repeat('Python')\n",
    "for _ in range(5):\n",
    "    print(next(g))"
   ]
  },
  {
   "cell_type": "code",
   "execution_count": 35,
   "metadata": {},
   "outputs": [
    {
     "data": {
      "text/plain": [
       "['Python', 'Python', 'Python', 'Python']"
      ]
     },
     "execution_count": 35,
     "metadata": {},
     "output_type": "execute_result"
    }
   ],
   "source": [
    "# or it can also be finite provided another parameter\n",
    "g = repeat('Python', 4)\n",
    "list(g)"
   ]
  },
  {
   "cell_type": "code",
   "execution_count": null,
   "metadata": {},
   "outputs": [],
   "source": []
  }
 ],
 "metadata": {
  "kernelspec": {
   "display_name": "Python 3",
   "language": "python",
   "name": "python3"
  },
  "language_info": {
   "codemirror_mode": {
    "name": "ipython",
    "version": 3
   },
   "file_extension": ".py",
   "mimetype": "text/x-python",
   "name": "python",
   "nbconvert_exporter": "python",
   "pygments_lexer": "ipython3",
   "version": "3.11.4"
  },
  "orig_nbformat": 4
 },
 "nbformat": 4,
 "nbformat_minor": 2
}
