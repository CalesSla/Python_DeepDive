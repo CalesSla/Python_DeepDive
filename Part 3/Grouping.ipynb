{
 "cells": [
  {
   "cell_type": "code",
   "execution_count": 5,
   "metadata": {},
   "outputs": [
    {
     "name": "stdout",
     "output_type": "stream",
     "text": [
      "make,model\n",
      "ACURA,ILX\n",
      "ACURA,MDX\n",
      "ACURA,RDX\n",
      "ACURA,RLX\n",
      "ACURA,TL\n",
      "ACURA,TSX\n",
      "ALFA ROMEO,4C\n",
      "ALFA ROMEO,GIULIETTA\n",
      "APRILIA,CAPONORD 1200\n",
      "APRILIA,RSV4 FACTORY APRC ABS\n",
      "APRILIA,RSV4 R APRC ABS\n",
      "APRILIA,SHIVER 750\n",
      "ARCTIC CAT,1000 XT\n",
      "ARCTIC CAT,500 XT\n",
      "ARCTIC CAT,550 XT\n",
      "ARCTIC CAT,700 LTD\n",
      "ARCTIC CAT,700 SUPER DUTY DIESEL\n",
      "ARCTIC CAT,700 XT\n",
      "ARCTIC CAT,90 2X4 4-STROKE\n"
     ]
    }
   ],
   "source": [
    "# read the file\n",
    "from itertools import islice\n",
    "from collections import defaultdict\n",
    "\n",
    "\n",
    "with open('files/cars_2014.csv') as f:\n",
    "    for row in itertools.islice(f, 0, 20):\n",
    "        print(row, end = '')"
   ]
  },
  {
   "cell_type": "code",
   "execution_count": 6,
   "metadata": {},
   "outputs": [
    {
     "name": "stdout",
     "output_type": "stream",
     "text": [
      "ACURA: 6\n",
      "ALFA ROMEO: 2\n",
      "APRILIA: 4\n",
      "ARCTIC CAT: 96\n",
      "ARGO: 4\n",
      "ASTON MARTIN: 5\n",
      "AUDI: 27\n",
      "BENTLEY: 2\n",
      "BLUE BIRD: 1\n",
      "BMW: 86\n",
      "BUGATTI: 1\n",
      "BUICK: 5\n",
      "CADILLAC: 7\n",
      "CAN-AM: 61\n",
      "CHEVROLET: 33\n",
      "CHRYSLER: 2\n",
      "DODGE: 7\n",
      "DUCATI: 4\n",
      "FERRARI: 6\n",
      "FIAT: 2\n",
      "FORD: 34\n",
      "FREIGHTLINER: 7\n",
      "GMC: 12\n",
      "HARLEY DAVIDSON: 29\n",
      "HINO: 7\n",
      "HONDA: 91\n",
      "HUSABERG: 4\n",
      "HUSQVARNA: 9\n",
      "HYUNDAI: 13\n",
      "INDIAN: 3\n",
      "INFINITI: 8\n",
      "JAGUAR: 9\n",
      "JEEP: 5\n",
      "JOHN DEERE: 19\n",
      "KAWASAKI: 59\n",
      "KENWORTH: 11\n",
      "KIA: 10\n",
      "KTM: 13\n",
      "KUBOTA: 4\n",
      "KYMCO: 28\n",
      "LAMBORGHINI: 2\n",
      "LAND ROVER: 6\n",
      "LEXUS: 14\n",
      "LINCOLN: 6\n",
      "LOTUS: 1\n",
      "MACK: 9\n",
      "MASERATI: 3\n",
      "MAZDA: 5\n",
      "MCLAREN: 2\n",
      "MERCEDES-BENZ: 60\n",
      "MINI: 3\n",
      "MITSUBISHI: 8\n",
      "NISSAN: 24\n",
      "PEUGEOT: 3\n",
      "POLARIS: 101\n",
      "PORSCHE: 4\n",
      "RAM: 6\n",
      "RENAULT: 4\n",
      "ROLLS ROYCE: 3\n",
      "SCION: 5\n",
      "SEAT: 3\n",
      "SKI-DOO: 67\n",
      "SMART: 1\n",
      "SRT: 1\n",
      "SUBARU: 10\n",
      "SUZUKI: 48\n",
      "TESLA: 2\n",
      "TOYOTA: 19\n",
      "TRIUMPH: 10\n",
      "VESPA: 4\n",
      "VICTORY: 14\n",
      "VOLKSWAGEN: 16\n",
      "VOLVO: 8\n",
      "YAMAHA: 110\n"
     ]
    }
   ],
   "source": [
    "# manual implementation of a counter\n",
    "makes = defaultdict(int)\n",
    "\n",
    "with open('files/cars_2014.csv') as f:\n",
    "    next(f)\n",
    "    for row in f:\n",
    "        make, _ = row.strip('\\n').split(',')\n",
    "        makes[make] += 1\n",
    "\n",
    "for key, value in makes.items():\n",
    "    print(f\"{key}: {value}\")"
   ]
  },
  {
   "cell_type": "code",
   "execution_count": 9,
   "metadata": {},
   "outputs": [
    {
     "data": {
      "text/plain": [
       "[(1, <itertools._grouper at 0x23aefe5ff10>),\n",
       " (2, <itertools._grouper at 0x23aefe5f850>),\n",
       " (3, <itertools._grouper at 0x23aefe5e0e0>),\n",
       " (1, <itertools._grouper at 0x23aefe5ea70>)]"
      ]
     },
     "execution_count": 9,
     "metadata": {},
     "output_type": "execute_result"
    }
   ],
   "source": [
    "# by default the groupby function creates a new group with each occurence, so we need to sort the data before using it\n",
    "from itertools import groupby\n",
    "\n",
    "data = (1, 2, 2, 2, 3, 1)\n",
    "list(groupby(data))"
   ]
  },
  {
   "cell_type": "code",
   "execution_count": 11,
   "metadata": {},
   "outputs": [
    {
     "name": "stdout",
     "output_type": "stream",
     "text": [
      "1 [1]\n",
      "2 [2, 2, 2]\n",
      "3 [3]\n",
      "1 [1]\n"
     ]
    }
   ],
   "source": [
    "# groupby simplest example\n",
    "it = groupby(data)\n",
    "for group_key, sub_iter in it:\n",
    "    print(group_key, list(sub_iter))"
   ]
  },
  {
   "cell_type": "code",
   "execution_count": 17,
   "metadata": {},
   "outputs": [
    {
     "name": "stdout",
     "output_type": "stream",
     "text": [
      "1 [(1, 'abc'), (1, 'bcd')]\n",
      "2 [(2, 'pyt'), (2, 'yth'), (2, 'tho')]\n",
      "3 [(3, 'hon')]\n"
     ]
    }
   ],
   "source": [
    "# a more complex example of where using groupby is useful\n",
    "data = ((1, 'abc'), (1, 'bcd'), (2, 'pyt'), (2, 'yth'), (2, 'tho'), (3, 'hon'))\n",
    "\n",
    "groups = groupby(data, key = lambda x: x[0])\n",
    "# list(groups)\n",
    "\n",
    "for group_key, sub_iter in groups:\n",
    "    print(group_key, list(sub_iter))"
   ]
  },
  {
   "cell_type": "code",
   "execution_count": 36,
   "metadata": {},
   "outputs": [
    {
     "name": "stdout",
     "output_type": "stream",
     "text": [
      "[('ACURA', 6), ('ALFA ROMEO', 2), ('APRILIA', 4), ('ARCTIC CAT', 96), ('ARGO', 4), ('ASTON MARTIN', 5), ('AUDI', 27), ('BENTLEY', 2), ('BLUE BIRD', 1), ('BMW', 86), ('BUGATTI', 1), ('BUICK', 5), ('CADILLAC', 7), ('CAN-AM', 61), ('CHEVROLET', 33), ('CHRYSLER', 2), ('DODGE', 7), ('DUCATI', 4), ('FERRARI', 6), ('FIAT', 2), ('FORD', 34), ('FREIGHTLINER', 7), ('GMC', 12), ('HARLEY DAVIDSON', 29), ('HINO', 7), ('HONDA', 91), ('HUSABERG', 4), ('HUSQVARNA', 9), ('HYUNDAI', 13), ('INDIAN', 3), ('INFINITI', 8), ('JAGUAR', 9), ('JEEP', 5), ('JOHN DEERE', 19), ('KAWASAKI', 59), ('KENWORTH', 11), ('KIA', 10), ('KTM', 13), ('KUBOTA', 4), ('KYMCO', 28), ('LAMBORGHINI', 2), ('LAND ROVER', 6), ('LEXUS', 14), ('LINCOLN', 6), ('LOTUS', 1), ('MACK', 9), ('MASERATI', 3), ('MAZDA', 5), ('MCLAREN', 2), ('MERCEDES-BENZ', 60), ('MINI', 3), ('MITSUBISHI', 8), ('NISSAN', 24), ('PEUGEOT', 3), ('POLARIS', 101), ('PORSCHE', 4), ('RAM', 6), ('RENAULT', 4), ('ROLLS ROYCE', 3), ('SCION', 5), ('SEAT', 3), ('SKI-DOO', 67), ('SMART', 1), ('SRT', 1), ('SUBARU', 10), ('SUZUKI', 48), ('TESLA', 2), ('TOYOTA', 19), ('TRIUMPH', 10), ('VESPA', 4), ('VICTORY', 14), ('VOLKSWAGEN', 16), ('VOLVO', 8), ('YAMAHA', 110)]\n"
     ]
    }
   ],
   "source": [
    "def squares(n):\n",
    "    for i in range(n):\n",
    "        yield i**2\n",
    "\n",
    "with open('files/cars_2014.csv') as f:\n",
    "    next(f)\n",
    "    make_groups = groupby(f, lambda x: x.split(',')[0])\n",
    "    make_counts = ((key, sum(1 for model in models)) for key, models in make_groups)\n",
    "    print(list(make_counts))"
   ]
  },
  {
   "cell_type": "code",
   "execution_count": 37,
   "metadata": {},
   "outputs": [
    {
     "data": {
      "text/plain": [
       "[]"
      ]
     },
     "execution_count": 37,
     "metadata": {},
     "output_type": "execute_result"
    }
   ],
   "source": [
    "list(make_counts)"
   ]
  },
  {
   "cell_type": "code",
   "execution_count": null,
   "metadata": {},
   "outputs": [],
   "source": []
  }
 ],
 "metadata": {
  "kernelspec": {
   "display_name": "Python 3",
   "language": "python",
   "name": "python3"
  },
  "language_info": {
   "codemirror_mode": {
    "name": "ipython",
    "version": 3
   },
   "file_extension": ".py",
   "mimetype": "text/x-python",
   "name": "python",
   "nbconvert_exporter": "python",
   "pygments_lexer": "ipython3",
   "version": "3.11.4"
  },
  "orig_nbformat": 4
 },
 "nbformat": 4,
 "nbformat_minor": 2
}
