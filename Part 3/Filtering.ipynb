{
 "cells": [
  {
   "cell_type": "code",
   "execution_count": 4,
   "metadata": {},
   "outputs": [
    {
     "name": "stdout",
     "output_type": "stream",
     "text": [
      "yielding 0\n",
      "yielding 1\n",
      "yielding 2\n",
      "yielding 3\n",
      "yielding 4\n",
      "yielding 5\n",
      "yielding 6\n",
      "yielding 7\n",
      "yielding 8\n",
      "yielding 9\n",
      "[1, 27, 125, 343, 729]\n"
     ]
    }
   ],
   "source": [
    "# filter function with predicate\n",
    "def gen_cubes(n):\n",
    "    for i in range(n):\n",
    "        print(f'yielding {i}')\n",
    "        yield i**3\n",
    "\n",
    "def is_odd(x):\n",
    "    return x % 2 == 1\n",
    "\n",
    "filtered = filter(is_odd, gen_cubes(10))\n",
    "print(list(filtered))"
   ]
  },
  {
   "cell_type": "code",
   "execution_count": 9,
   "metadata": {},
   "outputs": [
    {
     "name": "stdout",
     "output_type": "stream",
     "text": [
      "[1, 27, 125, 343, 729]\n",
      "[0, 8, 64, 216, 512]\n"
     ]
    }
   ],
   "source": [
    "# filterfalse function filters results out when the predicate is false instead of true\n",
    "from itertools import filterfalse\n",
    "\n",
    "def gen_cubes(n):\n",
    "    for i in range(n):\n",
    "        yield i**3\n",
    "\n",
    "print(list(filter(is_odd, gen_cubes(10))))\n",
    "print(list(filterfalse(is_odd, gen_cubes(10))))"
   ]
  },
  {
   "cell_type": "code",
   "execution_count": 15,
   "metadata": {},
   "outputs": [
    {
     "data": {
      "text/plain": [
       "[0.0,\n",
       " 0.43,\n",
       " 0.78,\n",
       " 0.97,\n",
       " 0.97,\n",
       " 0.78,\n",
       " 0.43,\n",
       " 0.0,\n",
       " -0.43,\n",
       " -0.78,\n",
       " -0.97,\n",
       " -0.97,\n",
       " -0.78,\n",
       " -0.43,\n",
       " -0.0]"
      ]
     },
     "execution_count": 15,
     "metadata": {},
     "output_type": "execute_result"
    }
   ],
   "source": [
    "from itertools import dropwhile, takewhile\n",
    "from math import sin, pi\n",
    "\n",
    "def sine_wave(n):\n",
    "    start = 0\n",
    "    max_ = 2*pi\n",
    "    step = (max_ - start) / (n-1)\n",
    "\n",
    "    for _ in range(n):\n",
    "        yield round(sin(start), 2)\n",
    "        start += step\n",
    "\n",
    "list(sine_wave(15))"
   ]
  },
  {
   "cell_type": "code",
   "execution_count": 19,
   "metadata": {},
   "outputs": [
    {
     "data": {
      "text/plain": [
       "[0.0, 0.43, 0.78]"
      ]
     },
     "execution_count": 19,
     "metadata": {},
     "output_type": "execute_result"
    }
   ],
   "source": [
    "# the takewhile function returns all values before at least one is false\n",
    "result = takewhile(lambda x: 0 <= x <= 0.9, sine_wave(15))\n",
    "list(result)"
   ]
  },
  {
   "cell_type": "code",
   "execution_count": 27,
   "metadata": {},
   "outputs": [
    {
     "data": {
      "text/plain": [
       "[5, 2, 1, 6, 1]"
      ]
     },
     "execution_count": 27,
     "metadata": {},
     "output_type": "execute_result"
    }
   ],
   "source": [
    "# dtopwhile function returns the results after at leasr one false\n",
    "l = [1, 3, 5, 2, 1, 6, 1]\n",
    "list(dropwhile(lambda x: x < 5, l))"
   ]
  },
  {
   "cell_type": "code",
   "execution_count": 29,
   "metadata": {},
   "outputs": [
    {
     "name": "stdout",
     "output_type": "stream",
     "text": [
      "[('a', True), ('b', False), ('c', 1), ('d', 0)]\n"
     ]
    },
    {
     "data": {
      "text/plain": [
       "['a', 'c']"
      ]
     },
     "execution_count": 29,
     "metadata": {},
     "output_type": "execute_result"
    }
   ],
   "source": [
    "# an example of filtering data based on the truth value in another iterable manually\n",
    "data = ['a', 'b', 'c', 'd', 'e']\n",
    "selectors = [True, False, 1, 0]\n",
    "\n",
    "print(list(zip(data, selectors)))\n",
    "\n",
    "[item for item, truth_value in zip(data, selectors) if truth_value]"
   ]
  },
  {
   "cell_type": "code",
   "execution_count": 30,
   "metadata": {},
   "outputs": [
    {
     "data": {
      "text/plain": [
       "['a', 'c']"
      ]
     },
     "execution_count": 30,
     "metadata": {},
     "output_type": "execute_result"
    }
   ],
   "source": [
    "# the same as above can be achieved using the in-built compress function\n",
    "from itertools import compress\n",
    "\n",
    "list(compress(data, selectors))"
   ]
  },
  {
   "cell_type": "code",
   "execution_count": null,
   "metadata": {},
   "outputs": [],
   "source": []
  }
 ],
 "metadata": {
  "kernelspec": {
   "display_name": "Python 3",
   "language": "python",
   "name": "python3"
  },
  "language_info": {
   "codemirror_mode": {
    "name": "ipython",
    "version": 3
   },
   "file_extension": ".py",
   "mimetype": "text/x-python",
   "name": "python",
   "nbconvert_exporter": "python",
   "pygments_lexer": "ipython3",
   "version": "3.11.4"
  },
  "orig_nbformat": 4
 },
 "nbformat": 4,
 "nbformat_minor": 2
}
