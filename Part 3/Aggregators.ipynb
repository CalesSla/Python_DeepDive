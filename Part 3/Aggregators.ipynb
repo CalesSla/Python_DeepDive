{
  "cells": [
    {
      "cell_type": "code",
      "execution_count": null,
      "metadata": {
        "colab": {
          "base_uri": "https://localhost:8080/"
        },
        "id": "v6jhahRrEr6C",
        "outputId": "ce3ee37f-e481-4297-e842-38d7a12f23ad"
      },
      "outputs": [
        {
          "data": {
            "text/plain": [
              "[0, 1, 4, 9, 16]"
            ]
          },
          "execution_count": 1,
          "metadata": {},
          "output_type": "execute_result"
        }
      ],
      "source": [
        "# basic generator function\n",
        "\n",
        "def squares(n):\n",
        "  for i in range(n):\n",
        "    yield i**2\n",
        "\n",
        "list(squares(5))"
      ]
    },
    {
      "cell_type": "code",
      "execution_count": null,
      "metadata": {
        "colab": {
          "base_uri": "https://localhost:8080/"
        },
        "id": "fyt54sTULYT6",
        "outputId": "901e8435-ff01-47c0-a4c8-863ffb04e696"
      },
      "outputs": [
        {
          "name": "stdout",
          "output_type": "stream",
          "text": [
            "0\n",
            "16\n",
            "30\n"
          ]
        }
      ],
      "source": [
        "# aggregator functions are iterators so they exhaust the iterator\n",
        "\n",
        "print(min(squares(5)))\n",
        "print(max(squares(5)))\n",
        "print(sum(squares(5)))"
      ]
    },
    {
      "cell_type": "code",
      "execution_count": null,
      "metadata": {
        "colab": {
          "base_uri": "https://localhost:8080/"
        },
        "id": "goQMtdF2LwQL",
        "outputId": "727588b7-ef64-4048-9dd0-2ceda844aa7c"
      },
      "outputs": [
        {
          "data": {
            "text/plain": [
              "False"
            ]
          },
          "execution_count": 7,
          "metadata": {},
          "output_type": "execute_result"
        }
      ],
      "source": [
        "# define a default bool behaviour of an object\n",
        "\n",
        "class Person:\n",
        "  def __bool__(self):\n",
        "    return False\n",
        "\n",
        "  def __len__(self):\n",
        "    return 0\n",
        "\n",
        "p = Person()\n",
        "bool(p)"
      ]
    },
    {
      "cell_type": "code",
      "execution_count": null,
      "metadata": {
        "colab": {
          "base_uri": "https://localhost:8080/"
        },
        "id": "aq-eGhPOV0PC",
        "outputId": "4f0eb354-fede-41af-caf4-a8589de638b2"
      },
      "outputs": [
        {
          "name": "stdout",
          "output_type": "stream",
          "text": [
            "False\n",
            "True\n",
            "True\n",
            "\n",
            "\n",
            "False\n"
          ]
        }
      ],
      "source": [
        "# examples of using any/all functions\n",
        "\n",
        "print(any([0, '', None]))\n",
        "print(any([0, '', 'None', (10, 20)]))\n",
        "print(any([10, 'hello']))\n",
        "print('\\n')\n",
        "\n",
        "print(all([10, None, 'hello']))"
      ]
    },
    {
      "cell_type": "code",
      "execution_count": null,
      "metadata": {
        "colab": {
          "base_uri": "https://localhost:8080/"
        },
        "id": "yYMpawseV0Rf",
        "outputId": "9ccaca70-b0de-44bc-9455-abbe46e317d8"
      },
      "outputs": [
        {
          "name": "stdout",
          "output_type": "stream",
          "text": [
            "[True, True, True, True, True]\n",
            "True\n",
            "[True, True, True, True, False]\n",
            "False\n"
          ]
        }
      ],
      "source": [
        "# using predicates to check for values in an iterable\n",
        "\n",
        "l = [10, 20, 30, 40, 0]\n",
        "\n",
        "from numbers import Number\n",
        "\n",
        "def is_numeric(v):\n",
        "  return isinstance(v, Number)\n",
        "\n",
        "pred_l_one = map(is_numeric, l)\n",
        "pred_l_two = (is_numeric(item) for item in l)\n",
        "\n",
        "pred_l_one = list(pred_l_one)\n",
        "print(pred_l_one)\n",
        "print(all(pred_l_one))\n",
        "\n",
        "\n",
        "\n",
        "l = [10, 20, 30, 40, 'hello']\n",
        "\n",
        "pred_l = map(lambda x: isinstance(x, Number), l)\n",
        "pred_l = list(pred_l)\n",
        "print(pred_l)\n",
        "print(all(pred_l))"
      ]
    },
    {
      "cell_type": "code",
      "execution_count": null,
      "metadata": {
        "colab": {
          "base_uri": "https://localhost:8080/"
        },
        "id": "Lkhj2KNwEJrQ",
        "outputId": "ce2a7b86-4263-4525-91a9-d437398929a0"
      },
      "outputs": [
        {
          "name": "stdout",
          "output_type": "stream",
          "text": [
            "True\n",
            "True\n"
          ]
        }
      ],
      "source": [
        "with open('car-brands.txt', encoding='iso-8859-1') as f:\n",
        "  result = all(map(lambda row: len(row) >= 4, f))\n",
        "print(result)\n",
        "\n",
        "with open('car-brands.txt', encoding='iso-8859-1') as f:\n",
        "  result = any(map(lambda row: len(row) > 10, f))\n",
        "print(result)"
      ]
    },
    {
      "cell_type": "code",
      "execution_count": null,
      "metadata": {
        "id": "QTo_fIsMFPGH"
      },
      "outputs": [],
      "source": []
    }
  ],
  "metadata": {
    "colab": {
      "provenance": []
    },
    "kernelspec": {
      "display_name": "Python 3",
      "name": "python3"
    },
    "language_info": {
      "name": "python"
    }
  },
  "nbformat": 4,
  "nbformat_minor": 0
}
