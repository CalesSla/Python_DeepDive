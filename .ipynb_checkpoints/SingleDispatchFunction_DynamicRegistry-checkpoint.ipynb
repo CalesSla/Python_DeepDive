{
 "cells": [
  {
   "cell_type": "code",
   "execution_count": 3,
   "metadata": {
    "id": "yoA37AvxQqxm"
   },
   "outputs": [],
   "source": [
    "# The decorator\n",
    "def singledispatch(fn):\n",
    "  registry = {}\n",
    "  registry[object] = fn\n",
    "\n",
    "  # The function that is being decorated\n",
    "  def decorated_function(arg):\n",
    "    return registry.get(type(arg), registry[object])(arg)\n",
    "\n",
    "  # A parameterized decorator inside the outer decorator that's used to register new functions\n",
    "  def register(type_): \n",
    "    # An inner function that is decorated and that will assign the function that it gets to the type of the registry\n",
    "    # All it is doing is using the access to registry to assign the function to the type\n",
    "    def inner(fn):\n",
    "      registry[type_] = fn\n",
    "      return fn\n",
    "    return inner\n",
    "    \n",
    "  # In order to get access to the register decorator we're going to add the register decorator\n",
    "  # as an attribute of the decorated function that we'll return\n",
    "  decorated_function.register = register\n",
    "\n",
    "  # An auxillary function to display the registry\n",
    "  decorated_function.registry = registry\n",
    "\n",
    "  # Another auxillary function that shows you the function associated with a key in registry\n",
    "  def dispatch(type_):\n",
    "    return registry.get(type_, registry[object])\n",
    "\n",
    "  decorated_function.dispatch = dispatch\n",
    "  return decorated_function"
   ]
  },
  {
   "cell_type": "code",
   "execution_count": 2,
   "metadata": {
    "id": "VPC-5QxFTIjN"
   },
   "outputs": [],
   "source": [
    "# A basic function that we want to decorate. It may as well be empty at this stage.\n",
    "@singledispatch\n",
    "def htmlize(a):\n",
    "  return escape(str(a))"
   ]
  },
  {
   "cell_type": "code",
   "execution_count": 4,
   "metadata": {
    "colab": {
     "base_uri": "https://localhost:8080/",
     "height": 252
    },
    "id": "gi52PbsPTOQe",
    "outputId": "83994563-6139-4997-fb20-5b95f13da6a4"
   },
   "outputs": [
    {
     "ename": "AttributeError",
     "evalue": "ignored",
     "output_type": "error",
     "traceback": [
      "\u001b[0;31m---------------------------------------------------------------------------\u001b[0m",
      "\u001b[0;31mAttributeError\u001b[0m                            Traceback (most recent call last)",
      "\u001b[0;32m<ipython-input-4-2a8b382e7a0d>\u001b[0m in \u001b[0;36m<cell line: 4>\u001b[0;34m()\u001b[0m\n\u001b[1;32m      2\u001b[0m \u001b[0;31m# decorator doesn't modify the behaviour of a function that decorators typically do, but just returns\u001b[0m\u001b[0;34m\u001b[0m\u001b[0;34m\u001b[0m\u001b[0m\n\u001b[1;32m      3\u001b[0m \u001b[0;31m# the function.\u001b[0m\u001b[0;34m\u001b[0m\u001b[0;34m\u001b[0m\u001b[0m\n\u001b[0;32m----> 4\u001b[0;31m \u001b[0;34m@\u001b[0m\u001b[0mhtmlize\u001b[0m\u001b[0;34m.\u001b[0m\u001b[0mregister\u001b[0m\u001b[0;34m(\u001b[0m\u001b[0mint\u001b[0m\u001b[0;34m)\u001b[0m\u001b[0;34m\u001b[0m\u001b[0;34m\u001b[0m\u001b[0m\n\u001b[0m\u001b[1;32m      5\u001b[0m \u001b[0;32mdef\u001b[0m \u001b[0mhtml_int\u001b[0m\u001b[0;34m(\u001b[0m\u001b[0ma\u001b[0m\u001b[0;34m)\u001b[0m\u001b[0;34m:\u001b[0m\u001b[0;34m\u001b[0m\u001b[0;34m\u001b[0m\u001b[0m\n\u001b[1;32m      6\u001b[0m   \u001b[0;32mreturn\u001b[0m \u001b[0;34m\"Apply the function\"\u001b[0m\u001b[0;34m\u001b[0m\u001b[0;34m\u001b[0m\u001b[0m\n",
      "\u001b[0;31mAttributeError\u001b[0m: 'function' object has no attribute 'register'"
     ]
    }
   ],
   "source": [
    "# Decorate the function that you want to register with the register decorator. Note that the register\n",
    "# decorator doesn't modify the behaviour of a function that decorators typically do, but just returns\n",
    "# the function.\n",
    "@htmlize.register(int)\n",
    "def html_int(a):\n",
    "  return \"Apply the function\""
   ]
  },
  {
   "cell_type": "code",
   "execution_count": null,
   "metadata": {
    "id": "6PstoqpLUO0e"
   },
   "outputs": [],
   "source": [
    "# An example of a single dispatch decorator for class methods \n",
    " from functools import wraps\n",
    "\n",
    "\n",
    "def singledispatch(fn):\n",
    "  registry = {}\n",
    "  \n",
    "  def decorated_function(self, lda_modeller, vocab, words, id2word):\n",
    "    my_func = registry.get(self.lib, None)\n",
    "    if my_func is None:\n",
    "      result = my_func(self, lda_modeller, vocab, words, id2word)\n",
    "    return result\n",
    "    \n",
    "  def register(libr_str):\n",
    "    def inner(method):\n",
    "      registry[libr_str] = method\n",
    "      return method\n",
    "    return inner\n",
    "  \n",
    "  decorated_function.register = register\n",
    "  decorated_function.registry = registry\n",
    "  \n",
    "  def dispatch(libr_str):\n",
    "    return registry.get(libr_str, None)\n",
    "    \n",
    "  decorated_function.dispatch = dispatch\n",
    "\n",
    "  \n",
    "  return decorated_function"
   ]
  }
 ],
 "metadata": {
  "colab": {
   "provenance": []
  },
  "kernelspec": {
   "display_name": "Python 3 (ipykernel)",
   "language": "python",
   "name": "python3"
  },
  "language_info": {
   "codemirror_mode": {
    "name": "ipython",
    "version": 3
   },
   "file_extension": ".py",
   "mimetype": "text/x-python",
   "name": "python",
   "nbconvert_exporter": "python",
   "pygments_lexer": "ipython3",
   "version": "3.9.16"
  }
 },
 "nbformat": 4,
 "nbformat_minor": 1
}
