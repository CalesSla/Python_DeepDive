{
 "cells": [
  {
   "cell_type": "code",
   "execution_count": 2,
   "id": "be4bd03c",
   "metadata": {},
   "outputs": [
    {
     "name": "stdout",
     "output_type": "stream",
     "text": [
      "hello\n"
     ]
    }
   ],
   "source": [
    "def outer_func():\n",
    "  x = 'hello'\n",
    "  def inner_func():\n",
    "    print(x)\n",
    "  inner_func()\n",
    "\n",
    "outer_func()"
   ]
  },
  {
   "cell_type": "code",
   "execution_count": 3,
   "id": "4fe79b48",
   "metadata": {},
   "outputs": [
    {
     "name": "stdout",
     "output_type": "stream",
     "text": [
      "hello\n"
     ]
    }
   ],
   "source": [
    "def outer_func():\n",
    "  x = 'hello'\n",
    "  def inner_1():\n",
    "    def inner_2():\n",
    "      print(x)\n",
    "    inner_2()\n",
    "  inner_1()\n",
    "\n",
    "outer_func()"
   ]
  },
  {
   "cell_type": "code",
   "execution_count": 6,
   "id": "5d04214f",
   "metadata": {},
   "outputs": [
    {
     "name": "stdout",
     "output_type": "stream",
     "text": [
      "inner:  python\n",
      "outer:  hello\n"
     ]
    }
   ],
   "source": [
    "def outer_func():\n",
    "  x = 'hello'\n",
    "  def inner():\n",
    "    x = 'python'\n",
    "    print('inner: ', x)\n",
    "  inner()\n",
    "  print('outer: ', x)\n",
    "\n",
    "outer_func()"
   ]
  },
  {
   "cell_type": "code",
   "execution_count": 7,
   "id": "01f39a79",
   "metadata": {},
   "outputs": [
    {
     "name": "stdout",
     "output_type": "stream",
     "text": [
      "inner:  python\n",
      "outer:  python\n"
     ]
    }
   ],
   "source": [
    "def outer_func():\n",
    "  x = 'hello'\n",
    "  def inner():\n",
    "    nonlocal x\n",
    "    x = 'python'\n",
    "    print('inner: ', x)\n",
    "  inner()\n",
    "  print('outer: ', x)\n",
    "\n",
    "outer_func()"
   ]
  },
  {
   "cell_type": "code",
   "execution_count": 9,
   "id": "d8583399",
   "metadata": {},
   "outputs": [
    {
     "name": "stdout",
     "output_type": "stream",
     "text": [
      "monty\n"
     ]
    }
   ],
   "source": [
    "def outer():\n",
    "  x = 'hello'\n",
    "  def inner1():\n",
    "    nonlocal x\n",
    "    x = 'python'\n",
    "    def inner2():\n",
    "      nonlocal x\n",
    "      x = 'monty'\n",
    "    inner2()\n",
    "  inner1()\n",
    "  print(x)\n",
    "  \n",
    "outer()"
   ]
  },
  {
   "cell_type": "code",
   "execution_count": 10,
   "id": "a7df5588",
   "metadata": {},
   "outputs": [
    {
     "ename": "SyntaxError",
     "evalue": "no binding for nonlocal 'x' found (1375142794.py, line 5)",
     "output_type": "error",
     "traceback": [
      "\u001b[1;36m  Cell \u001b[1;32mIn[10], line 5\u001b[1;36m\u001b[0m\n\u001b[1;33m    nonlocal x\u001b[0m\n\u001b[1;37m    ^\u001b[0m\n\u001b[1;31mSyntaxError\u001b[0m\u001b[1;31m:\u001b[0m no binding for nonlocal 'x' found\n"
     ]
    }
   ],
   "source": [
    "def outer():\n",
    "  global x\n",
    "  x = 'monty'\n",
    "  def inner():\n",
    "    nonlocal x\n",
    "    x = 'hello'\n",
    "  print(x)"
   ]
  },
  {
   "cell_type": "code",
   "execution_count": null,
   "id": "8e869a7d",
   "metadata": {},
   "outputs": [],
   "source": []
  }
 ],
 "metadata": {
  "kernelspec": {
   "display_name": "Python 3 (ipykernel)",
   "language": "python",
   "name": "python3"
  },
  "language_info": {
   "codemirror_mode": {
    "name": "ipython",
    "version": 3
   },
   "file_extension": ".py",
   "mimetype": "text/x-python",
   "name": "python",
   "nbconvert_exporter": "python",
   "pygments_lexer": "ipython3",
   "version": "3.9.16"
  }
 },
 "nbformat": 4,
 "nbformat_minor": 5
}
