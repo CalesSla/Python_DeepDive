{
 "cells": [
  {
   "cell_type": "code",
   "execution_count": 5,
   "id": "1323ce15",
   "metadata": {},
   "outputs": [],
   "source": [
    "class Rectangle:\n",
    "  def __init__(self, width, height):\n",
    "    self.width = width\n",
    "    self.height = height\n",
    "    \n",
    "  def area(self):\n",
    "    return self.width * self.height\n",
    "  \n",
    "  def perimeter(self):\n",
    "    return 2 * (self.width + self.height)"
   ]
  },
  {
   "cell_type": "code",
   "execution_count": 6,
   "id": "76e3b705",
   "metadata": {},
   "outputs": [],
   "source": [
    "r1 = Rectangle(10, 20)"
   ]
  },
  {
   "cell_type": "code",
   "execution_count": 7,
   "id": "2b83db98",
   "metadata": {},
   "outputs": [
    {
     "data": {
      "text/plain": [
       "200"
      ]
     },
     "execution_count": 7,
     "metadata": {},
     "output_type": "execute_result"
    }
   ],
   "source": [
    "r1.area()"
   ]
  },
  {
   "cell_type": "code",
   "execution_count": 12,
   "id": "9e3c1ead",
   "metadata": {},
   "outputs": [
    {
     "data": {
      "text/plain": [
       "60"
      ]
     },
     "execution_count": 12,
     "metadata": {},
     "output_type": "execute_result"
    }
   ],
   "source": [
    "r1.perimeter()"
   ]
  },
  {
   "cell_type": "markdown",
   "id": "dcfec06c",
   "metadata": {},
   "source": [
    "### class object with a to_string method"
   ]
  },
  {
   "cell_type": "code",
   "execution_count": 9,
   "id": "bd222ece",
   "metadata": {},
   "outputs": [],
   "source": [
    "class Rectangle:\n",
    "  def __init__(self, width, height):\n",
    "    self.width = width\n",
    "    self.height = height\n",
    "    \n",
    "  def area(self):\n",
    "    return self.width * self.height\n",
    "  \n",
    "  def perimeter(self):\n",
    "    return 2 * (self.width + self.height)\n",
    "  \n",
    "  def to_string(self):\n",
    "    return f'Rectangle: width = {self.height}, height = {self.height}'"
   ]
  },
  {
   "cell_type": "code",
   "execution_count": 14,
   "id": "8ac40904",
   "metadata": {},
   "outputs": [],
   "source": [
    "r1 = Rectangle(10, 20)"
   ]
  },
  {
   "cell_type": "markdown",
   "id": "44c09802",
   "metadata": {},
   "source": [
    "### Class object with a custom __str__ method"
   ]
  },
  {
   "cell_type": "code",
   "execution_count": 16,
   "id": "61625349",
   "metadata": {},
   "outputs": [],
   "source": [
    "class Rectangle:\n",
    "  def __init__(self, width, height):\n",
    "    self.width = width\n",
    "    self.height = height\n",
    "    \n",
    "  def area(self):\n",
    "    return self.width * self.height\n",
    "  \n",
    "  def perimeter(self):\n",
    "    return 2 * (self.width + self.height)\n",
    "  \n",
    "  def __str__(self):\n",
    "    return f'Rectangle: width = {self.height}, height = {self.height}'"
   ]
  },
  {
   "cell_type": "code",
   "execution_count": 17,
   "id": "dce987d2",
   "metadata": {},
   "outputs": [],
   "source": [
    "r1 = Rectangle(10, 20)"
   ]
  },
  {
   "cell_type": "code",
   "execution_count": 19,
   "id": "bc467802",
   "metadata": {},
   "outputs": [
    {
     "data": {
      "text/plain": [
       "'Rectangle: width = 20, height = 20'"
      ]
     },
     "execution_count": 19,
     "metadata": {},
     "output_type": "execute_result"
    }
   ],
   "source": [
    "str(r1)"
   ]
  },
  {
   "cell_type": "code",
   "execution_count": 20,
   "id": "628814ee",
   "metadata": {},
   "outputs": [],
   "source": [
    "### Class object with __repr__ method"
   ]
  },
  {
   "cell_type": "code",
   "execution_count": 23,
   "id": "317429db",
   "metadata": {},
   "outputs": [
    {
     "data": {
      "text/plain": [
       "Rectangle(10, 20)"
      ]
     },
     "execution_count": 23,
     "metadata": {},
     "output_type": "execute_result"
    }
   ],
   "source": [
    "class Rectangle:\n",
    "  def __init__(self, width, height):\n",
    "    self.width = width\n",
    "    self.height = height\n",
    "    \n",
    "  def area(self):\n",
    "    return self.width * self.height\n",
    "  \n",
    "  def perimeter(self):\n",
    "    return 2 * (self.width + self.height)\n",
    "  \n",
    "  def __str__(self):\n",
    "    return f'Rectangle: width = {self.height}, height = {self.height}'\n",
    "  \n",
    "  def __repr__(self):\n",
    "    return f'Rectangle({self.width}, {self.height})'\n",
    "  \n",
    "r1 = Rectangle(10, 20)\n",
    "\n",
    "r1"
   ]
  },
  {
   "cell_type": "code",
   "execution_count": 25,
   "id": "5cc4d309",
   "metadata": {},
   "outputs": [],
   "source": [
    "r2 = Rectangle(10, 20)"
   ]
  },
  {
   "cell_type": "code",
   "execution_count": 26,
   "id": "9418491d",
   "metadata": {},
   "outputs": [
    {
     "data": {
      "text/plain": [
       "False"
      ]
     },
     "execution_count": 26,
     "metadata": {},
     "output_type": "execute_result"
    }
   ],
   "source": [
    "r1 == r2"
   ]
  },
  {
   "cell_type": "code",
   "execution_count": null,
   "id": "728d2158",
   "metadata": {},
   "outputs": [],
   "source": [
    "class Rectangle:\n",
    "  def __init__(self, width, height):\n",
    "    self.width = width\n",
    "    self.height = height\n",
    "    \n",
    "  def area(self):\n",
    "    return self.width * self.height\n",
    "  \n",
    "  def perimeter(self):\n",
    "    return 2 * (self.width + self.height)\n",
    "  \n",
    "  def __str__(self):\n",
    "    return f'Rectangle: width = {self.height}, height = {self.height}'\n",
    "  \n",
    "  def __repr__(self):\n",
    "    return f'Rectangle({self.width}, {self.height})'\n",
    "  \n",
    "  def __eq__(self, other):\n",
    "    return self.width == other.width and self.height == other.height\n",
    "  \n",
    "r1 = Rectangle(10, 20)\n",
    "r2 = Rec\n",
    "r1"
   ]
  }
 ],
 "metadata": {
  "kernelspec": {
   "display_name": "Python 3 (ipykernel)",
   "language": "python",
   "name": "python3"
  },
  "language_info": {
   "codemirror_mode": {
    "name": "ipython",
    "version": 3
   },
   "file_extension": ".py",
   "mimetype": "text/x-python",
   "name": "python",
   "nbconvert_exporter": "python",
   "pygments_lexer": "ipython3",
   "version": "3.9.16"
  }
 },
 "nbformat": 4,
 "nbformat_minor": 5
}
