{
 "cells": [
  {
   "cell_type": "code",
   "execution_count": 5,
   "id": "ec5edb1a",
   "metadata": {},
   "outputs": [],
   "source": [
    "class Rectangle:\n",
    "  def __init__(self, width, height):\n",
    "    self.width = width\n",
    "    self.height = height\n",
    "    \n",
    "  def area(self):\n",
    "    return self.width * self.height\n",
    "  \n",
    "  def perimeter(self):\n",
    "    return 2 * (self.width + self.height)"
   ]
  },
  {
   "cell_type": "code",
   "execution_count": 6,
   "id": "87266a22",
   "metadata": {},
   "outputs": [],
   "source": [
    "r1 = Rectangle(10, 20)"
   ]
  },
  {
   "cell_type": "code",
   "execution_count": 7,
   "id": "ec8aa935",
   "metadata": {},
   "outputs": [
    {
     "data": {
      "text/plain": [
       "200"
      ]
     },
     "execution_count": 7,
     "metadata": {},
     "output_type": "execute_result"
    }
   ],
   "source": [
    "r1.area()"
   ]
  },
  {
   "cell_type": "code",
   "execution_count": 12,
   "id": "ad5fdf6c",
   "metadata": {},
   "outputs": [
    {
     "data": {
      "text/plain": [
       "60"
      ]
     },
     "execution_count": 12,
     "metadata": {},
     "output_type": "execute_result"
    }
   ],
   "source": [
    "r1.perimeter()"
   ]
  },
  {
   "cell_type": "markdown",
   "id": "7566e33c",
   "metadata": {},
   "source": [
    "### class object with a to_string method"
   ]
  },
  {
   "cell_type": "code",
   "execution_count": 9,
   "id": "3d551e56",
   "metadata": {},
   "outputs": [],
   "source": [
    "class Rectangle:\n",
    "  def __init__(self, width, height):\n",
    "    self.width = width\n",
    "    self.height = height\n",
    "    \n",
    "  def area(self):\n",
    "    return self.width * self.height\n",
    "  \n",
    "  def perimeter(self):\n",
    "    return 2 * (self.width + self.height)\n",
    "  \n",
    "  def to_string(self):\n",
    "    return f'Rectangle: width = {self.height}, height = {self.height}'"
   ]
  },
  {
   "cell_type": "code",
   "execution_count": 14,
   "id": "fd193bb9",
   "metadata": {},
   "outputs": [],
   "source": [
    "r1 = Rectangle(10, 20)"
   ]
  },
  {
   "cell_type": "markdown",
   "id": "0a9c66cd",
   "metadata": {},
   "source": [
    "### Class object with a custom __str__ method"
   ]
  },
  {
   "cell_type": "code",
   "execution_count": 16,
   "id": "fb8fe873",
   "metadata": {},
   "outputs": [],
   "source": [
    "class Rectangle:\n",
    "  def __init__(self, width, height):\n",
    "    self.width = width\n",
    "    self.height = height\n",
    "    \n",
    "  def area(self):\n",
    "    return self.width * self.height\n",
    "  \n",
    "  def perimeter(self):\n",
    "    return 2 * (self.width + self.height)\n",
    "  \n",
    "  def __str__(self):\n",
    "    return f'Rectangle: width = {self.height}, height = {self.height}'"
   ]
  },
  {
   "cell_type": "code",
   "execution_count": 17,
   "id": "6bbb8893",
   "metadata": {},
   "outputs": [],
   "source": [
    "r1 = Rectangle(10, 20)"
   ]
  },
  {
   "cell_type": "code",
   "execution_count": 19,
   "id": "760a80ea",
   "metadata": {},
   "outputs": [
    {
     "data": {
      "text/plain": [
       "'Rectangle: width = 20, height = 20'"
      ]
     },
     "execution_count": 19,
     "metadata": {},
     "output_type": "execute_result"
    }
   ],
   "source": [
    "str(r1)"
   ]
  },
  {
   "cell_type": "code",
   "execution_count": 20,
   "id": "9a371295",
   "metadata": {},
   "outputs": [],
   "source": [
    "### Class object with __repr__ method"
   ]
  },
  {
   "cell_type": "code",
   "execution_count": 23,
   "id": "b222feb6",
   "metadata": {},
   "outputs": [
    {
     "data": {
      "text/plain": [
       "Rectangle(10, 20)"
      ]
     },
     "execution_count": 23,
     "metadata": {},
     "output_type": "execute_result"
    }
   ],
   "source": [
    "class Rectangle:\n",
    "  def __init__(self, width, height):\n",
    "    self.width = width\n",
    "    self.height = height\n",
    "    \n",
    "  def area(self):\n",
    "    return self.width * self.height\n",
    "  \n",
    "  def perimeter(self):\n",
    "    return 2 * (self.width + self.height)\n",
    "  \n",
    "  def __str__(self):\n",
    "    return f'Rectangle: width = {self.height}, height = {self.height}'\n",
    "  \n",
    "  def __repr__(self):\n",
    "    return f'Rectangle({self.width}, {self.height})'\n",
    "  \n",
    "r1 = Rectangle(10, 20)\n",
    "\n",
    "r1"
   ]
  },
  {
   "cell_type": "code",
   "execution_count": 25,
   "id": "61df1e43",
   "metadata": {},
   "outputs": [],
   "source": [
    "r2 = Rectangle(10, 20)"
   ]
  },
  {
   "cell_type": "code",
   "execution_count": 31,
   "id": "db76bb84",
   "metadata": {},
   "outputs": [
    {
     "data": {
      "text/plain": [
       "True"
      ]
     },
     "execution_count": 31,
     "metadata": {},
     "output_type": "execute_result"
    }
   ],
   "source": [
    "r1 == r2"
   ]
  },
  {
   "cell_type": "markdown",
   "id": "0d48fba6",
   "metadata": {},
   "source": [
    "### Class object rewritten __eq__ method"
   ]
  },
  {
   "cell_type": "code",
   "execution_count": 32,
   "id": "741c7e54",
   "metadata": {},
   "outputs": [
    {
     "data": {
      "text/plain": [
       "True"
      ]
     },
     "execution_count": 32,
     "metadata": {},
     "output_type": "execute_result"
    }
   ],
   "source": [
    "class Rectangle:\n",
    "  def __init__(self, width, height):\n",
    "    self.width = width\n",
    "    self.height = height\n",
    "    \n",
    "  def area(self):\n",
    "    return self.width * self.height\n",
    "  \n",
    "  def perimeter(self):\n",
    "    return 2 * (self.width + self.height)\n",
    "  \n",
    "  def __str__(self):\n",
    "    return f'Rectangle: width = {self.height}, height = {self.height}'\n",
    "  \n",
    "  def __repr__(self):\n",
    "    return f'Rectangle({self.width}, {self.height})'\n",
    "  \n",
    "  def __eq__(self, other):\n",
    "    return self.width == other.width and self.height == other.height\n",
    "  \n",
    "r1 = Rectangle(10, 20)\n",
    "r2 = Rectangle(10, 20)\n",
    "r1 == r2"
   ]
  },
  {
   "cell_type": "code",
   "execution_count": 34,
   "id": "a1f67517",
   "metadata": {},
   "outputs": [
    {
     "ename": "NameError",
     "evalue": "name 'f1' is not defined",
     "output_type": "error",
     "traceback": [
      "\u001b[1;31m---------------------------------------------------------------------------\u001b[0m",
      "\u001b[1;31mNameError\u001b[0m                                 Traceback (most recent call last)",
      "Cell \u001b[1;32mIn[34], line 1\u001b[0m\n\u001b[1;32m----> 1\u001b[0m \u001b[43mf1\u001b[49m \u001b[38;5;241m==\u001b[39m \u001b[38;5;241m100\u001b[39m\n",
      "\u001b[1;31mNameError\u001b[0m: name 'f1' is not defined"
     ]
    }
   ],
   "source": [
    "f1 == 100"
   ]
  },
  {
   "cell_type": "markdown",
   "id": "2181466e",
   "metadata": {},
   "source": [
    "### Fixing the __eq__ method for other objects"
   ]
  },
  {
   "cell_type": "code",
   "execution_count": 35,
   "id": "b2f77937",
   "metadata": {},
   "outputs": [
    {
     "data": {
      "text/plain": [
       "True"
      ]
     },
     "execution_count": 35,
     "metadata": {},
     "output_type": "execute_result"
    }
   ],
   "source": [
    "class Rectangle:\n",
    "  def __init__(self, width, height):\n",
    "    self.width = width\n",
    "    self.height = height\n",
    "    \n",
    "  def area(self):\n",
    "    return self.width * self.height\n",
    "  \n",
    "  def perimeter(self):\n",
    "    return 2 * (self.width + self.height)\n",
    "  \n",
    "  def __str__(self):\n",
    "    return f'Rectangle: width = {self.height}, height = {self.height}'\n",
    "  \n",
    "  def __repr__(self):\n",
    "    return f'Rectangle({self.width}, {self.height})'\n",
    "  \n",
    "  def __eq__(self, other):\n",
    "    if isinstance(other, Rectangle):\n",
    "      return self.width == other.width and self.height == other.height\n",
    "    else:\n",
    "      return False\n",
    "    \n",
    "    \n",
    "r1 = Rectangle(10, 20)\n",
    "r2 = Rectangle(10, 20)\n",
    "r1 == r2"
   ]
  },
  {
   "cell_type": "code",
   "execution_count": 40,
   "id": "fe581afd",
   "metadata": {},
   "outputs": [
    {
     "data": {
      "text/plain": [
       "False"
      ]
     },
     "execution_count": 40,
     "metadata": {},
     "output_type": "execute_result"
    }
   ],
   "source": [
    "r1 == 100"
   ]
  },
  {
   "cell_type": "markdown",
   "id": "51f6e88a",
   "metadata": {},
   "source": [
    "### Less than custom method"
   ]
  },
  {
   "cell_type": "code",
   "execution_count": 45,
   "id": "4991da12",
   "metadata": {},
   "outputs": [
    {
     "data": {
      "text/plain": [
       "True"
      ]
     },
     "execution_count": 45,
     "metadata": {},
     "output_type": "execute_result"
    }
   ],
   "source": [
    "class Rectangle:\n",
    "  def __init__(self, width, height):\n",
    "    self.width = width\n",
    "    self.height = height\n",
    "    \n",
    "  def area(self):\n",
    "    return self.width * self.height\n",
    "  \n",
    "  def perimeter(self):\n",
    "    return 2 * (self.width + self.height)\n",
    "  \n",
    "  def __str__(self):\n",
    "    return f'Rectangle: width = {self.height}, height = {self.height}'\n",
    "  \n",
    "  def __repr__(self):\n",
    "    return f'Rectangle({self.width}, {self.height})'\n",
    "  \n",
    "  def __eq__(self, other):\n",
    "    if isinstance(other, Rectangle):\n",
    "      return self.width == other.width and self.height == other.height\n",
    "    else:\n",
    "      return False\n",
    "    \n",
    "  def __lt__(self, other):\n",
    "    if isinstance(other, Rectangle):\n",
    "      return self.area() < other.area()\n",
    "    else:\n",
    "      return NotImplemented\n",
    "    \n",
    "    \n",
    "r1 = Rectangle(10, 20)\n",
    "r2 = Rectangle(100, 200)\n",
    "r1 < r2"
   ]
  },
  {
   "cell_type": "markdown",
   "id": "aa7876e0",
   "metadata": {},
   "source": [
    "### Make class variables private"
   ]
  },
  {
   "cell_type": "code",
   "execution_count": null,
   "id": "3e04c674",
   "metadata": {},
   "outputs": [],
   "source": [
    "class Rectangle:\n",
    "  def __init__(self, width, height):\n",
    "    self._width = width\n",
    "    self._height = height\n",
    "    \n",
    "  def get_width(self):\n",
    "    return self._width\n",
    "  \n",
    "  def set_width(self, width):\n",
    "    if width <= 0:\n",
    "      raise ValueError('Width must be positive')\n",
    "    else:\n",
    "      self._width = width\n",
    "      \n",
    "  def get_height(self):\n",
    "    return self._height\n",
    "  \n",
    "  def set_width(self, height):\n",
    "    if height <= 0:\n",
    "      raise ValueError('Height must be positive')\n",
    "    else:\n",
    "      self._height = height\n",
    "  \n",
    "  def __str__(self):\n",
    "    return f'Rectangle: width = {self._width}, height = {self._height}'\n",
    "  \n",
    "  def __repr__(self):\n",
    "    return f'Rectangle({self._width}, {self._height})'\n",
    "  \n",
    "  def __eq__(self, other):\n",
    "    if isinstance(other, Rectangle):\n",
    "      return self._width == other._width and self._height == other._height\n",
    "    else:\n",
    "      return False\n",
    "    \n",
    "    \n",
    "r1 = Rectangle(10, 20)\n",
    "r2 = Rectangle(100, 200)\n",
    "r1 < r2"
   ]
  }
 ],
 "metadata": {
  "kernelspec": {
   "display_name": "Python 3 (ipykernel)",
   "language": "python",
   "name": "python3"
  },
  "language_info": {
   "codemirror_mode": {
    "name": "ipython",
    "version": 3
   },
   "file_extension": ".py",
   "mimetype": "text/x-python",
   "name": "python",
   "nbconvert_exporter": "python",
   "pygments_lexer": "ipython3",
   "version": "3.9.16"
  }
 },
 "nbformat": 4,
 "nbformat_minor": 5
}
