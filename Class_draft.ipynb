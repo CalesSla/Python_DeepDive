{
 "cells": [
  {
   "cell_type": "code",
   "execution_count": 5,
   "id": "c06e8f80",
   "metadata": {},
   "outputs": [],
   "source": [
    "class Rectangle:\n",
    "  def __init__(self, width, height):\n",
    "    self.width = width\n",
    "    self.height = height\n",
    "    \n",
    "  def area(self):\n",
    "    return self.width * self.height\n",
    "  \n",
    "  def perimeter(self):\n",
    "    return 2 * (self.width + self.height)"
   ]
  },
  {
   "cell_type": "code",
   "execution_count": 6,
   "id": "bf87c096",
   "metadata": {},
   "outputs": [],
   "source": [
    "r1 = Rectangle(10, 20)"
   ]
  },
  {
   "cell_type": "code",
   "execution_count": 7,
   "id": "9cf9763a",
   "metadata": {},
   "outputs": [
    {
     "data": {
      "text/plain": [
       "200"
      ]
     },
     "execution_count": 7,
     "metadata": {},
     "output_type": "execute_result"
    }
   ],
   "source": [
    "r1.area()"
   ]
  },
  {
   "cell_type": "code",
   "execution_count": 12,
   "id": "c051776a",
   "metadata": {},
   "outputs": [
    {
     "data": {
      "text/plain": [
       "60"
      ]
     },
     "execution_count": 12,
     "metadata": {},
     "output_type": "execute_result"
    }
   ],
   "source": [
    "r1.perimeter()"
   ]
  },
  {
   "cell_type": "markdown",
   "id": "ab95a499",
   "metadata": {},
   "source": [
    "### class object with a to_string method"
   ]
  },
  {
   "cell_type": "code",
   "execution_count": 9,
   "id": "51b68320",
   "metadata": {},
   "outputs": [],
   "source": [
    "class Rectangle:\n",
    "  def __init__(self, width, height):\n",
    "    self.width = width\n",
    "    self.height = height\n",
    "    \n",
    "  def area(self):\n",
    "    return self.width * self.height\n",
    "  \n",
    "  def perimeter(self):\n",
    "    return 2 * (self.width + self.height)\n",
    "  \n",
    "  def to_string(self):\n",
    "    return f'Rectangle: width = {self.height}, height = {self.height}'"
   ]
  },
  {
   "cell_type": "code",
   "execution_count": 14,
   "id": "26e636de",
   "metadata": {},
   "outputs": [],
   "source": [
    "r1 = Rectangle(10, 20)"
   ]
  },
  {
   "cell_type": "markdown",
   "id": "ccdf5313",
   "metadata": {},
   "source": [
    "### Class object with a custom __str__ method"
   ]
  },
  {
   "cell_type": "code",
   "execution_count": 16,
   "id": "389eab27",
   "metadata": {},
   "outputs": [],
   "source": [
    "class Rectangle:\n",
    "  def __init__(self, width, height):\n",
    "    self.width = width\n",
    "    self.height = height\n",
    "    \n",
    "  def area(self):\n",
    "    return self.width * self.height\n",
    "  \n",
    "  def perimeter(self):\n",
    "    return 2 * (self.width + self.height)\n",
    "  \n",
    "  def __str__(self):\n",
    "    return f'Rectangle: width = {self.height}, height = {self.height}'"
   ]
  },
  {
   "cell_type": "code",
   "execution_count": 17,
   "id": "741390b7",
   "metadata": {},
   "outputs": [],
   "source": [
    "r1 = Rectangle(10, 20)"
   ]
  },
  {
   "cell_type": "code",
   "execution_count": 19,
   "id": "17fbba0e",
   "metadata": {},
   "outputs": [
    {
     "data": {
      "text/plain": [
       "'Rectangle: width = 20, height = 20'"
      ]
     },
     "execution_count": 19,
     "metadata": {},
     "output_type": "execute_result"
    }
   ],
   "source": [
    "str(r1)"
   ]
  },
  {
   "cell_type": "code",
   "execution_count": 20,
   "id": "9932c000",
   "metadata": {},
   "outputs": [],
   "source": [
    "### Class object with __repr__ method"
   ]
  },
  {
   "cell_type": "code",
   "execution_count": 23,
   "id": "4f9a44b7",
   "metadata": {},
   "outputs": [
    {
     "data": {
      "text/plain": [
       "Rectangle(10, 20)"
      ]
     },
     "execution_count": 23,
     "metadata": {},
     "output_type": "execute_result"
    }
   ],
   "source": [
    "class Rectangle:\n",
    "  def __init__(self, width, height):\n",
    "    self.width = width\n",
    "    self.height = height\n",
    "    \n",
    "  def area(self):\n",
    "    return self.width * self.height\n",
    "  \n",
    "  def perimeter(self):\n",
    "    return 2 * (self.width + self.height)\n",
    "  \n",
    "  def __str__(self):\n",
    "    return f'Rectangle: width = {self.height}, height = {self.height}'\n",
    "  \n",
    "  def __repr__(self):\n",
    "    return f'Rectangle({self.width}, {self.height})'\n",
    "  \n",
    "r1 = Rectangle(10, 20)\n",
    "\n",
    "r1"
   ]
  },
  {
   "cell_type": "code",
   "execution_count": 25,
   "id": "6289223e",
   "metadata": {},
   "outputs": [],
   "source": [
    "r2 = Rectangle(10, 20)"
   ]
  },
  {
   "cell_type": "code",
   "execution_count": 31,
   "id": "80575c16",
   "metadata": {},
   "outputs": [
    {
     "data": {
      "text/plain": [
       "True"
      ]
     },
     "execution_count": 31,
     "metadata": {},
     "output_type": "execute_result"
    }
   ],
   "source": [
    "r1 == r2"
   ]
  },
  {
   "cell_type": "markdown",
   "id": "356fab00",
   "metadata": {},
   "source": [
    "### Class object rewritten __eq__ method"
   ]
  },
  {
   "cell_type": "code",
   "execution_count": 32,
   "id": "f830c508",
   "metadata": {},
   "outputs": [
    {
     "data": {
      "text/plain": [
       "True"
      ]
     },
     "execution_count": 32,
     "metadata": {},
     "output_type": "execute_result"
    }
   ],
   "source": [
    "class Rectangle:\n",
    "  def __init__(self, width, height):\n",
    "    self.width = width\n",
    "    self.height = height\n",
    "    \n",
    "  def area(self):\n",
    "    return self.width * self.height\n",
    "  \n",
    "  def perimeter(self):\n",
    "    return 2 * (self.width + self.height)\n",
    "  \n",
    "  def __str__(self):\n",
    "    return f'Rectangle: width = {self.height}, height = {self.height}'\n",
    "  \n",
    "  def __repr__(self):\n",
    "    return f'Rectangle({self.width}, {self.height})'\n",
    "  \n",
    "  def __eq__(self, other):\n",
    "    return self.width == other.width and self.height == other.height\n",
    "  \n",
    "r1 = Rectangle(10, 20)\n",
    "r2 = Rectangle(10, 20)\n",
    "r1 == r2"
   ]
  },
  {
   "cell_type": "code",
   "execution_count": 34,
   "id": "b5f9371c",
   "metadata": {},
   "outputs": [
    {
     "ename": "NameError",
     "evalue": "name 'f1' is not defined",
     "output_type": "error",
     "traceback": [
      "\u001b[1;31m---------------------------------------------------------------------------\u001b[0m",
      "\u001b[1;31mNameError\u001b[0m                                 Traceback (most recent call last)",
      "Cell \u001b[1;32mIn[34], line 1\u001b[0m\n\u001b[1;32m----> 1\u001b[0m \u001b[43mf1\u001b[49m \u001b[38;5;241m==\u001b[39m \u001b[38;5;241m100\u001b[39m\n",
      "\u001b[1;31mNameError\u001b[0m: name 'f1' is not defined"
     ]
    }
   ],
   "source": [
    "f1 == 100"
   ]
  },
  {
   "cell_type": "markdown",
   "id": "67e737e0",
   "metadata": {},
   "source": [
    "### Fixing the __eq__ method for other objects"
   ]
  },
  {
   "cell_type": "code",
   "execution_count": null,
   "id": "915c0121",
   "metadata": {},
   "outputs": [],
   "source": [
    "class Rectangle:\n",
    "  def __init__(self, width, height):\n",
    "    self.width = width\n",
    "    self.height = height\n",
    "    \n",
    "  def area(self):\n",
    "    return self.width * self.height\n",
    "  \n",
    "  def perimeter(self):\n",
    "    return 2 * (self.width + self.height)\n",
    "  \n",
    "  def __str__(self):\n",
    "    return f'Rectangle: width = {self.height}, height = {self.height}'\n",
    "  \n",
    "  def __repr__(self):\n",
    "    return f'Rectangle({self.width}, {self.height})'\n",
    "  \n",
    "  def __eq__(self, other):\n",
    "    if isinstance(other, Rectangle)\n",
    "    return self.width == other.width and self.height == other.height\n",
    "  \n",
    "r1 = Rectangle(10, 20)\n",
    "r2 = Rectangle(10, 20)\n",
    "r1 == r2"
   ]
  }
 ],
 "metadata": {
  "kernelspec": {
   "display_name": "Python 3 (ipykernel)",
   "language": "python",
   "name": "python3"
  },
  "language_info": {
   "codemirror_mode": {
    "name": "ipython",
    "version": 3
   },
   "file_extension": ".py",
   "mimetype": "text/x-python",
   "name": "python",
   "nbconvert_exporter": "python",
   "pygments_lexer": "ipython3",
   "version": "3.9.16"
  }
 },
 "nbformat": 4,
 "nbformat_minor": 5
}
