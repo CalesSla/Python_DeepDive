{
  "nbformat": 4,
  "nbformat_minor": 0,
  "metadata": {
    "colab": {
      "provenance": []
    },
    "kernelspec": {
      "name": "python3",
      "display_name": "Python 3"
    },
    "language_info": {
      "name": "python"
    }
  },
  "cells": [
    {
      "cell_type": "code",
      "execution_count": null,
      "metadata": {
        "id": "SLVl0Zq1BNR_"
      },
      "outputs": [],
      "source": [
        "def my_func():\n",
        "  \"\"\"This is my docstring\"\"\"\n",
        "  pass"
      ]
    },
    {
      "cell_type": "code",
      "source": [
        "help(my_func)"
      ],
      "metadata": {
        "colab": {
          "base_uri": "https://localhost:8080/"
        },
        "id": "41S8ycngB2Oe",
        "outputId": "5da51370-1589-4030-a10d-c586dc3fc656"
      },
      "execution_count": null,
      "outputs": [
        {
          "output_type": "stream",
          "name": "stdout",
          "text": [
            "Help on function my_func in module __main__:\n",
            "\n",
            "my_func()\n",
            "    This is my docstring\n",
            "\n"
          ]
        }
      ]
    },
    {
      "cell_type": "code",
      "source": [
        "def my_func(a: 'annotation for a', b: 'annotation for b' = 1) -> 'something with a long annotation':\n",
        "  \"\"\"documentation for my_func\"\"\"\n",
        "  return a * b\n"
      ],
      "metadata": {
        "id": "0LkTT1vDCCqa"
      },
      "execution_count": null,
      "outputs": []
    },
    {
      "cell_type": "code",
      "source": [
        "help(my_func)"
      ],
      "metadata": {
        "colab": {
          "base_uri": "https://localhost:8080/"
        },
        "id": "Egmn6qlvCXmA",
        "outputId": "6a5cc23e-b044-420e-b555-bc54b692fce9"
      },
      "execution_count": null,
      "outputs": [
        {
          "output_type": "stream",
          "name": "stdout",
          "text": [
            "Help on function my_func in module __main__:\n",
            "\n",
            "my_func(a: 'annotation for a', b: 'annotation for b' = 1) -> 'something with a long annotation'\n",
            "    documentation for my_func\n",
            "\n"
          ]
        }
      ]
    },
    {
      "cell_type": "code",
      "source": [
        "my_func.__doc__"
      ],
      "metadata": {
        "colab": {
          "base_uri": "https://localhost:8080/",
          "height": 35
        },
        "id": "cWUAX_MxCZiU",
        "outputId": "fab34c78-05e7-4be1-fbad-8aedbfdd1b93"
      },
      "execution_count": null,
      "outputs": [
        {
          "output_type": "execute_result",
          "data": {
            "text/plain": [
              "'documentation for my_func'"
            ],
            "application/vnd.google.colaboratory.intrinsic+json": {
              "type": "string"
            }
          },
          "metadata": {},
          "execution_count": 10
        }
      ]
    },
    {
      "cell_type": "code",
      "source": [
        "my_func.__annotations__"
      ],
      "metadata": {
        "colab": {
          "base_uri": "https://localhost:8080/"
        },
        "id": "CHl_Ea7ZChq1",
        "outputId": "c53a721f-5222-4d05-873d-6241426fabdb"
      },
      "execution_count": null,
      "outputs": [
        {
          "output_type": "execute_result",
          "data": {
            "text/plain": [
              "{'a': 'annotation for a',\n",
              " 'b': 'annotation for b',\n",
              " 'return': 'something with a long annotation'}"
            ]
          },
          "metadata": {},
          "execution_count": 11
        }
      ]
    },
    {
      "cell_type": "code",
      "source": [
        "x = 3\n",
        "y = 5\n",
        "def my_func(a: 'some character') -> 'character a repeated ' + str(max(x, y)) + ' times':\n",
        "  return a* max(x, y)\n",
        "\n",
        "my_func('a')"
      ],
      "metadata": {
        "colab": {
          "base_uri": "https://localhost:8080/",
          "height": 35
        },
        "id": "-KRFl_RgCjlV",
        "outputId": "a367c5e8-9592-44b4-8cf2-bbe1cf52d849"
      },
      "execution_count": null,
      "outputs": [
        {
          "output_type": "execute_result",
          "data": {
            "text/plain": [
              "'aaaaa'"
            ],
            "application/vnd.google.colaboratory.intrinsic+json": {
              "type": "string"
            }
          },
          "metadata": {},
          "execution_count": 12
        }
      ]
    },
    {
      "cell_type": "code",
      "source": [
        "my_func.__annotations__"
      ],
      "metadata": {
        "colab": {
          "base_uri": "https://localhost:8080/"
        },
        "id": "t3Jx_NLpDFC_",
        "outputId": "ac37cbbd-1437-42a5-9848-fd426e6ec348"
      },
      "execution_count": null,
      "outputs": [
        {
          "output_type": "execute_result",
          "data": {
            "text/plain": [
              "{'a': 'some character', 'return': 'character a repeated 5 times'}"
            ]
          },
          "metadata": {},
          "execution_count": 13
        }
      ]
    },
    {
      "cell_type": "code",
      "source": [
        "def my_func(a: str,\n",
        "            b: 'int > 0' = 1,\n",
        "            *args: 'some extra positional args',\n",
        "            k1: 'keyword-only arg 1',\n",
        "            k2: 'keyword-only arg 2' = 100,\n",
        "            **kwargs: 'some extra keyword-only args') -> 'something':\n",
        "\n",
        "  print(a, b, args, k1, k2, kwargs)\n",
        "\n",
        "my_func.__annotations__"
      ],
      "metadata": {
        "colab": {
          "base_uri": "https://localhost:8080/"
        },
        "id": "mBSMW3boDHuX",
        "outputId": "29897ac2-b453-4978-ce5e-d2f703925340"
      },
      "execution_count": null,
      "outputs": [
        {
          "output_type": "execute_result",
          "data": {
            "text/plain": [
              "{'a': str,\n",
              " 'b': 'int > 0',\n",
              " 'args': 'some extra positional args',\n",
              " 'k1': 'keyword-only arg 1',\n",
              " 'k2': 'keyword-only arg 2',\n",
              " 'kwargs': 'some extra keyword-only args',\n",
              " 'return': 'something'}"
            ]
          },
          "metadata": {},
          "execution_count": 15
        }
      ]
    },
    {
      "cell_type": "code",
      "source": [
        "my_func(1, 2, 3, 4, 5, k1 = 10,  k3 = 300, k4 = 400)"
      ],
      "metadata": {
        "colab": {
          "base_uri": "https://localhost:8080/"
        },
        "id": "Gd7ZHcSkEV-i",
        "outputId": "1a3abc32-7896-438f-819b-5ee0037f71af"
      },
      "execution_count": null,
      "outputs": [
        {
          "output_type": "stream",
          "name": "stdout",
          "text": [
            "1 2 (3, 4, 5) 10 100 {'k3': 300, 'k4': 400}\n"
          ]
        }
      ]
    },
    {
      "cell_type": "code",
      "source": [],
      "metadata": {
        "id": "GV1DqB-mEh57"
      },
      "execution_count": null,
      "outputs": []
    }
  ]
}