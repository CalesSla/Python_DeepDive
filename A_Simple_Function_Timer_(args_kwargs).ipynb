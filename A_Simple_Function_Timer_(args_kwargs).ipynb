{
  "nbformat": 4,
  "nbformat_minor": 0,
  "metadata": {
    "colab": {
      "provenance": []
    },
    "kernelspec": {
      "name": "python3",
      "display_name": "Python 3"
    },
    "language_info": {
      "name": "python"
    }
  },
  "cells": [
    {
      "cell_type": "code",
      "execution_count": null,
      "metadata": {
        "id": "e0EznCZGpz9J"
      },
      "outputs": [],
      "source": [
        "import time"
      ]
    },
    {
      "cell_type": "code",
      "source": [
        "def time_it(fn, *args, **kwargs):\n",
        "  print(args, kwargs)\n",
        "\n",
        "time_it(print, 1,2,3, sep = ' - ', end = ' *** ')"
      ],
      "metadata": {
        "colab": {
          "base_uri": "https://localhost:8080/"
        },
        "id": "iBjN74dyp6vP",
        "outputId": "e2115ad1-ab94-4854-c1f1-b7d1d5a159f5"
      },
      "execution_count": null,
      "outputs": [
        {
          "output_type": "stream",
          "name": "stdout",
          "text": [
            "(1, 2, 3) {'sep': ' - ', 'end': ' *** '}\n"
          ]
        }
      ]
    },
    {
      "cell_type": "code",
      "source": [
        "def time_it(fn, *args, **kwargs):\n",
        "  fn(*args, **kwargs)\n",
        "\n",
        "time_it(print, 1,2,3, sep = ' - ', end = ' *** ')"
      ],
      "metadata": {
        "colab": {
          "base_uri": "https://localhost:8080/"
        },
        "id": "T9EnsTr1qI-s",
        "outputId": "909da9ca-0d7a-4f55-b7d7-be763213ceda"
      },
      "execution_count": null,
      "outputs": [
        {
          "output_type": "stream",
          "name": "stdout",
          "text": [
            "1 - 2 - 3 *** "
          ]
        }
      ]
    },
    {
      "cell_type": "code",
      "source": [
        "def time_it(fn, *args, rep=1, **kwargs):\n",
        "  for i in range(rep):\n",
        "    fn(*args, **kwargs)\n",
        "\n",
        "time_it(print, 1,2,3, sep = ' - ', end = ' ***\\n', rep = 5)"
      ],
      "metadata": {
        "colab": {
          "base_uri": "https://localhost:8080/"
        },
        "id": "N_p9Y32kqkxw",
        "outputId": "db62c457-7b4b-44d8-bf6a-37f1c2c94dd1"
      },
      "execution_count": null,
      "outputs": [
        {
          "output_type": "stream",
          "name": "stdout",
          "text": [
            "1 - 2 - 3 ***\n",
            "1 - 2 - 3 ***\n",
            "1 - 2 - 3 ***\n",
            "1 - 2 - 3 ***\n",
            "1 - 2 - 3 ***\n"
          ]
        }
      ]
    },
    {
      "cell_type": "code",
      "source": [
        "def time_it(fn, *args, rep=1, **kwargs):\n",
        "  start = time.perf_counter()\n",
        "  for i in range(rep):\n",
        "    fn(*args, **kwargs)\n",
        "  end = time.perf_counter()\n",
        "  return (end - start) / rep\n",
        "  \n",
        "time_it(print, 1,2,3, sep = ' - ', end = ' ***\\n', rep = 5)"
      ],
      "metadata": {
        "colab": {
          "base_uri": "https://localhost:8080/"
        },
        "id": "zN7OYbForJAT",
        "outputId": "b39d3e64-9399-4402-b543-7b7c95952a6a"
      },
      "execution_count": null,
      "outputs": [
        {
          "output_type": "stream",
          "name": "stdout",
          "text": [
            "1 - 2 - 3 ***\n",
            "1 - 2 - 3 ***\n",
            "1 - 2 - 3 ***\n",
            "1 - 2 - 3 ***\n",
            "1 - 2 - 3 ***\n"
          ]
        },
        {
          "output_type": "execute_result",
          "data": {
            "text/plain": [
              "0.0003310333999934301"
            ]
          },
          "metadata": {},
          "execution_count": 9
        }
      ]
    },
    {
      "cell_type": "code",
      "source": [
        "def compute_powers_1(n, *, start=1, end):\n",
        "  results = []\n",
        "  for i in range(start, end):\n",
        "    results.append(n**i)\n",
        "  return results\n",
        "\n",
        "compute_powers_1(2, end = 5)"
      ],
      "metadata": {
        "colab": {
          "base_uri": "https://localhost:8080/"
        },
        "id": "FkffzaHqrfyP",
        "outputId": "a1d0ea37-80c1-40df-cdfb-a1e3f2546a2f"
      },
      "execution_count": null,
      "outputs": [
        {
          "output_type": "execute_result",
          "data": {
            "text/plain": [
              "[2, 4, 8, 16]"
            ]
          },
          "metadata": {},
          "execution_count": 10
        }
      ]
    },
    {
      "cell_type": "code",
      "source": [
        "def compute_powers_2(n, *, start=1, end):\n",
        "  return [n**i for i in range(start, end)]\n",
        "                              \n",
        "compute_powers_2(2, end = 5)"
      ],
      "metadata": {
        "colab": {
          "base_uri": "https://localhost:8080/"
        },
        "id": "-qK_lpipsKUj",
        "outputId": "0789bc1d-8ba8-4c48-a4d6-3994ac470fd3"
      },
      "execution_count": null,
      "outputs": [
        {
          "output_type": "execute_result",
          "data": {
            "text/plain": [
              "[2, 4, 8, 16]"
            ]
          },
          "metadata": {},
          "execution_count": 12
        }
      ]
    },
    {
      "cell_type": "code",
      "source": [
        "def compute_powers_3(n, *, start=1, end):\n",
        "  return (n**i for i in range(start, end))\n",
        "\n",
        "list(compute_powers_3(2, end = 5))"
      ],
      "metadata": {
        "colab": {
          "base_uri": "https://localhost:8080/"
        },
        "id": "N_vq7hkqscUs",
        "outputId": "8ec0bc64-50c0-4adf-8a25-c38c276339a2"
      },
      "execution_count": null,
      "outputs": [
        {
          "output_type": "execute_result",
          "data": {
            "text/plain": [
              "[2, 4, 8, 16]"
            ]
          },
          "metadata": {},
          "execution_count": 13
        }
      ]
    },
    {
      "cell_type": "code",
      "source": [
        "time_it(compute_powers_1, 2, start = 0, end = 20000, rep = 5)"
      ],
      "metadata": {
        "colab": {
          "base_uri": "https://localhost:8080/"
        },
        "id": "6620gbhZyDO6",
        "outputId": "ac9d941e-5d31-493b-a4d5-a3b8c61eece6"
      },
      "execution_count": null,
      "outputs": [
        {
          "output_type": "execute_result",
          "data": {
            "text/plain": [
              "0.46148734319995127"
            ]
          },
          "metadata": {},
          "execution_count": 14
        }
      ]
    },
    {
      "cell_type": "code",
      "source": [
        "time_it(compute_powers_2, 2, start = 0, end = 20000, rep = 5)"
      ],
      "metadata": {
        "colab": {
          "base_uri": "https://localhost:8080/"
        },
        "id": "JzRNUCQqyMiG",
        "outputId": "93c7d3f4-717a-4adf-ef29-d65dfd0ba247"
      },
      "execution_count": null,
      "outputs": [
        {
          "output_type": "execute_result",
          "data": {
            "text/plain": [
              "0.6313458591999733"
            ]
          },
          "metadata": {},
          "execution_count": 15
        }
      ]
    },
    {
      "cell_type": "code",
      "source": [
        "time_it(compute_powers_3, 2, start = 0, end = 20000, rep = 5)"
      ],
      "metadata": {
        "colab": {
          "base_uri": "https://localhost:8080/"
        },
        "id": "dYFoewbtySlc",
        "outputId": "206f29ab-0e9c-4449-e11b-c58ccf1a7baa"
      },
      "execution_count": null,
      "outputs": [
        {
          "output_type": "execute_result",
          "data": {
            "text/plain": [
              "2.7971999770670663e-06"
            ]
          },
          "metadata": {},
          "execution_count": 16
        }
      ]
    },
    {
      "cell_type": "code",
      "source": [],
      "metadata": {
        "id": "VVs1jAyvyVDg"
      },
      "execution_count": null,
      "outputs": []
    }
  ]
}