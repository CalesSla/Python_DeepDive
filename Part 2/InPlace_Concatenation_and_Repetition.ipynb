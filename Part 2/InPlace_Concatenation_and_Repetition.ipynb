{
 "cells": [
  {
   "cell_type": "code",
   "execution_count": 1,
   "metadata": {},
   "outputs": [
    {
     "name": "stdout",
     "output_type": "stream",
     "text": [
      "2409801253888 [1, 2, 3, 4]\n",
      "2409801255168 [5, 6]\n"
     ]
    }
   ],
   "source": [
    "l1 = [1,2,3,4]\n",
    "l2 = [5,6]\n",
    "print(id(l1), l1)\n",
    "print(id(l2), l2)"
   ]
  },
  {
   "cell_type": "code",
   "execution_count": 3,
   "metadata": {},
   "outputs": [
    {
     "name": "stdout",
     "output_type": "stream",
     "text": [
      "2409801145024 [1, 2, 3, 4, 5, 6, 5, 6]\n"
     ]
    }
   ],
   "source": [
    "# The + operator when explicitly used on a list (e.g. without +=) it changes the memory address and creates a new object\n",
    "l1 = l1 + l2\n",
    "print(id(l1), l1)"
   ]
  },
  {
   "cell_type": "code",
   "execution_count": 15,
   "metadata": {},
   "outputs": [
    {
     "name": "stdout",
     "output_type": "stream",
     "text": [
      "2409801204352 [1, 2, 3, 4]\n",
      "2409801179136 [5, 6]\n"
     ]
    }
   ],
   "source": [
    "l1 = [1,2,3,4]\n",
    "l2 = [5,6]\n",
    "print(id(l1), l1)\n",
    "print(id(l2), l2)"
   ]
  },
  {
   "cell_type": "code",
   "execution_count": 16,
   "metadata": {},
   "outputs": [
    {
     "name": "stdout",
     "output_type": "stream",
     "text": [
      "2409801204352 [1, 2, 3, 4, 5, 6]\n"
     ]
    }
   ],
   "source": [
    "# The += operation doesn't change the memory address of the original mutable list and does not create a new object\n",
    "l1 += l2\n",
    "print(id(l1), l1)"
   ]
  },
  {
   "cell_type": "code",
   "execution_count": 17,
   "metadata": {},
   "outputs": [
    {
     "name": "stdout",
     "output_type": "stream",
     "text": [
      "2409801255296 [1, 2, 3, 4]\n",
      "2409801179136 [5, 6]\n",
      "2409801255296 [1, 2, 3, 4, 5, 6]\n"
     ]
    }
   ],
   "source": [
    "# += operator works when concatenating mutable and immutable types while + operator does not\n",
    "l1 = [1,2,3,4]\n",
    "t1 = (5,6)\n",
    "print(id(l1), l1)\n",
    "print(id(l2), l2)\n",
    "l1 += t1\n",
    "print(id(l1), l1)"
   ]
  },
  {
   "cell_type": "code",
   "execution_count": 19,
   "metadata": {},
   "outputs": [
    {
     "name": "stdout",
     "output_type": "stream",
     "text": [
      "2409801347072 (1, 2, 3)\n",
      "2409801338752 (4, 5, 6)\n",
      "2409779520096 (1, 2, 3, 4, 5, 6)\n"
     ]
    }
   ],
   "source": [
    "# For immutable types the memory address changes since they are immutable\n",
    "t1 = (1,2,3)\n",
    "t2 = (4,5,6)\n",
    "print(id(t1), t1)\n",
    "print(id(t2), t2)\n",
    "t1 += t2\n",
    "print(id(t1), t1)"
   ]
  },
  {
   "cell_type": "code",
   "execution_count": 22,
   "metadata": {},
   "outputs": [
    {
     "name": "stdout",
     "output_type": "stream",
     "text": [
      "2409806760512 [1, 2, 3, 4]\n",
      "2409806765248 [5, 6]\n",
      "\n",
      "\n",
      "2409801258752 [1, 2, 3, 4, 5, 6]\n",
      "\n",
      "\n",
      "\n",
      "2409806768128 [1, 2, 3, 4]\n",
      "2409806760512 [5, 6]\n",
      "\n",
      "\n",
      "2409806768128 [1, 2, 3, 4, 1, 2, 3, 4]\n"
     ]
    }
   ],
   "source": [
    "# Similar principles hold for * and *= operators\n",
    "l1 = [1,2,3,4]\n",
    "l2 = [5,6]\n",
    "print(id(l1), l1)\n",
    "print(id(l2), l2)\n",
    "print('\\n')\n",
    "\n",
    "l1 = l1 + l2\n",
    "print(id(l1), l1)\n",
    "print('\\n\\n')\n",
    "\n",
    "\n",
    "l1 = [1,2,3,4]\n",
    "l2 = [5,6]\n",
    "print(id(l1), l1)\n",
    "print(id(l2), l2)\n",
    "print('\\n')\n",
    "\n",
    "l1 *= 2\n",
    "print(id(l1), l1)"
   ]
  },
  {
   "cell_type": "code",
   "execution_count": null,
   "metadata": {},
   "outputs": [],
   "source": []
  }
 ],
 "metadata": {
  "kernelspec": {
   "display_name": "Python 3",
   "language": "python",
   "name": "python3"
  },
  "language_info": {
   "codemirror_mode": {
    "name": "ipython",
    "version": 3
   },
   "file_extension": ".py",
   "mimetype": "text/x-python",
   "name": "python",
   "nbconvert_exporter": "python",
   "pygments_lexer": "ipython3",
   "version": "3.11.4"
  },
  "orig_nbformat": 4
 },
 "nbformat": 4,
 "nbformat_minor": 2
}
