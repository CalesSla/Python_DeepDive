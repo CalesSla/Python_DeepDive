{
  "nbformat": 4,
  "nbformat_minor": 0,
  "metadata": {
    "colab": {
      "provenance": []
    },
    "kernelspec": {
      "name": "python3",
      "display_name": "Python 3"
    },
    "language_info": {
      "name": "python"
    }
  },
  "cells": [
    {
      "cell_type": "markdown",
      "source": [
        "###Sequence Types"
      ],
      "metadata": {
        "id": "C5UJ3vVlpru8"
      }
    },
    {
      "cell_type": "code",
      "execution_count": null,
      "metadata": {
        "id": "Qft4Grw9kIgW"
      },
      "outputs": [],
      "source": [
        "l = [1, 2, 3]\n",
        "t = (1, 2, 3)\n",
        "s = 'python'\n",
        "se = {'x', 10, 'a', 'A'}"
      ]
    },
    {
      "cell_type": "markdown",
      "source": [
        "### Sets do not maintain order"
      ],
      "metadata": {
        "id": "mssL9LJzrvRd"
      }
    },
    {
      "cell_type": "code",
      "source": [
        "for i in se:\n",
        "  print(i)"
      ],
      "metadata": {
        "colab": {
          "base_uri": "https://localhost:8080/"
        },
        "id": "MuqoyeM0kNTn",
        "outputId": "563f3ceb-b245-46fb-d1ab-a0dd7b6b4a88"
      },
      "execution_count": null,
      "outputs": [
        {
          "output_type": "stream",
          "name": "stdout",
          "text": [
            "10\n",
            "x\n",
            "a\n",
            "A\n"
          ]
        }
      ]
    },
    {
      "cell_type": "markdown",
      "source": [
        "###The enumerate method returns a list of tuples"
      ],
      "metadata": {
        "id": "5gk7Whss-V0C"
      }
    },
    {
      "cell_type": "code",
      "source": [
        "s = \"gnu's not unix\"\n",
        "\n",
        "list(enumerate(s))"
      ],
      "metadata": {
        "colab": {
          "base_uri": "https://localhost:8080/"
        },
        "id": "NKjTwz3frKVe",
        "outputId": "5f86378e-0bed-4e97-8e5e-67fe5738319a"
      },
      "execution_count": null,
      "outputs": [
        {
          "output_type": "execute_result",
          "data": {
            "text/plain": [
              "[(0, 'g'),\n",
              " (1, 'n'),\n",
              " (2, 'u'),\n",
              " (3, \"'\"),\n",
              " (4, 's'),\n",
              " (5, ' '),\n",
              " (6, 'n'),\n",
              " (7, 'o'),\n",
              " (8, 't'),\n",
              " (9, ' '),\n",
              " (10, 'u'),\n",
              " (11, 'n'),\n",
              " (12, 'i'),\n",
              " (13, 'x')]"
            ]
          },
          "metadata": {},
          "execution_count": 14
        }
      ]
    },
    {
      "cell_type": "markdown",
      "source": [
        "###Returning index of an element"
      ],
      "metadata": {
        "id": "ARlN1Sj4-hy5"
      }
    },
    {
      "cell_type": "code",
      "source": [
        "# First index found\n",
        "s.index('n')"
      ],
      "metadata": {
        "colab": {
          "base_uri": "https://localhost:8080/"
        },
        "id": "PwGVo_nS-RJp",
        "outputId": "8e8080f3-a6b9-4553-88c0-a8f4795d9f0d"
      },
      "execution_count": null,
      "outputs": [
        {
          "output_type": "execute_result",
          "data": {
            "text/plain": [
              "1"
            ]
          },
          "metadata": {},
          "execution_count": 16
        }
      ]
    },
    {
      "cell_type": "code",
      "source": [
        "# First index found after a certain position\n",
        "s.index('n', 2)"
      ],
      "metadata": {
        "colab": {
          "base_uri": "https://localhost:8080/"
        },
        "id": "vJuXwvKq-pfR",
        "outputId": "fdd0c32e-4a40-4f0c-a9ba-b330e3a12a71"
      },
      "execution_count": null,
      "outputs": [
        {
          "output_type": "execute_result",
          "data": {
            "text/plain": [
              "6"
            ]
          },
          "metadata": {},
          "execution_count": 18
        }
      ]
    },
    {
      "cell_type": "markdown",
      "source": [
        "###Slicing always return a new object"
      ],
      "metadata": {
        "id": "XqD2RMei_uN7"
      }
    },
    {
      "cell_type": "code",
      "source": [
        "l1 = [1, 2, 3]\n",
        "l2 = l[:]\n",
        "\n",
        "id(l1), id(l2)"
      ],
      "metadata": {
        "colab": {
          "base_uri": "https://localhost:8080/"
        },
        "id": "4eIi7z3B-emh",
        "outputId": "445c18fe-b154-4314-f941-12e82607d9a6"
      },
      "execution_count": null,
      "outputs": [
        {
          "output_type": "execute_result",
          "data": {
            "text/plain": [
              "(138567959356096, 138567958911808)"
            ]
          },
          "metadata": {},
          "execution_count": 20
        }
      ]
    },
    {
      "cell_type": "code",
      "source": [
        "l1 is l2"
      ],
      "metadata": {
        "colab": {
          "base_uri": "https://localhost:8080/"
        },
        "id": "iA9DjjJW-cHC",
        "outputId": "767fc0ab-6525-4e6c-966a-ff9b7ccba6c5"
      },
      "execution_count": null,
      "outputs": [
        {
          "output_type": "execute_result",
          "data": {
            "text/plain": [
              "False"
            ]
          },
          "metadata": {},
          "execution_count": 21
        }
      ]
    },
    {
      "cell_type": "markdown",
      "source": [
        "###Specifying the step size as a third argument"
      ],
      "metadata": {
        "id": "lGz6jB-4AZKh"
      }
    },
    {
      "cell_type": "code",
      "source": [
        "s[0:5:2]"
      ],
      "metadata": {
        "colab": {
          "base_uri": "https://localhost:8080/",
          "height": 35
        },
        "id": "kh-IZp7l-cJR",
        "outputId": "44d15cd7-59be-48a3-e1c3-49e5e10b7085"
      },
      "execution_count": null,
      "outputs": [
        {
          "output_type": "execute_result",
          "data": {
            "text/plain": [
              "'gus'"
            ],
            "application/vnd.google.colaboratory.intrinsic+json": {
              "type": "string"
            }
          },
          "metadata": {},
          "execution_count": 22
        }
      ]
    },
    {
      "cell_type": "markdown",
      "source": [
        "###The following notation does the following:\n",
        "* Start at the beginning\n",
        "* Go all the way to the end\n",
        "* Go in steps of -1 (e.g. from end to start)"
      ],
      "metadata": {
        "id": "UPUfXDTjAhnP"
      }
    },
    {
      "cell_type": "code",
      "source": [
        "s[::-1]"
      ],
      "metadata": {
        "colab": {
          "base_uri": "https://localhost:8080/",
          "height": 35
        },
        "id": "sbKuItfp-cL4",
        "outputId": "219e7bb5-eab3-4f6e-a56a-1f2cb48eac24"
      },
      "execution_count": null,
      "outputs": [
        {
          "output_type": "execute_result",
          "data": {
            "text/plain": [
              "\"xinu ton s'ung\""
            ],
            "application/vnd.google.colaboratory.intrinsic+json": {
              "type": "string"
            }
          },
          "metadata": {},
          "execution_count": 23
        }
      ]
    },
    {
      "cell_type": "code",
      "source": [],
      "metadata": {
        "id": "xSjXJMR7AeOH"
      },
      "execution_count": null,
      "outputs": []
    },
    {
      "cell_type": "code",
      "source": [],
      "metadata": {
        "id": "t5LBZw5VAeQ3"
      },
      "execution_count": null,
      "outputs": []
    },
    {
      "cell_type": "code",
      "source": [],
      "metadata": {
        "id": "d5331VBOAeTZ"
      },
      "execution_count": null,
      "outputs": []
    }
  ]
}