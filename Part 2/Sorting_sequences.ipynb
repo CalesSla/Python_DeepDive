{
 "cells": [
  {
   "cell_type": "code",
   "execution_count": 1,
   "metadata": {},
   "outputs": [
    {
     "data": {
      "text/plain": [
       "[1, 3, 5, 6, 8, 9, 10]"
      ]
     },
     "execution_count": 1,
     "metadata": {},
     "output_type": "execute_result"
    }
   ],
   "source": [
    "# The result of the sorted function is always a list\n",
    "t = (10, 3, 5, 8, 9, 6, 1)\n",
    "sorted(t)"
   ]
  },
  {
   "cell_type": "code",
   "execution_count": 12,
   "metadata": {},
   "outputs": [
    {
     "data": {
      "text/plain": [
       "[1, 3, 2]"
      ]
     },
     "execution_count": 12,
     "metadata": {},
     "output_type": "execute_result"
    }
   ],
   "source": [
    "# Sorting dictionary using key argument\n",
    "d = {3:100, 2:200, 1:10}\n",
    "sorted(d, key = lambda x: d[x])"
   ]
  },
  {
   "cell_type": "code",
   "execution_count": 15,
   "metadata": {},
   "outputs": [
    {
     "name": "stdout",
     "output_type": "stream",
     "text": [
      "['a', 'bird', 'is', 'late', 'parrot', 'this']\n",
      "\n",
      "\n",
      "['a', 'bird', 'late', 'this', 'is', 'parrot']\n",
      "['a', 'is', 'this', 'late', 'bird', 'parrot']\n"
     ]
    }
   ],
   "source": [
    "# Sorting strings with key\n",
    "t = ('this', 'parrot', 'is', 'a', 'late', 'bird')\n",
    "print(sorted(t))\n",
    "print('\\n')\n",
    "print(sorted(t, key = lambda x: x[-1]))\n",
    "print(sorted(t, key = lambda x: len(x)))"
   ]
  },
  {
   "cell_type": "code",
   "execution_count": 17,
   "metadata": {},
   "outputs": [
    {
     "name": "stdout",
     "output_type": "stream",
     "text": [
      "['parrot', 'this', 'late', 'bird', 'is', 'a']\n",
      "['parrot', 'this', 'late', 'bird', 'is', 'a']\n"
     ]
    }
   ],
   "source": [
    "# Reversing sorted order\n",
    "t = ('this', 'parrot', 'is', 'a', 'late', 'bird')\n",
    "print(sorted(t, key = lambda x: len(x), reverse = True))\n",
    "\n",
    "print(sorted(t, key = lambda x: -len(x)))"
   ]
  },
  {
   "cell_type": "code",
   "execution_count": 26,
   "metadata": {},
   "outputs": [
    {
     "name": "stdout",
     "output_type": "stream",
     "text": [
      "2231271399040 ['this', 'parrot', 'is', 'a', 'late', 'bird']\n",
      "2231271399040 ['this', 'parrot', 'is', 'a', 'late', 'bird']\n"
     ]
    }
   ],
   "source": [
    "# list sorting with sort method\n",
    "l = ['this', 'parrot', 'is', 'a', 'late', 'bird']\n",
    "print(id(l), l)\n",
    "sorted_l = sorted(l, key = lambda x: len(x))\n",
    "print(id(l), l)\n",
    "# l.sort(key = lambda x: len(x))\n",
    "# print(id(l), l)"
   ]
  },
  {
   "cell_type": "code",
   "execution_count": 33,
   "metadata": {},
   "outputs": [],
   "source": [
    "# Sort vs sorted comparison\n",
    "from timeit import timeit\n",
    "import random\n",
    "random.seed(0)\n",
    "\n",
    "n = 10_000_000\n",
    "l = [random.randint(0, 100) for n in range(n)]"
   ]
  },
  {
   "cell_type": "code",
   "execution_count": 34,
   "metadata": {},
   "outputs": [
    {
     "data": {
      "text/plain": [
       "0.724447800006601"
      ]
     },
     "execution_count": 34,
     "metadata": {},
     "output_type": "execute_result"
    }
   ],
   "source": [
    "timeit(stmt = 'sorted(l)', globals = globals(), number=1)"
   ]
  },
  {
   "cell_type": "code",
   "execution_count": 35,
   "metadata": {},
   "outputs": [
    {
     "data": {
      "text/plain": [
       "0.7160186999972211"
      ]
     },
     "execution_count": 35,
     "metadata": {},
     "output_type": "execute_result"
    }
   ],
   "source": [
    "timeit(stmt = 'l.sort()', globals = globals(), number=1)"
   ]
  },
  {
   "cell_type": "code",
   "execution_count": 40,
   "metadata": {},
   "outputs": [
    {
     "name": "stdout",
     "output_type": "stream",
     "text": [
      "False\n",
      "[MyClass(name=c2, value=10), MyClass(name=c4, value=10), MyClass(name=c1, value=20), MyClass(name=c3, value=20)]\n",
      "[MyClass(name=c1, value=20), MyClass(name=c2, value=10), MyClass(name=c3, value=20), MyClass(name=c4, value=10)]\n"
     ]
    }
   ],
   "source": [
    "# Sorting custom classes\n",
    "class MyClass:\n",
    "    def __init__(self, name, value):\n",
    "        self.name = name\n",
    "        self.value = value\n",
    "\n",
    "    def __repr__(self):\n",
    "        return f'MyClass(name={self.name}, value={self.value})'\n",
    "    \n",
    "    def __lt__(self, other):\n",
    "        return self.value < other.value\n",
    "    \n",
    "\n",
    "c1 = MyClass('c1', 20)\n",
    "c2 = MyClass('c2', 10)\n",
    "c3 = MyClass('c3', 20)\n",
    "c4 = MyClass('c4', 10)\n",
    "\n",
    "print(c1 < c2)\n",
    "\n",
    "print(sorted([c1, c2, c3, c4]))\n",
    "\n",
    "print(sorted([c1, c2, c3, c4], key = lambda x: x.name))"
   ]
  },
  {
   "cell_type": "code",
   "execution_count": null,
   "metadata": {},
   "outputs": [],
   "source": []
  },
  {
   "cell_type": "code",
   "execution_count": null,
   "metadata": {},
   "outputs": [],
   "source": []
  }
 ],
 "metadata": {
  "kernelspec": {
   "display_name": "Python 3",
   "language": "python",
   "name": "python3"
  },
  "language_info": {
   "codemirror_mode": {
    "name": "ipython",
    "version": 3
   },
   "file_extension": ".py",
   "mimetype": "text/x-python",
   "name": "python",
   "nbconvert_exporter": "python",
   "pygments_lexer": "ipython3",
   "version": "3.11.4"
  },
  "orig_nbformat": 4
 },
 "nbformat": 4,
 "nbformat_minor": 2
}
