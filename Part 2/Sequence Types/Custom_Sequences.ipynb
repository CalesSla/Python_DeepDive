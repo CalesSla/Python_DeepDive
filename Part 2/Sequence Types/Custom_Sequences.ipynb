{
 "cells": [
  {
   "cell_type": "markdown",
   "metadata": {},
   "source": [
    "### Basic functionality to implement"
   ]
  },
  {
   "cell_type": "code",
   "execution_count": 2,
   "metadata": {},
   "outputs": [
    {
     "data": {
      "text/plain": [
       "5"
      ]
     },
     "execution_count": 2,
     "metadata": {},
     "output_type": "execute_result"
    }
   ],
   "source": [
    "my_list = [1, 2, 3, 4, 5]\n",
    "len(my_list)"
   ]
  },
  {
   "cell_type": "code",
   "execution_count": 3,
   "metadata": {},
   "outputs": [
    {
     "data": {
      "text/plain": [
       "5"
      ]
     },
     "execution_count": 3,
     "metadata": {},
     "output_type": "execute_result"
    }
   ],
   "source": [
    "my_list.__len__()"
   ]
  },
  {
   "cell_type": "code",
   "execution_count": 4,
   "metadata": {},
   "outputs": [
    {
     "data": {
      "text/plain": [
       "3"
      ]
     },
     "execution_count": 4,
     "metadata": {},
     "output_type": "execute_result"
    }
   ],
   "source": [
    "my_list[2]"
   ]
  },
  {
   "cell_type": "code",
   "execution_count": 5,
   "metadata": {},
   "outputs": [
    {
     "data": {
      "text/plain": [
       "3"
      ]
     },
     "execution_count": 5,
     "metadata": {},
     "output_type": "execute_result"
    }
   ],
   "source": [
    "my_list.__getitem__(2)"
   ]
  },
  {
   "cell_type": "code",
   "execution_count": 6,
   "metadata": {},
   "outputs": [
    {
     "data": {
      "text/plain": [
       "[5, 4, 3, 2, 1]"
      ]
     },
     "execution_count": 6,
     "metadata": {},
     "output_type": "execute_result"
    }
   ],
   "source": [
    "my_list[::-1]"
   ]
  },
  {
   "cell_type": "code",
   "execution_count": 7,
   "metadata": {},
   "outputs": [
    {
     "data": {
      "text/plain": [
       "[5, 4, 3, 2, 1]"
      ]
     },
     "execution_count": 7,
     "metadata": {},
     "output_type": "execute_result"
    }
   ],
   "source": [
    "my_list.__getitem__(slice(None, None, -1))"
   ]
  },
  {
   "cell_type": "markdown",
   "metadata": {},
   "source": [
    "### Comprehension using for loop vs custom made"
   ]
  },
  {
   "cell_type": "code",
   "execution_count": 9,
   "metadata": {},
   "outputs": [
    {
     "name": "stdout",
     "output_type": "stream",
     "text": [
      "1\n",
      "4\n",
      "9\n",
      "16\n",
      "25\n"
     ]
    }
   ],
   "source": [
    "# for loop\n",
    "\n",
    "for i in my_list:\n",
    "    print(i**2)"
   ]
  },
  {
   "cell_type": "code",
   "execution_count": 15,
   "metadata": {},
   "outputs": [
    {
     "name": "stdout",
     "output_type": "stream",
     "text": [
      "1\n",
      "4\n",
      "9\n",
      "16\n",
      "25\n"
     ]
    }
   ],
   "source": [
    "# Custom initial\n",
    "i = 0\n",
    "\n",
    "print(my_list.__getitem__(i)**2)\n",
    "i += 1\n",
    "print(my_list.__getitem__(i)**2)\n",
    "i += 1\n",
    "print(my_list.__getitem__(i)**2)\n",
    "i += 1\n",
    "print(my_list.__getitem__(i)**2)\n",
    "i += 1\n",
    "print(my_list.__getitem__(i)**2)\n",
    "i += 1"
   ]
  },
  {
   "cell_type": "code",
   "execution_count": 23,
   "metadata": {},
   "outputs": [
    {
     "name": "stdout",
     "output_type": "stream",
     "text": [
      "1\n",
      "4\n",
      "9\n",
      "16\n",
      "25\n"
     ]
    }
   ],
   "source": [
    "# Custom iteration with a while loop\n",
    "\n",
    "i = 0\n",
    "\n",
    "while True:\n",
    "    try:\n",
    "        item = my_list.__getitem__(i)\n",
    "    except IndexError:\n",
    "        break\n",
    "    print(item ** 2)\n",
    "    i += 1\n",
    "    \n",
    "    "
   ]
  },
  {
   "cell_type": "markdown",
   "metadata": {},
   "source": [
    "__len__ and __getitem__ elements examples"
   ]
  },
  {
   "cell_type": "code",
   "execution_count": 37,
   "metadata": {},
   "outputs": [
    {
     "name": "stdout",
     "output_type": "stream",
     "text": [
      "Called __len__\n"
     ]
    },
    {
     "data": {
      "text/plain": [
       "10"
      ]
     },
     "execution_count": 37,
     "metadata": {},
     "output_type": "execute_result"
    }
   ],
   "source": [
    "# Infinite iteration using getitem method\n",
    "class Silly:\n",
    "\n",
    "    def __init__(self, n):\n",
    "        self.n = n\n",
    "\n",
    "    def __len__(self):\n",
    "        print('Called __len__')\n",
    "        return self.n\n",
    "    \n",
    "    def __getitem__(self, value):\n",
    "        # print(f'You requested item at {value}')\n",
    "        return 'This is a silly element'\n",
    "    \n",
    "\n",
    "silly = Silly(10)\n",
    "len(silly)"
   ]
  },
  {
   "cell_type": "code",
   "execution_count": 31,
   "metadata": {},
   "outputs": [
    {
     "name": "stdout",
     "output_type": "stream",
     "text": [
      "You requested item at 100\n"
     ]
    },
    {
     "data": {
      "text/plain": [
       "'This is a silly element'"
      ]
     },
     "execution_count": 31,
     "metadata": {},
     "output_type": "execute_result"
    }
   ],
   "source": [
    "silly.__getitem__(100)"
   ]
  },
  {
   "cell_type": "code",
   "execution_count": 33,
   "metadata": {},
   "outputs": [
    {
     "name": "stdout",
     "output_type": "stream",
     "text": [
      "You requested item at 200\n"
     ]
    },
    {
     "data": {
      "text/plain": [
       "'This is a silly element'"
      ]
     },
     "execution_count": 33,
     "metadata": {},
     "output_type": "execute_result"
    }
   ],
   "source": [
    "silly.__getitem__(200)"
   ]
  },
  {
   "cell_type": "code",
   "execution_count": 34,
   "metadata": {},
   "outputs": [
    {
     "name": "stdout",
     "output_type": "stream",
     "text": [
      "Called __len__\n"
     ]
    },
    {
     "data": {
      "text/plain": [
       "10"
      ]
     },
     "execution_count": 34,
     "metadata": {},
     "output_type": "execute_result"
    }
   ],
   "source": [
    "# Dropping out of iteration using IndexError\n",
    "class Silly:\n",
    "\n",
    "    def __init__(self, n):\n",
    "        self.n = n\n",
    "\n",
    "    def __len__(self):\n",
    "        print('Called __len__')\n",
    "        return self.n\n",
    "    \n",
    "    def __getitem__(self, value):\n",
    "        # print(f'You requested item at {value}')\n",
    "        if value < 0 or value >= self.n:\n",
    "            raise IndexError\n",
    "        else:\n",
    "            return 'This is a silly element'\n",
    "    \n",
    "\n",
    "silly = Silly(10)\n",
    "len(silly)"
   ]
  },
  {
   "cell_type": "code",
   "execution_count": 36,
   "metadata": {},
   "outputs": [
    {
     "name": "stdout",
     "output_type": "stream",
     "text": [
      "This is a silly element\n",
      "This is a silly element\n",
      "This is a silly element\n",
      "This is a silly element\n",
      "This is a silly element\n",
      "This is a silly element\n",
      "This is a silly element\n",
      "This is a silly element\n",
      "This is a silly element\n",
      "This is a silly element\n"
     ]
    }
   ],
   "source": [
    "for i in silly:\n",
    "    print(i)"
   ]
  },
  {
   "cell_type": "code",
   "execution_count": null,
   "metadata": {},
   "outputs": [],
   "source": []
  },
  {
   "cell_type": "code",
   "execution_count": 89,
   "metadata": {},
   "outputs": [
    {
     "data": {
      "text/plain": [
       "[1, 1, 2, 3, 5, 8, 13, 21, 34, 55]"
      ]
     },
     "execution_count": 89,
     "metadata": {},
     "output_type": "execute_result"
    }
   ],
   "source": [
    "from functools import lru_cache\n",
    "\n",
    "class Fib:\n",
    "    def __init__(self, n):\n",
    "        self.n = n\n",
    "\n",
    "    def __len__(self):\n",
    "        return self.n\n",
    "\n",
    "    def __getitem__(self, s):\n",
    "        if isinstance(s, int):\n",
    "            if s < 0:\n",
    "                s = self.n + s\n",
    "            if s < 0 or s >= self.n:\n",
    "                raise IndexError\n",
    "            else:\n",
    "                return Fib._fib(s)\n",
    "        \n",
    "        else:\n",
    "            start, stop, step = s.indices(self.n)\n",
    "            rng = range(start, stop, step)\n",
    "            return [Fib._fib(i) for i in rng]\n",
    "\n",
    "    @staticmethod\n",
    "    @lru_cache(2*10)\n",
    "    def _fib(n):\n",
    "        if n < 2:\n",
    "            return 1\n",
    "        else:\n",
    "            return Fib._fib(n-1) + Fib._fib(n-2)\n",
    "\n",
    "f = Fib(10)\n",
    "list(f)"
   ]
  },
  {
   "cell_type": "code",
   "execution_count": 90,
   "metadata": {},
   "outputs": [
    {
     "data": {
      "text/plain": [
       "55"
      ]
     },
     "execution_count": 90,
     "metadata": {},
     "output_type": "execute_result"
    }
   ],
   "source": [
    "f[9]"
   ]
  },
  {
   "cell_type": "code",
   "execution_count": 91,
   "metadata": {},
   "outputs": [
    {
     "data": {
      "text/plain": [
       "34"
      ]
     },
     "execution_count": 91,
     "metadata": {},
     "output_type": "execute_result"
    }
   ],
   "source": [
    "f[-2]"
   ]
  },
  {
   "cell_type": "code",
   "execution_count": 98,
   "metadata": {},
   "outputs": [
    {
     "data": {
      "text/plain": [
       "[1, 1, 2, 3, 5]"
      ]
     },
     "execution_count": 98,
     "metadata": {},
     "output_type": "execute_result"
    }
   ],
   "source": [
    "f[0:5]"
   ]
  },
  {
   "cell_type": "markdown",
   "metadata": {},
   "source": []
  },
  {
   "cell_type": "code",
   "execution_count": 99,
   "metadata": {},
   "outputs": [
    {
     "data": {
      "text/plain": [
       "[55, 34, 21]"
      ]
     },
     "execution_count": 99,
     "metadata": {},
     "output_type": "execute_result"
    }
   ],
   "source": [
    "f[-1:-4:-1]"
   ]
  },
  {
   "cell_type": "code",
   "execution_count": 2,
   "metadata": {},
   "outputs": [],
   "source": [
    "from functools import lru_cache"
   ]
  },
  {
   "cell_type": "code",
   "execution_count": null,
   "metadata": {},
   "outputs": [],
   "source": []
  },
  {
   "cell_type": "code",
   "execution_count": 96,
   "metadata": {},
   "outputs": [],
   "source": [
    "class MyFib:\n",
    "    def __init__(self, n):\n",
    "        self.n = n\n",
    "\n",
    "    def __len__(self):\n",
    "        return self.n\n",
    "\n",
    "    def __getitem__(self, s):\n",
    "        if isinstance(s, int):\n",
    "            if (s < 0 and abs(s) > self.n) or s >= self.n:\n",
    "                raise IndexError\n",
    "            elif s < 0:\n",
    "                s = self.n + s\n",
    "            \n",
    "            return MyFib._fib(s)\n",
    "        \n",
    "        else:\n",
    "            start, stop, step = s.indices(self.n)\n",
    "            return [MyFib._fib(i) for i in range(start, stop, step)]\n",
    "                \n",
    "            \n",
    "            \n",
    "    @staticmethod\n",
    "    @lru_cache(10)\n",
    "    def _fib(n):\n",
    "        if n < 2:\n",
    "            return 1\n",
    "        else:\n",
    "            return MyFib._fib(n-1) + MyFib._fib(n-2)"
   ]
  },
  {
   "cell_type": "code",
   "execution_count": 99,
   "metadata": {},
   "outputs": [
    {
     "data": {
      "text/plain": [
       "[1, 1, 2, 3, 5]"
      ]
     },
     "execution_count": 99,
     "metadata": {},
     "output_type": "execute_result"
    }
   ],
   "source": [
    "mf = MyFib(10)\n",
    "mf[:5]"
   ]
  },
  {
   "cell_type": "markdown",
   "metadata": {},
   "source": [
    "### Part 2"
   ]
  },
  {
   "cell_type": "code",
   "execution_count": 111,
   "metadata": {},
   "outputs": [
    {
     "name": "stdout",
     "output_type": "stream",
     "text": [
      "You called + on MyClass(name=instance 1) and MyClass(name=instance 2)\n",
      "Hello from __add__\n"
     ]
    }
   ],
   "source": [
    "# Dummy class for testing\n",
    "class MyClass:\n",
    "    def __init__(self, name):\n",
    "        self.name = name\n",
    "    \n",
    "    def __repr__(self):\n",
    "        return f'MyClass(name={self.name})'\n",
    "\n",
    "    def __add__(self, other):\n",
    "        print(f'You called + on {self} and {other}')\n",
    "        return 'Hello from __add__'\n",
    "    \n",
    "    def __iadd__(self, other):\n",
    "        print(f'You called += on {self} and {other}')\n",
    "        return 'Hello from __iadd__'\n",
    "    \n",
    "\n",
    "c1 = MyClass('instance 1')\n",
    "c2 = MyClass('instance 2')\n",
    "\n",
    "result = c1 + c2\n",
    "print(result)"
   ]
  },
  {
   "cell_type": "code",
   "execution_count": 112,
   "metadata": {},
   "outputs": [
    {
     "name": "stdout",
     "output_type": "stream",
     "text": [
      "2965283978896\n",
      "You called += on MyClass(name=instance 1) and MyClass(name=instance 2)\n",
      "2965284360064\n"
     ]
    }
   ],
   "source": [
    "print(id(c1))\n",
    "c1 += c2\n",
    "print(id(c1))"
   ]
  },
  {
   "cell_type": "code",
   "execution_count": 113,
   "metadata": {},
   "outputs": [
    {
     "name": "stdout",
     "output_type": "stream",
     "text": [
      "2965284730384\n",
      "2965284578640\n",
      "\n",
      "\n",
      "MyClass(name=EricIdle)\n",
      "2965283584720\n"
     ]
    }
   ],
   "source": [
    "# Adding the addition methods\n",
    "class MyClass:\n",
    "    def __init__(self, name):\n",
    "        self.name = name\n",
    "    \n",
    "    def __repr__(self):\n",
    "        return f'MyClass(name={self.name})'\n",
    "\n",
    "    def __add__(self, other):\n",
    "        return MyClass(self.name + other.name)\n",
    "    \n",
    "    def __iadd__(self, other):\n",
    "        if isinstance(other, MyClass):\n",
    "            self.name += other.name\n",
    "        else:\n",
    "            self.name += other\n",
    "        return self\n",
    "\n",
    "c1 = MyClass('Eric')\n",
    "c2 = MyClass('Idle')\n",
    "print(id(c1))\n",
    "print(id(c2))\n",
    "print('\\n')\n",
    "\n",
    "result = c1 + c2\n",
    "print(result)\n",
    "print(id(result))"
   ]
  },
  {
   "cell_type": "code",
   "execution_count": 115,
   "metadata": {},
   "outputs": [
    {
     "name": "stdout",
     "output_type": "stream",
     "text": [
      "2965284730384 MyClass(name=EricIdle)\n"
     ]
    }
   ],
   "source": [
    "c1 += c2\n",
    "print(id(c1), c1)"
   ]
  },
  {
   "cell_type": "code",
   "execution_count": 119,
   "metadata": {},
   "outputs": [
    {
     "name": "stdout",
     "output_type": "stream",
     "text": [
      "2965286139344\n",
      "\n",
      "\n",
      "2965284808400 MyClass(name=EricEricEric)\n"
     ]
    }
   ],
   "source": [
    "# Adding the multiplication methods\n",
    "class MyClass:\n",
    "    def __init__(self, name):\n",
    "        self.name = name\n",
    "    \n",
    "    def __repr__(self):\n",
    "        return f'MyClass(name={self.name})'\n",
    "\n",
    "    def __add__(self, other):\n",
    "        return MyClass(self.name + other.name)\n",
    "    \n",
    "    def __iadd__(self, other):\n",
    "        if isinstance(other, MyClass):\n",
    "            self.name += other.name\n",
    "        else:\n",
    "            self.name += other\n",
    "        return self\n",
    "\n",
    "    def __mul__(self, n):\n",
    "        return MyClass(self.name * n)\n",
    "\n",
    "    def __rmul__(self, n):\n",
    "        return self.__mul__(n)\n",
    "\n",
    "    def __imul__(self, n):\n",
    "        self.name *= n\n",
    "        return self\n",
    "\n",
    "\n",
    "c1 = MyClass('Eric')\n",
    "print(id(c1))\n",
    "print('\\n')\n",
    "\n",
    "result = c1 * 3\n",
    "print(id(result), result)"
   ]
  },
  {
   "cell_type": "code",
   "execution_count": 120,
   "metadata": {},
   "outputs": [
    {
     "name": "stdout",
     "output_type": "stream",
     "text": [
      "2965286139344\n",
      "2965286139344 MyClass(name=EricEricEric)\n"
     ]
    }
   ],
   "source": [
    "print(id(c1))\n",
    "c1 *= 3\n",
    "print(id(c1), c1)"
   ]
  },
  {
   "cell_type": "code",
   "execution_count": 121,
   "metadata": {},
   "outputs": [
    {
     "data": {
      "text/plain": [
       "MyClass(name=EricEricEricEricEricEricEricEricEric)"
      ]
     },
     "execution_count": 121,
     "metadata": {},
     "output_type": "execute_result"
    }
   ],
   "source": [
    "3 * c1"
   ]
  },
  {
   "cell_type": "code",
   "execution_count": 126,
   "metadata": {},
   "outputs": [
    {
     "data": {
      "text/plain": [
       "True"
      ]
     },
     "execution_count": 126,
     "metadata": {},
     "output_type": "execute_result"
    }
   ],
   "source": [
    "# Adding the contains method\n",
    "class MyClass:\n",
    "    def __init__(self, name):\n",
    "        self.name = name\n",
    "    \n",
    "    def __repr__(self):\n",
    "        return f'MyClass(name={self.name})'\n",
    "\n",
    "    def __add__(self, other):\n",
    "        return MyClass(self.name + other.name)\n",
    "    \n",
    "    def __iadd__(self, other):\n",
    "        if isinstance(other, MyClass):\n",
    "            self.name += other.name\n",
    "        else:\n",
    "            self.name += other\n",
    "        return self\n",
    "\n",
    "    def __mul__(self, n):\n",
    "        return MyClass(self.name * n)\n",
    "\n",
    "    def __rmul__(self, n):\n",
    "        return self.__mul__(n)\n",
    "\n",
    "    def __imul__(self, n):\n",
    "        self.name *= n\n",
    "        return self\n",
    "\n",
    "    def __contains__(self, value):\n",
    "        return value in self.name\n",
    "\n",
    "c1 = MyClass(\"Eric Idle\")\n",
    "'Eric' in c1"
   ]
  },
  {
   "cell_type": "markdown",
   "metadata": {},
   "source": [
    "### Part 2b"
   ]
  },
  {
   "cell_type": "code",
   "execution_count": 128,
   "metadata": {},
   "outputs": [
    {
     "data": {
      "text/plain": [
       "Point(x=10.5, y=3.2)"
      ]
     },
     "execution_count": 128,
     "metadata": {},
     "output_type": "execute_result"
    }
   ],
   "source": [
    "from collections import namedtuple\n",
    "import numbers\n",
    "\n",
    "Point = namedtuple('Point', 'x y')\n",
    "\n",
    "p1 = Point(10.5, 3.2)\n",
    "p1"
   ]
  },
  {
   "cell_type": "code",
   "execution_count": 130,
   "metadata": {},
   "outputs": [
    {
     "data": {
      "text/plain": [
       "Point(x=1, y=2)"
      ]
     },
     "execution_count": 130,
     "metadata": {},
     "output_type": "execute_result"
    }
   ],
   "source": [
    "# Initiaal class\n",
    "class Point:\n",
    "    def __init__(self, x, y):\n",
    "        if isinstance(x, numbers.Real) and isinstance(y, numbers.Real):\n",
    "            self._pt = (x, y)\n",
    "        else:\n",
    "            raise TypeError('Point co-ordinates must be real numbers.')\n",
    "\n",
    "    def __repr__(self):\n",
    "        return  f'Point(x={self._pt[0]}, y={self._pt[1]})'\n",
    "    \n",
    "\n",
    "p1 = Point(1, 2)\n",
    "p1"
   ]
  },
  {
   "cell_type": "code",
   "execution_count": 131,
   "metadata": {},
   "outputs": [],
   "source": [
    "# Turning class into a sequence type\n",
    "class Point:\n",
    "    def __init__(self, x, y):\n",
    "        if isinstance(x, numbers.Real) and isinstance(y, numbers.Real):\n",
    "            self._pt = (x, y)\n",
    "        else:\n",
    "            raise TypeError('Point co-ordinates must be real numbers.')\n",
    "\n",
    "    def __repr__(self):\n",
    "        return  f'Point(x={self._pt[0]}, y={self._pt[1]})'\n",
    "\n",
    "    def __len__(self):\n",
    "        return len(self._pt)\n",
    "    \n",
    "    def __getitem__(self, s):\n",
    "        return self._pt[s]"
   ]
  },
  {
   "cell_type": "markdown",
   "metadata": {},
   "source": [
    "Starting the polygon class"
   ]
  },
  {
   "cell_type": "code",
   "execution_count": 158,
   "metadata": {},
   "outputs": [
    {
     "data": {
      "text/plain": [
       "Polygon(Point(x=0, y=0), Point(x=1, y=1))"
      ]
     },
     "execution_count": 158,
     "metadata": {},
     "output_type": "execute_result"
    }
   ],
   "source": [
    "# Repr method correction and len\n",
    "\n",
    "class Polygon:\n",
    "    def __init__(self, *pts):\n",
    "        if pts:\n",
    "            self._pts = [Point(*pt) for pt in pts]\n",
    "        else:\n",
    "            self._pts = []\n",
    "\n",
    "    def __repr__(self):\n",
    "        pts_str = ', '.join([str(pt) for pt in self._pts])\n",
    "        return f'Polygon({pts_str})'\n",
    "    \n",
    "    def __len__(self):\n",
    "        return len(self._pts)\n",
    "\n",
    "    \n",
    "\n",
    "p = Polygon((0,0), Point(1, 1))\n",
    "p"
   ]
  },
  {
   "cell_type": "code",
   "execution_count": 159,
   "metadata": {},
   "outputs": [
    {
     "data": {
      "text/plain": [
       "2"
      ]
     },
     "execution_count": 159,
     "metadata": {},
     "output_type": "execute_result"
    }
   ],
   "source": [
    "len(p)"
   ]
  },
  {
   "cell_type": "code",
   "execution_count": 161,
   "metadata": {},
   "outputs": [
    {
     "data": {
      "text/plain": [
       "Polygon(Point(x=0, y=0), Point(x=1, y=1), Point(x=2, y=2))"
      ]
     },
     "execution_count": 161,
     "metadata": {},
     "output_type": "execute_result"
    }
   ],
   "source": [
    "# add getitem method\n",
    "\n",
    "class Polygon:\n",
    "    def __init__(self, *pts):\n",
    "        if pts:\n",
    "            self._pts = [Point(*pt) for pt in pts]\n",
    "        else:\n",
    "            self._pts = []\n",
    "\n",
    "    def __repr__(self):\n",
    "        pts_str = ', '.join([str(pt) for pt in self._pts])\n",
    "        return f'Polygon({pts_str})'\n",
    "    \n",
    "    def __len__(self):\n",
    "        return len(self._pts)\n",
    "\n",
    "    def __getitem__(self, s):\n",
    "        return self._pts[s]\n",
    "\n",
    "\n",
    "p = Polygon((0,0), (1,1), (2,2))\n",
    "p"
   ]
  },
  {
   "cell_type": "code",
   "execution_count": 165,
   "metadata": {},
   "outputs": [
    {
     "data": {
      "text/plain": [
       "Point(x=0, y=0)"
      ]
     },
     "execution_count": 165,
     "metadata": {},
     "output_type": "execute_result"
    }
   ],
   "source": [
    "p[0]"
   ]
  },
  {
   "cell_type": "code",
   "execution_count": 171,
   "metadata": {},
   "outputs": [
    {
     "name": "stdout",
     "output_type": "stream",
     "text": [
      "2965286141776\n",
      "2965286134736\n",
      "2965285296528\n"
     ]
    }
   ],
   "source": [
    "# add concatenation\n",
    "\n",
    "class Polygon:\n",
    "    def __init__(self, *pts):\n",
    "        if pts:\n",
    "            self._pts = [Point(*pt) for pt in pts]\n",
    "        else:\n",
    "            self._pts = []\n",
    "\n",
    "    def __repr__(self):\n",
    "        pts_str = ', '.join([str(pt) for pt in self._pts])\n",
    "        return f'Polygon({pts_str})'\n",
    "    \n",
    "    def __len__(self):\n",
    "        return len(self._pts)\n",
    "\n",
    "    def __getitem__(self, s):\n",
    "        return self._pts[s]\n",
    "\n",
    "    def __add__(self, other):\n",
    "        if isinstance(other, Polygon):\n",
    "            new_pts = self._pts + other._pts\n",
    "            return Polygon(*new_pts)\n",
    "        else:\n",
    "            raise TypeError(\"Can only concatenate with another Polygon.\")\n",
    "\n",
    "    def __iadd__(self, other):\n",
    "        if isinstance(other, Polygon):\n",
    "            self._pts = self._pts + other._pts\n",
    "            return self\n",
    "        else:\n",
    "            raise TypeError(\"Can only concatenate with another Polygon.\")\n",
    "\n",
    "\n",
    "p1 = Polygon((0,0), (1,1))\n",
    "p2 = Polygon((2,2), (3,3))\n",
    "\n",
    "p3 = p1 + p2\n",
    "print(id(p1))\n",
    "print(id(p2))\n",
    "print(id(p3))"
   ]
  },
  {
   "cell_type": "code",
   "execution_count": 173,
   "metadata": {},
   "outputs": [
    {
     "name": "stdout",
     "output_type": "stream",
     "text": [
      "2965286141776\n",
      "2965286141776 Polygon(Point(x=0, y=0), Point(x=1, y=1), Point(x=2, y=2), Point(x=3, y=3), Point(x=2, y=2), Point(x=3, y=3))\n"
     ]
    }
   ],
   "source": [
    "print(id(p1))\n",
    "p1 += p2\n",
    "print(id(p1), p1)"
   ]
  },
  {
   "cell_type": "code",
   "execution_count": 177,
   "metadata": {},
   "outputs": [
    {
     "name": "stdout",
     "output_type": "stream",
     "text": [
      "2965283973584\n",
      "2965283973584 Polygon(Point(x=0, y=0), Point(x=1, y=1), Point(x=2, y=2), Point(x=3, y=3), Point(x=4, y=4))\n"
     ]
    }
   ],
   "source": [
    "# extending concatenation to other iterables\n",
    "\n",
    "class Polygon:\n",
    "    def __init__(self, *pts):\n",
    "        if pts:\n",
    "            self._pts = [Point(*pt) for pt in pts]\n",
    "        else:\n",
    "            self._pts = []\n",
    "\n",
    "    def __repr__(self):\n",
    "        pts_str = ', '.join([str(pt) for pt in self._pts])\n",
    "        return f'Polygon({pts_str})'\n",
    "    \n",
    "    def __len__(self):\n",
    "        return len(self._pts)\n",
    "\n",
    "    def __getitem__(self, s):\n",
    "        return self._pts[s]\n",
    "\n",
    "    def __add__(self, other):\n",
    "        if isinstance(other, Polygon):\n",
    "            new_pts = self._pts + other._pts\n",
    "            return Polygon(*new_pts)\n",
    "        else:\n",
    "            raise TypeError(\"Can only concatenate with another Polygon.\")\n",
    "\n",
    "    def __iadd__(self, other):\n",
    "        if isinstance(other, Polygon):\n",
    "            points = other._pts\n",
    "        else:\n",
    "            points = [Point(*pt) for pt in other]\n",
    "        self._pts = self._pts + points\n",
    "        return self\n",
    "\n",
    "\n",
    "p1 = Polygon((0,0), (1,1))\n",
    "print(id(p1))\n",
    "\n",
    "p1 += [(2,2), [3,3], Point(4,4)]\n",
    "print(id(p1), p1)"
   ]
  },
  {
   "cell_type": "code",
   "execution_count": 178,
   "metadata": {},
   "outputs": [
    {
     "name": "stdout",
     "output_type": "stream",
     "text": [
      "2965286752208 Polygon(Point(x=0, y=0), Point(x=1, y=1))\n",
      "2965283973584 Polygon(Point(x=2, y=2), Point(x=3, y=3))\n"
     ]
    }
   ],
   "source": [
    "# extending concatenation to other iterables\n",
    "\n",
    "class Polygon:\n",
    "    def __init__(self, *pts):\n",
    "        if pts:\n",
    "            self._pts = [Point(*pt) for pt in pts]\n",
    "        else:\n",
    "            self._pts = []\n",
    "\n",
    "    def __repr__(self):\n",
    "        pts_str = ', '.join([str(pt) for pt in self._pts])\n",
    "        return f'Polygon({pts_str})'\n",
    "    \n",
    "    def __len__(self):\n",
    "        return len(self._pts)\n",
    "\n",
    "    def __getitem__(self, s):\n",
    "        return self._pts[s]\n",
    "\n",
    "    def __add__(self, other):\n",
    "        if isinstance(other, Polygon):\n",
    "            new_pts = self._pts + other._pts\n",
    "            return Polygon(*new_pts)\n",
    "        else:\n",
    "            raise TypeError(\"Can only concatenate with another Polygon.\")\n",
    "\n",
    "    def append(self, pt):\n",
    "        self._pts.append(Point(*pt))\n",
    "\n",
    "    def insert(self, i, pt):\n",
    "        self._pts.insert(i, Point(*pt))\n",
    "\n",
    "    def extend(self, pts):\n",
    "        if isinstance(pts, Polygon):\n",
    "            self._pts += pts._pts\n",
    "        else:\n",
    "            points = [Point(*pt) for pt in pts]\n",
    "            self._pts += points\n",
    "\n",
    "    def __iadd__(self, other):\n",
    "        self.extend(other)\n",
    "        return self\n",
    "\n",
    "p1 = Polygon((0,0), (1,1))\n",
    "p2 = Polygon((2,2), (3,3))\n",
    "\n",
    "print(id(p1), p1)\n",
    "print(id(p2), p2)"
   ]
  },
  {
   "cell_type": "code",
   "execution_count": 179,
   "metadata": {},
   "outputs": [
    {
     "name": "stdout",
     "output_type": "stream",
     "text": [
      "2965286752208 Polygon(Point(x=0, y=0), Point(x=1, y=1), Point(x=10, y=10))\n"
     ]
    }
   ],
   "source": [
    "p1.append([10, 10])\n",
    "print(id(p1), p1)"
   ]
  },
  {
   "cell_type": "code",
   "execution_count": 180,
   "metadata": {},
   "outputs": [
    {
     "name": "stdout",
     "output_type": "stream",
     "text": [
      "2965286752208 Polygon(Point(x=0, y=0), Point(x=-1, y=1), Point(x=1, y=1), Point(x=10, y=10))\n"
     ]
    }
   ],
   "source": [
    "p1.insert(1, Point(-1, 1))\n",
    "print(id(p1), p1)"
   ]
  },
  {
   "cell_type": "code",
   "execution_count": 181,
   "metadata": {},
   "outputs": [
    {
     "name": "stdout",
     "output_type": "stream",
     "text": [
      "2965286752208 Polygon(Point(x=0, y=0), Point(x=-1, y=1), Point(x=1, y=1), Point(x=10, y=10), Point(x=2, y=2), Point(x=3, y=3))\n"
     ]
    }
   ],
   "source": [
    "p1.extend(p2)\n",
    "print(id(p1), p1)"
   ]
  },
  {
   "cell_type": "code",
   "execution_count": 182,
   "metadata": {},
   "outputs": [
    {
     "name": "stdout",
     "output_type": "stream",
     "text": [
      "2965286752208 Polygon(Point(x=0, y=0), Point(x=-1, y=1), Point(x=1, y=1), Point(x=10, y=10), Point(x=2, y=2), Point(x=3, y=3), Point(x=0, y=0), Point(x=20, y=20))\n"
     ]
    }
   ],
   "source": [
    "p1.extend([(0,0), Point(20,20)])\n",
    "print(id(p1), p1)"
   ]
  },
  {
   "cell_type": "code",
   "execution_count": 187,
   "metadata": {},
   "outputs": [
    {
     "name": "stdout",
     "output_type": "stream",
     "text": [
      "2965286862224 Polygon(Point(x=0, y=0), Point(x=1, y=1), Point(x=2, y=2))\n",
      "[Point(x=0, y=0), Point(x=1, y=1)]\n",
      "\n",
      "\n",
      "Polygon(Point(x=10, y=10), Point(x=20, y=20), Point(x=30, y=30), Point(x=2, y=2))\n"
     ]
    }
   ],
   "source": [
    "# add the setitem method\n",
    "\n",
    "class Polygon:\n",
    "    def __init__(self, *pts):\n",
    "        if pts:\n",
    "            self._pts = [Point(*pt) for pt in pts]\n",
    "        else:\n",
    "            self._pts = []\n",
    "\n",
    "    def __repr__(self):\n",
    "        pts_str = ', '.join([str(pt) for pt in self._pts])\n",
    "        return f'Polygon({pts_str})'\n",
    "    \n",
    "    def __len__(self):\n",
    "        return len(self._pts)\n",
    "\n",
    "    def __getitem__(self, s):\n",
    "        return self._pts[s]\n",
    "\n",
    "    def __setitem__(self, s, value):\n",
    "        self._pts[s] = [Point(*pt) for pt in value]\n",
    "\n",
    "    def __add__(self, other):\n",
    "        if isinstance(other, Polygon):\n",
    "            new_pts = self._pts + other._pts\n",
    "            return Polygon(*new_pts)\n",
    "        else:\n",
    "            raise TypeError(\"Can only concatenate with another Polygon.\")\n",
    "\n",
    "    def append(self, pt):\n",
    "        self._pts.append(Point(*pt))\n",
    "\n",
    "    def insert(self, i, pt):\n",
    "        self._pts.insert(i, Point(*pt))\n",
    "\n",
    "    def extend(self, pts):\n",
    "        if isinstance(pts, Polygon):\n",
    "            self._pts += pts._pts\n",
    "        else:\n",
    "            points = [Point(*pt) for pt in pts]\n",
    "            self._pts += points\n",
    "\n",
    "    def __iadd__(self, other):\n",
    "        self.extend(other)\n",
    "        return self\n",
    "\n",
    "p = Polygon((0,0), (1,1), (2,2))\n",
    "print(id(p), p)\n",
    "\n",
    "print(p[0:2])\n",
    "print('\\n')\n",
    "\n",
    "p[0:2] = [(10, 10), Point(20,20), [30, 30]]\n",
    "print(p)"
   ]
  },
  {
   "cell_type": "code",
   "execution_count": 196,
   "metadata": {},
   "outputs": [
    {
     "name": "stdout",
     "output_type": "stream",
     "text": [
      "2965286855056 Polygon(Point(x=0, y=0), Point(x=1, y=1), Point(x=2, y=2))\n",
      "2965286855056 Polygon(Point(x=10, y=10), Point(x=1, y=1), Point(x=2, y=2))\n",
      "2965286855056 Polygon(Point(x=10, y=10), Point(x=-1, y=-1), Point(x=2, y=2))\n"
     ]
    }
   ],
   "source": [
    "# add single point assignment\n",
    "\n",
    "class Polygon:\n",
    "    def __init__(self, *pts):\n",
    "        if pts:\n",
    "            self._pts = [Point(*pt) for pt in pts]\n",
    "        else:\n",
    "            self._pts = []\n",
    "\n",
    "    def __repr__(self):\n",
    "        pts_str = ', '.join([str(pt) for pt in self._pts])\n",
    "        return f'Polygon({pts_str})'\n",
    "    \n",
    "    def __len__(self):\n",
    "        return len(self._pts)\n",
    "\n",
    "    def __getitem__(self, s):\n",
    "        return self._pts[s]\n",
    "\n",
    "    def __setitem__(self, s, value):\n",
    "        if isinstance(s, int):\n",
    "            self._pts[s] = Point(*value)\n",
    "        else:\n",
    "            self._pts[s] = [Point(*pt) for pt in value]\n",
    "\n",
    "    def __add__(self, other):\n",
    "        if isinstance(other, Polygon):\n",
    "            new_pts = self._pts + other._pts\n",
    "            return Polygon(*new_pts)\n",
    "        else:\n",
    "            raise TypeError(\"Can only concatenate with another Polygon.\")\n",
    "\n",
    "    def append(self, pt):\n",
    "        self._pts.append(Point(*pt))\n",
    "\n",
    "    def insert(self, i, pt):\n",
    "        self._pts.insert(i, Point(*pt))\n",
    "\n",
    "    def extend(self, pts):\n",
    "        if isinstance(pts, Polygon):\n",
    "            self._pts += pts._pts\n",
    "        else:\n",
    "            points = [Point(*pt) for pt in pts]\n",
    "            self._pts += points\n",
    "\n",
    "    def __iadd__(self, other):\n",
    "        self.extend(other)\n",
    "        return self\n",
    "\n",
    "\n",
    "p = Polygon((0,0), (1,1), (2,2))\n",
    "print(id(p), p)\n",
    "\n",
    "p[0] = Point(10, 10)\n",
    "print(id(p), p)\n",
    "\n",
    "p[1] = (-1, -1)\n",
    "print(id(p), p)"
   ]
  },
  {
   "cell_type": "code",
   "execution_count": 197,
   "metadata": {},
   "outputs": [
    {
     "ename": "TypeError",
     "evalue": "Incompatible index/slice assignment",
     "output_type": "error",
     "traceback": [
      "\u001b[1;31m---------------------------------------------------------------------------\u001b[0m",
      "\u001b[1;31mTypeError\u001b[0m                                 Traceback (most recent call last)",
      "Cell \u001b[1;32mIn[197], line 60\u001b[0m\n\u001b[0;32m     57\u001b[0m         \u001b[39mreturn\u001b[39;00m \u001b[39mself\u001b[39m\n\u001b[0;32m     59\u001b[0m p \u001b[39m=\u001b[39m Polygon((\u001b[39m0\u001b[39m,\u001b[39m0\u001b[39m), (\u001b[39m1\u001b[39m,\u001b[39m1\u001b[39m), (\u001b[39m2\u001b[39m,\u001b[39m2\u001b[39m))\n\u001b[1;32m---> 60\u001b[0m p[\u001b[39m0\u001b[39;49m] \u001b[39m=\u001b[39m [(\u001b[39m0\u001b[39m,\u001b[39m0\u001b[39m), (\u001b[39m1\u001b[39m,\u001b[39m1\u001b[39m)]\n",
      "Cell \u001b[1;32mIn[197], line 33\u001b[0m, in \u001b[0;36mPolygon.__setitem__\u001b[1;34m(self, s, value)\u001b[0m\n\u001b[0;32m     31\u001b[0m     \u001b[39mself\u001b[39m\u001b[39m.\u001b[39m_pts[s] \u001b[39m=\u001b[39m rhs\n\u001b[0;32m     32\u001b[0m \u001b[39melse\u001b[39;00m:\n\u001b[1;32m---> 33\u001b[0m     \u001b[39mraise\u001b[39;00m \u001b[39mTypeError\u001b[39;00m(\u001b[39m'\u001b[39m\u001b[39mIncompatible index/slice assignment\u001b[39m\u001b[39m'\u001b[39m)\n",
      "\u001b[1;31mTypeError\u001b[0m: Incompatible index/slice assignment"
     ]
    }
   ],
   "source": [
    "# add single point assignment\n",
    "\n",
    "class Polygon:\n",
    "    def __init__(self, *pts):\n",
    "        if pts:\n",
    "            self._pts = [Point(*pt) for pt in pts]\n",
    "        else:\n",
    "            self._pts = []\n",
    "\n",
    "    def __repr__(self):\n",
    "        pts_str = ', '.join([str(pt) for pt in self._pts])\n",
    "        return f'Polygon({pts_str})'\n",
    "    \n",
    "    def __len__(self):\n",
    "        return len(self._pts)\n",
    "\n",
    "    def __getitem__(self, s):\n",
    "        return self._pts[s]\n",
    "\n",
    "    def __setitem__(self, s, value):\n",
    "        try:\n",
    "            rhs = [Point(*pt) for pt in value]\n",
    "            is_single = False\n",
    "        except TypeError:\n",
    "            try:\n",
    "                rhs = Point(*value)\n",
    "                is_single = True\n",
    "            except TypeError:\n",
    "                raise TypeError('Invalid Point or iterable of Points')\n",
    "        if (isinstance(s, int) and is_single) or (isinstance(s, slice) and not is_single):\n",
    "            self._pts[s] = rhs\n",
    "        else:\n",
    "            raise TypeError('Incompatible index/slice assignment')\n",
    "\n",
    "    def __add__(self, other):\n",
    "        if isinstance(other, Polygon):\n",
    "            new_pts = self._pts + other._pts\n",
    "            return Polygon(*new_pts)\n",
    "        else:\n",
    "            raise TypeError(\"Can only concatenate with another Polygon.\")\n",
    "\n",
    "    def append(self, pt):\n",
    "        self._pts.append(Point(*pt))\n",
    "\n",
    "    def insert(self, i, pt):\n",
    "        self._pts.insert(i, Point(*pt))\n",
    "\n",
    "    def extend(self, pts):\n",
    "        if isinstance(pts, Polygon):\n",
    "            self._pts += pts._pts\n",
    "        else:\n",
    "            points = [Point(*pt) for pt in pts]\n",
    "            self._pts += points\n",
    "\n",
    "    def __iadd__(self, other):\n",
    "        self.extend(other)\n",
    "        return self\n",
    "\n",
    "# This MUST return an error!\n",
    "p = Polygon((0,0), (1,1), (2,2))\n",
    "p[0] = [(0,0), (1,1)]"
   ]
  },
  {
   "cell_type": "code",
   "execution_count": 203,
   "metadata": {},
   "outputs": [
    {
     "name": "stdout",
     "output_type": "stream",
     "text": [
      "Polygon(Point(x=0, y=0), Point(x=1, y=1), Point(x=2, y=2), Point(x=3, y=3))\n",
      "Polygon(Point(x=1, y=1), Point(x=2, y=2), Point(x=3, y=3))\n",
      "Polygon(Point(x=3, y=3))\n"
     ]
    },
    {
     "data": {
      "text/plain": [
       "Polygon()"
      ]
     },
     "execution_count": 203,
     "metadata": {},
     "output_type": "execute_result"
    }
   ],
   "source": [
    "# add delete methods\n",
    "\n",
    "class Polygon:\n",
    "    def __init__(self, *pts):\n",
    "        if pts:\n",
    "            self._pts = [Point(*pt) for pt in pts]\n",
    "        else:\n",
    "            self._pts = []\n",
    "\n",
    "    def __repr__(self):\n",
    "        pts_str = ', '.join([str(pt) for pt in self._pts])\n",
    "        return f'Polygon({pts_str})'\n",
    "    \n",
    "    def __len__(self):\n",
    "        return len(self._pts)\n",
    "\n",
    "    def __getitem__(self, s):\n",
    "        return self._pts[s]\n",
    "\n",
    "    def __setitem__(self, s, value):\n",
    "        try:\n",
    "            rhs = [Point(*pt) for pt in value]\n",
    "            is_single = False\n",
    "        except TypeError:\n",
    "            try:\n",
    "                rhs = Point(*value)\n",
    "                is_single = True\n",
    "            except TypeError:\n",
    "                raise TypeError('Invalid Point or iterable of Points')\n",
    "        if (isinstance(s, int) and is_single) or (isinstance(s, slice) and not is_single):\n",
    "            self._pts[s] = rhs\n",
    "        else:\n",
    "            raise TypeError('Incompatible index/slice assignment')\n",
    "\n",
    "    def __add__(self, other):\n",
    "        if isinstance(other, Polygon):\n",
    "            new_pts = self._pts + other._pts\n",
    "            return Polygon(*new_pts)\n",
    "        else:\n",
    "            raise TypeError(\"Can only concatenate with another Polygon.\")\n",
    "\n",
    "    def append(self, pt):\n",
    "        self._pts.append(Point(*pt))\n",
    "\n",
    "    def insert(self, i, pt):\n",
    "        self._pts.insert(i, Point(*pt))\n",
    "\n",
    "    def extend(self, pts):\n",
    "        if isinstance(pts, Polygon):\n",
    "            self._pts += pts._pts\n",
    "        else:\n",
    "            points = [Point(*pt) for pt in pts]\n",
    "            self._pts += points\n",
    "\n",
    "    def __iadd__(self, other):\n",
    "        self.extend(other)\n",
    "        return self\n",
    "\n",
    "    def __delitem__(self, s):\n",
    "        del self._pts[s]\n",
    "\n",
    "    def pop(self, i):\n",
    "        return self._pts.pop(i)\n",
    "\n",
    "    def clear(self):\n",
    "        self._pts.clear()\n",
    "\n",
    "p = Polygon((0,0), (1,1), (2,2), (3,3))\n",
    "print(p)\n",
    "\n",
    "del p[0]\n",
    "print(p)\n",
    "\n",
    "del p[0:2]\n",
    "print(p)\n",
    "\n",
    "p.pop(0)\n",
    "p"
   ]
  },
  {
   "cell_type": "code",
   "execution_count": 204,
   "metadata": {},
   "outputs": [
    {
     "name": "stdout",
     "output_type": "stream",
     "text": [
      "Polygon(Point(x=0, y=0), Point(x=1, y=1), Point(x=2, y=2), Point(x=3, y=3))\n",
      "Polygon()\n"
     ]
    }
   ],
   "source": [
    "p = Polygon((0,0), (1,1), (2,2), (3,3))\n",
    "print(p)\n",
    "p.clear()\n",
    "print(p)"
   ]
  },
  {
   "cell_type": "code",
   "execution_count": null,
   "metadata": {},
   "outputs": [],
   "source": []
  }
 ],
 "metadata": {
  "kernelspec": {
   "display_name": "Python 3",
   "language": "python",
   "name": "python3"
  },
  "language_info": {
   "codemirror_mode": {
    "name": "ipython",
    "version": 3
   },
   "file_extension": ".py",
   "mimetype": "text/x-python",
   "name": "python",
   "nbconvert_exporter": "python",
   "pygments_lexer": "ipython3",
   "version": "3.11.4"
  },
  "orig_nbformat": 4
 },
 "nbformat": 4,
 "nbformat_minor": 2
}
