{
  "nbformat": 4,
  "nbformat_minor": 0,
  "metadata": {
    "colab": {
      "provenance": []
    },
    "kernelspec": {
      "name": "python3",
      "display_name": "Python 3"
    },
    "language_info": {
      "name": "python"
    }
  },
  "cells": [
    {
      "cell_type": "markdown",
      "source": [
        "###Lists are mutable using the [] notation"
      ],
      "metadata": {
        "id": "ZYCdpIigOHdL"
      }
    },
    {
      "cell_type": "code",
      "execution_count": null,
      "metadata": {
        "colab": {
          "base_uri": "https://localhost:8080/"
        },
        "id": "JwFyYFQ5Neya",
        "outputId": "ca1edb0f-6e31-444b-cc3d-3e430ebd58f2"
      },
      "outputs": [
        {
          "output_type": "stream",
          "name": "stdout",
          "text": [
            "132860729886528\n",
            "132860729886528\n"
          ]
        }
      ],
      "source": [
        "l = [1,2,3,4,5]\n",
        "print(id(l))\n",
        "l[0] = 'a'\n",
        "print(id(l))"
      ]
    },
    {
      "cell_type": "markdown",
      "source": [
        "###Useful methods for mutable sequences"
      ],
      "metadata": {
        "id": "EdAuWIjngJBo"
      }
    },
    {
      "cell_type": "code",
      "source": [
        "# Using the + operator changes the memory index and creates a new object while using .append() doesn't\n",
        "l = [1, 2, 3]\n",
        "print(id(l))\n",
        "l = l + [4]\n",
        "print(id(l))"
      ],
      "metadata": {
        "colab": {
          "base_uri": "https://localhost:8080/"
        },
        "id": "XadZbEZgOGTg",
        "outputId": "e4d37a46-73b5-4999-fc0b-ec1a2cd3749e"
      },
      "execution_count": null,
      "outputs": [
        {
          "output_type": "stream",
          "name": "stdout",
          "text": [
            "132860161561152\n",
            "132860161562304\n"
          ]
        }
      ]
    },
    {
      "cell_type": "code",
      "source": [
        "l = [1, 2, 3]\n",
        "print(id(l))\n",
        "l.append(4)\n",
        "print(id(l))"
      ],
      "metadata": {
        "colab": {
          "base_uri": "https://localhost:8080/"
        },
        "id": "2udFVg6ROGVa",
        "outputId": "cf180c3f-045e-4e5a-9782-908365044ad2"
      },
      "execution_count": null,
      "outputs": [
        {
          "output_type": "stream",
          "name": "stdout",
          "text": [
            "132860161464256\n",
            "132860161464256\n"
          ]
        }
      ]
    },
    {
      "cell_type": "code",
      "source": [
        "# The extend method unpacks an iterable and adds the elements to another iterable\n",
        "l = [1,2,3]\n",
        "l.extend([4,5])\n",
        "print(l)"
      ],
      "metadata": {
        "colab": {
          "base_uri": "https://localhost:8080/"
        },
        "id": "ix5BiB8QOGXy",
        "outputId": "d342ab36-bfbf-4e7a-dfe4-d8fa8b50469b"
      },
      "execution_count": null,
      "outputs": [
        {
          "output_type": "stream",
          "name": "stdout",
          "text": [
            "[1, 2, 3, 4, 5]\n"
          ]
        }
      ]
    },
    {
      "cell_type": "code",
      "source": [
        "# There are several methods for removing elements. pop removes and return the element\n",
        "l = [1,2,3,4,5]\n",
        "print(id(l))\n",
        "result = l.pop(3)\n",
        "print(result)\n",
        "print(l)\n",
        "print(id(l))\n",
        "print('\\n\\n')\n",
        "\n",
        "# Another way is to delete an element\n",
        "l = [1,2,3,4,5]\n",
        "print(l)\n",
        "del l[1]\n",
        "print(l)"
      ],
      "metadata": {
        "colab": {
          "base_uri": "https://localhost:8080/"
        },
        "id": "k41cFRS9OGab",
        "outputId": "64b08b6a-9839-4439-8039-045900a45768"
      },
      "execution_count": null,
      "outputs": [
        {
          "output_type": "stream",
          "name": "stdout",
          "text": [
            "132860160125120\n",
            "4\n",
            "[1, 2, 3, 5]\n",
            "132860160125120\n",
            "\n",
            "\n",
            "\n",
            "[1, 2, 3, 4, 5]\n",
            "[1, 3, 4, 5]\n"
          ]
        }
      ]
    },
    {
      "cell_type": "code",
      "source": [
        "# Inserting elements\n",
        "l = [1,2,3,4,5]\n",
        "print(id(l))\n",
        "l.insert(1, 'a')\n",
        "print(l)\n",
        "print(id(l))"
      ],
      "metadata": {
        "colab": {
          "base_uri": "https://localhost:8080/"
        },
        "id": "hLluSN9WiGb7",
        "outputId": "ba9bc1af-65fd-4fce-d08d-5d21d43ecdba"
      },
      "execution_count": null,
      "outputs": [
        {
          "output_type": "stream",
          "name": "stdout",
          "text": [
            "132860729889792\n",
            "[1, 'a', 2, 3, 4, 5]\n",
            "132860729889792\n"
          ]
        }
      ]
    },
    {
      "cell_type": "code",
      "source": [
        "# Reversing a sequence with slicing creates a new object in memory, while using the reverse method doing an inplace reversal\n",
        "\n",
        "l = [1,2,3,4,5]\n",
        "print(id(l))\n",
        "l2 = l[::-1]\n",
        "print(id(l2))\n",
        "l.reverse()\n",
        "print(l)\n",
        "print(id(l))"
      ],
      "metadata": {
        "colab": {
          "base_uri": "https://localhost:8080/"
        },
        "id": "Hp5bIpFiiw6V",
        "outputId": "37dfa249-aa23-4403-a56b-3f72176689bf"
      },
      "execution_count": null,
      "outputs": [
        {
          "output_type": "stream",
          "name": "stdout",
          "text": [
            "132860160143872\n",
            "132860160138624\n",
            "[5, 4, 3, 2, 1]\n",
            "132860160143872\n"
          ]
        }
      ]
    },
    {
      "cell_type": "code",
      "source": [
        "# If we want to create a new copy of a list we can use the copy method\n",
        "l = [1,2,3,4,5]\n",
        "l2 = l.copy()\n",
        "print(id(l))\n",
        "print(id(l2))"
      ],
      "metadata": {
        "colab": {
          "base_uri": "https://localhost:8080/"
        },
        "id": "xn0NnGdkjaJ9",
        "outputId": "a22f908d-3d19-4c52-98e9-33f44c27ee5b"
      },
      "execution_count": null,
      "outputs": [
        {
          "output_type": "stream",
          "name": "stdout",
          "text": [
            "132860160142848\n",
            "132860160142080\n"
          ]
        }
      ]
    },
    {
      "cell_type": "code",
      "source": [],
      "metadata": {
        "id": "ybXdRFFPkp-n"
      },
      "execution_count": null,
      "outputs": []
    }
  ]
}