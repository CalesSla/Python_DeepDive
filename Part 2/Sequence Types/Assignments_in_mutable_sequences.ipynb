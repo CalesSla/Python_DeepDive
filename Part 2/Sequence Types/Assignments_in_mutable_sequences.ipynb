{
 "cells": [
  {
   "cell_type": "markdown",
   "metadata": {},
   "source": [
    "### NON-Extended slices"
   ]
  },
  {
   "cell_type": "code",
   "execution_count": 3,
   "metadata": {},
   "outputs": [
    {
     "name": "stdout",
     "output_type": "stream",
     "text": [
      "1271205442368 [1, 2, 3, 4, 5]\n",
      "1271205442368 ['p', 'y', 't', 'h', 'o', 'n', 4, 5]\n"
     ]
    }
   ],
   "source": [
    "# Assignments dont change memory addresses\n",
    "l = [1,2,3,4,5]\n",
    "print(id(l), l)\n",
    "\n",
    "l[0:3] = 'python'\n",
    "print(id(l), l)"
   ]
  },
  {
   "cell_type": "code",
   "execution_count": 9,
   "metadata": {},
   "outputs": [
    {
     "name": "stdout",
     "output_type": "stream",
     "text": [
      "1271205330368 [1, 2, 3, 4, 5]\n",
      "1271205330368 [1, 2]\n",
      "1271182825856 [1, 2, 3, 4, 5]\n",
      "1271182825856 [1, 2]\n"
     ]
    }
   ],
   "source": [
    "# We can use assignment for deletion by assigning an empty iterable\n",
    "l = [1,2,3,4,5]\n",
    "print(id(l), l)\n",
    "\n",
    "l[2:5] = []\n",
    "print(id(l), l)\n",
    "\n",
    "\n",
    "# Any iterable works\n",
    "l = [1,2,3,4,5]\n",
    "print(id(l), l)\n",
    "\n",
    "l[2:5] = ''\n",
    "print(id(l), l)"
   ]
  },
  {
   "cell_type": "code",
   "execution_count": 10,
   "metadata": {},
   "outputs": [
    {
     "name": "stdout",
     "output_type": "stream",
     "text": [
      "1271205382080 [1, 2, 3, 4, 5]\n",
      "1271205382080 [1, 2, 'a', 100, 500, 3, 4, 5]\n"
     ]
    }
   ],
   "source": [
    "# We can also use slicing with assignments to insert new elements\n",
    "l = [1,2,3,4,5]\n",
    "print(id(l), l)\n",
    "\n",
    "l[2:2] = ('a', 100, 500)\n",
    "print(id(l), l)\n"
   ]
  },
  {
   "cell_type": "markdown",
   "metadata": {},
   "source": [
    "### Extended slices"
   ]
  },
  {
   "cell_type": "code",
   "execution_count": 11,
   "metadata": {},
   "outputs": [
    {
     "name": "stdout",
     "output_type": "stream",
     "text": [
      "1271205393280 [1, 2, 3, 4, 5]\n",
      "1271205393280 ['a', 2, 'b', 4, 'c']\n"
     ]
    }
   ],
   "source": [
    "# We can do replacements but not deletions or inclusions\n",
    "\n",
    "l = [1,2,3,4,5]\n",
    "print(id(l), l)\n",
    "\n",
    "l[0:5:2] = 'abc'\n",
    "print(id(l), l)"
   ]
  },
  {
   "cell_type": "code",
   "execution_count": null,
   "metadata": {},
   "outputs": [],
   "source": []
  }
 ],
 "metadata": {
  "kernelspec": {
   "display_name": "Python 3",
   "language": "python",
   "name": "python3"
  },
  "language_info": {
   "codemirror_mode": {
    "name": "ipython",
    "version": 3
   },
   "file_extension": ".py",
   "mimetype": "text/x-python",
   "name": "python",
   "nbconvert_exporter": "python",
   "pygments_lexer": "ipython3",
   "version": "3.11.4"
  },
  "orig_nbformat": 4
 },
 "nbformat": 4,
 "nbformat_minor": 2
}
