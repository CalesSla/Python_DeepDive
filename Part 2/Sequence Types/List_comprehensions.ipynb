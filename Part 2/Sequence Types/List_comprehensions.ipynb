{
 "cells": [
  {
   "cell_type": "code",
   "execution_count": 3,
   "metadata": {},
   "outputs": [],
   "source": [
    "# simple example\n",
    "squares = [i**2 for i in range(1, 101)]"
   ]
  },
  {
   "cell_type": "code",
   "execution_count": 4,
   "metadata": {},
   "outputs": [],
   "source": [
    "# comprehension with condition\n",
    "squares = [i**2 for i in range(1, 101) if i%2 == 0]"
   ]
  },
  {
   "cell_type": "code",
   "execution_count": 6,
   "metadata": {},
   "outputs": [],
   "source": [
    "# comprehension overm multiple lines\n",
    "squares = [i**2\n",
    "           for i in range(1, 101)\n",
    "           if i%2 == 0]"
   ]
  },
  {
   "cell_type": "code",
   "execution_count": 9,
   "metadata": {},
   "outputs": [
    {
     "data": {
      "text/plain": [
       "[[1, 2, 3, 4, 5, 6, 7, 8, 9, 10],\n",
       " [2, 4, 6, 8, 10, 12, 14, 16, 18, 20],\n",
       " [3, 6, 9, 12, 15, 18, 21, 24, 27, 30],\n",
       " [4, 8, 12, 16, 20, 24, 28, 32, 36, 40],\n",
       " [5, 10, 15, 20, 25, 30, 35, 40, 45, 50],\n",
       " [6, 12, 18, 24, 30, 36, 42, 48, 54, 60],\n",
       " [7, 14, 21, 28, 35, 42, 49, 56, 63, 70],\n",
       " [8, 16, 24, 32, 40, 48, 56, 64, 72, 80],\n",
       " [9, 18, 27, 36, 45, 54, 63, 72, 81, 90],\n",
       " [10, 20, 30, 40, 50, 60, 70, 80, 90, 100]]"
      ]
     },
     "execution_count": 9,
     "metadata": {},
     "output_type": "execute_result"
    }
   ],
   "source": [
    "# Nested list comprehensions\n",
    "table = [[i*j for j in range(1, 11)] for i in range(1, 11)]\n",
    "table"
   ]
  },
  {
   "cell_type": "code",
   "execution_count": 24,
   "metadata": {},
   "outputs": [
    {
     "data": {
      "text/plain": [
       "[[1.0],\n",
       " [1.0, 1.0],\n",
       " [1.0, 2.0, 1.0],\n",
       " [1.0, 3.0, 3.0, 1.0],\n",
       " [1.0, 4.0, 6.0, 4.0, 1.0],\n",
       " [1.0, 5.0, 10.0, 10.0, 5.0, 1.0]]"
      ]
     },
     "execution_count": 24,
     "metadata": {},
     "output_type": "execute_result"
    }
   ],
   "source": [
    "# Pascal triangle using comprehension\n",
    "import math\n",
    "\n",
    "pyth = [[math.factorial(i) / (math.factorial(j) * math.factorial(i-j)) for j in range(i+1)] for i in range(0, 6)]\n",
    "pyth"
   ]
  },
  {
   "cell_type": "code",
   "execution_count": 26,
   "metadata": {},
   "outputs": [
    {
     "data": {
      "text/plain": [
       "['ax', 'ay', 'az', 'bx', 'by', 'bz', 'cx', 'cy', 'cz']"
      ]
     },
     "execution_count": 26,
     "metadata": {},
     "output_type": "execute_result"
    }
   ],
   "source": [
    "# Nested comprehensions\n",
    "l1 = ['a', 'b', 'c']\n",
    "l2 = ['x', 'y', 'z']\n",
    "\n",
    "[i+j for i in l1 for j in l2]"
   ]
  },
  {
   "cell_type": "code",
   "execution_count": 35,
   "metadata": {},
   "outputs": [
    {
     "data": {
      "text/plain": [
       "[(1, 'a'), (2, 'b'), (3, 'c'), (4, 'd')]"
      ]
     },
     "execution_count": 35,
     "metadata": {},
     "output_type": "execute_result"
    }
   ],
   "source": [
    "# immitating the zip() function using list comprehension\n",
    "l1 = [1, 2, 3, 4, 5, 6, 7, 8, 9]\n",
    "l2 = ['a', 'b', 'c', 'd']\n",
    "\n",
    "[(item1, item2) for index1, item1 in enumerate(l1) for index2, item2 in enumerate(l2) if index1 == index2]"
   ]
  },
  {
   "cell_type": "code",
   "execution_count": 47,
   "metadata": {},
   "outputs": [
    {
     "name": "stdout",
     "output_type": "stream",
     "text": [
      "32\n",
      "32\n"
     ]
    }
   ],
   "source": [
    "# dot product using list comprehensions\n",
    "v1 = [1, 2, 3]\n",
    "v2 = [4, 5, 6]\n",
    "\n",
    "print(sum([v1[i] * v2[i] for i in range(len(v1))]))\n",
    "\n",
    "print(sum([i*j for i, j in zip(v1,v2)]))"
   ]
  },
  {
   "cell_type": "code",
   "execution_count": null,
   "metadata": {},
   "outputs": [],
   "source": []
  },
  {
   "cell_type": "code",
   "execution_count": null,
   "metadata": {},
   "outputs": [],
   "source": []
  }
 ],
 "metadata": {
  "kernelspec": {
   "display_name": "Python 3",
   "language": "python",
   "name": "python3"
  },
  "language_info": {
   "codemirror_mode": {
    "name": "ipython",
    "version": 3
   },
   "file_extension": ".py",
   "mimetype": "text/x-python",
   "name": "python",
   "nbconvert_exporter": "python",
   "pygments_lexer": "ipython3",
   "version": "3.11.4"
  },
  "orig_nbformat": 4
 },
 "nbformat": 4,
 "nbformat_minor": 2
}
