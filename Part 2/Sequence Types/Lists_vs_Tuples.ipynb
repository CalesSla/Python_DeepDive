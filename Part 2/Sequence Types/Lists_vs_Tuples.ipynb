{
  "nbformat": 4,
  "nbformat_minor": 0,
  "metadata": {
    "colab": {
      "provenance": []
    },
    "kernelspec": {
      "name": "python3",
      "display_name": "Python 3"
    },
    "language_info": {
      "name": "python"
    }
  },
  "cells": [
    {
      "cell_type": "markdown",
      "source": [
        "Tuples efficiency"
      ],
      "metadata": {
        "id": "zCd33FrAb8QU"
      }
    },
    {
      "cell_type": "code",
      "source": [
        "# Tuples are more efficient than lists and you should only use lists if you need mutability\n",
        "from timeit import timeit"
      ],
      "metadata": {
        "id": "zBauHKLMmXQe"
      },
      "execution_count": null,
      "outputs": []
    },
    {
      "cell_type": "code",
      "source": [
        "timeit(\"(1,2,3,4,5,6,7,8,9)\", number=10_000_000)"
      ],
      "metadata": {
        "colab": {
          "base_uri": "https://localhost:8080/"
        },
        "id": "yt8Wf2BNpEav",
        "outputId": "b4dcc0ab-1c89-4c4b-840f-37937de76a64"
      },
      "execution_count": null,
      "outputs": [
        {
          "output_type": "execute_result",
          "data": {
            "text/plain": [
              "0.15134927099984452"
            ]
          },
          "metadata": {},
          "execution_count": 14
        }
      ]
    },
    {
      "cell_type": "code",
      "source": [
        "timeit(\"[1,2,3,4,5,6,7,8,9]\", number=10_000_000)"
      ],
      "metadata": {
        "colab": {
          "base_uri": "https://localhost:8080/"
        },
        "id": "2RDbdi0hpLUe",
        "outputId": "7ada6e70-861c-4c5c-9e0a-95ece62d0a70"
      },
      "execution_count": null,
      "outputs": [
        {
          "output_type": "execute_result",
          "data": {
            "text/plain": [
              "0.7252848629998425"
            ]
          },
          "metadata": {},
          "execution_count": 15
        }
      ]
    },
    {
      "cell_type": "markdown",
      "source": [
        "###Storage efficiency comparison"
      ],
      "metadata": {
        "id": "2JLpmxaTcAx2"
      }
    },
    {
      "cell_type": "code",
      "source": [
        "import sys"
      ],
      "metadata": {
        "id": "OCMurqK4e2OW"
      },
      "execution_count": 3,
      "outputs": []
    },
    {
      "cell_type": "code",
      "source": [
        "# Tuples are more consistent in terms of srorage allocation per element\n",
        "t = tuple()\n",
        "prev = sys.getsizeof(t)\n",
        "for i in range(10):\n",
        "  c = tuple(range(i+1))\n",
        "  size_c = sys.getsizeof(c)\n",
        "  delta, prev = size_c - prev, size_c\n",
        "  print(f'{i+1} items: {size_c}, delta={delta}')"
      ],
      "metadata": {
        "id": "oAqEXBttpSU2",
        "colab": {
          "base_uri": "https://localhost:8080/"
        },
        "outputId": "2da83324-1b83-4a5e-8505-7437bcbaa1c6"
      },
      "execution_count": 4,
      "outputs": [
        {
          "output_type": "stream",
          "name": "stdout",
          "text": [
            "1 items: 48, delta=8\n",
            "2 items: 56, delta=8\n",
            "3 items: 64, delta=8\n",
            "4 items: 72, delta=8\n",
            "5 items: 80, delta=8\n",
            "6 items: 88, delta=8\n",
            "7 items: 96, delta=8\n",
            "8 items: 104, delta=8\n",
            "9 items: 112, delta=8\n",
            "10 items: 120, delta=8\n"
          ]
        }
      ]
    },
    {
      "cell_type": "code",
      "source": [
        "# Lists are not consistent\n",
        "l = list()\n",
        "prev = sys.getsizeof(l)\n",
        "for i in range(10):\n",
        "  c = list(range(i+1))\n",
        "  size_c = sys.getsizeof(c)\n",
        "  delta, prev = size_c - prev, size_c\n",
        "  print(f'{i+1} items: {size_c}, delta={delta}')"
      ],
      "metadata": {
        "id": "I6Oh0cJgb6T6",
        "colab": {
          "base_uri": "https://localhost:8080/"
        },
        "outputId": "954059b8-8588-4eb4-ff30-71c54a55b427"
      },
      "execution_count": 5,
      "outputs": [
        {
          "output_type": "stream",
          "name": "stdout",
          "text": [
            "1 items: 72, delta=16\n",
            "2 items: 72, delta=0\n",
            "3 items: 88, delta=16\n",
            "4 items: 88, delta=0\n",
            "5 items: 104, delta=16\n",
            "6 items: 104, delta=0\n",
            "7 items: 120, delta=16\n",
            "8 items: 120, delta=0\n",
            "9 items: 136, delta=16\n",
            "10 items: 136, delta=0\n"
          ]
        }
      ]
    },
    {
      "cell_type": "code",
      "source": [
        "# Lists prealocate space initially and then use it to store additional elements when added\n",
        "c = list()\n",
        "prev = sys.getsizeof(c)\n",
        "print(f'0 items: {prev}')\n",
        "for i in range(255):\n",
        "  c.append(i)\n",
        "  size_c = sys.getsizeof(c)\n",
        "  delta, prev = size_c - prev, size_c\n",
        "  print(f'{i+1} itemd: {size_c}, delta={delta}')"
      ],
      "metadata": {
        "colab": {
          "base_uri": "https://localhost:8080/"
        },
        "id": "O81apda5fDu9",
        "outputId": "d3834113-6e3c-4435-ced6-12c67f676408"
      },
      "execution_count": 6,
      "outputs": [
        {
          "output_type": "stream",
          "name": "stdout",
          "text": [
            "0 items: 56\n",
            "1 itemd: 88, delta=32\n",
            "2 itemd: 88, delta=0\n",
            "3 itemd: 88, delta=0\n",
            "4 itemd: 88, delta=0\n",
            "5 itemd: 120, delta=32\n",
            "6 itemd: 120, delta=0\n",
            "7 itemd: 120, delta=0\n",
            "8 itemd: 120, delta=0\n",
            "9 itemd: 184, delta=64\n",
            "10 itemd: 184, delta=0\n",
            "11 itemd: 184, delta=0\n",
            "12 itemd: 184, delta=0\n",
            "13 itemd: 184, delta=0\n",
            "14 itemd: 184, delta=0\n",
            "15 itemd: 184, delta=0\n",
            "16 itemd: 184, delta=0\n",
            "17 itemd: 248, delta=64\n",
            "18 itemd: 248, delta=0\n",
            "19 itemd: 248, delta=0\n",
            "20 itemd: 248, delta=0\n",
            "21 itemd: 248, delta=0\n",
            "22 itemd: 248, delta=0\n",
            "23 itemd: 248, delta=0\n",
            "24 itemd: 248, delta=0\n",
            "25 itemd: 312, delta=64\n",
            "26 itemd: 312, delta=0\n",
            "27 itemd: 312, delta=0\n",
            "28 itemd: 312, delta=0\n",
            "29 itemd: 312, delta=0\n",
            "30 itemd: 312, delta=0\n",
            "31 itemd: 312, delta=0\n",
            "32 itemd: 312, delta=0\n",
            "33 itemd: 376, delta=64\n",
            "34 itemd: 376, delta=0\n",
            "35 itemd: 376, delta=0\n",
            "36 itemd: 376, delta=0\n",
            "37 itemd: 376, delta=0\n",
            "38 itemd: 376, delta=0\n",
            "39 itemd: 376, delta=0\n",
            "40 itemd: 376, delta=0\n",
            "41 itemd: 472, delta=96\n",
            "42 itemd: 472, delta=0\n",
            "43 itemd: 472, delta=0\n",
            "44 itemd: 472, delta=0\n",
            "45 itemd: 472, delta=0\n",
            "46 itemd: 472, delta=0\n",
            "47 itemd: 472, delta=0\n",
            "48 itemd: 472, delta=0\n",
            "49 itemd: 472, delta=0\n",
            "50 itemd: 472, delta=0\n",
            "51 itemd: 472, delta=0\n",
            "52 itemd: 472, delta=0\n",
            "53 itemd: 568, delta=96\n",
            "54 itemd: 568, delta=0\n",
            "55 itemd: 568, delta=0\n",
            "56 itemd: 568, delta=0\n",
            "57 itemd: 568, delta=0\n",
            "58 itemd: 568, delta=0\n",
            "59 itemd: 568, delta=0\n",
            "60 itemd: 568, delta=0\n",
            "61 itemd: 568, delta=0\n",
            "62 itemd: 568, delta=0\n",
            "63 itemd: 568, delta=0\n",
            "64 itemd: 568, delta=0\n",
            "65 itemd: 664, delta=96\n",
            "66 itemd: 664, delta=0\n",
            "67 itemd: 664, delta=0\n",
            "68 itemd: 664, delta=0\n",
            "69 itemd: 664, delta=0\n",
            "70 itemd: 664, delta=0\n",
            "71 itemd: 664, delta=0\n",
            "72 itemd: 664, delta=0\n",
            "73 itemd: 664, delta=0\n",
            "74 itemd: 664, delta=0\n",
            "75 itemd: 664, delta=0\n",
            "76 itemd: 664, delta=0\n",
            "77 itemd: 792, delta=128\n",
            "78 itemd: 792, delta=0\n",
            "79 itemd: 792, delta=0\n",
            "80 itemd: 792, delta=0\n",
            "81 itemd: 792, delta=0\n",
            "82 itemd: 792, delta=0\n",
            "83 itemd: 792, delta=0\n",
            "84 itemd: 792, delta=0\n",
            "85 itemd: 792, delta=0\n",
            "86 itemd: 792, delta=0\n",
            "87 itemd: 792, delta=0\n",
            "88 itemd: 792, delta=0\n",
            "89 itemd: 792, delta=0\n",
            "90 itemd: 792, delta=0\n",
            "91 itemd: 792, delta=0\n",
            "92 itemd: 792, delta=0\n",
            "93 itemd: 920, delta=128\n",
            "94 itemd: 920, delta=0\n",
            "95 itemd: 920, delta=0\n",
            "96 itemd: 920, delta=0\n",
            "97 itemd: 920, delta=0\n",
            "98 itemd: 920, delta=0\n",
            "99 itemd: 920, delta=0\n",
            "100 itemd: 920, delta=0\n",
            "101 itemd: 920, delta=0\n",
            "102 itemd: 920, delta=0\n",
            "103 itemd: 920, delta=0\n",
            "104 itemd: 920, delta=0\n",
            "105 itemd: 920, delta=0\n",
            "106 itemd: 920, delta=0\n",
            "107 itemd: 920, delta=0\n",
            "108 itemd: 920, delta=0\n",
            "109 itemd: 1080, delta=160\n",
            "110 itemd: 1080, delta=0\n",
            "111 itemd: 1080, delta=0\n",
            "112 itemd: 1080, delta=0\n",
            "113 itemd: 1080, delta=0\n",
            "114 itemd: 1080, delta=0\n",
            "115 itemd: 1080, delta=0\n",
            "116 itemd: 1080, delta=0\n",
            "117 itemd: 1080, delta=0\n",
            "118 itemd: 1080, delta=0\n",
            "119 itemd: 1080, delta=0\n",
            "120 itemd: 1080, delta=0\n",
            "121 itemd: 1080, delta=0\n",
            "122 itemd: 1080, delta=0\n",
            "123 itemd: 1080, delta=0\n",
            "124 itemd: 1080, delta=0\n",
            "125 itemd: 1080, delta=0\n",
            "126 itemd: 1080, delta=0\n",
            "127 itemd: 1080, delta=0\n",
            "128 itemd: 1080, delta=0\n",
            "129 itemd: 1240, delta=160\n",
            "130 itemd: 1240, delta=0\n",
            "131 itemd: 1240, delta=0\n",
            "132 itemd: 1240, delta=0\n",
            "133 itemd: 1240, delta=0\n",
            "134 itemd: 1240, delta=0\n",
            "135 itemd: 1240, delta=0\n",
            "136 itemd: 1240, delta=0\n",
            "137 itemd: 1240, delta=0\n",
            "138 itemd: 1240, delta=0\n",
            "139 itemd: 1240, delta=0\n",
            "140 itemd: 1240, delta=0\n",
            "141 itemd: 1240, delta=0\n",
            "142 itemd: 1240, delta=0\n",
            "143 itemd: 1240, delta=0\n",
            "144 itemd: 1240, delta=0\n",
            "145 itemd: 1240, delta=0\n",
            "146 itemd: 1240, delta=0\n",
            "147 itemd: 1240, delta=0\n",
            "148 itemd: 1240, delta=0\n",
            "149 itemd: 1432, delta=192\n",
            "150 itemd: 1432, delta=0\n",
            "151 itemd: 1432, delta=0\n",
            "152 itemd: 1432, delta=0\n",
            "153 itemd: 1432, delta=0\n",
            "154 itemd: 1432, delta=0\n",
            "155 itemd: 1432, delta=0\n",
            "156 itemd: 1432, delta=0\n",
            "157 itemd: 1432, delta=0\n",
            "158 itemd: 1432, delta=0\n",
            "159 itemd: 1432, delta=0\n",
            "160 itemd: 1432, delta=0\n",
            "161 itemd: 1432, delta=0\n",
            "162 itemd: 1432, delta=0\n",
            "163 itemd: 1432, delta=0\n",
            "164 itemd: 1432, delta=0\n",
            "165 itemd: 1432, delta=0\n",
            "166 itemd: 1432, delta=0\n",
            "167 itemd: 1432, delta=0\n",
            "168 itemd: 1432, delta=0\n",
            "169 itemd: 1432, delta=0\n",
            "170 itemd: 1432, delta=0\n",
            "171 itemd: 1432, delta=0\n",
            "172 itemd: 1432, delta=0\n",
            "173 itemd: 1656, delta=224\n",
            "174 itemd: 1656, delta=0\n",
            "175 itemd: 1656, delta=0\n",
            "176 itemd: 1656, delta=0\n",
            "177 itemd: 1656, delta=0\n",
            "178 itemd: 1656, delta=0\n",
            "179 itemd: 1656, delta=0\n",
            "180 itemd: 1656, delta=0\n",
            "181 itemd: 1656, delta=0\n",
            "182 itemd: 1656, delta=0\n",
            "183 itemd: 1656, delta=0\n",
            "184 itemd: 1656, delta=0\n",
            "185 itemd: 1656, delta=0\n",
            "186 itemd: 1656, delta=0\n",
            "187 itemd: 1656, delta=0\n",
            "188 itemd: 1656, delta=0\n",
            "189 itemd: 1656, delta=0\n",
            "190 itemd: 1656, delta=0\n",
            "191 itemd: 1656, delta=0\n",
            "192 itemd: 1656, delta=0\n",
            "193 itemd: 1656, delta=0\n",
            "194 itemd: 1656, delta=0\n",
            "195 itemd: 1656, delta=0\n",
            "196 itemd: 1656, delta=0\n",
            "197 itemd: 1656, delta=0\n",
            "198 itemd: 1656, delta=0\n",
            "199 itemd: 1656, delta=0\n",
            "200 itemd: 1656, delta=0\n",
            "201 itemd: 1912, delta=256\n",
            "202 itemd: 1912, delta=0\n",
            "203 itemd: 1912, delta=0\n",
            "204 itemd: 1912, delta=0\n",
            "205 itemd: 1912, delta=0\n",
            "206 itemd: 1912, delta=0\n",
            "207 itemd: 1912, delta=0\n",
            "208 itemd: 1912, delta=0\n",
            "209 itemd: 1912, delta=0\n",
            "210 itemd: 1912, delta=0\n",
            "211 itemd: 1912, delta=0\n",
            "212 itemd: 1912, delta=0\n",
            "213 itemd: 1912, delta=0\n",
            "214 itemd: 1912, delta=0\n",
            "215 itemd: 1912, delta=0\n",
            "216 itemd: 1912, delta=0\n",
            "217 itemd: 1912, delta=0\n",
            "218 itemd: 1912, delta=0\n",
            "219 itemd: 1912, delta=0\n",
            "220 itemd: 1912, delta=0\n",
            "221 itemd: 1912, delta=0\n",
            "222 itemd: 1912, delta=0\n",
            "223 itemd: 1912, delta=0\n",
            "224 itemd: 1912, delta=0\n",
            "225 itemd: 1912, delta=0\n",
            "226 itemd: 1912, delta=0\n",
            "227 itemd: 1912, delta=0\n",
            "228 itemd: 1912, delta=0\n",
            "229 itemd: 1912, delta=0\n",
            "230 itemd: 1912, delta=0\n",
            "231 itemd: 1912, delta=0\n",
            "232 itemd: 1912, delta=0\n",
            "233 itemd: 2200, delta=288\n",
            "234 itemd: 2200, delta=0\n",
            "235 itemd: 2200, delta=0\n",
            "236 itemd: 2200, delta=0\n",
            "237 itemd: 2200, delta=0\n",
            "238 itemd: 2200, delta=0\n",
            "239 itemd: 2200, delta=0\n",
            "240 itemd: 2200, delta=0\n",
            "241 itemd: 2200, delta=0\n",
            "242 itemd: 2200, delta=0\n",
            "243 itemd: 2200, delta=0\n",
            "244 itemd: 2200, delta=0\n",
            "245 itemd: 2200, delta=0\n",
            "246 itemd: 2200, delta=0\n",
            "247 itemd: 2200, delta=0\n",
            "248 itemd: 2200, delta=0\n",
            "249 itemd: 2200, delta=0\n",
            "250 itemd: 2200, delta=0\n",
            "251 itemd: 2200, delta=0\n",
            "252 itemd: 2200, delta=0\n",
            "253 itemd: 2200, delta=0\n",
            "254 itemd: 2200, delta=0\n",
            "255 itemd: 2200, delta=0\n"
          ]
        }
      ]
    },
    {
      "cell_type": "code",
      "source": [],
      "metadata": {
        "id": "SGdJcmnzgWb9"
      },
      "execution_count": null,
      "outputs": []
    }
  ]
}