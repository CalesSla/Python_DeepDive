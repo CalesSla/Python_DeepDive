{
 "cells": [
  {
   "cell_type": "markdown",
   "metadata": {},
   "source": [
    "### Creating a shallow copy of a mutable object"
   ]
  },
  {
   "cell_type": "code",
   "execution_count": 8,
   "metadata": {},
   "outputs": [
    {
     "data": {
      "text/plain": [
       "(1922607956096, 1922602060736)"
      ]
     },
     "execution_count": 8,
     "metadata": {},
     "output_type": "execute_result"
    }
   ],
   "source": [
    "# Using for loop\n",
    "l1 = [1,2,3]\n",
    "l1_copy = []\n",
    "for i in l1:\n",
    "    l1_copy.append(i)\n",
    "id(l1), id(l1_copy)"
   ]
  },
  {
   "cell_type": "code",
   "execution_count": 9,
   "metadata": {},
   "outputs": [
    {
     "data": {
      "text/plain": [
       "(1922607956096, 1922601920768)"
      ]
     },
     "execution_count": 9,
     "metadata": {},
     "output_type": "execute_result"
    }
   ],
   "source": [
    "# Using list comprehension\n",
    "l1_copy = [i for i in l1]\n",
    "id(l1), id(l1_copy)"
   ]
  },
  {
   "cell_type": "code",
   "execution_count": 10,
   "metadata": {},
   "outputs": [
    {
     "data": {
      "text/plain": [
       "(1922607956096, 1922577069184)"
      ]
     },
     "execution_count": 10,
     "metadata": {},
     "output_type": "execute_result"
    }
   ],
   "source": [
    "# Using copy method\n",
    "l1_copy = l1.copy()\n",
    "id(l1), id(l1_copy)"
   ]
  },
  {
   "cell_type": "markdown",
   "metadata": {},
   "source": [
    "Copying tuples returns the original tuple"
   ]
  },
  {
   "cell_type": "code",
   "execution_count": 13,
   "metadata": {},
   "outputs": [
    {
     "data": {
      "text/plain": [
       "(1922608253888, 1922608253888)"
      ]
     },
     "execution_count": 13,
     "metadata": {},
     "output_type": "execute_result"
    }
   ],
   "source": [
    "# Same id\n",
    "t1 = (1,2,3)\n",
    "t2 = tuple(t1)\n",
    "id(t1), id(t2)"
   ]
  },
  {
   "cell_type": "markdown",
   "metadata": {},
   "source": [
    "Using copy module"
   ]
  },
  {
   "cell_type": "code",
   "execution_count": 14,
   "metadata": {},
   "outputs": [
    {
     "name": "stdout",
     "output_type": "stream",
     "text": [
      "1922607956736 [1, 2, 3]\n",
      "1922607881344 [1, 2, 3]\n"
     ]
    }
   ],
   "source": [
    "import copy\n",
    "l1 = [1,2,3]\n",
    "l2 = copy.copy(l1)\n",
    "print(id(l1), l1)\n",
    "print(id(l2), l2)"
   ]
  },
  {
   "cell_type": "markdown",
   "metadata": {},
   "source": [
    "Deep copy advantage"
   ]
  },
  {
   "cell_type": "code",
   "execution_count": 21,
   "metadata": {},
   "outputs": [
    {
     "name": "stdout",
     "output_type": "stream",
     "text": [
      "[[[1, 1], [2, 2]], [[3, 3], [4, 4]]]\n",
      "[[[1, 1], [2, 2]], [[3, 3], [4, 4]]]\n",
      "1922608069504 1922608155648\n",
      "\n",
      "\n",
      "1922608169344 1922608169344\n"
     ]
    }
   ],
   "source": [
    "# Example of using a shallow copy. Internal elements have the same memory address\n",
    "v1 = [1,1]\n",
    "v2 = [2,2]\n",
    "v3 = [3,3]\n",
    "v4 = [4,4]\n",
    "\n",
    "line1 = [v1, v2]\n",
    "line2 = [v3, v4]\n",
    "\n",
    "plane1 = [line1, line2]\n",
    "\n",
    "plane2 = [line.copy() for line in plane1]\n",
    "print(plane1)\n",
    "print(plane2)\n",
    "print(id(plane1), id(plane2))\n",
    "print('\\n')\n",
    "print(id(plane1[0][0]), id(plane2[0][0]))"
   ]
  },
  {
   "cell_type": "code",
   "execution_count": 26,
   "metadata": {},
   "outputs": [
    {
     "name": "stdout",
     "output_type": "stream",
     "text": [
      "[[[1, 1], [2, 2]], [[3, 3], [4, 4]]]\n",
      "[[[1, 1], [2, 2]], [[3, 3], [4, 4]]]\n",
      "1922608067392 1922608163072\n",
      "\n",
      "\n",
      "1922608173760 1922607960768\n",
      "\n",
      "\n",
      "[[[100, 1], [2, 2]], [[3, 3], [4, 4]]]\n",
      "[[[1, 1], [2, 2]], [[3, 3], [4, 4]]]\n"
     ]
    }
   ],
   "source": [
    "# The alternative is to use deepcopy. The internal elements have different memory addresses.\n",
    "v1 = [1,1]\n",
    "v2 = [2,2]\n",
    "v3 = [3,3]\n",
    "v4 = [4,4]\n",
    "\n",
    "line1 = [v1, v2]\n",
    "line2 = [v3, v4]\n",
    "\n",
    "plane1 = [line1, line2]\n",
    "\n",
    "plane2 = copy.deepcopy(plane1)\n",
    "print(plane1)\n",
    "print(plane2)\n",
    "print(id(plane1), id(plane2))\n",
    "print('\\n')\n",
    "print(id(plane1[0][0]), id(plane2[0][0]))\n",
    "print('\\n')\n",
    "\n",
    "plane1[0][0][0] = 100\n",
    "print(plane1)\n",
    "print(plane2)"
   ]
  },
  {
   "cell_type": "markdown",
   "metadata": {},
   "source": [
    "Deepcopy applied to custom classes"
   ]
  },
  {
   "cell_type": "code",
   "execution_count": 33,
   "metadata": {},
   "outputs": [
    {
     "name": "stdout",
     "output_type": "stream",
     "text": [
      "Point(0, 0) 1922607696336\n",
      "Point(0, 0) 1922607696336\n",
      "\n",
      "\n",
      "Point(0, 0) 1922608032016\n",
      "Point(0, 0) 1922608154448\n",
      "\n",
      "\n"
     ]
    }
   ],
   "source": [
    "# Notice the difference between copy and deepcopy for custom elements and the corresponding memory addresses\n",
    "\n",
    "class Point:\n",
    "    def __init__(self, x, y):\n",
    "        self.x = x\n",
    "        self.y = y\n",
    "\n",
    "    def __repr__(self):\n",
    "        return f'Point({self.x}, {self.y})'\n",
    "    \n",
    "class Line:\n",
    "    def __init__(self, p1, p2):\n",
    "        self.p1 = p1\n",
    "        self.p2 = p2\n",
    "\n",
    "    def __repr__(self):\n",
    "        return f'Line({self.p1.__repr__()}, {self.p2.__repr__()})'\n",
    "\n",
    "\n",
    "# Copy\n",
    "p1 = Point(0, 0)\n",
    "p2 = Point(1, 1)\n",
    "line1 = Line(p1, p2)\n",
    "line2 = copy.copy(line1)\n",
    "\n",
    "print(line1.p1, id(line1.p1))\n",
    "print(line2.p1, id(line2.p1))\n",
    "print('\\n')\n",
    "\n",
    "# Deepcopy\n",
    "p1 = Point(0, 0)\n",
    "p2 = Point(1, 1)\n",
    "line1 = Line(p1, p2)\n",
    "line2 = copy.deepcopy(line1)\n",
    "print(line1.p1, id(line1.p1))\n",
    "print(line2.p1, id(line2.p1))\n",
    "print('\\n')"
   ]
  },
  {
   "cell_type": "code",
   "execution_count": 30,
   "metadata": {},
   "outputs": [
    {
     "data": {
      "text/plain": [
       "Line(Point(0, 0), Point(1, 1))"
      ]
     },
     "execution_count": 30,
     "metadata": {},
     "output_type": "execute_result"
    }
   ],
   "source": []
  },
  {
   "cell_type": "code",
   "execution_count": null,
   "metadata": {},
   "outputs": [],
   "source": []
  }
 ],
 "metadata": {
  "kernelspec": {
   "display_name": "Python 3",
   "language": "python",
   "name": "python3"
  },
  "language_info": {
   "codemirror_mode": {
    "name": "ipython",
    "version": 3
   },
   "file_extension": ".py",
   "mimetype": "text/x-python",
   "name": "python",
   "nbconvert_exporter": "python",
   "pygments_lexer": "ipython3",
   "version": "3.11.4"
  },
  "orig_nbformat": 4
 },
 "nbformat": 4,
 "nbformat_minor": 2
}
