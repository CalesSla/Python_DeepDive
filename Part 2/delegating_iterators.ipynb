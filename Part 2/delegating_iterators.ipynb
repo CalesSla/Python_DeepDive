{
 "cells": [
  {
   "cell_type": "code",
   "execution_count": 3,
   "metadata": {},
   "outputs": [
    {
     "data": {
      "text/plain": [
       "['Michael Palin', 'Eric Idle', 'John Cleese']"
      ]
     },
     "execution_count": 3,
     "metadata": {},
     "output_type": "execute_result"
    }
   ],
   "source": [
    "# basic persons class\n",
    "\n",
    "from collections import namedtuple\n",
    "\n",
    "Person = namedtuple('Person', 'first last')\n",
    "\n",
    "class PersonNames:\n",
    "    def __init__(self, persons):\n",
    "        try:\n",
    "            self._persons = [person.first.capitalize() + ' ' + person.last.capitalize() for person in persons]\n",
    "        except (TypeError, AttributeError):\n",
    "            self._persons = []\n",
    " \n",
    "persons = [Person('michaeL', 'paLin'), Person('eric', 'idLe'), Person('john', 'cLeese')]\n",
    "person_names = PersonNames(persons)\n",
    "person_names._persons"
   ]
  },
  {
   "cell_type": "code",
   "execution_count": 4,
   "metadata": {},
   "outputs": [
    {
     "name": "stdout",
     "output_type": "stream",
     "text": [
      "Michael Palin\n",
      "Eric Idle\n",
      "John Cleese\n"
     ]
    }
   ],
   "source": [
    "# we can delegate the creation of an iterator to the iter function instead of writing one ourselves\n",
    "\n",
    "from collections import namedtuple\n",
    "\n",
    "Person = namedtuple('Person', 'first last')\n",
    "\n",
    "class PersonNames:\n",
    "    def __init__(self, persons):\n",
    "        try:\n",
    "            self._persons = [person.first.capitalize() + ' ' + person.last.capitalize() for person in persons]\n",
    "        except (TypeError, AttributeError):\n",
    "            self._persons = []\n",
    "\n",
    "    def __iter__(self):\n",
    "        return iter(self._persons)\n",
    "\n",
    " \n",
    "persons = [Person('michaeL', 'paLin'), Person('eric', 'idLe'), Person('john', 'cLeese')]\n",
    "person_names = PersonNames(persons)\n",
    "for name in person_names:\n",
    "    print(name)"
   ]
  },
  {
   "cell_type": "code",
   "execution_count": null,
   "metadata": {},
   "outputs": [],
   "source": []
  }
 ],
 "metadata": {
  "kernelspec": {
   "display_name": "Python 3",
   "language": "python",
   "name": "python3"
  },
  "language_info": {
   "codemirror_mode": {
    "name": "ipython",
    "version": 3
   },
   "file_extension": ".py",
   "mimetype": "text/x-python",
   "name": "python",
   "nbconvert_exporter": "python",
   "pygments_lexer": "ipython3",
   "version": "3.11.4"
  },
  "orig_nbformat": 4
 },
 "nbformat": 4,
 "nbformat_minor": 2
}
