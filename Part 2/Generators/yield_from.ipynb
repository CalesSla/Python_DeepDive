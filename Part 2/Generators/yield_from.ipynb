{
 "cells": [
  {
   "cell_type": "code",
   "execution_count": 4,
   "metadata": {},
   "outputs": [
    {
     "name": "stdout",
     "output_type": "stream",
     "text": [
      "1\n",
      "2\n",
      "3\n",
      "2\n",
      "4\n",
      "6\n",
      "3\n",
      "6\n",
      "9\n"
     ]
    }
   ],
   "source": [
    "# matrix iterator with nested loops\n",
    "\n",
    "def matrix(n):\n",
    "    gen = ((i*j for j in range(1, n+1)) for i in range(1, n+1))\n",
    "    return gen\n",
    "\n",
    "def matrix_iterator(n):\n",
    "    for row in matrix(n):\n",
    "        for item in row:\n",
    "            yield item\n",
    "\n",
    "for item in matrix_iterator(3):\n",
    "    print(item)"
   ]
  },
  {
   "cell_type": "code",
   "execution_count": 7,
   "metadata": {},
   "outputs": [
    {
     "name": "stdout",
     "output_type": "stream",
     "text": [
      "1\n",
      "2\n",
      "3\n",
      "2\n",
      "4\n",
      "6\n",
      "3\n",
      "6\n",
      "9\n"
     ]
    }
   ],
   "source": [
    "# a simpler synthax with yield from\n",
    "\n",
    "def matrix(n):\n",
    "    gen = ((i*j for j in range(1, n+1)) for i in range(1, n+1))\n",
    "    return gen\n",
    "\n",
    "def matrix_iterator(n):\n",
    "    for row in matrix(n):\n",
    "        yield from row\n",
    "\n",
    "for i in matrix_iterator(3):\n",
    "    print(i)"
   ]
  },
  {
   "cell_type": "code",
   "execution_count": 9,
   "metadata": {},
   "outputs": [],
   "source": [
    "# reading from multiple files standard approach\n",
    "\n",
    "file_1 = '../files/car-brands-1.txt'\n",
    "file_2 = '../files/car-brands-2.txt'\n",
    "file_3 = '../files/car-brands-3.txt'\n",
    "files = (file_1, file_2, file_3)\n",
    "\n",
    "brands = []\n",
    "\n",
    "with open(file_1) as f:\n",
    "    for brand in f:\n",
    "        brands.append(brand.strip('\\n'))\n",
    "\n",
    "with open(file_2) as f:\n",
    "    for brand in f:\n",
    "        brands.append(brand.strip('\\n'))\n",
    "\n",
    "with open(file_2) as f:\n",
    "    for brand in f:\n",
    "        brands.append(brand.strip('\\n'))"
   ]
  },
  {
   "cell_type": "code",
   "execution_count": 11,
   "metadata": {},
   "outputs": [],
   "source": [
    "# reading from multiple files with a generator function\n",
    "\n",
    "file_1 = '../files/car-brands-1.txt'\n",
    "file_2 = '../files/car-brands-2.txt'\n",
    "file_3 = '../files/car-brands-3.txt'\n",
    "files = (file_1, file_2, file_3)\n",
    "\n",
    "brands = []\n",
    "\n",
    "def brands(*files):\n",
    "    for f_name in files:\n",
    "        with open(f_name) as f:\n",
    "            for line in f:\n",
    "                yield line.strip('\\n')"
   ]
  },
  {
   "cell_type": "code",
   "execution_count": null,
   "metadata": {},
   "outputs": [],
   "source": [
    "def gen_clean_data(file):\n",
    "    with open(file) as f:\n",
    "        for row in f:\n",
    "            yield row.strip('\\n')\n",
    "\n",
    "def brands(*files):\n",
    "    for f_name in files:\n",
    "        cleaned_data = gen_clean_data(f_name)\n",
    "        yield from"
   ]
  }
 ],
 "metadata": {
  "kernelspec": {
   "display_name": "Python 3",
   "language": "python",
   "name": "python3"
  },
  "language_info": {
   "codemirror_mode": {
    "name": "ipython",
    "version": 3
   },
   "file_extension": ".py",
   "mimetype": "text/x-python",
   "name": "python",
   "nbconvert_exporter": "python",
   "pygments_lexer": "ipython3",
   "version": "3.11.4"
  },
  "orig_nbformat": 4
 },
 "nbformat": 4,
 "nbformat_minor": 2
}
