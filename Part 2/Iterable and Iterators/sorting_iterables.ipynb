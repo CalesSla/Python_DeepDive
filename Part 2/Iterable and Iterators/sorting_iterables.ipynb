{
 "cells": [
  {
   "cell_type": "code",
   "execution_count": 12,
   "metadata": {},
   "outputs": [
    {
     "name": "stdout",
     "output_type": "stream",
     "text": [
      "6\n",
      "6\n",
      "0\n",
      "4\n",
      "8\n",
      "7\n",
      "6\n",
      "4\n",
      "7\n",
      "5\n"
     ]
    }
   ],
   "source": [
    "# sorting custom class\n",
    "\n",
    "import random\n",
    "\n",
    "class RandomInts:\n",
    "    def __init__(self, length, *, seed=0, lower=0, upper=10):\n",
    "        self.length = length\n",
    "        self.seed = seed\n",
    "        self.lower = lower\n",
    "        self.upper = upper\n",
    "\n",
    "    def __len__(self):\n",
    "        return self.length\n",
    "\n",
    "    def __iter__(self):\n",
    "        return self.RandomIterator(length=self.length, seed=self.seed, lower=self.lower, upper=self.upper)\n",
    "\n",
    "    \n",
    "    class RandomIterator:\n",
    "        def __init__(self, length, *, seed, lower, upper):\n",
    "            self.length = length\n",
    "            self.lower = lower\n",
    "            self.upper = upper\n",
    "            self.num_requests = 0\n",
    "            random.seed(seed)\n",
    "\n",
    "        def __iter__(self):\n",
    "            return self\n",
    "\n",
    "        def __next__(self):\n",
    "            if self.num_requests >= self.length:\n",
    "                raise StopIteration\n",
    "            else:\n",
    "                result = random.randint(self.lower, self.upper)\n",
    "                self.num_requests += 1\n",
    "                return result\n",
    "            \n",
    "\n",
    "randoms = RandomInts(10)\n",
    "for num in randoms:\n",
    "    print(num)"
   ]
  },
  {
   "cell_type": "code",
   "execution_count": 13,
   "metadata": {},
   "outputs": [
    {
     "data": {
      "text/plain": [
       "[0, 4, 4, 5, 6, 6, 6, 7, 7, 8]"
      ]
     },
     "execution_count": 13,
     "metadata": {},
     "output_type": "execute_result"
    }
   ],
   "source": [
    "sorted(randoms)"
   ]
  },
  {
   "cell_type": "code",
   "execution_count": null,
   "metadata": {},
   "outputs": [],
   "source": []
  }
 ],
 "metadata": {
  "kernelspec": {
   "display_name": "Python 3",
   "language": "python",
   "name": "python3"
  },
  "language_info": {
   "codemirror_mode": {
    "name": "ipython",
    "version": 3
   },
   "file_extension": ".py",
   "mimetype": "text/x-python",
   "name": "python",
   "nbconvert_exporter": "python",
   "pygments_lexer": "ipython3",
   "version": "3.11.4"
  },
  "orig_nbformat": 4
 },
 "nbformat": 4,
 "nbformat_minor": 2
}
