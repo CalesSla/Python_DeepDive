{
 "cells": [
  {
   "cell_type": "code",
   "execution_count": 10,
   "metadata": {},
   "outputs": [
    {
     "data": {
      "text/plain": [
       "3.141592653589793"
      ]
     },
     "execution_count": 10,
     "metadata": {},
     "output_type": "execute_result"
    }
   ],
   "source": [
    "# example of lazy evaluation\n",
    "\n",
    "import math\n",
    "\n",
    "class Circle:\n",
    "    def __init__(self, r):\n",
    "        self._radius = r\n",
    "        self._area = None\n",
    "\n",
    "    @property\n",
    "    def radius(self):\n",
    "        return self._radius\n",
    "    \n",
    "    @radius.setter\n",
    "    def radius(self, r):\n",
    "        self._radius = r\n",
    "        self._area = None\n",
    "\n",
    "    @property\n",
    "    def area(self):\n",
    "        if self._area is None:\n",
    "            self._area = math.pi * (self.radius**2)\n",
    "        return self._area\n",
    "\n",
    "\n",
    "c = Circle(1)\n",
    "c.area"
   ]
  },
  {
   "cell_type": "code",
   "execution_count": 12,
   "metadata": {},
   "outputs": [
    {
     "data": {
      "text/plain": [
       "[1, 1, 2, 6, 24]"
      ]
     },
     "execution_count": 12,
     "metadata": {},
     "output_type": "execute_result"
    }
   ],
   "source": [
    "# finite lazy evaluation\n",
    "\n",
    "class Factorials:\n",
    "    def __init__(self, length):\n",
    "        self.length = length\n",
    "\n",
    "    def __iter__(self):\n",
    "        return self.FactIter(self.length)\n",
    "\n",
    "    class FactIter:\n",
    "        def __init__(self, length):\n",
    "            self.length = length\n",
    "            self.i = 0\n",
    "\n",
    "        def __iter__(self):\n",
    "            return self\n",
    "        \n",
    "        def __next__(self):\n",
    "            if self.i >= self.length:\n",
    "                raise StopIteration\n",
    "            else:\n",
    "                result = math.factorial(self.i)\n",
    "                self.i += 1\n",
    "                return result\n",
    "            \n",
    "facts = Factorials(5)\n",
    "list(facts)"
   ]
  },
  {
   "cell_type": "code",
   "execution_count": 15,
   "metadata": {},
   "outputs": [
    {
     "name": "stdout",
     "output_type": "stream",
     "text": [
      "1\n",
      "1\n",
      "2\n",
      "6\n",
      "24\n",
      "120\n",
      "720\n",
      "5040\n",
      "40320\n",
      "362880\n"
     ]
    }
   ],
   "source": [
    "# infinite lazy evaluation\n",
    "\n",
    "class Factorials:\n",
    "    def __iter__(self):\n",
    "        return self.FactIter()\n",
    "\n",
    "    class FactIter:\n",
    "        def __init__(self):\n",
    "            self.i = 0\n",
    "\n",
    "        def __iter__(self):\n",
    "            return self\n",
    "        \n",
    "        def __next__(self):\n",
    "            result = math.factorial(self.i)\n",
    "            self.i += 1\n",
    "            return result\n",
    "            \n",
    "facts = Factorials()\n",
    "facts_iter = iter(facts)\n",
    "for i in range(10):\n",
    "    print(next(facts_iter))"
   ]
  },
  {
   "cell_type": "code",
   "execution_count": null,
   "metadata": {},
   "outputs": [],
   "source": []
  }
 ],
 "metadata": {
  "kernelspec": {
   "display_name": "Python 3",
   "language": "python",
   "name": "python3"
  },
  "language_info": {
   "codemirror_mode": {
    "name": "ipython",
    "version": 3
   },
   "file_extension": ".py",
   "mimetype": "text/x-python",
   "name": "python",
   "nbconvert_exporter": "python",
   "pygments_lexer": "ipython3",
   "version": "3.11.4"
  },
  "orig_nbformat": 4
 },
 "nbformat": 4,
 "nbformat_minor": 2
}
