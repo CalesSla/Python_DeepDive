{
 "cells": [
  {
   "cell_type": "code",
   "execution_count": 51,
   "metadata": {},
   "outputs": [
    {
     "data": {
      "text/plain": [
       "True"
      ]
     },
     "execution_count": 51,
     "metadata": {},
     "output_type": "execute_result"
    }
   ],
   "source": [
    "# single polygon class\n",
    "\n",
    "import math\n",
    "\n",
    "class Polygon:\n",
    "    def __init__(self, n_vertices, r):\n",
    "        if n_vertices < 3:\n",
    "            raise ValueError(\"Polygon must have at least 3 sides\")\n",
    "        self._n_vertices = n_vertices\n",
    "        self._r = r\n",
    "        self._inter_ang = None\n",
    "        self._edge_length = None\n",
    "        self._apothem = None\n",
    "        self._area = None\n",
    "        self._perim = None\n",
    "\n",
    "    @property\n",
    "    def n_vertices(self):\n",
    "        return self._n_vertices\n",
    "    \n",
    "    @property\n",
    "    def r(self):\n",
    "        return self._r\n",
    "\n",
    "    @property\n",
    "    def n_edges(self):\n",
    "        return self._n_vertices\n",
    "    \n",
    "    @property\n",
    "    def inter_ang(self):\n",
    "        if self._inter_ang is None:\n",
    "            self._inter_ang = (self._n_vertices - 2) * (180 / self._n_vertices)\n",
    "        return self._inter_ang\n",
    "\n",
    "    @property\n",
    "    def edge_length(self):\n",
    "        if self._edge_length is None:\n",
    "            self._edge_length =  self._r * 2 * math.sin(math.pi/self._n_vertices)\n",
    "        return self._edge_length\n",
    "    \n",
    "    @property\n",
    "    def apothem(self):\n",
    "        if self._apothem is None:\n",
    "            self._apothem = self._r * math.cos(math.pi / self._n_vertices)\n",
    "        return self._apothem\n",
    "    \n",
    "    @property\n",
    "    def area(self):\n",
    "        if self._area is None:\n",
    "            self._area = (self._n_vertices * self.edge_length * self.apothem) / 2\n",
    "        return self._area\n",
    "\n",
    "    @property\n",
    "    def perim(self):\n",
    "        if self._perim is None:\n",
    "            self._perim = self._n_vertices * self._edge_length\n",
    "        return self._perim\n",
    "    \n",
    "    @n_vertices.setter\n",
    "    def n_vertices(self, new_value):\n",
    "        if new_value < 3:\n",
    "            raise ValueError(\"Polygon must have at least 3 sides\")\n",
    "        else:\n",
    "            if self._n_vertices != new_value:\n",
    "                self._inter_ang = None\n",
    "                self._edge_length = None\n",
    "                self._apothem = None\n",
    "                self._area = None\n",
    "                self._perim = None\n",
    "                self._n_vertices = new_value\n",
    "    \n",
    "    @r.setter\n",
    "    def r(self, new_value):\n",
    "        if new_value <= 0:\n",
    "            raise ValueError('Radius must be greater than 0.')\n",
    "        else:\n",
    "            if not math.isclose(self._r, new_value, rel_tol=0.0001, abs_tol=0.0001):\n",
    "                self._inter_ang = None\n",
    "                self._edge_length = None\n",
    "                self._apothem = None\n",
    "                self._area = None\n",
    "                self._perim = None\n",
    "                self._r = new_value\n",
    "\n",
    "    \n",
    "    def __repr__(self):\n",
    "        return f\"Polygon(n_vertices={self._n_vertices}, r={self._r})\"\n",
    "    \n",
    "    def __eq__(self, other):\n",
    "        if isinstance(other, Polygon):\n",
    "            return self._n_vertices == other._n_vertices and self._r == other._r\n",
    "        else:\n",
    "            raise TypeError(\"Can only compare a polygon with another polygon\")\n",
    "        \n",
    "    def __gt__(self, other):\n",
    "        if isinstance(other, Polygon):\n",
    "            return self._n_vertices > other._n_vertices\n",
    "        else:\n",
    "            raise TypeError(\"Can only compare a polygon with another polygon\")\n",
    "\n",
    "\n",
    "\n",
    "p1 = Polygon(4, 10)\n",
    "p2 = Polygon(4, 10)\n",
    "p1 == p2"
   ]
  },
  {
   "cell_type": "code",
   "execution_count": 90,
   "metadata": {},
   "outputs": [
    {
     "name": "stdout",
     "output_type": "stream",
     "text": [
      "calculating area\n",
      "calculating edge_length\n",
      "calculating apothem\n",
      "calculating perim\n",
      "calculating area\n",
      "calculating edge_length\n",
      "calculating apothem\n",
      "calculating perim\n",
      "calculating area\n",
      "calculating edge_length\n",
      "calculating apothem\n",
      "calculating perim\n",
      "calculating area\n",
      "calculating edge_length\n",
      "calculating apothem\n",
      "calculating perim\n",
      "calculating area\n",
      "calculating edge_length\n",
      "calculating apothem\n",
      "calculating perim\n",
      "calculating area\n",
      "calculating edge_length\n",
      "calculating apothem\n",
      "calculating perim\n",
      "calculating area\n",
      "calculating edge_length\n",
      "calculating apothem\n",
      "calculating perim\n",
      "calculating area\n",
      "calculating edge_length\n",
      "calculating apothem\n",
      "calculating perim\n"
     ]
    },
    {
     "data": {
      "text/plain": [
       "Polygon(n_vertices=10, r=1)"
      ]
     },
     "execution_count": 90,
     "metadata": {},
     "output_type": "execute_result"
    }
   ],
   "source": [
    "# Multiple polygons class (non-lazy implementation)\n",
    "\n",
    "class Polygons:\n",
    "    def __init__(self, max_vert, common_r):\n",
    "        if max_vert < 3:\n",
    "            raise ValueError(\"Polygon must have at least 3 sides\")\n",
    "        self.max_vert = max_vert\n",
    "        self.common_r = common_r\n",
    "        self._polygons = [Polygon(v, self.common_r) for v in range(3, self.max_vert+1)]\n",
    "    \n",
    "    def __repr__(self):\n",
    "        pol_strings = ', '.join([str(i) for i in self._polygons])\n",
    "        return f\"Polygons({pol_strings})\"\n",
    "    \n",
    "    def __len__(self):\n",
    "        return self.max_vert - 2\n",
    "    \n",
    "    def __getitem__(self, s):\n",
    "        return self._polygons[s]\n",
    "    \n",
    "    def __setitem__(self, s, value):\n",
    "        if isinstance(s, int):\n",
    "            if isinstance(value, Polygon) and value[1] == self.common_r:\n",
    "                self._polygons[s] = value\n",
    "            else:\n",
    "                raise TypeError\n",
    "        elif isinstance(s, slice):\n",
    "            self._polygons[s] = [Polygon(i, self.common_r) for i in value]\n",
    "        else:\n",
    "            raise TypeError\n",
    "        \n",
    "        self.update_mv()\n",
    "\n",
    "    def update_mv(self):\n",
    "        mv = 0\n",
    "        for p in self._polygons:\n",
    "            if p.n_vertices > mv:\n",
    "                mv = p.n_vertices\n",
    "        self.max_vert = mv\n",
    "        \n",
    "    def __add__(self, other):\n",
    "        if isinstance(other, Polygon):\n",
    "            self.check_r(other)\n",
    "            self._polygons = self._polygons + [other]\n",
    "            self._polygons.sort(key = lambda x: x.n_vertices)\n",
    "            self.update_mv()\n",
    "            self._polygons.sort(key = lambda x: x.n_vertices)\n",
    "            return self\n",
    "        else:\n",
    "            for i in other:\n",
    "                self.check_r(i)\n",
    "            self._polygons = self._polygons + other\n",
    "            self.update_mv()\n",
    "            self._polygons.sort(key = lambda x: x.n_vertices)\n",
    "            return self\n",
    "        \n",
    "    def __iadd__(self, other):\n",
    "        self._polygons += other\n",
    "        self._polygons.sort(key = lambda x: x.n_vertices)\n",
    "        self.update_mv()\n",
    "        return self\n",
    "    \n",
    "    def insert(self, i, pol):\n",
    "        self._polygons.insert(i, pol)\n",
    "\n",
    "    def check_r(self, pol):\n",
    "        if pol.r != self.max_vert:\n",
    "            raise ValueError(f\"The radius must be standard: {self.common_r}\")\n",
    "        \n",
    "    def __delitem__(self, i):\n",
    "        del self._polygons[i]\n",
    "\n",
    "    def pop(self, i):\n",
    "        return self._polygons.pop(i)\n",
    "    \n",
    "    def clear(self):\n",
    "        self._polygons.clear()\n",
    "\n",
    "    def max_efficiency(self):\n",
    "        sorted_polygons = sorted(self._polygons, key = lambda x: x.area / x.perim)\n",
    "        return sorted_polygons[-1]\n",
    "        \n",
    "pls = Polygons(10, 1)\n",
    "pls.max_efficiency()"
   ]
  },
  {
   "cell_type": "code",
   "execution_count": 91,
   "metadata": {},
   "outputs": [
    {
     "name": "stdout",
     "output_type": "stream",
     "text": [
      "calculating inter_ang\n",
      "calculating inter_ang\n",
      "calculating area\n",
      "calculating edge_length\n",
      "calculating apothem\n",
      "calculating perim\n",
      "calculating inter_ang\n",
      "calculating area\n",
      "calculating edge_length\n",
      "calculating apothem\n",
      "calculating perim\n"
     ]
    }
   ],
   "source": [
    "# Tester function\n",
    "\n",
    "def test_polygon():\n",
    "    rel_tol = 0.001\n",
    "    abs_tol = 0.001\n",
    "\n",
    "    try:\n",
    "        p = Polygon(2, 10)\n",
    "        assert False, (\"Creating a polygon with 2 sides: Exception expected but not received.\")\n",
    "    except ValueError:\n",
    "        pass \n",
    "    n_vertices = 3\n",
    "    r = 1\n",
    "    p = Polygon(n_vertices, r)\n",
    "    assert str(p) == f\"Polygon(n_vertices=3, r=1)\", f'actual: {str(p)}'\n",
    "    assert p.n_vertices == n_vertices, (f'actual: {p.n_vertices}', f'expected: {n_vertices}')\n",
    "    assert p.n_edges == n_vertices\n",
    "    assert p.r == r\n",
    "    assert p.inter_ang == 60\n",
    "\n",
    "\n",
    "    n_vertices = 6\n",
    "    r = 2\n",
    "    p = Polygon(n_vertices, r)\n",
    "    assert math.isclose(p.inter_ang, 120)\n",
    "    assert math.isclose(p.area, 10.3923, rel_tol=rel_tol, abs_tol=abs_tol)\n",
    "    assert math.isclose(p.edge_length, 2, rel_tol=rel_tol, abs_tol=abs_tol)\n",
    "    assert math.isclose(p.perim, 12, rel_tol=rel_tol, abs_tol=abs_tol)\n",
    "    assert math.isclose(p.apothem, 1.73205, rel_tol=rel_tol, abs_tol=abs_tol)\n",
    "\n",
    "\n",
    "    n_vertices = 12\n",
    "    r = 3\n",
    "    p = Polygon(n_vertices, r)\n",
    "    assert math.isclose(p.inter_ang, 150)\n",
    "    assert math.isclose(p.area, 27, rel_tol=rel_tol, abs_tol=abs_tol)\n",
    "    assert math.isclose(p.edge_length, 1.55291, rel_tol=rel_tol, abs_tol=abs_tol)\n",
    "    assert math.isclose(p.perim, 18.635, rel_tol=rel_tol, abs_tol=abs_tol)\n",
    "    assert math.isclose(p.apothem, 2.89778, rel_tol=rel_tol, abs_tol=abs_tol)\n",
    "\n",
    "    p1 = Polygon(3, 10)\n",
    "    p2 = Polygon(10, 10)\n",
    "    p3 = Polygon(15, 10)\n",
    "    p4 = Polygon(15, 100)\n",
    "    p5 = Polygon(15, 100)\n",
    "\n",
    "    assert p2 > p1\n",
    "    assert p2 < p3\n",
    "    assert p3 != p5\n",
    "    assert p1 != p4\n",
    "    assert p4 == p5\n",
    "\n",
    "\n",
    "test_polygon()"
   ]
  },
  {
   "cell_type": "code",
   "execution_count": null,
   "metadata": {},
   "outputs": [],
   "source": []
  },
  {
   "cell_type": "code",
   "execution_count": null,
   "metadata": {},
   "outputs": [],
   "source": []
  },
  {
   "cell_type": "code",
   "execution_count": null,
   "metadata": {},
   "outputs": [],
   "source": []
  },
  {
   "cell_type": "code",
   "execution_count": 88,
   "metadata": {},
   "outputs": [],
   "source": [
    "class PolygonsI:\n",
    "    def __init__(self, max_vert, common_r):\n",
    "        if max_vert < 3:\n",
    "            raise ValueError('Polygon must have at least 3 sides')\n",
    "        self.max_vert = max_vert\n",
    "        self.common_r = common_r\n",
    "\n",
    "    def __repr__(self):\n",
    "        pol_strings = ', '.join([str(i) for i in self._polygons])\n",
    "        return f\"Polygons({pol_strings})\"\n",
    "    \n",
    "    def __iter__(self):\n",
    "        return self.PolygonsIterator(self.max_vert, self.common_r)\n",
    "    \n",
    "    def max_efficiency(self):\n",
    "        sorted_polygons = sorted(self.PolygonsIterator(self.max_vert, self.common_r), key = lambda x: x.area / x.perim)\n",
    "        return sorted_polygons[-1]\n",
    "    \n",
    "    class PolygonsIterator:\n",
    "        def __init__(self, max_vert, common_r):\n",
    "            self.max_vert = max_vert\n",
    "            self.common_r = common_r\n",
    "            self.i = 3\n",
    "\n",
    "        def __iter__(self):\n",
    "            return self\n",
    "        \n",
    "        def __next__(self):\n",
    "            if self.i > self.max_vert:\n",
    "                raise StopIteration\n",
    "            else:\n",
    "                poly = Polygon(self.i, self.common_r)\n",
    "                self.i += 1\n",
    "                return poly\n",
    "\n",
    "    "
   ]
  },
  {
   "cell_type": "code",
   "execution_count": 89,
   "metadata": {},
   "outputs": [
    {
     "name": "stdout",
     "output_type": "stream",
     "text": [
      "calculating area\n",
      "calculating edge_length\n",
      "calculating apothem\n",
      "calculating perim\n",
      "calculating area\n",
      "calculating edge_length\n",
      "calculating apothem\n",
      "calculating perim\n",
      "calculating area\n",
      "calculating edge_length\n",
      "calculating apothem\n",
      "calculating perim\n",
      "calculating area\n",
      "calculating edge_length\n",
      "calculating apothem\n",
      "calculating perim\n",
      "calculating area\n",
      "calculating edge_length\n",
      "calculating apothem\n",
      "calculating perim\n",
      "calculating area\n",
      "calculating edge_length\n",
      "calculating apothem\n",
      "calculating perim\n"
     ]
    },
    {
     "data": {
      "text/plain": [
       "[Polygon(n_vertices=3, r=1),\n",
       " Polygon(n_vertices=4, r=1),\n",
       " Polygon(n_vertices=5, r=1),\n",
       " Polygon(n_vertices=6, r=1),\n",
       " Polygon(n_vertices=7, r=1),\n",
       " Polygon(n_vertices=8, r=1)]"
      ]
     },
     "execution_count": 89,
     "metadata": {},
     "output_type": "execute_result"
    }
   ],
   "source": [
    "pls = PolygonsI(10, 1)\n",
    "pls.max_efficiency()"
   ]
  },
  {
   "cell_type": "code",
   "execution_count": null,
   "metadata": {},
   "outputs": [],
   "source": []
  },
  {
   "cell_type": "code",
   "execution_count": null,
   "metadata": {},
   "outputs": [],
   "source": []
  },
  {
   "cell_type": "code",
   "execution_count": null,
   "metadata": {},
   "outputs": [],
   "source": []
  },
  {
   "cell_type": "code",
   "execution_count": 58,
   "metadata": {},
   "outputs": [
    {
     "name": "stdout",
     "output_type": "stream",
     "text": [
      "calculating area\n",
      "calculating edge_length\n",
      "calculating apothem\n",
      "calculating perim\n",
      "calculating area\n",
      "calculating edge_length\n",
      "calculating apothem\n",
      "calculating perim\n",
      "calculating area\n",
      "calculating edge_length\n",
      "calculating apothem\n",
      "calculating perim\n",
      "calculating area\n",
      "calculating edge_length\n",
      "calculating apothem\n",
      "calculating perim\n",
      "calculating area\n",
      "calculating edge_length\n",
      "calculating apothem\n",
      "calculating perim\n",
      "calculating area\n",
      "calculating edge_length\n",
      "calculating apothem\n",
      "calculating perim\n",
      "calculating area\n",
      "calculating edge_length\n",
      "calculating apothem\n",
      "calculating perim\n",
      "calculating area\n",
      "calculating edge_length\n",
      "calculating apothem\n",
      "calculating perim\n"
     ]
    },
    {
     "data": {
      "text/plain": [
       "Polygon(n_vertices=10, r=1)"
      ]
     },
     "execution_count": 58,
     "metadata": {},
     "output_type": "execute_result"
    }
   ],
   "source": []
  },
  {
   "cell_type": "code",
   "execution_count": 60,
   "metadata": {},
   "outputs": [
    {
     "data": {
      "text/plain": [
       "Polygons(Polygon(n_vertices=3, r=1), Polygon(n_vertices=4, r=1), Polygon(n_vertices=5, r=1), Polygon(n_vertices=6, r=1), Polygon(n_vertices=7, r=1), Polygon(n_vertices=8, r=1), Polygon(n_vertices=9, r=1), Polygon(n_vertices=10, r=1))"
      ]
     },
     "execution_count": 60,
     "metadata": {},
     "output_type": "execute_result"
    }
   ],
   "source": [
    "pls"
   ]
  },
  {
   "cell_type": "code",
   "execution_count": null,
   "metadata": {},
   "outputs": [],
   "source": []
  },
  {
   "cell_type": "code",
   "execution_count": 33,
   "metadata": {},
   "outputs": [
    {
     "data": {
      "text/plain": [
       "Polygon(n_vertices=10, r=1)"
      ]
     },
     "execution_count": 33,
     "metadata": {},
     "output_type": "execute_result"
    }
   ],
   "source": [
    "pls.max_efficiency()"
   ]
  },
  {
   "cell_type": "code",
   "execution_count": null,
   "metadata": {},
   "outputs": [],
   "source": []
  },
  {
   "cell_type": "code",
   "execution_count": null,
   "metadata": {},
   "outputs": [],
   "source": []
  },
  {
   "cell_type": "code",
   "execution_count": null,
   "metadata": {},
   "outputs": [],
   "source": []
  },
  {
   "cell_type": "code",
   "execution_count": null,
   "metadata": {},
   "outputs": [],
   "source": []
  },
  {
   "cell_type": "code",
   "execution_count": null,
   "metadata": {},
   "outputs": [],
   "source": []
  },
  {
   "cell_type": "code",
   "execution_count": null,
   "metadata": {},
   "outputs": [],
   "source": []
  }
 ],
 "metadata": {
  "kernelspec": {
   "display_name": "Python 3",
   "language": "python",
   "name": "python3"
  },
  "language_info": {
   "codemirror_mode": {
    "name": "ipython",
    "version": 3
   },
   "file_extension": ".py",
   "mimetype": "text/x-python",
   "name": "python",
   "nbconvert_exporter": "python",
   "pygments_lexer": "ipython3",
   "version": "3.11.4"
  },
  "orig_nbformat": 4
 },
 "nbformat": 4,
 "nbformat_minor": 2
}
