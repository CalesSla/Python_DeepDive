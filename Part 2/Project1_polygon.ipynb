{
 "cells": [
  {
   "cell_type": "code",
   "execution_count": 46,
   "metadata": {},
   "outputs": [
    {
     "data": {
      "text/plain": [
       "True"
      ]
     },
     "execution_count": 46,
     "metadata": {},
     "output_type": "execute_result"
    }
   ],
   "source": [
    "import math\n",
    "\n",
    "class Polygon:\n",
    "    def __init__(self, n_vertices, r):\n",
    "        self.n_vertices = n_vertices\n",
    "        self.r = r\n",
    "\n",
    "    @property\n",
    "    def n_edges(self):\n",
    "        return self.n_vertices\n",
    "    \n",
    "    @property\n",
    "    def inter_ang(self):\n",
    "        return (self.n_vertices - 2) * (180 / self.n_vertices)\n",
    "\n",
    "    @property\n",
    "    def edge_length(self):\n",
    "        return self.r * 2 * math.sin(math.pi/self.n_vertices)\n",
    "    \n",
    "    @property\n",
    "    def apothem(self):\n",
    "        return self.r * math.cos(math.pi / self.n_vertices)\n",
    "    \n",
    "    @property\n",
    "    def area(self):\n",
    "        return (self.n_vertices * self.edge_length * self.apothem) / 2\n",
    "\n",
    "    @property\n",
    "    def perim(self):\n",
    "        return self.n_vertices * self.edge_length\n",
    "    \n",
    "    def __repr__(self):\n",
    "        return f\"Polygon(n_vertices={self.n_vertices}, r={self.r})\"\n",
    "    \n",
    "    def __eq__(self, other):\n",
    "        if isinstance(other, Polygon):\n",
    "            return self.n_vertices == other.n_vertices and self.r == other.r\n",
    "        else:\n",
    "            raise TypeError(\"Can only compare a polygon with another polygon\")\n",
    "        \n",
    "    def __gt__(self, other):\n",
    "        if isinstance(other, Polygon):\n",
    "            return self.n_vertices > other.n_vertices\n",
    "        else:\n",
    "            raise TypeError(\"Can only compare a polygon with another polygon\")\n",
    "\n",
    "\n",
    "\n",
    "p1 = Polygon(4, 10)\n",
    "p2 = Polygon(4, 10)\n",
    "p1 > p2"
   ]
  },
  {
   "cell_type": "code",
   "execution_count": 332,
   "metadata": {},
   "outputs": [
    {
     "data": {
      "text/plain": [
       "Polygons(Polygon(n_vertices=3, r=10), Polygon(n_vertices=4, r=10), Polygon(n_vertices=5, r=10), Polygon(n_vertices=6, r=10), Polygon(n_vertices=7, r=10), Polygon(n_vertices=8, r=10), Polygon(n_vertices=9, r=10), Polygon(n_vertices=10, r=10), Polygon(n_vertices=11, r=10), Polygon(n_vertices=12, r=10), Polygon(n_vertices=13, r=10), Polygon(n_vertices=14, r=10), Polygon(n_vertices=15, r=10), Polygon(n_vertices=16, r=10), Polygon(n_vertices=17, r=10), Polygon(n_vertices=18, r=10), Polygon(n_vertices=19, r=10), Polygon(n_vertices=20, r=10))"
      ]
     },
     "execution_count": 332,
     "metadata": {},
     "output_type": "execute_result"
    }
   ],
   "source": [
    "class Polygons:\n",
    "    def __init__(self, max_vert, common_r):\n",
    "        self.max_vert = max_vert\n",
    "        self.common_r = common_r\n",
    "        self._polygons = [Polygon(v, self.common_r) for v in range(3, self.max_vert+1)]\n",
    "    \n",
    "    def __repr__(self):\n",
    "        pol_strings = ', '.join([str(i) for i in self._polygons])\n",
    "        return f\"Polygons({pol_strings})\"\n",
    "    \n",
    "    def __len__(self):\n",
    "        return len(self._polygons)\n",
    "    \n",
    "    def __getitem__(self, s):\n",
    "        return self._polygons[s]\n",
    "    \n",
    "    def __setitem__(self, s, value):\n",
    "        if isinstance(s, int):\n",
    "            if isinstance(value, Polygon) and value[1] == self.common_r:\n",
    "                self._polygons[s] = value\n",
    "            else:\n",
    "                raise TypeError\n",
    "        elif isinstance(s, slice):\n",
    "            self._polygons[s] = [Polygon(i, self.common_r) for i in value]\n",
    "        else:\n",
    "            raise TypeError\n",
    "        \n",
    "        self.update_mv()\n",
    "\n",
    "    def update_mv(self):\n",
    "        mv = 0\n",
    "        for p in self._polygons:\n",
    "            if p.n_vertices > mv:\n",
    "                mv = p.n_vertices\n",
    "        self.max_vert = mv\n",
    "        \n",
    "    def __add__(self, other):\n",
    "        if isinstance(other, Polygon):\n",
    "            self.check_r(other)\n",
    "            self._polygons = self._polygons + [other]\n",
    "            self._polygons.sort(key = lambda x: x.n_vertices)\n",
    "            self.update_mv()\n",
    "            self._polygons.sort(key = lambda x: x.n_vertices)\n",
    "            return self\n",
    "        else:\n",
    "            for i in other:\n",
    "                self.check_r(i)\n",
    "            self._polygons = self._polygons + other\n",
    "            self.update_mv()\n",
    "            self._polygons.sort(key = lambda x: x.n_vertices)\n",
    "            return self\n",
    "        \n",
    "    def __iadd__(self, other):\n",
    "        self._polygons += other\n",
    "        self._polygons.sort(key = lambda x: x.n_vertices)\n",
    "        self.update_mv()\n",
    "        return self\n",
    "    \n",
    "    def insert(self, i, pol):\n",
    "        self._polygons.insert(i, pol)\n",
    "\n",
    "    def check_r(self, pol):\n",
    "        if pol.r != self.max_vert:\n",
    "            raise ValueError(f\"The radius must be standard: {self.common_r}\")\n",
    "        \n",
    "    def __delitem__(self, i):\n",
    "        del self._polygons[i]\n",
    "\n",
    "    def pop(self, i):\n",
    "        return self._polygons.pop(i)\n",
    "    \n",
    "    def clear(self):\n",
    "        self._polygons.clear()\n",
    "\n",
    "    def max_efficiency(self):\n",
    "        result = [(idx, pol.area / pol.perim) for idx, pol in enumerate(self._polygons)]\n",
    "        result.sort(key = lambda x: x[1])\n",
    "        return self._polygons[result[-1][0]]\n",
    "        \n",
    "pls = Polygons(20, 10)\n",
    "pls"
   ]
  },
  {
   "cell_type": "code",
   "execution_count": 333,
   "metadata": {},
   "outputs": [],
   "source": [
    "pls.insert(0, Polygon(1, 1))"
   ]
  },
  {
   "cell_type": "code",
   "execution_count": 334,
   "metadata": {},
   "outputs": [
    {
     "data": {
      "text/plain": [
       "Polygon(n_vertices=20, r=10)"
      ]
     },
     "execution_count": 334,
     "metadata": {},
     "output_type": "execute_result"
    }
   ],
   "source": [
    "pls.max_efficiency()"
   ]
  },
  {
   "cell_type": "code",
   "execution_count": null,
   "metadata": {},
   "outputs": [],
   "source": []
  },
  {
   "cell_type": "code",
   "execution_count": null,
   "metadata": {},
   "outputs": [],
   "source": []
  },
  {
   "cell_type": "code",
   "execution_count": 253,
   "metadata": {},
   "outputs": [],
   "source": []
  },
  {
   "cell_type": "code",
   "execution_count": 254,
   "metadata": {},
   "outputs": [
    {
     "data": {
      "text/plain": [
       "Polygons(Polygon(n_vertices=5, r=10), Polygon(n_vertices=5, r=10), Polygon(n_vertices=5, r=10), Polygon(n_vertices=6, r=10), Polygon(n_vertices=1, r=10), Polygon(n_vertices=2, r=10))"
      ]
     },
     "execution_count": 254,
     "metadata": {},
     "output_type": "execute_result"
    }
   ],
   "source": [
    "pls"
   ]
  },
  {
   "cell_type": "code",
   "execution_count": null,
   "metadata": {},
   "outputs": [],
   "source": []
  },
  {
   "cell_type": "code",
   "execution_count": null,
   "metadata": {},
   "outputs": [],
   "source": []
  }
 ],
 "metadata": {
  "kernelspec": {
   "display_name": "Python 3",
   "language": "python",
   "name": "python3"
  },
  "language_info": {
   "codemirror_mode": {
    "name": "ipython",
    "version": 3
   },
   "file_extension": ".py",
   "mimetype": "text/x-python",
   "name": "python",
   "nbconvert_exporter": "python",
   "pygments_lexer": "ipython3",
   "version": "3.11.4"
  },
  "orig_nbformat": 4
 },
 "nbformat": 4,
 "nbformat_minor": 2
}
