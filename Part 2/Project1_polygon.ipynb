{
 "cells": [
  {
   "cell_type": "code",
   "execution_count": 359,
   "metadata": {},
   "outputs": [
    {
     "data": {
      "text/plain": [
       "False"
      ]
     },
     "execution_count": 359,
     "metadata": {},
     "output_type": "execute_result"
    }
   ],
   "source": [
    "import math\n",
    "\n",
    "class Polygon:\n",
    "    def __init__(self, n_vertices, r):\n",
    "        if n_vertices < 3:\n",
    "            raise ValueError(\"Polygon must have at least 3 sides\")\n",
    "        self.n_vertices = n_vertices\n",
    "        self.r = r\n",
    "\n",
    "    @property\n",
    "    def n_edges(self):\n",
    "        return self.n_vertices\n",
    "    \n",
    "    @property\n",
    "    def inter_ang(self):\n",
    "        return (self.n_vertices - 2) * (180 / self.n_vertices)\n",
    "\n",
    "    @property\n",
    "    def edge_length(self):\n",
    "        return self.r * 2 * math.sin(math.pi/self.n_vertices)\n",
    "    \n",
    "    @property\n",
    "    def apothem(self):\n",
    "        return self.r * math.cos(math.pi / self.n_vertices)\n",
    "    \n",
    "    @property\n",
    "    def area(self):\n",
    "        return (self.n_vertices * self.edge_length * self.apothem) / 2\n",
    "\n",
    "    @property\n",
    "    def perim(self):\n",
    "        return self.n_vertices * self.edge_length\n",
    "    \n",
    "    def __repr__(self):\n",
    "        return f\"Polygon(n_vertices={self.n_vertices}, r={self.r})\"\n",
    "    \n",
    "    def __eq__(self, other):\n",
    "        if isinstance(other, Polygon):\n",
    "            return self.n_vertices == other.n_vertices and self.r == other.r\n",
    "        else:\n",
    "            raise TypeError(\"Can only compare a polygon with another polygon\")\n",
    "        \n",
    "    def __gt__(self, other):\n",
    "        if isinstance(other, Polygon):\n",
    "            return self.n_vertices > other.n_vertices\n",
    "        else:\n",
    "            raise TypeError(\"Can only compare a polygon with another polygon\")\n",
    "\n",
    "\n",
    "\n",
    "p1 = Polygon(4, 10)\n",
    "p2 = Polygon(4, 10)\n",
    "p1 > p2"
   ]
  },
  {
   "cell_type": "code",
   "execution_count": 367,
   "metadata": {},
   "outputs": [
    {
     "data": {
      "text/plain": [
       "Polygons(Polygon(n_vertices=3, r=1))"
      ]
     },
     "execution_count": 367,
     "metadata": {},
     "output_type": "execute_result"
    }
   ],
   "source": [
    "class Polygons:\n",
    "    def __init__(self, max_vert, common_r):\n",
    "        if max_vert < 3:\n",
    "            raise ValueError(\"Polygon must have at least 3 sides\")\n",
    "        self.max_vert = max_vert\n",
    "        self.common_r = common_r\n",
    "        self._polygons = [Polygon(v, self.common_r) for v in range(3, self.max_vert+1)]\n",
    "    \n",
    "    def __repr__(self):\n",
    "        pol_strings = ', '.join([str(i) for i in self._polygons])\n",
    "        return f\"Polygons({pol_strings})\"\n",
    "    \n",
    "    def __len__(self):\n",
    "        return self._m - 2\n",
    "    \n",
    "    def __getitem__(self, s):\n",
    "        return self._polygons[s]\n",
    "    \n",
    "    def __setitem__(self, s, value):\n",
    "        if isinstance(s, int):\n",
    "            if isinstance(value, Polygon) and value[1] == self.common_r:\n",
    "                self._polygons[s] = value\n",
    "            else:\n",
    "                raise TypeError\n",
    "        elif isinstance(s, slice):\n",
    "            self._polygons[s] = [Polygon(i, self.common_r) for i in value]\n",
    "        else:\n",
    "            raise TypeError\n",
    "        \n",
    "        self.update_mv()\n",
    "\n",
    "    def update_mv(self):\n",
    "        mv = 0\n",
    "        for p in self._polygons:\n",
    "            if p.n_vertices > mv:\n",
    "                mv = p.n_vertices\n",
    "        self.max_vert = mv\n",
    "        \n",
    "    def __add__(self, other):\n",
    "        if isinstance(other, Polygon):\n",
    "            self.check_r(other)\n",
    "            self._polygons = self._polygons + [other]\n",
    "            self._polygons.sort(key = lambda x: x.n_vertices)\n",
    "            self.update_mv()\n",
    "            self._polygons.sort(key = lambda x: x.n_vertices)\n",
    "            return self\n",
    "        else:\n",
    "            for i in other:\n",
    "                self.check_r(i)\n",
    "            self._polygons = self._polygons + other\n",
    "            self.update_mv()\n",
    "            self._polygons.sort(key = lambda x: x.n_vertices)\n",
    "            return self\n",
    "        \n",
    "    def __iadd__(self, other):\n",
    "        self._polygons += other\n",
    "        self._polygons.sort(key = lambda x: x.n_vertices)\n",
    "        self.update_mv()\n",
    "        return self\n",
    "    \n",
    "    def insert(self, i, pol):\n",
    "        self._polygons.insert(i, pol)\n",
    "\n",
    "    def check_r(self, pol):\n",
    "        if pol.r != self.max_vert:\n",
    "            raise ValueError(f\"The radius must be standard: {self.common_r}\")\n",
    "        \n",
    "    def __delitem__(self, i):\n",
    "        del self._polygons[i]\n",
    "\n",
    "    def pop(self, i):\n",
    "        return self._polygons.pop(i)\n",
    "    \n",
    "    def clear(self):\n",
    "        self._polygons.clear()\n",
    "\n",
    "    def max_efficiency(self):\n",
    "        result = [(idx, pol.area / pol.perim) for idx, pol in enumerate(self._polygons)]\n",
    "        result.sort(key = lambda x: x[1])\n",
    "        return self._polygons[result[-1][0]]\n",
    "        \n",
    "pls = Polygons(8, 1)\n",
    "pls"
   ]
  },
  {
   "cell_type": "code",
   "execution_count": 365,
   "metadata": {},
   "outputs": [
    {
     "ename": "ValueError",
     "evalue": "Polygon must have at least 3 sides",
     "output_type": "error",
     "traceback": [
      "\u001b[1;31m---------------------------------------------------------------------------\u001b[0m",
      "\u001b[1;31mValueError\u001b[0m                                Traceback (most recent call last)",
      "Cell \u001b[1;32mIn[365], line 1\u001b[0m\n\u001b[1;32m----> 1\u001b[0m pls\u001b[39m.\u001b[39minsert(\u001b[39m0\u001b[39m, Polygon(\u001b[39m1\u001b[39;49m, \u001b[39m1\u001b[39;49m))\n",
      "Cell \u001b[1;32mIn[359], line 6\u001b[0m, in \u001b[0;36mPolygon.__init__\u001b[1;34m(self, n_vertices, r)\u001b[0m\n\u001b[0;32m      4\u001b[0m \u001b[39mdef\u001b[39;00m \u001b[39m__init__\u001b[39m(\u001b[39mself\u001b[39m, n_vertices, r):\n\u001b[0;32m      5\u001b[0m     \u001b[39mif\u001b[39;00m n_vertices \u001b[39m<\u001b[39m \u001b[39m3\u001b[39m:\n\u001b[1;32m----> 6\u001b[0m         \u001b[39mraise\u001b[39;00m \u001b[39mValueError\u001b[39;00m(\u001b[39m\"\u001b[39m\u001b[39mPolygon must have at least 3 sides\u001b[39m\u001b[39m\"\u001b[39m)\n\u001b[0;32m      7\u001b[0m     \u001b[39mself\u001b[39m\u001b[39m.\u001b[39mn_vertices \u001b[39m=\u001b[39m n_vertices\n\u001b[0;32m      8\u001b[0m     \u001b[39mself\u001b[39m\u001b[39m.\u001b[39mr \u001b[39m=\u001b[39m r\n",
      "\u001b[1;31mValueError\u001b[0m: Polygon must have at least 3 sides"
     ]
    }
   ],
   "source": [
    "pls()"
   ]
  },
  {
   "cell_type": "code",
   "execution_count": 334,
   "metadata": {},
   "outputs": [
    {
     "data": {
      "text/plain": [
       "Polygon(n_vertices=20, r=10)"
      ]
     },
     "execution_count": 334,
     "metadata": {},
     "output_type": "execute_result"
    }
   ],
   "source": [
    "pls.max_efficiency()"
   ]
  },
  {
   "cell_type": "code",
   "execution_count": 363,
   "metadata": {},
   "outputs": [],
   "source": [
    "def test_polygon():\n",
    "    rel_tol = 0.001\n",
    "    abs_tol = 0.001\n",
    "\n",
    "    try:\n",
    "        p = Polygon(2, 10)\n",
    "        assert False, (\"Creating a polygon with 2 sides: Exception expected but not received.\")\n",
    "    except ValueError:\n",
    "        pass \n",
    "    n_vertices = 3\n",
    "    r = 1\n",
    "    p = Polygon(n_vertices, r)\n",
    "    assert str(p) == f\"Polygon(n_vertices=3, r=1)\", f'actual: {str(p)}'\n",
    "    assert p.n_vertices == n_vertices, (f'actual: {p.n_vertices}', f'expected: {n_vertices}')\n",
    "    assert p.n_edges == n_vertices\n",
    "    assert p.r == r\n",
    "    assert p.inter_ang == 60\n",
    "\n",
    "\n",
    "    n_vertices = 6\n",
    "    r = 2\n",
    "    p = Polygon(n_vertices, r)\n",
    "    assert math.isclose(p.inter_ang, 120)\n",
    "    assert math.isclose(p.area, 10.3923, rel_tol=rel_tol, abs_tol=abs_tol)\n",
    "    assert math.isclose(p.edge_length, 2, rel_tol=rel_tol, abs_tol=abs_tol)\n",
    "    assert math.isclose(p.perim, 12, rel_tol=rel_tol, abs_tol=abs_tol)\n",
    "    assert math.isclose(p.apothem, 1.73205, rel_tol=rel_tol, abs_tol=abs_tol)\n",
    "\n",
    "\n",
    "    n_vertices = 12\n",
    "    r = 3\n",
    "    p = Polygon(n_vertices, r)\n",
    "    assert math.isclose(p.inter_ang, 150)\n",
    "    assert math.isclose(p.area, 27, rel_tol=rel_tol, abs_tol=abs_tol)\n",
    "    assert math.isclose(p.edge_length, 1.55291, rel_tol=rel_tol, abs_tol=abs_tol)\n",
    "    assert math.isclose(p.perim, 18.635, rel_tol=rel_tol, abs_tol=abs_tol)\n",
    "    assert math.isclose(p.apothem, 2.89778, rel_tol=rel_tol, abs_tol=abs_tol)\n",
    "\n",
    "    p1 = Polygon(3, 10)\n",
    "    p2 = Polygon(10, 10)\n",
    "    p3 = Polygon(15, 10)\n",
    "    p4 = Polygon(15, 100)\n",
    "    p5 = Polygon(15, 100)\n",
    "\n",
    "    assert p2 > p1\n",
    "    assert p2 < p3\n",
    "    assert p3 != p5\n",
    "    assert p1 != p4\n",
    "    assert p4 == p5\n",
    "\n",
    "\n",
    "test_polygon()"
   ]
  },
  {
   "cell_type": "code",
   "execution_count": 350,
   "metadata": {},
   "outputs": [
    {
     "data": {
      "text/plain": [
       "2.0000000000000004"
      ]
     },
     "execution_count": 350,
     "metadata": {},
     "output_type": "execute_result"
    }
   ],
   "source": [
    "n_vertices = 4\n",
    "r = 1\n",
    "p = Polygon(n_vertices, r)\n",
    "p.area"
   ]
  },
  {
   "cell_type": "code",
   "execution_count": 356,
   "metadata": {},
   "outputs": [
    {
     "data": {
      "text/plain": [
       "__main__.Polygon"
      ]
     },
     "execution_count": 356,
     "metadata": {},
     "output_type": "execute_result"
    }
   ],
   "source": [
    "p.__class__"
   ]
  },
  {
   "cell_type": "code",
   "execution_count": 254,
   "metadata": {},
   "outputs": [
    {
     "data": {
      "text/plain": [
       "Polygons(Polygon(n_vertices=5, r=10), Polygon(n_vertices=5, r=10), Polygon(n_vertices=5, r=10), Polygon(n_vertices=6, r=10), Polygon(n_vertices=1, r=10), Polygon(n_vertices=2, r=10))"
      ]
     },
     "execution_count": 254,
     "metadata": {},
     "output_type": "execute_result"
    }
   ],
   "source": [
    "pls"
   ]
  },
  {
   "cell_type": "code",
   "execution_count": 346,
   "metadata": {},
   "outputs": [
    {
     "data": {
      "text/plain": [
       "False"
      ]
     },
     "execution_count": 346,
     "metadata": {},
     "output_type": "execute_result"
    }
   ],
   "source": [
    "0.1 + 0.1 + 0.1 == 0.3"
   ]
  },
  {
   "cell_type": "code",
   "execution_count": null,
   "metadata": {},
   "outputs": [],
   "source": []
  }
 ],
 "metadata": {
  "kernelspec": {
   "display_name": "Python 3",
   "language": "python",
   "name": "python3"
  },
  "language_info": {
   "codemirror_mode": {
    "name": "ipython",
    "version": 3
   },
   "file_extension": ".py",
   "mimetype": "text/x-python",
   "name": "python",
   "nbconvert_exporter": "python",
   "pygments_lexer": "ipython3",
   "version": "3.11.4"
  },
  "orig_nbformat": 4
 },
 "nbformat": 4,
 "nbformat_minor": 2
}
