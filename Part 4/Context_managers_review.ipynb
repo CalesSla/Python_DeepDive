{
 "cells": [
  {
   "cell_type": "code",
   "execution_count": 9,
   "metadata": {},
   "outputs": [
    {
     "name": "stdout",
     "output_type": "stream",
     "text": [
      "finally ran!\n"
     ]
    }
   ],
   "source": [
    "# Try except reminder\n",
    "try:\n",
    "    10 / 2\n",
    "except ZeroDivisionError:\n",
    "    print('Zero division exception occurred')\n",
    "finally:\n",
    "    print('finally ran!')"
   ]
  },
  {
   "cell_type": "code",
   "execution_count": 10,
   "metadata": {},
   "outputs": [
    {
     "name": "stdout",
     "output_type": "stream",
     "text": [
      "Zero division exception occurred\n",
      "finally ran!\n"
     ]
    }
   ],
   "source": [
    "# Try except reminder\n",
    "try:\n",
    "    10 / 0\n",
    "except ZeroDivisionError:\n",
    "    print('Zero division exception occurred')\n",
    "finally:\n",
    "    print('finally ran!')"
   ]
  },
  {
   "cell_type": "code",
   "execution_count": 11,
   "metadata": {},
   "outputs": [
    {
     "name": "stdout",
     "output_type": "stream",
     "text": [
      "finally ran!\n"
     ]
    }
   ],
   "source": [
    "# finally statement always runs even when used within a function context\n",
    "def my_func():\n",
    "    try:\n",
    "        10 / 0\n",
    "    except ZeroDivisionError:\n",
    "        return\n",
    "    finally:\n",
    "        print('finally ran!')\n",
    "\n",
    "my_func()"
   ]
  },
  {
   "cell_type": "code",
   "execution_count": 12,
   "metadata": {},
   "outputs": [
    {
     "name": "stdout",
     "output_type": "stream",
     "text": [
      "Opening file...\n",
      "an exception occurred\n",
      "Closing file...\n"
     ]
    }
   ],
   "source": [
    "try:\n",
    "    print('Opening file...')\n",
    "    f = open('test.txt', 'w')\n",
    "    a = 1 / 0\n",
    "except:\n",
    "    print('an exception occurred')\n",
    "finally:\n",
    "    print('Closing file...')\n",
    "    f.close()"
   ]
  },
  {
   "cell_type": "code",
   "execution_count": 13,
   "metadata": {},
   "outputs": [
    {
     "name": "stdout",
     "output_type": "stream",
     "text": [
      "inside with: file closed? False\n",
      "after with: file closed? True\n"
     ]
    }
   ],
   "source": [
    "# simple example of context manager\n",
    "with open('test.txt', 'w') as file:\n",
    "    print('inside with: file closed?', file.closed)\n",
    "\n",
    "print('after with: file closed?', file.closed)"
   ]
  },
  {
   "cell_type": "code",
   "execution_count": 20,
   "metadata": {},
   "outputs": [
    {
     "name": "stdout",
     "output_type": "stream",
     "text": [
      "True\n",
      "this is a test\n"
     ]
    }
   ],
   "source": [
    "# the with block unlike a function does not have its own local scope\n",
    "\n",
    "with open('test.txt','w') as f:\n",
    "    f.writelines('this is a test')\n",
    "\n",
    "with open('test.txt', 'r') as f:\n",
    "    row = next(f)\n",
    "\n",
    "print(f.closed)\n",
    "print(row)"
   ]
  },
  {
   "cell_type": "code",
   "execution_count": 25,
   "metadata": {},
   "outputs": [
    {
     "name": "stdout",
     "output_type": "stream",
     "text": [
      "entering context...\n",
      "inside with block\n",
      "exiting context...\n",
      "*** Error occurred: <class 'ValueError'>, custom message\n"
     ]
    }
   ],
   "source": [
    "# custom context manager class\n",
    "\n",
    "class MyContext:\n",
    "    def __init__(self):\n",
    "        self.obj = None\n",
    "\n",
    "    def __enter__(self):\n",
    "        print('entering context...')\n",
    "        self.obj = 'the Return object'\n",
    "        return self.obj\n",
    "    \n",
    "    def __exit__(self, exc_type, exc_value, exc_tb):\n",
    "        print('exiting context...')\n",
    "        if exc_type:\n",
    "            print(f'*** Error occurred: {exc_type}, {exc_value}')\n",
    "        return False\n",
    "    \n",
    "with MyContext() as obj:\n",
    "    print('inside with block')\n",
    "    raise ValueError('custom message')"
   ]
  },
  {
   "cell_type": "code",
   "execution_count": null,
   "metadata": {},
   "outputs": [],
   "source": []
  }
 ],
 "metadata": {
  "kernelspec": {
   "display_name": "Python 3",
   "language": "python",
   "name": "python3"
  },
  "language_info": {
   "codemirror_mode": {
    "name": "ipython",
    "version": 3
   },
   "file_extension": ".py",
   "mimetype": "text/x-python",
   "name": "python",
   "nbconvert_exporter": "python",
   "pygments_lexer": "ipython3",
   "version": "3.11.4"
  },
  "orig_nbformat": 4
 },
 "nbformat": 4,
 "nbformat_minor": 2
}
