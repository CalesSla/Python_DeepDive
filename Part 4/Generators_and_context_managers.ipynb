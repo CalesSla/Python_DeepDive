{
 "cells": [
  {
   "cell_type": "code",
   "execution_count": 16,
   "metadata": {},
   "outputs": [
    {
     "name": "stdout",
     "output_type": "stream",
     "text": [
      "creating context and yielding object\n"
     ]
    },
    {
     "data": {
      "text/plain": [
       "[1, 2, 3, 4]"
      ]
     },
     "execution_count": 16,
     "metadata": {},
     "output_type": "execute_result"
    }
   ],
   "source": [
    "def my_gen():\n",
    "    try:\n",
    "        print('creating context and yielding object')\n",
    "        yield [1, 2, 3, 4]\n",
    "    finally:\n",
    "        print('exiting context and cleaning up')\n",
    "\n",
    "\n",
    "gen = my_gen()\n",
    "lst = next(gen)\n",
    "\n",
    "lst"
   ]
  },
  {
   "cell_type": "code",
   "execution_count": 18,
   "metadata": {},
   "outputs": [
    {
     "name": "stdout",
     "output_type": "stream",
     "text": [
      "creating context and yielding object\n",
      "[1, 2, 3, 4]\n",
      "exiting context and cleaning up\n"
     ]
    }
   ],
   "source": [
    "gen = my_gen()\n",
    "lst = next(gen)\n",
    "print(lst)\n",
    "try:\n",
    "    next(gen)\n",
    "except StopIteration:\n",
    "    pass"
   ]
  },
  {
   "cell_type": "code",
   "execution_count": 24,
   "metadata": {},
   "outputs": [
    {
     "name": "stdout",
     "output_type": "stream",
     "text": [
      "creating context and yielding object\n",
      "[1, 2, 3, 4]\n",
      "exiting context and cleaning up\n"
     ]
    }
   ],
   "source": [
    "class GenCtxManager:\n",
    "    def __init__(self, gen_func, *args, **kwargs):\n",
    "        self._gen = gen_func(*args, **kwargs)\n",
    "\n",
    "    def __enter__(self):\n",
    "        return next(self._gen)\n",
    "    \n",
    "    def __exit__(self, exc_type, exc_value, exc_tb):\n",
    "        try:\n",
    "            next(self._gen)\n",
    "        except StopIteration:\n",
    "            pass\n",
    "        return False\n",
    "    \n",
    "with GenCtxManager(my_gen) as obj:\n",
    "    print(obj)"
   ]
  },
  {
   "cell_type": "code",
   "execution_count": 27,
   "metadata": {},
   "outputs": [
    {
     "name": "stdout",
     "output_type": "stream",
     "text": [
      "opening file\n",
      "closing file\n",
      "\n",
      "opening file\n",
      "['testing.....']\n",
      "closing file\n"
     ]
    }
   ],
   "source": [
    "def open_file(fname, mode):\n",
    "    f = open(fname, mode)\n",
    "    try:\n",
    "        print('opening file')\n",
    "        yield f\n",
    "    finally:\n",
    "        print('closing file')\n",
    "        f.close()\n",
    "\n",
    "\n",
    "with GenCtxManager(open_file, 'test.txt', 'w') as f:\n",
    "    f.writelines('testing.....')\n",
    "\n",
    "print()\n",
    "\n",
    "with GenCtxManager(open_file, 'test.txt', 'r') as f:\n",
    "    print(f.readlines())"
   ]
  },
  {
   "cell_type": "code",
   "execution_count": null,
   "metadata": {},
   "outputs": [],
   "source": [
    " "
   ]
  }
 ],
 "metadata": {
  "kernelspec": {
   "display_name": "Python 3",
   "language": "python",
   "name": "python3"
  },
  "language_info": {
   "codemirror_mode": {
    "name": "ipython",
    "version": 3
   },
   "file_extension": ".py",
   "mimetype": "text/x-python",
   "name": "python",
   "nbconvert_exporter": "python",
   "pygments_lexer": "ipython3",
   "version": "3.12.0"
  },
  "orig_nbformat": 4
 },
 "nbformat": 4,
 "nbformat_minor": 2
}
