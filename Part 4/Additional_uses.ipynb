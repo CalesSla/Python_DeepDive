{
 "cells": [
  {
   "cell_type": "code",
   "execution_count": 1,
   "metadata": {},
   "outputs": [],
   "source": [
    "import decimal\n",
    "\n",
    "decimal.getcontext()\n",
    "decimal.getcontext().prec = 14"
   ]
  },
  {
   "cell_type": "code",
   "execution_count": 5,
   "metadata": {},
   "outputs": [
    {
     "name": "stdout",
     "output_type": "stream",
     "text": [
      "0.333\n",
      "0.33333333333333\n"
     ]
    }
   ],
   "source": [
    "# Context manager for custom precision during a particular calculation\n",
    "class precision:\n",
    "    def __init__(self, prec):\n",
    "        self.prec = prec\n",
    "        self.current_prec = decimal.getcontext().prec\n",
    "\n",
    "    def __enter__(self):\n",
    "        decimal.getcontext().prec = self.prec\n",
    "\n",
    "    def __exit__(self, exc_type, exc_value, exc_tb):\n",
    "        decimal.getcontext().prec = self.current_prec\n",
    "        return False\n",
    "    \n",
    "with precision(3):\n",
    "    print(decimal.Decimal(1) / decimal.Decimal(3))\n",
    "\n",
    "print(decimal.Decimal(1) / decimal.Decimal(3))\n",
    "    "
   ]
  },
  {
   "cell_type": "code",
   "execution_count": 7,
   "metadata": {},
   "outputs": [
    {
     "name": "stdout",
     "output_type": "stream",
     "text": [
      "0.333\n",
      "0.33333333333333\n"
     ]
    }
   ],
   "source": [
    "# the decimal module has incorportated context manager\n",
    "with decimal.localcontext() as ctx:\n",
    "    ctx.prec = 3\n",
    "    print(decimal.Decimal(1) / decimal.Decimal(3))\n",
    "\n",
    "print(decimal.Decimal(1) / decimal.Decimal(3))"
   ]
  },
  {
   "cell_type": "code",
   "execution_count": 9,
   "metadata": {},
   "outputs": [
    {
     "name": "stdout",
     "output_type": "stream",
     "text": [
      "0\n"
     ]
    }
   ],
   "source": [
    "# Context manager example to count the execution time\n",
    "from time import perf_counter, sleep\n",
    "\n",
    "class Timer:\n",
    "    def __init__(self):\n",
    "        self.elapsed = 0\n",
    "\n",
    "    def __enter__(self):\n",
    "        self.start = perf_counter()\n",
    "        return self\n",
    "    \n",
    "    def __exit__(self, exc_type, exc_value, exc_tb):\n",
    "        self.stop = perf_counter()\n",
    "        self.elapsed = self.stop - self.start\n",
    "        return False\n",
    "    \n",
    "with Timer()as timer:\n",
    "    sleep(1)\n",
    "\n",
    "    print(timer.elapsed)"
   ]
  },
  {
   "cell_type": "code",
   "execution_count": 15,
   "metadata": {},
   "outputs": [
    {
     "name": "stdout",
     "output_type": "stream",
     "text": [
      "[\"<_io.TextIOWrapper name='test.txt' mode='w' encoding='cp1252'>\\n\", 'line 1\\n', 'line 2\\n']\n"
     ]
    }
   ],
   "source": [
    "# Context manager to print output to a file rather than to the console\n",
    "\n",
    "import sys\n",
    "\n",
    "class OutToFile:\n",
    "    def __init__(self, fname):\n",
    "        self._fname = fname\n",
    "        self._current_stdout = sys.stdout\n",
    "\n",
    "    def __enter__(self):\n",
    "        self._file = open(self._fname, 'w')\n",
    "        sys.stdout = self._file\n",
    "\n",
    "    def __exit__(self, exc_type, exc_value, exc_tb):\n",
    "        sys.stdout = self._current_stdout\n",
    "        self._file.close()\n",
    "        return False\n",
    "    \n",
    "\n",
    "with OutToFile('test.txt'):\n",
    "    print(sys.stdout)\n",
    "    print('line 1')\n",
    "    print('line 2')\n",
    "\n",
    "with open('test.txt') as f:\n",
    "    print(f.readlines())"
   ]
  },
  {
   "cell_type": "code",
   "execution_count": 19,
   "metadata": {},
   "outputs": [
    {
     "name": "stdout",
     "output_type": "stream",
     "text": [
      "<p>some <b>bold</b> text</p>"
     ]
    }
   ],
   "source": [
    "# Context manager to add tags to text\n",
    "\n",
    "class Tag:\n",
    "    def __init__(self, tag):\n",
    "        self._tag = tag\n",
    "\n",
    "    def __enter__(self):\n",
    "        print(f'<{self._tag}>', end = '')\n",
    "\n",
    "    def __exit__(self, exc_type, exc_value, exc_tb):\n",
    "        print(f'</{self._tag}>', end = '')\n",
    "        return False\n",
    "    \n",
    "\n",
    "with Tag('p'):\n",
    "    print('some ', end = '')\n",
    "    with Tag('b'):\n",
    "        print('bold', end = '')\n",
    "    print(' text', end = '')\n",
    "    "
   ]
  },
  {
   "cell_type": "code",
   "execution_count": 24,
   "metadata": {},
   "outputs": [
    {
     "name": "stdout",
     "output_type": "stream",
     "text": [
      "Items\n",
      "   - Item 1\n",
      "      - sub item 1a\n",
      "      - sub item 1b\n",
      "         - sub sub item 1b1\n",
      "      - sub item 1c\n",
      "   - Item 2\n"
     ]
    }
   ],
   "source": [
    "# Context manager to create a list with proper indentation\n",
    "class ListMaker:\n",
    "    def __init__(self, title, prefix='- ', indent=3):\n",
    "        self._title = title\n",
    "        self._prefix = prefix\n",
    "        self._indent = indent\n",
    "        self._current_indent = 0\n",
    "        print(title)\n",
    "\n",
    "    def __enter__(self):\n",
    "        self._current_indent += self._indent\n",
    "        return self\n",
    "    \n",
    "    def __exit__(self, exc_type, exc_value, exc_tb):\n",
    "        self._current_indent -= self._indent\n",
    "\n",
    "    def print_item(self, arg):\n",
    "        s = ' ' * self._current_indent + self._prefix + str(arg)\n",
    "        print(s)\n",
    "\n",
    "\n",
    "with ListMaker('Items') as lm:\n",
    "    lm.print_item('Item 1')\n",
    "    with lm:\n",
    "        lm.print_item('sub item 1a')\n",
    "        lm.print_item('sub item 1b')\n",
    "        with lm:\n",
    "            lm.print_item('sub sub item 1b1')\n",
    "        lm.print_item('sub item 1c')\n",
    "    lm.print_item('Item 2')"
   ]
  },
  {
   "cell_type": "code",
   "execution_count": 26,
   "metadata": {},
   "outputs": [],
   "source": [
    "# Combining multilple context managers\n",
    "with OutToFile('my_list.txt'):\n",
    "    \n",
    "    with ListMaker('Items') as lm:\n",
    "        lm.print_item('Item 1')\n",
    "        with lm:\n",
    "            lm.print_item('sub item 1a')\n",
    "            lm.print_item('sub item 1b')\n",
    "            with lm:\n",
    "                lm.print_item('sub sub item 1b1')\n",
    "            lm.print_item('sub item 1c')\n",
    "        lm.print_item('Item 2') "
   ]
  },
  {
   "cell_type": "code",
   "execution_count": null,
   "metadata": {},
   "outputs": [],
   "source": []
  }
 ],
 "metadata": {
  "kernelspec": {
   "display_name": "Python 3",
   "language": "python",
   "name": "python3"
  },
  "language_info": {
   "codemirror_mode": {
    "name": "ipython",
    "version": 3
   },
   "file_extension": ".py",
   "mimetype": "text/x-python",
   "name": "python",
   "nbconvert_exporter": "python",
   "pygments_lexer": "ipython3",
   "version": "3.12.0"
  },
  "orig_nbformat": 4
 },
 "nbformat": 4,
 "nbformat_minor": 2
}
