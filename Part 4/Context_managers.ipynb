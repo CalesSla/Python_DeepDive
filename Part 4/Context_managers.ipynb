{
  "cells": [
    {
      "cell_type": "code",
      "execution_count": null,
      "metadata": {
        "colab": {
          "base_uri": "https://localhost:8080/"
        },
        "id": "gYWa1zZs2Z5O",
        "outputId": "03fa1666-cd60-469c-87a2-9c4e7eb3a96e"
      },
      "outputs": [
        {
          "name": "stdout",
          "output_type": "stream",
          "text": [
            "Opening file...\n",
            "an exception occurred\n",
            "Closing file...\n"
          ]
        }
      ],
      "source": [
        "# opening and closing a file manually with try/finally\n",
        "\n",
        "try:\n",
        "  print('Opening file...')\n",
        "  f = open('text.txt', 'w')\n",
        "  a = 1 / 0\n",
        "except:\n",
        "  print('an exception occurred')\n",
        "finally:\n",
        "  print('Closing file...')\n",
        "  f.close()"
      ]
    },
    {
      "cell_type": "code",
      "execution_count": null,
      "metadata": {
        "colab": {
          "base_uri": "https://localhost:8080/"
        },
        "id": "ZSfwD3Rt3KMV",
        "outputId": "d6c40f32-4648-4816-c3d2-bffa21dbdafb"
      },
      "outputs": [
        {
          "name": "stdout",
          "output_type": "stream",
          "text": [
            "inside with: file closed? False\n",
            "after with: file closed? True\n"
          ]
        }
      ],
      "source": [
        "# simple example of context manager\n",
        "\n",
        "with open('text.txt', 'w') as file:\n",
        "  print('inside with: file closed?', file.closed)\n",
        "\n",
        "print('after with: file closed?', file.closed)"
      ]
    },
    {
      "cell_type": "code",
      "execution_count": null,
      "metadata": {
        "colab": {
          "base_uri": "https://localhost:8080/",
          "height": 279
        },
        "id": "bgE_QDSY41KX",
        "outputId": "a15d0ccd-7233-464d-e14e-5e8885225e7b"
      },
      "outputs": [
        {
          "name": "stdout",
          "output_type": "stream",
          "text": [
            "entering context\n",
            "inside with block\n",
            "exiting context...\n",
            "error occurred: <class 'ValueError'>, custom message\n"
          ]
        },
        {
          "ename": "ValueError",
          "evalue": "ignored",
          "output_type": "error",
          "traceback": [
            "\u001b[0;31m---------------------------------------------------------------------------\u001b[0m",
            "\u001b[0;31mValueError\u001b[0m                                Traceback (most recent call last)",
            "\u001b[0;32m<ipython-input-18-0e26fdc0e9f6>\u001b[0m in \u001b[0;36m<cell line: 19>\u001b[0;34m()\u001b[0m\n\u001b[1;32m     19\u001b[0m \u001b[0;32mwith\u001b[0m \u001b[0mMyContext\u001b[0m\u001b[0;34m(\u001b[0m\u001b[0;34m)\u001b[0m \u001b[0;32mas\u001b[0m \u001b[0mobj\u001b[0m\u001b[0;34m:\u001b[0m\u001b[0;34m\u001b[0m\u001b[0;34m\u001b[0m\u001b[0m\n\u001b[1;32m     20\u001b[0m   \u001b[0mprint\u001b[0m\u001b[0;34m(\u001b[0m\u001b[0;34m'inside with block'\u001b[0m\u001b[0;34m)\u001b[0m\u001b[0;34m\u001b[0m\u001b[0;34m\u001b[0m\u001b[0m\n\u001b[0;32m---> 21\u001b[0;31m   \u001b[0;32mraise\u001b[0m \u001b[0mValueError\u001b[0m\u001b[0;34m(\u001b[0m\u001b[0;34m'custom message'\u001b[0m\u001b[0;34m)\u001b[0m\u001b[0;34m\u001b[0m\u001b[0;34m\u001b[0m\u001b[0m\n\u001b[0m",
            "\u001b[0;31mValueError\u001b[0m: custom message"
          ]
        }
      ],
      "source": [
        "# a custom context manager class that raises an exception error without surpressing it\n",
        "\n",
        "class MyContext:\n",
        "  def __init__(self):\n",
        "    self.obj = None\n",
        "\n",
        "  def __enter__(self):\n",
        "    print('entering context')\n",
        "    self.obj = 'the Return object'\n",
        "    return self.obj\n",
        "\n",
        "  def __exit__(self, exc_type, exc_value, exc_tb):\n",
        "    print('exiting context...')\n",
        "    if exc_type:\n",
        "      print(f'error occurred: {exc_type}, {exc_value}')\n",
        "    return False\n",
        "\n",
        "\n",
        "with MyContext() as obj:\n",
        "  print('inside with block')\n",
        "  raise ValueError('custom message')"
      ]
    },
    {
      "cell_type": "code",
      "execution_count": null,
      "metadata": {
        "colab": {
          "base_uri": "https://localhost:8080/",
          "height": 279
        },
        "id": "DJvBVTG29nfa",
        "outputId": "cabe3a43-3f17-4484-d802-9086f401ab93"
      },
      "outputs": [
        {
          "name": "stdout",
          "output_type": "stream",
          "text": [
            "entering context\n",
            "inside with block\n",
            "exiting context...\n",
            "error occurred: <class 'ValueError'>, custom message\n"
          ]
        },
        {
          "ename": "ValueError",
          "evalue": "ignored",
          "output_type": "error",
          "traceback": [
            "\u001b[0;31m---------------------------------------------------------------------------\u001b[0m",
            "\u001b[0;31mValueError\u001b[0m                                Traceback (most recent call last)",
            "\u001b[0;32m<ipython-input-16-26884e354fef>\u001b[0m in \u001b[0;36m<cell line: 1>\u001b[0;34m()\u001b[0m\n\u001b[1;32m      1\u001b[0m \u001b[0;32mwith\u001b[0m \u001b[0mMyContext\u001b[0m\u001b[0;34m(\u001b[0m\u001b[0;34m)\u001b[0m \u001b[0;32mas\u001b[0m \u001b[0mobj\u001b[0m\u001b[0;34m:\u001b[0m\u001b[0;34m\u001b[0m\u001b[0;34m\u001b[0m\u001b[0m\n\u001b[1;32m      2\u001b[0m   \u001b[0mprint\u001b[0m\u001b[0;34m(\u001b[0m\u001b[0;34m'inside with block'\u001b[0m\u001b[0;34m)\u001b[0m\u001b[0;34m\u001b[0m\u001b[0;34m\u001b[0m\u001b[0m\n\u001b[0;32m----> 3\u001b[0;31m   \u001b[0;32mraise\u001b[0m \u001b[0mValueError\u001b[0m\u001b[0;34m(\u001b[0m\u001b[0;34m'custom message'\u001b[0m\u001b[0;34m)\u001b[0m\u001b[0;34m\u001b[0m\u001b[0;34m\u001b[0m\u001b[0m\n\u001b[0m",
            "\u001b[0;31mValueError\u001b[0m: custom message"
          ]
        }
      ],
      "source": []
    },
    {
      "cell_type": "code",
      "execution_count": null,
      "metadata": {
        "colab": {
          "base_uri": "https://localhost:8080/"
        },
        "id": "vXV_nuJ094Sb",
        "outputId": "1a31bb8a-edc8-4425-82d2-769b0702ccdf"
      },
      "outputs": [
        {
          "name": "stdout",
          "output_type": "stream",
          "text": [
            "entering context\n",
            "inside with block\n",
            "exiting context...\n",
            "error occurred: <class 'ValueError'>, custom message\n"
          ]
        }
      ],
      "source": [
        "# the same custom context manager that surpresses the error (e.g. returns True)\n",
        "\n",
        "class MyContext:\n",
        "  def __init__(self):\n",
        "    self.obj = None\n",
        "\n",
        "  def __enter__(self):\n",
        "    print('entering context')\n",
        "    self.obj = 'the Return object'\n",
        "    return self.obj\n",
        "\n",
        "  def __exit__(self, exc_type, exc_value, exc_tb):\n",
        "    print('exiting context...')\n",
        "    if exc_type:\n",
        "      print(f'error occurred: {exc_type}, {exc_value}')\n",
        "    return True\n",
        "\n",
        "with MyContext() as obj:\n",
        "  print('inside with block')\n",
        "  raise ValueError('custom message')"
      ]
    },
    {
      "cell_type": "code",
      "execution_count": null,
      "metadata": {
        "colab": {
          "base_uri": "https://localhost:8080/"
        },
        "id": "Eh5FfEyg-91l",
        "outputId": "9238ab53-9935-4642-c14f-3fb6f605b92f"
      },
      "outputs": [
        {
          "name": "stdout",
          "output_type": "stream",
          "text": [
            "entering context\n",
            "spam = created\n",
            "exiting context\n",
            "spam = destroyed\n"
          ]
        }
      ],
      "source": [
        "# An example of a resource manger class for some resource\n",
        "\n",
        "class Resource:\n",
        "  def __init__(self, name):\n",
        "    self.name = name\n",
        "    self.state = None\n",
        "\n",
        "\n",
        "class ResourceManager:\n",
        "  def __init__(self, name):\n",
        "    self.name = name\n",
        "    self.resource = None\n",
        "\n",
        "  def __enter__(self):\n",
        "    print('entering context')\n",
        "    self.resource = Resource(self.name)\n",
        "    self.resource.state = 'created'\n",
        "    return self.resource\n",
        "\n",
        "  def __exit__(self, exc_type, exc_value, exc_tb):\n",
        "    print('exiting context')\n",
        "    self.resource.state = 'destroyed'\n",
        "    if exc_type:\n",
        "      print('error occurred')\n",
        "    return False\n",
        "\n",
        "\n",
        "with ResourceManager('spam') as res:\n",
        "  print(f'{res.name} = {res.state}')\n",
        "\n",
        "print(f'{res.name} = {res.state}')"
      ]
    },
    {
      "cell_type": "code",
      "execution_count": null,
      "metadata": {
        "colab": {
          "base_uri": "https://localhost:8080/"
        },
        "id": "qMxrqEAOBMUD",
        "outputId": "73e0e49d-5785-41f5-c2a2-43f734f5b5ec"
      },
      "outputs": [
        {
          "name": "stdout",
          "output_type": "stream",
          "text": [
            "opening file...\n",
            "closing file...\n",
            "\n",
            "opening file...\n",
            "['This is a late parrot!']\n",
            "closing file...\n"
          ]
        }
      ],
      "source": [
        "# a custom simulation of a context manager for opening files\n",
        "class File:\n",
        "  def __init__(self, name, mode):\n",
        "    self.name = name\n",
        "    self.mode = mode\n",
        "\n",
        "  def __enter__(self):\n",
        "    print('opening file...')\n",
        "    self.file = open(self.name, self.mode)\n",
        "    return self.file\n",
        "\n",
        "  def __exit__(self, exc_type, exc_value, exc_tb):\n",
        "     print('closing file...')\n",
        "     self.file.close()\n",
        "     return False\n",
        "\n",
        "with File('test1.txt', 'w') as f:\n",
        "  f.write('This is a late parrot!')\n",
        "\n",
        "print()\n",
        "\n",
        "with File('test1.txt', 'r') as f:\n",
        "  print(f.readlines())"
      ]
    },
    {
      "cell_type": "code",
      "execution_count": null,
      "metadata": {
        "colab": {
          "base_uri": "https://localhost:8080/",
          "height": 245
        },
        "id": "83vW5i23C4Vc",
        "outputId": "3d502019-3895-4848-ffab-14653a4fe70e"
      },
      "outputs": [
        {
          "name": "stdout",
          "output_type": "stream",
          "text": [
            "opening file...\n",
            "closing file...\n"
          ]
        },
        {
          "ename": "ValueError",
          "evalue": "ignored",
          "output_type": "error",
          "traceback": [
            "\u001b[0;31m---------------------------------------------------------------------------\u001b[0m",
            "\u001b[0;31mValueError\u001b[0m                                Traceback (most recent call last)",
            "\u001b[0;32m<ipython-input-31-f1b91a39b989>\u001b[0m in \u001b[0;36m<cell line: 2>\u001b[0;34m()\u001b[0m\n\u001b[1;32m      2\u001b[0m \u001b[0;32mwith\u001b[0m \u001b[0mFile\u001b[0m\u001b[0;34m(\u001b[0m\u001b[0;34m'test1.txt'\u001b[0m\u001b[0;34m,\u001b[0m \u001b[0;34m'w'\u001b[0m\u001b[0;34m)\u001b[0m \u001b[0;32mas\u001b[0m \u001b[0mf\u001b[0m\u001b[0;34m:\u001b[0m\u001b[0;34m\u001b[0m\u001b[0;34m\u001b[0m\u001b[0m\n\u001b[1;32m      3\u001b[0m   \u001b[0mf\u001b[0m\u001b[0;34m.\u001b[0m\u001b[0mwrite\u001b[0m\u001b[0;34m(\u001b[0m\u001b[0;34m'This is a late parrot!'\u001b[0m\u001b[0;34m)\u001b[0m\u001b[0;34m\u001b[0m\u001b[0;34m\u001b[0m\u001b[0m\n\u001b[0;32m----> 4\u001b[0;31m   \u001b[0;32mraise\u001b[0m \u001b[0mValueError\u001b[0m\u001b[0;34m(\u001b[0m\u001b[0;34m)\u001b[0m\u001b[0;34m\u001b[0m\u001b[0;34m\u001b[0m\u001b[0m\n\u001b[0m",
            "\u001b[0;31mValueError\u001b[0m: "
          ]
        }
      ],
      "source": [
        "# even if an error occurs, the file is still closed\n",
        "with File('test1.txt', 'w') as f:\n",
        "  f.write('This is a late parrot!')\n",
        "  raise ValueError()"
      ]
    },
    {
      "cell_type": "code",
      "execution_count": null,
      "metadata": {
        "id": "J4-Kf5igEYaJ"
      },
      "outputs": [],
      "source": []
    }
  ],
  "metadata": {
    "colab": {
      "provenance": []
    },
    "kernelspec": {
      "display_name": "Python 3",
      "name": "python3"
    },
    "language_info": {
      "name": "python"
    }
  },
  "nbformat": 4,
  "nbformat_minor": 0
}
